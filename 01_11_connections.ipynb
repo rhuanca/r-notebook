{
 "cells": [
  {
   "cell_type": "markdown",
   "metadata": {},
   "source": [
    "# Connections: Interfaces to the Outside World"
   ]
  },
  {
   "cell_type": "code",
   "execution_count": 1,
   "metadata": {},
   "outputs": [
    {
     "name": "stdout",
     "output_type": "stream",
     "text": [
      "function (description = \"\", open = \"\", blocking = TRUE, encoding = getOption(\"encoding\"), \n",
      "    raw = FALSE, method = getOption(\"url.method\", \"default\"))  \n"
     ]
    }
   ],
   "source": [
    "str(file)"
   ]
  },
  {
   "cell_type": "code",
   "execution_count": 4,
   "metadata": {},
   "outputs": [
    {
     "data": {
      "text/plain": [
       "A connection with                         \n",
       "description \"planets.csv\"\n",
       "class       \"file\"       \n",
       "mode        \"r\"          \n",
       "text        \"text\"       \n",
       "opened      \"opened\"     \n",
       "can read    \"yes\"        \n",
       "can write   \"no\"         "
      ]
     },
     "metadata": {},
     "output_type": "display_data"
    },
    {
     "data": {
      "text/html": [
       "<table>\n",
       "<thead><tr><th scope=col>Planet.name</th><th scope=col>Distance..AU.</th><th scope=col>Mass</th></tr></thead>\n",
       "<tbody>\n",
       "\t<tr><td>Mercury </td><td> 0.40   </td><td>5.50e-02</td></tr>\n",
       "\t<tr><td>Venus   </td><td> 0.70   </td><td>8.15e-01</td></tr>\n",
       "\t<tr><td>Earth   </td><td> 1.00   </td><td>1.00e+00</td></tr>\n",
       "\t<tr><td>Mars    </td><td> 1.50   </td><td>1.07e-01</td></tr>\n",
       "\t<tr><td>Ceres   </td><td> 2.77   </td><td>1.50e-04</td></tr>\n",
       "\t<tr><td>Jupiter </td><td> 5.20   </td><td>3.18e+02</td></tr>\n",
       "\t<tr><td>Saturn  </td><td> 9.50   </td><td>9.50e+01</td></tr>\n",
       "\t<tr><td>Uranus  </td><td>19.60   </td><td>1.40e+01</td></tr>\n",
       "\t<tr><td>Neptune </td><td>30.00   </td><td>1.70e+01</td></tr>\n",
       "\t<tr><td>Pluto   </td><td>39.00   </td><td>2.18e-03</td></tr>\n",
       "\t<tr><td>Charon  </td><td>39.00   </td><td>2.54e-04</td></tr>\n",
       "</tbody>\n",
       "</table>\n"
      ],
      "text/latex": [
       "\\begin{tabular}{r|lll}\n",
       " Planet.name & Distance..AU. & Mass\\\\\n",
       "\\hline\n",
       "\t Mercury  &  0.40    & 5.50e-02\\\\\n",
       "\t Venus    &  0.70    & 8.15e-01\\\\\n",
       "\t Earth    &  1.00    & 1.00e+00\\\\\n",
       "\t Mars     &  1.50    & 1.07e-01\\\\\n",
       "\t Ceres    &  2.77    & 1.50e-04\\\\\n",
       "\t Jupiter  &  5.20    & 3.18e+02\\\\\n",
       "\t Saturn   &  9.50    & 9.50e+01\\\\\n",
       "\t Uranus   & 19.60    & 1.40e+01\\\\\n",
       "\t Neptune  & 30.00    & 1.70e+01\\\\\n",
       "\t Pluto    & 39.00    & 2.18e-03\\\\\n",
       "\t Charon   & 39.00    & 2.54e-04\\\\\n",
       "\\end{tabular}\n"
      ],
      "text/markdown": [
       "\n",
       "Planet.name | Distance..AU. | Mass | \n",
       "|---|---|---|---|---|---|---|---|---|---|---|\n",
       "| Mercury  |  0.40    | 5.50e-02 | \n",
       "| Venus    |  0.70    | 8.15e-01 | \n",
       "| Earth    |  1.00    | 1.00e+00 | \n",
       "| Mars     |  1.50    | 1.07e-01 | \n",
       "| Ceres    |  2.77    | 1.50e-04 | \n",
       "| Jupiter  |  5.20    | 3.18e+02 | \n",
       "| Saturn   |  9.50    | 9.50e+01 | \n",
       "| Uranus   | 19.60    | 1.40e+01 | \n",
       "| Neptune  | 30.00    | 1.70e+01 | \n",
       "| Pluto    | 39.00    | 2.18e-03 | \n",
       "| Charon   | 39.00    | 2.54e-04 | \n",
       "\n",
       "\n"
      ],
      "text/plain": [
       "   Planet.name Distance..AU. Mass    \n",
       "1  Mercury      0.40         5.50e-02\n",
       "2  Venus        0.70         8.15e-01\n",
       "3  Earth        1.00         1.00e+00\n",
       "4  Mars         1.50         1.07e-01\n",
       "5  Ceres        2.77         1.50e-04\n",
       "6  Jupiter      5.20         3.18e+02\n",
       "7  Saturn       9.50         9.50e+01\n",
       "8  Uranus      19.60         1.40e+01\n",
       "9  Neptune     30.00         1.70e+01\n",
       "10 Pluto       39.00         2.18e-03\n",
       "11 Charon      39.00         2.54e-04"
      ]
     },
     "metadata": {},
     "output_type": "display_data"
    }
   ],
   "source": [
    "con1 <- file(\"planets.csv\",\"r\")\n",
    "con1\n",
    "data1 = read.csv(con1)\n",
    "close(con1)\n",
    "data1"
   ]
  },
  {
   "cell_type": "code",
   "execution_count": 9,
   "metadata": {},
   "outputs": [
    {
     "data": {
      "text/html": [
       "<ol class=list-inline>\n",
       "\t<li>'Planet name,Distance (AU),Mass'</li>\n",
       "\t<li>'Mercury,0.4,0.055'</li>\n",
       "\t<li>'Venus,0.7,0.815'</li>\n",
       "\t<li>'Earth,1,1'</li>\n",
       "\t<li>'Mars,1.5,0.107'</li>\n",
       "</ol>\n"
      ],
      "text/latex": [
       "\\begin{enumerate*}\n",
       "\\item 'Planet name,Distance (AU),Mass'\n",
       "\\item 'Mercury,0.4,0.055'\n",
       "\\item 'Venus,0.7,0.815'\n",
       "\\item 'Earth,1,1'\n",
       "\\item 'Mars,1.5,0.107'\n",
       "\\end{enumerate*}\n"
      ],
      "text/markdown": [
       "1. 'Planet name,Distance (AU),Mass'\n",
       "2. 'Mercury,0.4,0.055'\n",
       "3. 'Venus,0.7,0.815'\n",
       "4. 'Earth,1,1'\n",
       "5. 'Mars,1.5,0.107'\n",
       "\n",
       "\n"
      ],
      "text/plain": [
       "[1] \"Planet name,Distance (AU),Mass\" \"Mercury,0.4,0.055\"             \n",
       "[3] \"Venus,0.7,0.815\"                \"Earth,1,1\"                     \n",
       "[5] \"Mars,1.5,0.107\"                "
      ]
     },
     "metadata": {},
     "output_type": "display_data"
    },
    {
     "data": {
      "text/html": [
       "<table>\n",
       "<thead><tr><th scope=col>Planet.name</th><th scope=col>Distance..AU.</th><th scope=col>Mass</th></tr></thead>\n",
       "<tbody>\n",
       "\t<tr><td>Mercury</td><td>0.4    </td><td>0.055  </td></tr>\n",
       "\t<tr><td>Venus  </td><td>0.7    </td><td>0.815  </td></tr>\n",
       "\t<tr><td>Earth  </td><td>1.0    </td><td>1.000  </td></tr>\n",
       "</tbody>\n",
       "</table>\n"
      ],
      "text/latex": [
       "\\begin{tabular}{r|lll}\n",
       " Planet.name & Distance..AU. & Mass\\\\\n",
       "\\hline\n",
       "\t Mercury & 0.4     & 0.055  \\\\\n",
       "\t Venus   & 0.7     & 0.815  \\\\\n",
       "\t Earth   & 1.0     & 1.000  \\\\\n",
       "\\end{tabular}\n"
      ],
      "text/markdown": [
       "\n",
       "Planet.name | Distance..AU. | Mass | \n",
       "|---|---|---|\n",
       "| Mercury | 0.4     | 0.055   | \n",
       "| Venus   | 0.7     | 0.815   | \n",
       "| Earth   | 1.0     | 1.000   | \n",
       "\n",
       "\n"
      ],
      "text/plain": [
       "  Planet.name Distance..AU. Mass \n",
       "1 Mercury     0.4           0.055\n",
       "2 Venus       0.7           0.815\n",
       "3 Earth       1.0           1.000"
      ]
     },
     "metadata": {},
     "output_type": "display_data"
    }
   ],
   "source": [
    "# now reading from compressed file\n",
    "# and reading only 5 files of the compressed file\n",
    "con2 <- gzfile(\"planets.csv.gz\");\n",
    "data2 <-readLines(con2,5)\n",
    "data2\n",
    "data3 = read.csv(con2,nrows=3)\n",
    "data3\n"
   ]
  },
  {
   "cell_type": "code",
   "execution_count": 13,
   "metadata": {},
   "outputs": [
    {
     "name": "stdout",
     "output_type": "stream",
     "text": [
      "[1] \"<!DOCTYPE html>\"                                                                                                                                                           \n",
      "[2] \"<html lang=\\\"mul\\\" class=\\\"no-js\\\">\"                                                                                                                                       \n",
      "[3] \"<head>\"                                                                                                                                                                    \n",
      "[4] \"<meta charset=\\\"utf-8\\\">\"                                                                                                                                                  \n",
      "[5] \"<title>Wikipedia</title>\"                                                                                                                                                  \n",
      "[6] \"<meta name=\\\"description\\\" content=\\\"Wikipedia is a free online encyclopedia, created and edited by volunteers around the world and hosted by the Wikimedia Foundation.\\\">\"\n"
     ]
    }
   ],
   "source": [
    "con3 = url(\"https://www.wikipedia.org/\",\"r\")\n",
    "data4 <- readLines(con3)\n",
    "data5 = head(data4)\n",
    "print(data5)"
   ]
  }
 ],
 "metadata": {
  "kernelspec": {
   "display_name": "R",
   "language": "R",
   "name": "ir"
  },
  "language_info": {
   "codemirror_mode": "r",
   "file_extension": ".r",
   "mimetype": "text/x-r-source",
   "name": "R",
   "pygments_lexer": "r",
   "version": "3.4.4"
  }
 },
 "nbformat": 4,
 "nbformat_minor": 2
}
