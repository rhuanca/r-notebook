{
 "cells": [
  {
   "cell_type": "markdown",
   "metadata": {},
   "source": [
    "# Error Handling"
   ]
  },
  {
   "cell_type": "code",
   "execution_count": 1,
   "metadata": {},
   "outputs": [
    {
     "ename": "ERROR",
     "evalue": "Error in mean(x1): object 'x1' not found\n",
     "output_type": "error",
     "traceback": [
      "Error in mean(x1): object 'x1' not found\nTraceback:\n",
      "1. mean(x1)"
     ]
    }
   ],
   "source": [
    "mean(x1)\n",
    "traceback() ## this line will work with most recent error"
   ]
  },
  {
   "cell_type": "code",
   "execution_count": 4,
   "metadata": {},
   "outputs": [
    {
     "ename": "ERROR",
     "evalue": "Error in stats::model.frame(formula = x3 - x2, drop.unused.levels = TRUE): object 'x3' not found\n",
     "output_type": "error",
     "traceback": [
      "Error in stats::model.frame(formula = x3 - x2, drop.unused.levels = TRUE): object 'x3' not found\nTraceback:\n",
      "1. lm(x3 - x2)",
      "2. eval(mf, parent.frame())",
      "3. eval(mf, parent.frame())",
      "4. stats::model.frame(formula = x3 - x2, drop.unused.levels = TRUE)"
     ]
    }
   ],
   "source": [
    "lm(x3 - x2)\n",
    "traceback()"
   ]
  },
  {
   "cell_type": "code",
   "execution_count": 16,
   "metadata": {},
   "outputs": [
    {
     "ename": "ERROR",
     "evalue": "Error in f1(c, d): argument \"f\" is missing, with no default\n",
     "output_type": "error",
     "traceback": [
      "Error in f1(c, d): argument \"f\" is missing, with no default\nTraceback:\n",
      "1. f4(1, 2)",
      "2. f3(g)   # at line 11 of file <text>",
      "3. f2(e, f)   # at line 8 of file <text>",
      "4. f1(c, d)   # at line 5 of file <text>"
     ]
    }
   ],
   "source": [
    "f1 <- function(a,b) {\n",
    "    a + b\n",
    "}\n",
    "f2 <- function(c, d) {\n",
    "    f1(c, d)\n",
    "}\n",
    "f3 <- function(e, f) {\n",
    "    f2(e, f)\n",
    "}\n",
    "f4 <- function(g, h) {\n",
    "    f3(g)\n",
    "}\n",
    "f4(1,2)\n",
    "traceback()"
   ]
  },
  {
   "cell_type": "code",
   "execution_count": 26,
   "metadata": {},
   "outputs": [
    {
     "name": "stdout",
     "output_type": "stream",
     "text": [
      "debugging in: f7(g, h)\n",
      "debug at <text>#7: {\n",
      "    f6(e, f)\n",
      "}\n",
      "debug at <text>#8: f6(e, f)\n",
      "exiting from: f7(g, h)\n"
     ]
    },
    {
     "data": {
      "text/html": [
       "3"
      ],
      "text/latex": [
       "3"
      ],
      "text/markdown": [
       "3"
      ],
      "text/plain": [
       "[1] 3"
      ]
     },
     "metadata": {},
     "output_type": "display_data"
    },
    {
     "name": "stdout",
     "output_type": "stream",
     "text": [
      "No traceback available \n"
     ]
    }
   ],
   "source": [
    "f5 <- function(a,b) {\n",
    "    a + b\n",
    "}\n",
    "f6 <- function(c, d) {\n",
    "    f5(c, d)\n",
    "}\n",
    "f7 <- function(e, f) {\n",
    "    f6(e, f)\n",
    "}\n",
    "f8 <- function(g, h) {\n",
    "    f7(g, h)\n",
    "}\n",
    "# browser()\n",
    "debug(f7)\n",
    "# debug(f8)\n",
    "f8(1,2)\n",
    "traceback()"
   ]
  },
  {
   "cell_type": "markdown",
   "metadata": {},
   "source": [
    "## Example 1\n",
    "![alt text](03_01_error_handling_1.png)\n",
    "\n",
    "## Example 2\n",
    "![alt text](03_01_error_handling_2.png)\n"
   ]
  }
 ],
 "metadata": {
  "kernelspec": {
   "display_name": "R",
   "language": "R",
   "name": "ir"
  },
  "language_info": {
   "codemirror_mode": "r",
   "file_extension": ".r",
   "mimetype": "text/x-r-source",
   "name": "R",
   "pygments_lexer": "r",
   "version": "3.4.4"
  }
 },
 "nbformat": 4,
 "nbformat_minor": 2
}
