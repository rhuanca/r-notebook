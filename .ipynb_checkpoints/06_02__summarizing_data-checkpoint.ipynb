{
 "cells": [
  {
   "cell_type": "markdown",
   "metadata": {},
   "source": [
    "# Summarizing Data"
   ]
  },
  {
   "cell_type": "code",
   "execution_count": 3,
   "metadata": {},
   "outputs": [],
   "source": [
    "restData <- read.csv(\"06_02__summarizing_data_Restaurants.csv\")"
   ]
  },
  {
   "cell_type": "code",
   "execution_count": 4,
   "metadata": {},
   "outputs": [
    {
     "data": {
      "text/html": [
       "<table>\n",
       "<thead><tr><th scope=col>name</th><th scope=col>zipCode</th><th scope=col>neighborhood</th><th scope=col>councilDistrict</th><th scope=col>policeDistrict</th><th scope=col>Location.1</th></tr></thead>\n",
       "<tbody>\n",
       "\t<tr><td>410                            </td><td>21206                          </td><td>Frankford                      </td><td>2                              </td><td>NORTHEASTERN                   </td><td>4509 BELAIR ROAD\n",
       "Baltimore, MD</td></tr>\n",
       "\t<tr><td>1919                           </td><td>21231                          </td><td>Fells Point                    </td><td>1                              </td><td>SOUTHEASTERN                   </td><td>1919 FLEET ST\n",
       "Baltimore, MD   </td></tr>\n",
       "\t<tr><td>SAUTE                          </td><td>21224                          </td><td>Canton                         </td><td>1                              </td><td>SOUTHEASTERN                   </td><td>2844 HUDSON ST\n",
       "Baltimore, MD  </td></tr>\n",
       "</tbody>\n",
       "</table>\n"
      ],
      "text/latex": [
       "\\begin{tabular}{r|llllll}\n",
       " name & zipCode & neighborhood & councilDistrict & policeDistrict & Location.1\\\\\n",
       "\\hline\n",
       "\t 410                             & 21206                           & Frankford                       & 2                               & NORTHEASTERN                    & 4509 BELAIR ROAD\n",
       "Baltimore, MD\\\\\n",
       "\t 1919                            & 21231                           & Fells Point                     & 1                               & SOUTHEASTERN                    & 1919 FLEET ST\n",
       "Baltimore, MD   \\\\\n",
       "\t SAUTE                           & 21224                           & Canton                          & 1                               & SOUTHEASTERN                    & 2844 HUDSON ST\n",
       "Baltimore, MD  \\\\\n",
       "\\end{tabular}\n"
      ],
      "text/markdown": [
       "\n",
       "name | zipCode | neighborhood | councilDistrict | policeDistrict | Location.1 | \n",
       "|---|---|---|\n",
       "| 410                             | 21206                           | Frankford                       | 2                               | NORTHEASTERN                    | 4509 BELAIR ROAD\n",
       "Baltimore, MD | \n",
       "| 1919                            | 21231                           | Fells Point                     | 1                               | SOUTHEASTERN                    | 1919 FLEET ST\n",
       "Baltimore, MD    | \n",
       "| SAUTE                           | 21224                           | Canton                          | 1                               | SOUTHEASTERN                    | 2844 HUDSON ST\n",
       "Baltimore, MD   | \n",
       "\n",
       "\n"
      ],
      "text/plain": [
       "  name  zipCode neighborhood councilDistrict policeDistrict\n",
       "1 410   21206   Frankford    2               NORTHEASTERN  \n",
       "2 1919  21231   Fells Point  1               SOUTHEASTERN  \n",
       "3 SAUTE 21224   Canton       1               SOUTHEASTERN  \n",
       "  Location.1                     \n",
       "1 4509 BELAIR ROAD\\nBaltimore, MD\n",
       "2 1919 FLEET ST\\nBaltimore, MD   \n",
       "3 2844 HUDSON ST\\nBaltimore, MD  "
      ]
     },
     "metadata": {},
     "output_type": "display_data"
    }
   ],
   "source": [
    "head(restData, n=3)"
   ]
  },
  {
   "cell_type": "code",
   "execution_count": 5,
   "metadata": {},
   "outputs": [
    {
     "data": {
      "text/html": [
       "<table>\n",
       "<thead><tr><th></th><th scope=col>name</th><th scope=col>zipCode</th><th scope=col>neighborhood</th><th scope=col>councilDistrict</th><th scope=col>policeDistrict</th><th scope=col>Location.1</th></tr></thead>\n",
       "<tbody>\n",
       "\t<tr><th scope=row>1325</th><td>ZINK'S CAF                </td><td>21213                           </td><td>Belair-Edison                   </td><td>13                              </td><td>NORTHEASTERN                    </td><td>3300 LAWNVIEW AVE\n",
       "Baltimore, MD</td></tr>\n",
       "\t<tr><th scope=row>1326</th><td>ZISSIMOS BAR                    </td><td>21211                           </td><td>Hampden                         </td><td> 7                              </td><td>NORTHERN                        </td><td>1023 36TH ST\n",
       "Baltimore, MD     </td></tr>\n",
       "\t<tr><th scope=row>1327</th><td>ZORBAS                          </td><td>21224                           </td><td>Greektown                       </td><td> 2                              </td><td>SOUTHEASTERN                    </td><td>4710 EASTERN Ave\n",
       "Baltimore, MD </td></tr>\n",
       "</tbody>\n",
       "</table>\n"
      ],
      "text/latex": [
       "\\begin{tabular}{r|llllll}\n",
       "  & name & zipCode & neighborhood & councilDistrict & policeDistrict & Location.1\\\\\n",
       "\\hline\n",
       "\t1325 & ZINK'S CAF                 & 21213                            & Belair-Edison                    & 13                               & NORTHEASTERN                     & 3300 LAWNVIEW AVE\n",
       "Baltimore, MD\\\\\n",
       "\t1326 & ZISSIMOS BAR                     & 21211                            & Hampden                          &  7                               & NORTHERN                         & 1023 36TH ST\n",
       "Baltimore, MD     \\\\\n",
       "\t1327 & ZORBAS                           & 21224                            & Greektown                        &  2                               & SOUTHEASTERN                     & 4710 EASTERN Ave\n",
       "Baltimore, MD \\\\\n",
       "\\end{tabular}\n"
      ],
      "text/markdown": [
       "\n",
       "| <!--/--> | name | zipCode | neighborhood | councilDistrict | policeDistrict | Location.1 | \n",
       "|---|---|---|\n",
       "| 1325 | ZINK'S CAF                 | 21213                            | Belair-Edison                    | 13                               | NORTHEASTERN                     | 3300 LAWNVIEW AVE\n",
       "Baltimore, MD | \n",
       "| 1326 | ZISSIMOS BAR                     | 21211                            | Hampden                          |  7                               | NORTHERN                         | 1023 36TH ST\n",
       "Baltimore, MD      | \n",
       "| 1327 | ZORBAS                           | 21224                            | Greektown                        |  2                               | SOUTHEASTERN                     | 4710 EASTERN Ave\n",
       "Baltimore, MD  | \n",
       "\n",
       "\n"
      ],
      "text/plain": [
       "     name             zipCode neighborhood  councilDistrict policeDistrict\n",
       "1325 ZINK'S CAF\\u0090 21213   Belair-Edison 13              NORTHEASTERN  \n",
       "1326 ZISSIMOS BAR     21211   Hampden        7              NORTHERN      \n",
       "1327 ZORBAS           21224   Greektown      2              SOUTHEASTERN  \n",
       "     Location.1                      \n",
       "1325 3300 LAWNVIEW AVE\\nBaltimore, MD\n",
       "1326 1023 36TH ST\\nBaltimore, MD     \n",
       "1327 4710 EASTERN Ave\\nBaltimore, MD "
      ]
     },
     "metadata": {},
     "output_type": "display_data"
    }
   ],
   "source": [
    "tail(restData, n=3)"
   ]
  },
  {
   "cell_type": "code",
   "execution_count": 6,
   "metadata": {},
   "outputs": [
    {
     "data": {
      "text/plain": [
       "                           name         zipCode             neighborhood\n",
       " MCDONALD'S                  :   8   Min.   :-21226   Downtown    :128  \n",
       " POPEYES FAMOUS FRIED CHICKEN:   7   1st Qu.: 21202   Fells Point : 91  \n",
       " SUBWAY                      :   6   Median : 21218   Inner Harbor: 89  \n",
       " KENTUCKY FRIED CHICKEN      :   5   Mean   : 21185   Canton      : 81  \n",
       " BURGER KING                 :   4   3rd Qu.: 21226   Federal Hill: 42  \n",
       " DUNKIN DONUTS               :   4   Max.   : 21287   Mount Vernon: 33  \n",
       " (Other)                     :1293                    (Other)     :863  \n",
       " councilDistrict       policeDistrict                         Location.1   \n",
       " Min.   : 1.000   SOUTHEASTERN:385    1101 RUSSELL ST\\nBaltimore, MD:   9  \n",
       " 1st Qu.: 2.000   CENTRAL     :288    201 PRATT ST\\nBaltimore, MD   :   8  \n",
       " Median : 9.000   SOUTHERN    :213    2400 BOSTON ST\\nBaltimore, MD :   8  \n",
       " Mean   : 7.191   NORTHERN    :157    300 LIGHT ST\\nBaltimore, MD   :   5  \n",
       " 3rd Qu.:11.000   NORTHEASTERN: 72    300 CHARLES ST\\nBaltimore, MD :   4  \n",
       " Max.   :14.000   EASTERN     : 67    301 LIGHT ST\\nBaltimore, MD   :   4  \n",
       "                  (Other)     :145    (Other)                       :1289  "
      ]
     },
     "metadata": {},
     "output_type": "display_data"
    }
   ],
   "source": [
    "summary(restData)"
   ]
  },
  {
   "cell_type": "code",
   "execution_count": 12,
   "metadata": {},
   "outputs": [
    {
     "name": "stdout",
     "output_type": "stream",
     "text": [
      "  0%  25%  50%  75% 100% \n",
      "   1    2    9   11   14 \n",
      "50% 75% 90% \n",
      "  9  11  12 \n"
     ]
    }
   ],
   "source": [
    "# find the minimum value, max value and mean value.\n",
    "print(quantile(restData$councilDistrict, na.rm=TRUE))\n",
    "\n",
    "# find different quantiles\n",
    "print(quantile(restData$councilDistrict, probs=c(0.5, 0.75, 0.9)))"
   ]
  },
  {
   "cell_type": "code",
   "execution_count": 16,
   "metadata": {},
   "outputs": [
    {
     "data": {
      "text/plain": [
       "\n",
       "-21226  21201  21202  21205  21206  21207  21208  21209  21210  21211  21212 \n",
       "     1    136    201     27     30      4      1      8     23     41     28 \n",
       " 21213  21214  21215  21216  21217  21218  21220  21222  21223  21224  21225 \n",
       "    31     17     54     10     32     69      1      7     56    199     19 \n",
       " 21226  21227  21229  21230  21231  21234  21237  21239  21251  21287 \n",
       "    18      4     13    156    127      7      1      3      2      1 "
      ]
     },
     "metadata": {},
     "output_type": "display_data"
    }
   ],
   "source": [
    "# making a table\n",
    "# we use useNA=\"ifany\" to also list the number of missing values\n",
    "table(restData$zipCode, useNA=\"ifany\")"
   ]
  },
  {
   "cell_type": "code",
   "execution_count": 17,
   "metadata": {},
   "outputs": [
    {
     "data": {
      "text/plain": [
       "    \n",
       "     -21226 21201 21202 21205 21206 21207 21208 21209 21210 21211 21212 21213\n",
       "  1       0     0    37     0     0     0     0     0     0     0     0     2\n",
       "  2       0     0     0     3    27     0     0     0     0     0     0     0\n",
       "  3       0     0     0     0     0     0     0     0     0     0     0     2\n",
       "  4       0     0     0     0     0     0     0     0     0     0    27     0\n",
       "  5       0     0     0     0     0     3     0     6     0     0     0     0\n",
       "  6       0     0     0     0     0     0     0     1    19     0     0     0\n",
       "  7       0     0     0     0     0     0     0     1     0    27     0     0\n",
       "  8       0     0     0     0     0     1     0     0     0     0     0     0\n",
       "  9       0     1     0     0     0     0     0     0     0     0     0     0\n",
       "  10      1     0     1     0     0     0     0     0     0     0     0     0\n",
       "  11      0   115   139     0     0     0     1     0     0     0     1     0\n",
       "  12      0    20    24     4     0     0     0     0     0     0     0    13\n",
       "  13      0     0     0    20     3     0     0     0     0     0     0    13\n",
       "  14      0     0     0     0     0     0     0     0     4    14     0     1\n",
       "    \n",
       "     21214 21215 21216 21217 21218 21220 21222 21223 21224 21225 21226 21227\n",
       "  1      0     0     0     0     0     0     7     0   140     1     0     0\n",
       "  2      0     0     0     0     0     0     0     0    54     0     0     0\n",
       "  3     17     0     0     0     3     0     0     0     0     0     0     1\n",
       "  4      0     0     0     0     0     0     0     0     0     0     0     0\n",
       "  5      0    31     0     0     0     0     0     0     0     0     0     0\n",
       "  6      0    15     1     0     0     0     0     0     0     0     0     0\n",
       "  7      0     6     7    15     6     0     0     0     0     0     0     0\n",
       "  8      0     0     0     0     0     0     0     2     0     0     0     2\n",
       "  9      0     0     2     8     0     0     0    53     0     0     0     0\n",
       "  10     0     0     0     0     0     1     0     0     0    18    18     0\n",
       "  11     0     0     0     9     0     0     0     1     0     0     0     0\n",
       "  12     0     0     0     0    26     0     0     0     0     0     0     0\n",
       "  13     0     1     0     0     0     0     0     0     5     0     0     1\n",
       "  14     0     1     0     0    34     0     0     0     0     0     0     0\n",
       "    \n",
       "     21229 21230 21231 21234 21237 21239 21251 21287\n",
       "  1      0     1   124     0     0     0     0     0\n",
       "  2      0     0     0     0     1     0     0     0\n",
       "  3      0     0     0     7     0     0     2     0\n",
       "  4      0     0     0     0     0     3     0     0\n",
       "  5      0     0     0     0     0     0     0     0\n",
       "  6      0     0     0     0     0     0     0     0\n",
       "  7      0     0     0     0     0     0     0     0\n",
       "  8     13     0     0     0     0     0     0     0\n",
       "  9      0    11     0     0     0     0     0     0\n",
       "  10     0   133     0     0     0     0     0     0\n",
       "  11     0    11     0     0     0     0     0     0\n",
       "  12     0     0     2     0     0     0     0     0\n",
       "  13     0     0     1     0     0     0     0     1\n",
       "  14     0     0     0     0     0     0     0     0"
      ]
     },
     "metadata": {},
     "output_type": "display_data"
    }
   ],
   "source": [
    "# making a two dimentional table\n",
    "table(restData$councilDistrict, restData$zipCode)"
   ]
  },
  {
   "cell_type": "code",
   "execution_count": 20,
   "metadata": {},
   "outputs": [
    {
     "data": {
      "text/html": [
       "0"
      ],
      "text/latex": [
       "0"
      ],
      "text/markdown": [
       "0"
      ],
      "text/plain": [
       "[1] 0"
      ]
     },
     "metadata": {},
     "output_type": "display_data"
    },
    {
     "data": {
      "text/html": [
       "FALSE"
      ],
      "text/latex": [
       "FALSE"
      ],
      "text/markdown": [
       "FALSE"
      ],
      "text/plain": [
       "[1] FALSE"
      ]
     },
     "metadata": {},
     "output_type": "display_data"
    },
    {
     "data": {
      "text/html": [
       "FALSE"
      ],
      "text/latex": [
       "FALSE"
      ],
      "text/markdown": [
       "FALSE"
      ],
      "text/plain": [
       "[1] FALSE"
      ]
     },
     "metadata": {},
     "output_type": "display_data"
    }
   ],
   "source": [
    "# now let's check for missing values\n",
    "\n",
    "# count how many missing values there are\n",
    "# note that is.na() return 1 when value is missing value\n",
    "sum(is.na(restData$councilDistrict))\n",
    "\n",
    "# checks if any of the councilDistrict values is na\n",
    "any(is.na(restData$councilDistrict))\n",
    "\n",
    "# check if all values satisfies a condition\n",
    "all(restData$zipCode > 0)"
   ]
  },
  {
   "cell_type": "code",
   "execution_count": 28,
   "metadata": {},
   "outputs": [
    {
     "name": "stdout",
     "output_type": "stream",
     "text": [
      "           name         zipCode    neighborhood councilDistrict  policeDistrict \n",
      "              0               0               0               0               0 \n",
      "     Location.1 \n",
      "              0 \n"
     ]
    },
    {
     "data": {
      "text/html": [
       "TRUE"
      ],
      "text/latex": [
       "TRUE"
      ],
      "text/markdown": [
       "TRUE"
      ],
      "text/plain": [
       "[1] TRUE"
      ]
     },
     "metadata": {},
     "output_type": "display_data"
    }
   ],
   "source": [
    "# now lets do sum accross columns or rows\n",
    "\n",
    "#  with the folling statement we are counting how many missing values for all columns\n",
    "print(colSums(is.na(restData)))\n",
    "\n",
    "# check that all counts are equal to cero\n",
    "all(colSums(is.na(restData))==0)"
   ]
  },
  {
   "cell_type": "code",
   "execution_count": 32,
   "metadata": {},
   "outputs": [
    {
     "name": "stdout",
     "output_type": "stream",
     "text": [
      "\n",
      "FALSE  TRUE \n",
      " 1299    28 \n",
      "\n",
      "FALSE  TRUE \n",
      " 1268    59 \n"
     ]
    }
   ],
   "source": [
    "# create a table with the count of zip code which value is \"21212\"  \n",
    "print(table(restData$zipCode %in% c(\"21212\")))\n",
    "\n",
    "# create a table with the counts of zip code which values are \"21212\" or \"21213\"\n",
    "print(table(restData$zipCode %in% c(\"21212\", \"21213\")))"
   ]
  },
  {
   "cell_type": "code",
   "execution_count": 35,
   "metadata": {},
   "outputs": [
    {
     "data": {
      "text/html": [
       "<table>\n",
       "<thead><tr><th></th><th scope=col>name</th><th scope=col>zipCode</th><th scope=col>neighborhood</th><th scope=col>councilDistrict</th><th scope=col>policeDistrict</th><th scope=col>Location.1</th></tr></thead>\n",
       "<tbody>\n",
       "\t<tr><th scope=row>29</th><td>BAY ATLANTIC CLUB                   </td><td>21212                               </td><td>Downtown                            </td><td>11                                  </td><td>CENTRAL                             </td><td>206 REDWOOD ST\n",
       "Baltimore, MD       </td></tr>\n",
       "\t<tr><th scope=row>39</th><td>BERMUDA BAR                         </td><td>21213                               </td><td>Broadway East                       </td><td>12                                  </td><td>EASTERN                             </td><td>1801 NORTH AVE\n",
       "Baltimore, MD       </td></tr>\n",
       "\t<tr><th scope=row>92</th><td>ATWATER'S                           </td><td>21212                               </td><td>Chinquapin Park-Belvedere           </td><td> 4                                  </td><td>NORTHERN                            </td><td>529 BELVEDERE AVE\n",
       "Baltimore, MD    </td></tr>\n",
       "\t<tr><th scope=row>111</th><td>BALTIMORE ESTONIAN SOCIETY          </td><td>21213                               </td><td>South Clifton Park                  </td><td>12                                  </td><td>EASTERN                             </td><td>1932 BELAIR RD\n",
       "Baltimore, MD       </td></tr>\n",
       "\t<tr><th scope=row>187</th><td>CAFE ZEN                            </td><td>21212                               </td><td>Rosebank                            </td><td> 4                                  </td><td>NORTHERN                            </td><td>438 BELVEDERE AVE\n",
       "Baltimore, MD    </td></tr>\n",
       "\t<tr><th scope=row>220</th><td>CERIELLO FINE FOODS                 </td><td>21212                               </td><td>Chinquapin Park-Belvedere           </td><td> 4                                  </td><td>NORTHERN                            </td><td>529 BELVEDERE AVE\n",
       "Baltimore, MD    </td></tr>\n",
       "\t<tr><th scope=row>266</th><td>CLIFTON PARK GOLF COURSE SNACK BAR  </td><td>21213                               </td><td>Darley Park                         </td><td>14                                  </td><td>NORTHEASTERN                        </td><td>2701 ST LO DR\n",
       "Baltimore, MD        </td></tr>\n",
       "\t<tr><th scope=row>276</th><td><span style=white-space:pre-wrap>CLUB HOUSE BAR &amp; GRILL              </span></td><td>21213                                                                           </td><td>Orangeville Industrial Area                                                     </td><td>13                                                                              </td><td><span style=white-space:pre-wrap>EASTERN     </span>                            </td><td><span style=white-space:pre-wrap>4217 ERDMAN AVE\n",
       "Baltimore, MD    </span>      </td></tr>\n",
       "\t<tr><th scope=row>289</th><td><span style=white-space:pre-wrap>CLUBHOUSE BAR &amp; GRILL               </span></td><td>21213                                                                           </td><td>Orangeville Industrial Area                                                     </td><td>13                                                                              </td><td><span style=white-space:pre-wrap>EASTERN     </span>                            </td><td><span style=white-space:pre-wrap>4217 ERDMAN AVE\n",
       "Baltimore, MD    </span>      </td></tr>\n",
       "\t<tr><th scope=row>291</th><td>COCKY LOU'S                         </td><td>21213                               </td><td>Broadway East                       </td><td>12                                  </td><td>EASTERN                             </td><td>2101 NORTH AVE\n",
       "Baltimore, MD       </td></tr>\n",
       "\t<tr><th scope=row>362</th><td>DREAM TAVERN, CARRIBEAN  U.S.A.     </td><td>21213                               </td><td>Broadway East                       </td><td>13                                  </td><td>EASTERN                             </td><td>2300 LAFAYETTE AVE\n",
       "Baltimore, MD   </td></tr>\n",
       "\t<tr><th scope=row>373</th><td>DUNKIN DONUTS                       </td><td>21212                               </td><td>Homeland                            </td><td> 4                                  </td><td>NORTHERN                            </td><td>5422 YORK RD\n",
       "Baltimore, MD         </td></tr>\n",
       "\t<tr><th scope=row>383</th><td>EASTSIDE  SPORTS  SOCIAL  CLUB      </td><td>21213                               </td><td>Broadway East                       </td><td>13                                  </td><td>EASTERN                             </td><td>1203 COLLINGTON AVE\n",
       "Baltimore, MD  </td></tr>\n",
       "\t<tr><th scope=row>417</th><td>FIELDS OLD TRAIL                    </td><td>21212                               </td><td>Mid-Govans                          </td><td> 4                                  </td><td>NORTHERN                            </td><td>5723 YORK RD\n",
       "Baltimore, MD         </td></tr>\n",
       "\t<tr><th scope=row>475</th><td>GRAND CRU                           </td><td>21212                               </td><td>Chinquapin Park-Belvedere           </td><td> 4                                  </td><td>NORTHERN                            </td><td>527 BELVEDERE AVE\n",
       "Baltimore, MD    </td></tr>\n",
       "\t<tr><th scope=row>545</th><td>RANDY'S BAR                         </td><td>21213                               </td><td>Broadway East                       </td><td>12                                  </td><td>EASTERN                             </td><td>2135 NORTH AVE\n",
       "Baltimore, MD       </td></tr>\n",
       "\t<tr><th scope=row>604</th><td><span style=white-space:pre-wrap>MURPHY'S NEIGHBORHOOD BAR &amp; GRILL   </span></td><td>21212                                                                           </td><td><span style=white-space:pre-wrap>Mid-Govans                 </span>             </td><td> 4                                                                              </td><td><span style=white-space:pre-wrap>NORTHERN    </span>                            </td><td><span style=white-space:pre-wrap>5847 YORK RD\n",
       "Baltimore, MD       </span>      </td></tr>\n",
       "\t<tr><th scope=row>616</th><td>NEOPOL                              </td><td>21212                               </td><td>Chinquapin Park-Belvedere           </td><td> 4                                  </td><td>NORTHERN                            </td><td>529 BELVEDERE AVE\n",
       "Baltimore, MD    </td></tr>\n",
       "\t<tr><th scope=row>620</th><td>NEW CLUB THUNDERBIRD INC.           </td><td>21213                               </td><td>Middle East                         </td><td>13                                  </td><td>EASTERN                             </td><td>2201 CHASE ST\n",
       "Baltimore, MD        </td></tr>\n",
       "\t<tr><th scope=row>626</th><td>NEW MAYFIELD, INC.                  </td><td>21213                               </td><td>Belair-Edison                       </td><td>13                                  </td><td>NORTHEASTERN                        </td><td>3349 BELAIR RD\n",
       "Baltimore, MD       </td></tr>\n",
       "\t<tr><th scope=row>678</th><td>IKAN SEAFOOD                        </td><td>21212                               </td><td>Chinquapin Park-Belvedere           </td><td> 4                                  </td><td>NORTHERN                            </td><td>529 BELVEDERE AVE\n",
       "Baltimore, MD    </td></tr>\n",
       "\t<tr><th scope=row>711</th><td>KAY-CEE CLUB                        </td><td>21212                               </td><td>Homeland                            </td><td> 4                                  </td><td>NORTHERN                            </td><td>201 HOMELAND AVE\n",
       "Baltimore, MD     </td></tr>\n",
       "\t<tr><th scope=row>763</th><td>LA'RAE                              </td><td>21213                               </td><td>Oliver                              </td><td>12                                  </td><td>EASTERN                             </td><td>1000 HOFFMAN ST\n",
       "Baltimore, MD      </td></tr>\n",
       "\t<tr><th scope=row>777</th><td>LEMONGRASS BALTIMORE                </td><td>21213                               </td><td>Little Italy                        </td><td> 1                                  </td><td>SOUTHEASTERN                        </td><td>1300 BANK STREET\n",
       "Baltimore, MD     </td></tr>\n",
       "\t<tr><th scope=row>779</th><td>LEN'S SANDWICH SHOP                 </td><td>21213                               </td><td>Broadway East                       </td><td>12                                  </td><td>EASTERN                             </td><td>1500 WASHINGTON ST\n",
       "Baltimore, MD   </td></tr>\n",
       "\t<tr><th scope=row>845</th><td>MCDONALD'S                          </td><td>21213                               </td><td>South Clifton Park                  </td><td>12                                  </td><td>EASTERN                             </td><td>2001 BROADWAY\n",
       "Baltimore, MD        </td></tr>\n",
       "\t<tr><th scope=row>852</th><td>MCDONALD'S                          </td><td>21212                               </td><td>Radnor-Winston                      </td><td> 4                                  </td><td>NORTHERN                            </td><td>5100 YORK RD\n",
       "Baltimore, MD         </td></tr>\n",
       "\t<tr><th scope=row>873</th><td>NEW REX LIQUORS,INC.                </td><td>21212                               </td><td>Wilson Park                         </td><td> 4                                  </td><td>NORTHERN                            </td><td>4637 YORK RD\n",
       "Baltimore, MD         </td></tr>\n",
       "\t<tr><th scope=row>895</th><td>OK TAVERN                           </td><td>21213                               </td><td>Biddle Street                       </td><td>13                                  </td><td>EASTERN                             </td><td>2301 BIDDLE ST\n",
       "Baltimore, MD       </td></tr>\n",
       "\t<tr><th scope=row>919</th><td>PANERA BREAD                        </td><td>21212                               </td><td>Lake Walker                         </td><td> 4                                  </td><td>NORTHERN                            </td><td>6307 1 2 YORK RD\n",
       "Baltimore, MD     </td></tr>\n",
       "\t<tr><th scope=row>940</th><td>PEIWEI ASIAN DINER                  </td><td>21212                               </td><td>Cedarcroft                          </td><td> 4                                  </td><td>NORTHERN                            </td><td>6302 YORK RD\n",
       "Baltimore, MD         </td></tr>\n",
       "\t<tr><th scope=row>949</th><td>PERGUSA ENTERPRISES                 </td><td>21212                               </td><td>Rosebank                            </td><td> 4                                  </td><td>NORTHERN                            </td><td>5928 YORK RD\n",
       "Baltimore, MD         </td></tr>\n",
       "\t<tr><th scope=row>957</th><td>PHANTOM'S BAR AND GRILL             </td><td>21213                               </td><td>Belair-Edison                       </td><td> 3                                  </td><td>NORTHEASTERN                        </td><td>3539 BELAIR RD\n",
       "Baltimore, MD       </td></tr>\n",
       "\t<tr><th scope=row>976</th><td>POPEYES FAMOUS FRIED CHICKEN        </td><td>21212                               </td><td>Winston-Govans                      </td><td> 4                                  </td><td>NORTHERN                            </td><td>5002 YORK RD\n",
       "Baltimore, MD         </td></tr>\n",
       "\t<tr><th scope=row>994</th><td>ROBBIE'S NEST                       </td><td>21213                               </td><td>Broadway East                       </td><td>12                                  </td><td>EASTERN                             </td><td>2250 NORTH AVE\n",
       "Baltimore, MD       </td></tr>\n",
       "\t<tr><th scope=row>1017</th><td>RUTLAND BAR                         </td><td>21213                               </td><td>Broadway East                       </td><td>12                                  </td><td>EASTERN                             </td><td>1508 RUTLAND AVE\n",
       "Baltimore, MD     </td></tr>\n",
       "\t<tr><th scope=row>1018</th><td>RYAN'S DAUGHTER                     </td><td>21212                               </td><td>Chinquapin Park-Belvedere           </td><td> 4                                  </td><td>NORTHERN                            </td><td>600 BELVEDERE AVE\n",
       "Baltimore, MD    </td></tr>\n",
       "\t<tr><th scope=row>1022</th><td>saigon remembered restaurant        </td><td>21212                               </td><td>Mid-Govans                          </td><td> 4                                  </td><td>NORTHERN                            </td><td>5857 york rd\n",
       "Baltimore, MD         </td></tr>\n",
       "\t<tr><th scope=row>1053</th><td>SHIRLEY'S  HONEY HOLE               </td><td>21213                               </td><td>Broadway East                       </td><td>13                                  </td><td>EASTERN                             </td><td>2300 OLIVER ST\n",
       "Baltimore, MD       </td></tr>\n",
       "\t<tr><th scope=row>1120</th><td>STEEPLE CHASE II                    </td><td>21213                               </td><td>Biddle Street                       </td><td>13                                  </td><td>EASTERN                             </td><td>2401 CHASE ST\n",
       "Baltimore, MD        </td></tr>\n",
       "\t<tr><th scope=row>1122</th><td>SUBWAY                              </td><td>21213                               </td><td>Oliver                              </td><td>12                                  </td><td>EASTERN                             </td><td>1400 NORTH AVE\n",
       "Baltimore, MD       </td></tr>\n",
       "\t<tr><th scope=row>1153</th><td>TAM-TAM                             </td><td>21212                               </td><td>Mid-Govans                          </td><td> 4                                  </td><td>NORTHERN                            </td><td>5722 YORK RD\n",
       "Baltimore, MD         </td></tr>\n",
       "\t<tr><th scope=row>1155</th><td>TASTE                               </td><td>21212                               </td><td>Mid-Govans                          </td><td> 4                                  </td><td>NORTHERN                            </td><td>510 BELVEDERE AVE\n",
       "Baltimore, MD    </td></tr>\n",
       "\t<tr><th scope=row>1159</th><td>TAYLORS EAST                        </td><td>21213                               </td><td>Berea                               </td><td>13                                  </td><td>EASTERN                             </td><td>1201 POTOMAC ST\n",
       "Baltimore, MD      </td></tr>\n",
       "\t<tr><th scope=row>1186</th><td><span style=white-space:pre-wrap>THE EDGE BAR &amp; LOUNGE               </span></td><td>21213                                                                           </td><td><span style=white-space:pre-wrap>Broadway East              </span>             </td><td>12                                                                              </td><td><span style=white-space:pre-wrap>EASTERN     </span>                            </td><td><span style=white-space:pre-wrap>2015 FEDERAL ST\n",
       "Baltimore, MD    </span>      </td></tr>\n",
       "\t<tr><th scope=row>1187</th><td>THE EDGE BAR &amp; LOUNGE - KITCHEN AREA                                  </td><td>21213                                                                     </td><td><span style=white-space:pre-wrap>Broadway East              </span>       </td><td>12                                                                        </td><td><span style=white-space:pre-wrap>EASTERN     </span>                      </td><td><span style=white-space:pre-wrap>2015 FEDERAL ST\n",
       "Baltimore, MD    </span></td></tr>\n",
       "\t<tr><th scope=row>1198</th><td><span style=white-space:pre-wrap>THE HOLLOW BAR &amp; GRILL              </span></td><td>21212                                                                           </td><td><span style=white-space:pre-wrap>Rosebank                   </span>             </td><td> 4                                                                              </td><td><span style=white-space:pre-wrap>NORTHERN    </span>                            </td><td><span style=white-space:pre-wrap>5921 YORK RD\n",
       "Baltimore, MD       </span>      </td></tr>\n",
       "\t<tr><th scope=row>1209</th><td>THE NEW BUCKETT'S LOUNGE            </td><td>21213                               </td><td>Broadway East                       </td><td>13                                  </td><td>EASTERN                             </td><td>1432 CHESTER ST\n",
       "Baltimore, MD      </td></tr>\n",
       "\t<tr><th scope=row>1232</th><td>THREE  ACE'S                        </td><td>21213                               </td><td>Belair-Edison                       </td><td> 3                                  </td><td>NORTHEASTERN                        </td><td>3534 belair RD\n",
       "Baltimore, MD       </td></tr>\n",
       "\t<tr><th scope=row>1246</th><td>TORAIN'S  HIDE-A-WAY                </td><td>21213                               </td><td>Broadway East                       </td><td>12                                  </td><td>EASTERN                             </td><td>1701 ELLSWORTH ST\n",
       "Baltimore, MD    </td></tr>\n",
       "\t<tr><th scope=row>1259</th><td>TSUNAMI BALTIMORE                   </td><td>21213                               </td><td>Little Italy                        </td><td> 1                                  </td><td>SOUTHEASTERN                        </td><td>1300 BANK ST\n",
       "Baltimore, MD         </td></tr>\n",
       "\t<tr><th scope=row>1287</th><td>VITO'S PIZZA                        </td><td>21212                               </td><td>Cedarcroft                          </td><td> 4                                  </td><td>NORTHERN                            </td><td>6304 YORK RD\n",
       "Baltimore, MD         </td></tr>\n",
       "\t<tr><th scope=row>1298</th><td>WENDY'S OLD FASHIONED HAMBURGERS #96</td><td>21212                               </td><td>Homeland                            </td><td> 4                                  </td><td>NORTHERN                            </td><td>5615 YORK RD\n",
       "Baltimore, MD         </td></tr>\n",
       "\t<tr><th scope=row>1304</th><td>WHITTEN'S  (4502-04)                </td><td>21213                               </td><td>Claremont-Freedom                   </td><td>13                                  </td><td>NORTHEASTERN                        </td><td>4502 ERDMAN AVE\n",
       "Baltimore, MD      </td></tr>\n",
       "\t<tr><th scope=row>1312</th><td>wozi lounge                         </td><td>21212                               </td><td>Guilford                            </td><td> 4                                  </td><td>NORTHERN                            </td><td>4515 YORK RD\n",
       "Baltimore, MD         </td></tr>\n",
       "\t<tr><th scope=row>1319</th><td><span style=white-space:pre-wrap>YETI RESTAURANT &amp; CARRYOUT          </span></td><td>21212                                                                           </td><td><span style=white-space:pre-wrap>Rosebank                   </span>             </td><td> 4                                                                              </td><td><span style=white-space:pre-wrap>NORTHERN    </span>                            </td><td><span style=white-space:pre-wrap>5926 YORK RD\n",
       "Baltimore, MD       </span>      </td></tr>\n",
       "\t<tr><th scope=row>1320</th><td>YORK CLUB TAVERN                    </td><td>21212                               </td><td>Homeland                            </td><td> 4                                  </td><td>NORTHERN                            </td><td>5407 YORK RD\n",
       "Baltimore, MD         </td></tr>\n",
       "\t<tr><th scope=row>1323</th><td>ZEN WEST ROADSIDE CANTINA           </td><td>21212                               </td><td>Rosebank                            </td><td> 4                                  </td><td>NORTHERN                            </td><td>5916 YORK RD\n",
       "Baltimore, MD         </td></tr>\n",
       "\t<tr><th scope=row>1325</th><td>ZINK'S CAF                    </td><td>21213                               </td><td>Belair-Edison                       </td><td>13                                  </td><td>NORTHEASTERN                        </td><td>3300 LAWNVIEW AVE\n",
       "Baltimore, MD    </td></tr>\n",
       "</tbody>\n",
       "</table>\n"
      ],
      "text/latex": [
       "\\begin{tabular}{r|llllll}\n",
       "  & name & zipCode & neighborhood & councilDistrict & policeDistrict & Location.1\\\\\n",
       "\\hline\n",
       "\t29 & BAY ATLANTIC CLUB                    & 21212                                & Downtown                             & 11                                   & CENTRAL                              & 206 REDWOOD ST\n",
       "Baltimore, MD       \\\\\n",
       "\t39 & BERMUDA BAR                          & 21213                                & Broadway East                        & 12                                   & EASTERN                              & 1801 NORTH AVE\n",
       "Baltimore, MD       \\\\\n",
       "\t92 & ATWATER'S                            & 21212                                & Chinquapin Park-Belvedere            &  4                                   & NORTHERN                             & 529 BELVEDERE AVE\n",
       "Baltimore, MD    \\\\\n",
       "\t111 & BALTIMORE ESTONIAN SOCIETY           & 21213                                & South Clifton Park                   & 12                                   & EASTERN                              & 1932 BELAIR RD\n",
       "Baltimore, MD       \\\\\n",
       "\t187 & CAFE ZEN                             & 21212                                & Rosebank                             &  4                                   & NORTHERN                             & 438 BELVEDERE AVE\n",
       "Baltimore, MD    \\\\\n",
       "\t220 & CERIELLO FINE FOODS                  & 21212                                & Chinquapin Park-Belvedere            &  4                                   & NORTHERN                             & 529 BELVEDERE AVE\n",
       "Baltimore, MD    \\\\\n",
       "\t266 & CLIFTON PARK GOLF COURSE SNACK BAR   & 21213                                & Darley Park                          & 14                                   & NORTHEASTERN                         & 2701 ST LO DR\n",
       "Baltimore, MD        \\\\\n",
       "\t276 & CLUB HOUSE BAR \\& GRILL               & 21213                                  & Orangeville Industrial Area            & 13                                     & EASTERN                                & 4217 ERDMAN AVE\n",
       "Baltimore, MD        \\\\\n",
       "\t289 & CLUBHOUSE BAR \\& GRILL                & 21213                                  & Orangeville Industrial Area            & 13                                     & EASTERN                                & 4217 ERDMAN AVE\n",
       "Baltimore, MD        \\\\\n",
       "\t291 & COCKY LOU'S                          & 21213                                & Broadway East                        & 12                                   & EASTERN                              & 2101 NORTH AVE\n",
       "Baltimore, MD       \\\\\n",
       "\t362 & DREAM TAVERN, CARRIBEAN  U.S.A.      & 21213                                & Broadway East                        & 13                                   & EASTERN                              & 2300 LAFAYETTE AVE\n",
       "Baltimore, MD   \\\\\n",
       "\t373 & DUNKIN DONUTS                        & 21212                                & Homeland                             &  4                                   & NORTHERN                             & 5422 YORK RD\n",
       "Baltimore, MD         \\\\\n",
       "\t383 & EASTSIDE  SPORTS  SOCIAL  CLUB       & 21213                                & Broadway East                        & 13                                   & EASTERN                              & 1203 COLLINGTON AVE\n",
       "Baltimore, MD  \\\\\n",
       "\t417 & FIELDS OLD TRAIL                     & 21212                                & Mid-Govans                           &  4                                   & NORTHERN                             & 5723 YORK RD\n",
       "Baltimore, MD         \\\\\n",
       "\t475 & GRAND CRU                            & 21212                                & Chinquapin Park-Belvedere            &  4                                   & NORTHERN                             & 527 BELVEDERE AVE\n",
       "Baltimore, MD    \\\\\n",
       "\t545 & RANDY'S BAR                          & 21213                                & Broadway East                        & 12                                   & EASTERN                              & 2135 NORTH AVE\n",
       "Baltimore, MD       \\\\\n",
       "\t604 & MURPHY'S NEIGHBORHOOD BAR \\& GRILL    & 21212                                  & Mid-Govans                             &  4                                     & NORTHERN                               & 5847 YORK RD\n",
       "Baltimore, MD           \\\\\n",
       "\t616 & NEOPOL                               & 21212                                & Chinquapin Park-Belvedere            &  4                                   & NORTHERN                             & 529 BELVEDERE AVE\n",
       "Baltimore, MD    \\\\\n",
       "\t620 & NEW CLUB THUNDERBIRD INC.            & 21213                                & Middle East                          & 13                                   & EASTERN                              & 2201 CHASE ST\n",
       "Baltimore, MD        \\\\\n",
       "\t626 & NEW MAYFIELD, INC.                   & 21213                                & Belair-Edison                        & 13                                   & NORTHEASTERN                         & 3349 BELAIR RD\n",
       "Baltimore, MD       \\\\\n",
       "\t678 & IKAN SEAFOOD                         & 21212                                & Chinquapin Park-Belvedere            &  4                                   & NORTHERN                             & 529 BELVEDERE AVE\n",
       "Baltimore, MD    \\\\\n",
       "\t711 & KAY-CEE CLUB                         & 21212                                & Homeland                             &  4                                   & NORTHERN                             & 201 HOMELAND AVE\n",
       "Baltimore, MD     \\\\\n",
       "\t763 & LA'RAE                               & 21213                                & Oliver                               & 12                                   & EASTERN                              & 1000 HOFFMAN ST\n",
       "Baltimore, MD      \\\\\n",
       "\t777 & LEMONGRASS BALTIMORE                 & 21213                                & Little Italy                         &  1                                   & SOUTHEASTERN                         & 1300 BANK STREET\n",
       "Baltimore, MD     \\\\\n",
       "\t779 & LEN'S SANDWICH SHOP                  & 21213                                & Broadway East                        & 12                                   & EASTERN                              & 1500 WASHINGTON ST\n",
       "Baltimore, MD   \\\\\n",
       "\t845 & MCDONALD'S                           & 21213                                & South Clifton Park                   & 12                                   & EASTERN                              & 2001 BROADWAY\n",
       "Baltimore, MD        \\\\\n",
       "\t852 & MCDONALD'S                           & 21212                                & Radnor-Winston                       &  4                                   & NORTHERN                             & 5100 YORK RD\n",
       "Baltimore, MD         \\\\\n",
       "\t873 & NEW REX LIQUORS,INC.                 & 21212                                & Wilson Park                          &  4                                   & NORTHERN                             & 4637 YORK RD\n",
       "Baltimore, MD         \\\\\n",
       "\t895 & OK TAVERN                            & 21213                                & Biddle Street                        & 13                                   & EASTERN                              & 2301 BIDDLE ST\n",
       "Baltimore, MD       \\\\\n",
       "\t919 & PANERA BREAD                         & 21212                                & Lake Walker                          &  4                                   & NORTHERN                             & 6307 1 2 YORK RD\n",
       "Baltimore, MD     \\\\\n",
       "\t940 & PEIWEI ASIAN DINER                   & 21212                                & Cedarcroft                           &  4                                   & NORTHERN                             & 6302 YORK RD\n",
       "Baltimore, MD         \\\\\n",
       "\t949 & PERGUSA ENTERPRISES                  & 21212                                & Rosebank                             &  4                                   & NORTHERN                             & 5928 YORK RD\n",
       "Baltimore, MD         \\\\\n",
       "\t957 & PHANTOM'S BAR AND GRILL              & 21213                                & Belair-Edison                        &  3                                   & NORTHEASTERN                         & 3539 BELAIR RD\n",
       "Baltimore, MD       \\\\\n",
       "\t976 & POPEYES FAMOUS FRIED CHICKEN         & 21212                                & Winston-Govans                       &  4                                   & NORTHERN                             & 5002 YORK RD\n",
       "Baltimore, MD         \\\\\n",
       "\t994 & ROBBIE'S NEST                        & 21213                                & Broadway East                        & 12                                   & EASTERN                              & 2250 NORTH AVE\n",
       "Baltimore, MD       \\\\\n",
       "\t1017 & RUTLAND BAR                          & 21213                                & Broadway East                        & 12                                   & EASTERN                              & 1508 RUTLAND AVE\n",
       "Baltimore, MD     \\\\\n",
       "\t1018 & RYAN'S DAUGHTER                      & 21212                                & Chinquapin Park-Belvedere            &  4                                   & NORTHERN                             & 600 BELVEDERE AVE\n",
       "Baltimore, MD    \\\\\n",
       "\t1022 & saigon remembered restaurant         & 21212                                & Mid-Govans                           &  4                                   & NORTHERN                             & 5857 york rd\n",
       "Baltimore, MD         \\\\\n",
       "\t1053 & SHIRLEY'S  HONEY HOLE                & 21213                                & Broadway East                        & 13                                   & EASTERN                              & 2300 OLIVER ST\n",
       "Baltimore, MD       \\\\\n",
       "\t1120 & STEEPLE CHASE II                     & 21213                                & Biddle Street                        & 13                                   & EASTERN                              & 2401 CHASE ST\n",
       "Baltimore, MD        \\\\\n",
       "\t1122 & SUBWAY                               & 21213                                & Oliver                               & 12                                   & EASTERN                              & 1400 NORTH AVE\n",
       "Baltimore, MD       \\\\\n",
       "\t1153 & TAM-TAM                              & 21212                                & Mid-Govans                           &  4                                   & NORTHERN                             & 5722 YORK RD\n",
       "Baltimore, MD         \\\\\n",
       "\t1155 & TASTE                                & 21212                                & Mid-Govans                           &  4                                   & NORTHERN                             & 510 BELVEDERE AVE\n",
       "Baltimore, MD    \\\\\n",
       "\t1159 & TAYLORS EAST                         & 21213                                & Berea                                & 13                                   & EASTERN                              & 1201 POTOMAC ST\n",
       "Baltimore, MD      \\\\\n",
       "\t1186 & THE EDGE BAR \\& LOUNGE                & 21213                                  & Broadway East                          & 12                                     & EASTERN                                & 2015 FEDERAL ST\n",
       "Baltimore, MD        \\\\\n",
       "\t1187 & THE EDGE BAR \\& LOUNGE - KITCHEN AREA & 21213                                  & Broadway East                          & 12                                     & EASTERN                                & 2015 FEDERAL ST\n",
       "Baltimore, MD        \\\\\n",
       "\t1198 & THE HOLLOW BAR \\& GRILL               & 21212                                  & Rosebank                               &  4                                     & NORTHERN                               & 5921 YORK RD\n",
       "Baltimore, MD           \\\\\n",
       "\t1209 & THE NEW BUCKETT'S LOUNGE             & 21213                                & Broadway East                        & 13                                   & EASTERN                              & 1432 CHESTER ST\n",
       "Baltimore, MD      \\\\\n",
       "\t1232 & THREE  ACE'S                         & 21213                                & Belair-Edison                        &  3                                   & NORTHEASTERN                         & 3534 belair RD\n",
       "Baltimore, MD       \\\\\n",
       "\t1246 & TORAIN'S  HIDE-A-WAY                 & 21213                                & Broadway East                        & 12                                   & EASTERN                              & 1701 ELLSWORTH ST\n",
       "Baltimore, MD    \\\\\n",
       "\t1259 & TSUNAMI BALTIMORE                    & 21213                                & Little Italy                         &  1                                   & SOUTHEASTERN                         & 1300 BANK ST\n",
       "Baltimore, MD         \\\\\n",
       "\t1287 & VITO'S PIZZA                         & 21212                                & Cedarcroft                           &  4                                   & NORTHERN                             & 6304 YORK RD\n",
       "Baltimore, MD         \\\\\n",
       "\t1298 & WENDY'S OLD FASHIONED HAMBURGERS \\#96 & 21212                                  & Homeland                               &  4                                     & NORTHERN                               & 5615 YORK RD\n",
       "Baltimore, MD           \\\\\n",
       "\t1304 & WHITTEN'S  (4502-04)                 & 21213                                & Claremont-Freedom                    & 13                                   & NORTHEASTERN                         & 4502 ERDMAN AVE\n",
       "Baltimore, MD      \\\\\n",
       "\t1312 & wozi lounge                          & 21212                                & Guilford                             &  4                                   & NORTHERN                             & 4515 YORK RD\n",
       "Baltimore, MD         \\\\\n",
       "\t1319 & YETI RESTAURANT \\& CARRYOUT           & 21212                                  & Rosebank                               &  4                                     & NORTHERN                               & 5926 YORK RD\n",
       "Baltimore, MD           \\\\\n",
       "\t1320 & YORK CLUB TAVERN                     & 21212                                & Homeland                             &  4                                   & NORTHERN                             & 5407 YORK RD\n",
       "Baltimore, MD         \\\\\n",
       "\t1323 & ZEN WEST ROADSIDE CANTINA            & 21212                                & Rosebank                             &  4                                   & NORTHERN                             & 5916 YORK RD\n",
       "Baltimore, MD         \\\\\n",
       "\t1325 & ZINK'S CAF                     & 21213                                & Belair-Edison                        & 13                                   & NORTHEASTERN                         & 3300 LAWNVIEW AVE\n",
       "Baltimore, MD    \\\\\n",
       "\\end{tabular}\n"
      ],
      "text/markdown": [
       "\n",
       "| <!--/--> | name | zipCode | neighborhood | councilDistrict | policeDistrict | Location.1 | \n",
       "|---|---|---|---|---|---|---|---|---|---|---|---|---|---|---|---|---|---|---|---|---|---|---|---|---|---|---|---|---|---|---|---|---|---|---|---|---|---|---|---|---|---|---|---|---|---|---|---|---|---|---|---|---|---|---|---|---|---|---|\n",
       "| 29 | BAY ATLANTIC CLUB                    | 21212                                | Downtown                             | 11                                   | CENTRAL                              | 206 REDWOOD ST\n",
       "Baltimore, MD        | \n",
       "| 39 | BERMUDA BAR                          | 21213                                | Broadway East                        | 12                                   | EASTERN                              | 1801 NORTH AVE\n",
       "Baltimore, MD        | \n",
       "| 92 | ATWATER'S                            | 21212                                | Chinquapin Park-Belvedere            |  4                                   | NORTHERN                             | 529 BELVEDERE AVE\n",
       "Baltimore, MD     | \n",
       "| 111 | BALTIMORE ESTONIAN SOCIETY           | 21213                                | South Clifton Park                   | 12                                   | EASTERN                              | 1932 BELAIR RD\n",
       "Baltimore, MD        | \n",
       "| 187 | CAFE ZEN                             | 21212                                | Rosebank                             |  4                                   | NORTHERN                             | 438 BELVEDERE AVE\n",
       "Baltimore, MD     | \n",
       "| 220 | CERIELLO FINE FOODS                  | 21212                                | Chinquapin Park-Belvedere            |  4                                   | NORTHERN                             | 529 BELVEDERE AVE\n",
       "Baltimore, MD     | \n",
       "| 266 | CLIFTON PARK GOLF COURSE SNACK BAR   | 21213                                | Darley Park                          | 14                                   | NORTHEASTERN                         | 2701 ST LO DR\n",
       "Baltimore, MD         | \n",
       "| 276 | CLUB HOUSE BAR & GRILL               | 21213                                | Orangeville Industrial Area          | 13                                   | EASTERN                              | 4217 ERDMAN AVE\n",
       "Baltimore, MD       | \n",
       "| 289 | CLUBHOUSE BAR & GRILL                | 21213                                | Orangeville Industrial Area          | 13                                   | EASTERN                              | 4217 ERDMAN AVE\n",
       "Baltimore, MD       | \n",
       "| 291 | COCKY LOU'S                          | 21213                                | Broadway East                        | 12                                   | EASTERN                              | 2101 NORTH AVE\n",
       "Baltimore, MD        | \n",
       "| 362 | DREAM TAVERN, CARRIBEAN  U.S.A.      | 21213                                | Broadway East                        | 13                                   | EASTERN                              | 2300 LAFAYETTE AVE\n",
       "Baltimore, MD    | \n",
       "| 373 | DUNKIN DONUTS                        | 21212                                | Homeland                             |  4                                   | NORTHERN                             | 5422 YORK RD\n",
       "Baltimore, MD          | \n",
       "| 383 | EASTSIDE  SPORTS  SOCIAL  CLUB       | 21213                                | Broadway East                        | 13                                   | EASTERN                              | 1203 COLLINGTON AVE\n",
       "Baltimore, MD   | \n",
       "| 417 | FIELDS OLD TRAIL                     | 21212                                | Mid-Govans                           |  4                                   | NORTHERN                             | 5723 YORK RD\n",
       "Baltimore, MD          | \n",
       "| 475 | GRAND CRU                            | 21212                                | Chinquapin Park-Belvedere            |  4                                   | NORTHERN                             | 527 BELVEDERE AVE\n",
       "Baltimore, MD     | \n",
       "| 545 | RANDY'S BAR                          | 21213                                | Broadway East                        | 12                                   | EASTERN                              | 2135 NORTH AVE\n",
       "Baltimore, MD        | \n",
       "| 604 | MURPHY'S NEIGHBORHOOD BAR & GRILL    | 21212                                | Mid-Govans                           |  4                                   | NORTHERN                             | 5847 YORK RD\n",
       "Baltimore, MD          | \n",
       "| 616 | NEOPOL                               | 21212                                | Chinquapin Park-Belvedere            |  4                                   | NORTHERN                             | 529 BELVEDERE AVE\n",
       "Baltimore, MD     | \n",
       "| 620 | NEW CLUB THUNDERBIRD INC.            | 21213                                | Middle East                          | 13                                   | EASTERN                              | 2201 CHASE ST\n",
       "Baltimore, MD         | \n",
       "| 626 | NEW MAYFIELD, INC.                   | 21213                                | Belair-Edison                        | 13                                   | NORTHEASTERN                         | 3349 BELAIR RD\n",
       "Baltimore, MD        | \n",
       "| 678 | IKAN SEAFOOD                         | 21212                                | Chinquapin Park-Belvedere            |  4                                   | NORTHERN                             | 529 BELVEDERE AVE\n",
       "Baltimore, MD     | \n",
       "| 711 | KAY-CEE CLUB                         | 21212                                | Homeland                             |  4                                   | NORTHERN                             | 201 HOMELAND AVE\n",
       "Baltimore, MD      | \n",
       "| 763 | LA'RAE                               | 21213                                | Oliver                               | 12                                   | EASTERN                              | 1000 HOFFMAN ST\n",
       "Baltimore, MD       | \n",
       "| 777 | LEMONGRASS BALTIMORE                 | 21213                                | Little Italy                         |  1                                   | SOUTHEASTERN                         | 1300 BANK STREET\n",
       "Baltimore, MD      | \n",
       "| 779 | LEN'S SANDWICH SHOP                  | 21213                                | Broadway East                        | 12                                   | EASTERN                              | 1500 WASHINGTON ST\n",
       "Baltimore, MD    | \n",
       "| 845 | MCDONALD'S                           | 21213                                | South Clifton Park                   | 12                                   | EASTERN                              | 2001 BROADWAY\n",
       "Baltimore, MD         | \n",
       "| 852 | MCDONALD'S                           | 21212                                | Radnor-Winston                       |  4                                   | NORTHERN                             | 5100 YORK RD\n",
       "Baltimore, MD          | \n",
       "| 873 | NEW REX LIQUORS,INC.                 | 21212                                | Wilson Park                          |  4                                   | NORTHERN                             | 4637 YORK RD\n",
       "Baltimore, MD          | \n",
       "| 895 | OK TAVERN                            | 21213                                | Biddle Street                        | 13                                   | EASTERN                              | 2301 BIDDLE ST\n",
       "Baltimore, MD        | \n",
       "| 919 | PANERA BREAD                         | 21212                                | Lake Walker                          |  4                                   | NORTHERN                             | 6307 1 2 YORK RD\n",
       "Baltimore, MD      | \n",
       "| 940 | PEIWEI ASIAN DINER                   | 21212                                | Cedarcroft                           |  4                                   | NORTHERN                             | 6302 YORK RD\n",
       "Baltimore, MD          | \n",
       "| 949 | PERGUSA ENTERPRISES                  | 21212                                | Rosebank                             |  4                                   | NORTHERN                             | 5928 YORK RD\n",
       "Baltimore, MD          | \n",
       "| 957 | PHANTOM'S BAR AND GRILL              | 21213                                | Belair-Edison                        |  3                                   | NORTHEASTERN                         | 3539 BELAIR RD\n",
       "Baltimore, MD        | \n",
       "| 976 | POPEYES FAMOUS FRIED CHICKEN         | 21212                                | Winston-Govans                       |  4                                   | NORTHERN                             | 5002 YORK RD\n",
       "Baltimore, MD          | \n",
       "| 994 | ROBBIE'S NEST                        | 21213                                | Broadway East                        | 12                                   | EASTERN                              | 2250 NORTH AVE\n",
       "Baltimore, MD        | \n",
       "| 1017 | RUTLAND BAR                          | 21213                                | Broadway East                        | 12                                   | EASTERN                              | 1508 RUTLAND AVE\n",
       "Baltimore, MD      | \n",
       "| 1018 | RYAN'S DAUGHTER                      | 21212                                | Chinquapin Park-Belvedere            |  4                                   | NORTHERN                             | 600 BELVEDERE AVE\n",
       "Baltimore, MD     | \n",
       "| 1022 | saigon remembered restaurant         | 21212                                | Mid-Govans                           |  4                                   | NORTHERN                             | 5857 york rd\n",
       "Baltimore, MD          | \n",
       "| 1053 | SHIRLEY'S  HONEY HOLE                | 21213                                | Broadway East                        | 13                                   | EASTERN                              | 2300 OLIVER ST\n",
       "Baltimore, MD        | \n",
       "| 1120 | STEEPLE CHASE II                     | 21213                                | Biddle Street                        | 13                                   | EASTERN                              | 2401 CHASE ST\n",
       "Baltimore, MD         | \n",
       "| 1122 | SUBWAY                               | 21213                                | Oliver                               | 12                                   | EASTERN                              | 1400 NORTH AVE\n",
       "Baltimore, MD        | \n",
       "| 1153 | TAM-TAM                              | 21212                                | Mid-Govans                           |  4                                   | NORTHERN                             | 5722 YORK RD\n",
       "Baltimore, MD          | \n",
       "| 1155 | TASTE                                | 21212                                | Mid-Govans                           |  4                                   | NORTHERN                             | 510 BELVEDERE AVE\n",
       "Baltimore, MD     | \n",
       "| 1159 | TAYLORS EAST                         | 21213                                | Berea                                | 13                                   | EASTERN                              | 1201 POTOMAC ST\n",
       "Baltimore, MD       | \n",
       "| 1186 | THE EDGE BAR & LOUNGE                | 21213                                | Broadway East                        | 12                                   | EASTERN                              | 2015 FEDERAL ST\n",
       "Baltimore, MD       | \n",
       "| 1187 | THE EDGE BAR & LOUNGE - KITCHEN AREA | 21213                                | Broadway East                        | 12                                   | EASTERN                              | 2015 FEDERAL ST\n",
       "Baltimore, MD       | \n",
       "| 1198 | THE HOLLOW BAR & GRILL               | 21212                                | Rosebank                             |  4                                   | NORTHERN                             | 5921 YORK RD\n",
       "Baltimore, MD          | \n",
       "| 1209 | THE NEW BUCKETT'S LOUNGE             | 21213                                | Broadway East                        | 13                                   | EASTERN                              | 1432 CHESTER ST\n",
       "Baltimore, MD       | \n",
       "| 1232 | THREE  ACE'S                         | 21213                                | Belair-Edison                        |  3                                   | NORTHEASTERN                         | 3534 belair RD\n",
       "Baltimore, MD        | \n",
       "| 1246 | TORAIN'S  HIDE-A-WAY                 | 21213                                | Broadway East                        | 12                                   | EASTERN                              | 1701 ELLSWORTH ST\n",
       "Baltimore, MD     | \n",
       "| 1259 | TSUNAMI BALTIMORE                    | 21213                                | Little Italy                         |  1                                   | SOUTHEASTERN                         | 1300 BANK ST\n",
       "Baltimore, MD          | \n",
       "| 1287 | VITO'S PIZZA                         | 21212                                | Cedarcroft                           |  4                                   | NORTHERN                             | 6304 YORK RD\n",
       "Baltimore, MD          | \n",
       "| 1298 | WENDY'S OLD FASHIONED HAMBURGERS #96 | 21212                                | Homeland                             |  4                                   | NORTHERN                             | 5615 YORK RD\n",
       "Baltimore, MD          | \n",
       "| 1304 | WHITTEN'S  (4502-04)                 | 21213                                | Claremont-Freedom                    | 13                                   | NORTHEASTERN                         | 4502 ERDMAN AVE\n",
       "Baltimore, MD       | \n",
       "| 1312 | wozi lounge                          | 21212                                | Guilford                             |  4                                   | NORTHERN                             | 4515 YORK RD\n",
       "Baltimore, MD          | \n",
       "| 1319 | YETI RESTAURANT & CARRYOUT           | 21212                                | Rosebank                             |  4                                   | NORTHERN                             | 5926 YORK RD\n",
       "Baltimore, MD          | \n",
       "| 1320 | YORK CLUB TAVERN                     | 21212                                | Homeland                             |  4                                   | NORTHERN                             | 5407 YORK RD\n",
       "Baltimore, MD          | \n",
       "| 1323 | ZEN WEST ROADSIDE CANTINA            | 21212                                | Rosebank                             |  4                                   | NORTHERN                             | 5916 YORK RD\n",
       "Baltimore, MD          | \n",
       "| 1325 | ZINK'S CAF                     | 21213                                | Belair-Edison                        | 13                                   | NORTHEASTERN                         | 3300 LAWNVIEW AVE\n",
       "Baltimore, MD     | \n",
       "\n",
       "\n"
      ],
      "text/plain": [
       "     name                                 zipCode neighborhood               \n",
       "29   BAY ATLANTIC CLUB                    21212   Downtown                   \n",
       "39   BERMUDA BAR                          21213   Broadway East              \n",
       "92   ATWATER'S                            21212   Chinquapin Park-Belvedere  \n",
       "111  BALTIMORE ESTONIAN SOCIETY           21213   South Clifton Park         \n",
       "187  CAFE ZEN                             21212   Rosebank                   \n",
       "220  CERIELLO FINE FOODS                  21212   Chinquapin Park-Belvedere  \n",
       "266  CLIFTON PARK GOLF COURSE SNACK BAR   21213   Darley Park                \n",
       "276  CLUB HOUSE BAR & GRILL               21213   Orangeville Industrial Area\n",
       "289  CLUBHOUSE BAR & GRILL                21213   Orangeville Industrial Area\n",
       "291  COCKY LOU'S                          21213   Broadway East              \n",
       "362  DREAM TAVERN, CARRIBEAN  U.S.A.      21213   Broadway East              \n",
       "373  DUNKIN DONUTS                        21212   Homeland                   \n",
       "383  EASTSIDE  SPORTS  SOCIAL  CLUB       21213   Broadway East              \n",
       "417  FIELDS OLD TRAIL                     21212   Mid-Govans                 \n",
       "475  GRAND CRU                            21212   Chinquapin Park-Belvedere  \n",
       "545  RANDY'S BAR                          21213   Broadway East              \n",
       "604  MURPHY'S NEIGHBORHOOD BAR & GRILL    21212   Mid-Govans                 \n",
       "616  NEOPOL                               21212   Chinquapin Park-Belvedere  \n",
       "620  NEW CLUB THUNDERBIRD INC.            21213   Middle East                \n",
       "626  NEW MAYFIELD, INC.                   21213   Belair-Edison              \n",
       "678  IKAN SEAFOOD                         21212   Chinquapin Park-Belvedere  \n",
       "711  KAY-CEE CLUB                         21212   Homeland                   \n",
       "763  LA'RAE                               21213   Oliver                     \n",
       "777  LEMONGRASS BALTIMORE                 21213   Little Italy               \n",
       "779  LEN'S SANDWICH SHOP                  21213   Broadway East              \n",
       "845  MCDONALD'S                           21213   South Clifton Park         \n",
       "852  MCDONALD'S                           21212   Radnor-Winston             \n",
       "873  NEW REX LIQUORS,INC.                 21212   Wilson Park                \n",
       "895  OK TAVERN                            21213   Biddle Street              \n",
       "919  PANERA BREAD                         21212   Lake Walker                \n",
       "940  PEIWEI ASIAN DINER                   21212   Cedarcroft                 \n",
       "949  PERGUSA ENTERPRISES                  21212   Rosebank                   \n",
       "957  PHANTOM'S BAR AND GRILL              21213   Belair-Edison              \n",
       "976  POPEYES FAMOUS FRIED CHICKEN         21212   Winston-Govans             \n",
       "994  ROBBIE'S NEST                        21213   Broadway East              \n",
       "1017 RUTLAND BAR                          21213   Broadway East              \n",
       "1018 RYAN'S DAUGHTER                      21212   Chinquapin Park-Belvedere  \n",
       "1022 saigon remembered restaurant         21212   Mid-Govans                 \n",
       "1053 SHIRLEY'S  HONEY HOLE                21213   Broadway East              \n",
       "1120 STEEPLE CHASE II                     21213   Biddle Street              \n",
       "1122 SUBWAY                               21213   Oliver                     \n",
       "1153 TAM-TAM                              21212   Mid-Govans                 \n",
       "1155 TASTE                                21212   Mid-Govans                 \n",
       "1159 TAYLORS EAST                         21213   Berea                      \n",
       "1186 THE EDGE BAR & LOUNGE                21213   Broadway East              \n",
       "1187 THE EDGE BAR & LOUNGE - KITCHEN AREA 21213   Broadway East              \n",
       "1198 THE HOLLOW BAR & GRILL               21212   Rosebank                   \n",
       "1209 THE NEW BUCKETT'S LOUNGE             21213   Broadway East              \n",
       "1232 THREE  ACE'S                         21213   Belair-Edison              \n",
       "1246 TORAIN'S  HIDE-A-WAY                 21213   Broadway East              \n",
       "1259 TSUNAMI BALTIMORE                    21213   Little Italy               \n",
       "1287 VITO'S PIZZA                         21212   Cedarcroft                 \n",
       "1298 WENDY'S OLD FASHIONED HAMBURGERS #96 21212   Homeland                   \n",
       "1304 WHITTEN'S  (4502-04)                 21213   Claremont-Freedom          \n",
       "1312 wozi lounge                          21212   Guilford                   \n",
       "1319 YETI RESTAURANT & CARRYOUT           21212   Rosebank                   \n",
       "1320 YORK CLUB TAVERN                     21212   Homeland                   \n",
       "1323 ZEN WEST ROADSIDE CANTINA            21212   Rosebank                   \n",
       "1325 ZINK'S CAF\\u0090                     21213   Belair-Edison              \n",
       "     councilDistrict policeDistrict Location.1                        \n",
       "29   11              CENTRAL        206 REDWOOD ST\\nBaltimore, MD     \n",
       "39   12              EASTERN        1801 NORTH AVE\\nBaltimore, MD     \n",
       "92    4              NORTHERN       529 BELVEDERE AVE\\nBaltimore, MD  \n",
       "111  12              EASTERN        1932 BELAIR RD\\nBaltimore, MD     \n",
       "187   4              NORTHERN       438 BELVEDERE AVE\\nBaltimore, MD  \n",
       "220   4              NORTHERN       529 BELVEDERE AVE\\nBaltimore, MD  \n",
       "266  14              NORTHEASTERN   2701 ST LO DR\\nBaltimore, MD      \n",
       "276  13              EASTERN        4217 ERDMAN AVE\\nBaltimore, MD    \n",
       "289  13              EASTERN        4217 ERDMAN AVE\\nBaltimore, MD    \n",
       "291  12              EASTERN        2101 NORTH AVE\\nBaltimore, MD     \n",
       "362  13              EASTERN        2300 LAFAYETTE AVE\\nBaltimore, MD \n",
       "373   4              NORTHERN       5422 YORK RD\\nBaltimore, MD       \n",
       "383  13              EASTERN        1203 COLLINGTON AVE\\nBaltimore, MD\n",
       "417   4              NORTHERN       5723 YORK RD\\nBaltimore, MD       \n",
       "475   4              NORTHERN       527 BELVEDERE AVE\\nBaltimore, MD  \n",
       "545  12              EASTERN        2135 NORTH AVE\\nBaltimore, MD     \n",
       "604   4              NORTHERN       5847 YORK RD\\nBaltimore, MD       \n",
       "616   4              NORTHERN       529 BELVEDERE AVE\\nBaltimore, MD  \n",
       "620  13              EASTERN        2201 CHASE ST\\nBaltimore, MD      \n",
       "626  13              NORTHEASTERN   3349 BELAIR RD\\nBaltimore, MD     \n",
       "678   4              NORTHERN       529 BELVEDERE AVE\\nBaltimore, MD  \n",
       "711   4              NORTHERN       201 HOMELAND AVE\\nBaltimore, MD   \n",
       "763  12              EASTERN        1000 HOFFMAN ST\\nBaltimore, MD    \n",
       "777   1              SOUTHEASTERN   1300 BANK STREET\\nBaltimore, MD   \n",
       "779  12              EASTERN        1500 WASHINGTON ST\\nBaltimore, MD \n",
       "845  12              EASTERN        2001 BROADWAY\\nBaltimore, MD      \n",
       "852   4              NORTHERN       5100 YORK RD\\nBaltimore, MD       \n",
       "873   4              NORTHERN       4637 YORK RD\\nBaltimore, MD       \n",
       "895  13              EASTERN        2301 BIDDLE ST\\nBaltimore, MD     \n",
       "919   4              NORTHERN       6307 1 2 YORK RD\\nBaltimore, MD   \n",
       "940   4              NORTHERN       6302 YORK RD\\nBaltimore, MD       \n",
       "949   4              NORTHERN       5928 YORK RD\\nBaltimore, MD       \n",
       "957   3              NORTHEASTERN   3539 BELAIR RD\\nBaltimore, MD     \n",
       "976   4              NORTHERN       5002 YORK RD\\nBaltimore, MD       \n",
       "994  12              EASTERN        2250 NORTH AVE\\nBaltimore, MD     \n",
       "1017 12              EASTERN        1508 RUTLAND AVE\\nBaltimore, MD   \n",
       "1018  4              NORTHERN       600 BELVEDERE AVE\\nBaltimore, MD  \n",
       "1022  4              NORTHERN       5857 york rd\\nBaltimore, MD       \n",
       "1053 13              EASTERN        2300 OLIVER ST\\nBaltimore, MD     \n",
       "1120 13              EASTERN        2401 CHASE ST\\nBaltimore, MD      \n",
       "1122 12              EASTERN        1400 NORTH AVE\\nBaltimore, MD     \n",
       "1153  4              NORTHERN       5722 YORK RD\\nBaltimore, MD       \n",
       "1155  4              NORTHERN       510 BELVEDERE AVE\\nBaltimore, MD  \n",
       "1159 13              EASTERN        1201 POTOMAC ST\\nBaltimore, MD    \n",
       "1186 12              EASTERN        2015 FEDERAL ST\\nBaltimore, MD    \n",
       "1187 12              EASTERN        2015 FEDERAL ST\\nBaltimore, MD    \n",
       "1198  4              NORTHERN       5921 YORK RD\\nBaltimore, MD       \n",
       "1209 13              EASTERN        1432 CHESTER ST\\nBaltimore, MD    \n",
       "1232  3              NORTHEASTERN   3534 belair RD\\nBaltimore, MD     \n",
       "1246 12              EASTERN        1701 ELLSWORTH ST\\nBaltimore, MD  \n",
       "1259  1              SOUTHEASTERN   1300 BANK ST\\nBaltimore, MD       \n",
       "1287  4              NORTHERN       6304 YORK RD\\nBaltimore, MD       \n",
       "1298  4              NORTHERN       5615 YORK RD\\nBaltimore, MD       \n",
       "1304 13              NORTHEASTERN   4502 ERDMAN AVE\\nBaltimore, MD    \n",
       "1312  4              NORTHERN       4515 YORK RD\\nBaltimore, MD       \n",
       "1319  4              NORTHERN       5926 YORK RD\\nBaltimore, MD       \n",
       "1320  4              NORTHERN       5407 YORK RD\\nBaltimore, MD       \n",
       "1323  4              NORTHERN       5916 YORK RD\\nBaltimore, MD       \n",
       "1325 13              NORTHEASTERN   3300 LAWNVIEW AVE\\nBaltimore, MD  "
      ]
     },
     "metadata": {},
     "output_type": "display_data"
    }
   ],
   "source": [
    "# let's subset/find row wich zip code is \"21212\" or \"21213\"\n",
    "restData[restData$zipCode %in% c(\"21212\", \"21213\"),]"
   ]
  },
  {
   "cell_type": "code",
   "execution_count": 44,
   "metadata": {},
   "outputs": [
    {
     "name": "stdout",
     "output_type": "stream",
     "text": [
      "      Admit Gender Dept Freq\n",
      "1  Admitted   Male    A  512\n",
      "2  Rejected   Male    A  313\n",
      "3  Admitted Female    A   89\n",
      "4  Rejected Female    A   19\n",
      "5  Admitted   Male    B  353\n",
      "6  Rejected   Male    B  207\n",
      "7  Admitted Female    B   17\n",
      "8  Rejected Female    B    8\n",
      "9  Admitted   Male    C  120\n",
      "10 Rejected   Male    C  205\n",
      "11 Admitted Female    C  202\n",
      "12 Rejected Female    C  391\n",
      "13 Admitted   Male    D  138\n",
      "14 Rejected   Male    D  279\n",
      "15 Admitted Female    D  131\n",
      "16 Rejected Female    D  244\n",
      "17 Admitted   Male    E   53\n",
      "18 Rejected   Male    E  138\n",
      "19 Admitted Female    E   94\n",
      "20 Rejected Female    E  299\n",
      "21 Admitted   Male    F   22\n",
      "22 Rejected   Male    F  351\n",
      "23 Admitted Female    F   24\n",
      "24 Rejected Female    F  317\n"
     ]
    },
    {
     "data": {
      "text/plain": [
       "      Admit       Gender   Dept       Freq      \n",
       " Admitted:12   Male  :12   A:4   Min.   :  8.0  \n",
       " Rejected:12   Female:12   B:4   1st Qu.: 80.0  \n",
       "                           C:4   Median :170.0  \n",
       "                           D:4   Mean   :188.6  \n",
       "                           E:4   3rd Qu.:302.5  \n",
       "                           F:4   Max.   :512.0  "
      ]
     },
     "metadata": {},
     "output_type": "display_data"
    }
   ],
   "source": [
    "data(UCBAdmissions)\n",
    "\n",
    "df1 = as.data.frame(UCBAdmissions)\n",
    "print(df1)\n",
    "summary(df1)"
   ]
  },
  {
   "cell_type": "code",
   "execution_count": 45,
   "metadata": {},
   "outputs": [
    {
     "data": {
      "text/plain": [
       "        Admit\n",
       "Gender   Admitted Rejected\n",
       "  Male       1198     1493\n",
       "  Female      557     1278"
      ]
     },
     "metadata": {},
     "output_type": "display_data"
    }
   ],
   "source": [
    "# let's do a summary of frequency of students by gender and admit\n",
    "xt1 <- xtabs(Freq ~ Gender + Admit, data=df1)\n",
    "xt1"
   ]
  },
  {
   "cell_type": "code",
   "execution_count": 46,
   "metadata": {},
   "outputs": [
    {
     "data": {
      "text/html": [
       "<table>\n",
       "<thead><tr><th scope=col>breaks</th><th scope=col>wool</th><th scope=col>tension</th></tr></thead>\n",
       "<tbody>\n",
       "\t<tr><td>26</td><td>A </td><td>L </td></tr>\n",
       "\t<tr><td>30</td><td>A </td><td>L </td></tr>\n",
       "\t<tr><td>54</td><td>A </td><td>L </td></tr>\n",
       "\t<tr><td>25</td><td>A </td><td>L </td></tr>\n",
       "\t<tr><td>70</td><td>A </td><td>L </td></tr>\n",
       "\t<tr><td>52</td><td>A </td><td>L </td></tr>\n",
       "</tbody>\n",
       "</table>\n"
      ],
      "text/latex": [
       "\\begin{tabular}{r|lll}\n",
       " breaks & wool & tension\\\\\n",
       "\\hline\n",
       "\t 26 & A  & L \\\\\n",
       "\t 30 & A  & L \\\\\n",
       "\t 54 & A  & L \\\\\n",
       "\t 25 & A  & L \\\\\n",
       "\t 70 & A  & L \\\\\n",
       "\t 52 & A  & L \\\\\n",
       "\\end{tabular}\n"
      ],
      "text/markdown": [
       "\n",
       "breaks | wool | tension | \n",
       "|---|---|---|---|---|---|\n",
       "| 26 | A  | L  | \n",
       "| 30 | A  | L  | \n",
       "| 54 | A  | L  | \n",
       "| 25 | A  | L  | \n",
       "| 70 | A  | L  | \n",
       "| 52 | A  | L  | \n",
       "\n",
       "\n"
      ],
      "text/plain": [
       "  breaks wool tension\n",
       "1 26     A    L      \n",
       "2 30     A    L      \n",
       "3 54     A    L      \n",
       "4 25     A    L      \n",
       "5 70     A    L      \n",
       "6 52     A    L      "
      ]
     },
     "metadata": {},
     "output_type": "display_data"
    }
   ],
   "source": [
    "head(warpbreaks)"
   ]
  },
  {
   "cell_type": "code",
   "execution_count": 53,
   "metadata": {},
   "outputs": [
    {
     "data": {
      "text/html": [
       "<table>\n",
       "<thead><tr><th scope=col>breaks</th><th scope=col>wool</th><th scope=col>tension</th><th scope=col>replicate</th></tr></thead>\n",
       "<tbody>\n",
       "\t<tr><td>26</td><td>A </td><td>L </td><td>1 </td></tr>\n",
       "\t<tr><td>30</td><td>A </td><td>L </td><td>2 </td></tr>\n",
       "\t<tr><td>54</td><td>A </td><td>L </td><td>3 </td></tr>\n",
       "\t<tr><td>25</td><td>A </td><td>L </td><td>4 </td></tr>\n",
       "\t<tr><td>70</td><td>A </td><td>L </td><td>5 </td></tr>\n",
       "\t<tr><td>52</td><td>A </td><td>L </td><td>6 </td></tr>\n",
       "\t<tr><td>51</td><td>A </td><td>L </td><td>7 </td></tr>\n",
       "\t<tr><td>26</td><td>A </td><td>L </td><td>8 </td></tr>\n",
       "\t<tr><td>67</td><td>A </td><td>L </td><td>9 </td></tr>\n",
       "\t<tr><td>18</td><td>A </td><td>M </td><td>1 </td></tr>\n",
       "\t<tr><td>21</td><td>A </td><td>M </td><td>2 </td></tr>\n",
       "\t<tr><td>29</td><td>A </td><td>M </td><td>3 </td></tr>\n",
       "\t<tr><td>17</td><td>A </td><td>M </td><td>4 </td></tr>\n",
       "\t<tr><td>12</td><td>A </td><td>M </td><td>5 </td></tr>\n",
       "\t<tr><td>18</td><td>A </td><td>M </td><td>6 </td></tr>\n",
       "\t<tr><td>35</td><td>A </td><td>M </td><td>7 </td></tr>\n",
       "\t<tr><td>30</td><td>A </td><td>M </td><td>8 </td></tr>\n",
       "\t<tr><td>36</td><td>A </td><td>M </td><td>9 </td></tr>\n",
       "\t<tr><td>36</td><td>A </td><td>H </td><td>1 </td></tr>\n",
       "\t<tr><td>21</td><td>A </td><td>H </td><td>2 </td></tr>\n",
       "</tbody>\n",
       "</table>\n"
      ],
      "text/latex": [
       "\\begin{tabular}{r|llll}\n",
       " breaks & wool & tension & replicate\\\\\n",
       "\\hline\n",
       "\t 26 & A  & L  & 1 \\\\\n",
       "\t 30 & A  & L  & 2 \\\\\n",
       "\t 54 & A  & L  & 3 \\\\\n",
       "\t 25 & A  & L  & 4 \\\\\n",
       "\t 70 & A  & L  & 5 \\\\\n",
       "\t 52 & A  & L  & 6 \\\\\n",
       "\t 51 & A  & L  & 7 \\\\\n",
       "\t 26 & A  & L  & 8 \\\\\n",
       "\t 67 & A  & L  & 9 \\\\\n",
       "\t 18 & A  & M  & 1 \\\\\n",
       "\t 21 & A  & M  & 2 \\\\\n",
       "\t 29 & A  & M  & 3 \\\\\n",
       "\t 17 & A  & M  & 4 \\\\\n",
       "\t 12 & A  & M  & 5 \\\\\n",
       "\t 18 & A  & M  & 6 \\\\\n",
       "\t 35 & A  & M  & 7 \\\\\n",
       "\t 30 & A  & M  & 8 \\\\\n",
       "\t 36 & A  & M  & 9 \\\\\n",
       "\t 36 & A  & H  & 1 \\\\\n",
       "\t 21 & A  & H  & 2 \\\\\n",
       "\\end{tabular}\n"
      ],
      "text/markdown": [
       "\n",
       "breaks | wool | tension | replicate | \n",
       "|---|---|---|---|---|---|---|---|---|---|---|---|---|---|---|---|---|---|---|---|\n",
       "| 26 | A  | L  | 1  | \n",
       "| 30 | A  | L  | 2  | \n",
       "| 54 | A  | L  | 3  | \n",
       "| 25 | A  | L  | 4  | \n",
       "| 70 | A  | L  | 5  | \n",
       "| 52 | A  | L  | 6  | \n",
       "| 51 | A  | L  | 7  | \n",
       "| 26 | A  | L  | 8  | \n",
       "| 67 | A  | L  | 9  | \n",
       "| 18 | A  | M  | 1  | \n",
       "| 21 | A  | M  | 2  | \n",
       "| 29 | A  | M  | 3  | \n",
       "| 17 | A  | M  | 4  | \n",
       "| 12 | A  | M  | 5  | \n",
       "| 18 | A  | M  | 6  | \n",
       "| 35 | A  | M  | 7  | \n",
       "| 30 | A  | M  | 8  | \n",
       "| 36 | A  | M  | 9  | \n",
       "| 36 | A  | H  | 1  | \n",
       "| 21 | A  | H  | 2  | \n",
       "\n",
       "\n"
      ],
      "text/plain": [
       "   breaks wool tension replicate\n",
       "1  26     A    L       1        \n",
       "2  30     A    L       2        \n",
       "3  54     A    L       3        \n",
       "4  25     A    L       4        \n",
       "5  70     A    L       5        \n",
       "6  52     A    L       6        \n",
       "7  51     A    L       7        \n",
       "8  26     A    L       8        \n",
       "9  67     A    L       9        \n",
       "10 18     A    M       1        \n",
       "11 21     A    M       2        \n",
       "12 29     A    M       3        \n",
       "13 17     A    M       4        \n",
       "14 12     A    M       5        \n",
       "15 18     A    M       6        \n",
       "16 35     A    M       7        \n",
       "17 30     A    M       8        \n",
       "18 36     A    M       9        \n",
       "19 36     A    H       1        \n",
       "20 21     A    H       2        "
      ]
     },
     "metadata": {},
     "output_type": "display_data"
    },
    {
     "data": {
      "text/plain": [
       "     breaks      wool   tension   replicate\n",
       " Min.   :10.00   A:27   L:18    Min.   :1  \n",
       " 1st Qu.:18.25   B:27   M:18    1st Qu.:3  \n",
       " Median :26.00          H:18    Median :5  \n",
       " Mean   :28.15                  Mean   :5  \n",
       " 3rd Qu.:34.00                  3rd Qu.:7  \n",
       " Max.   :70.00                  Max.   :9  "
      ]
     },
     "metadata": {},
     "output_type": "display_data"
    },
    {
     "data": {
      "text/plain": [
       ", , replicate = 1\n",
       "\n",
       "    tension\n",
       "wool  L  M  H\n",
       "   A 26 18 36\n",
       "   B 27 42 20\n",
       "\n",
       ", , replicate = 2\n",
       "\n",
       "    tension\n",
       "wool  L  M  H\n",
       "   A 30 21 21\n",
       "   B 14 26 21\n",
       "\n",
       ", , replicate = 3\n",
       "\n",
       "    tension\n",
       "wool  L  M  H\n",
       "   A 54 29 24\n",
       "   B 29 19 24\n",
       "\n",
       ", , replicate = 4\n",
       "\n",
       "    tension\n",
       "wool  L  M  H\n",
       "   A 25 17 18\n",
       "   B 19 16 17\n",
       "\n",
       ", , replicate = 5\n",
       "\n",
       "    tension\n",
       "wool  L  M  H\n",
       "   A 70 12 10\n",
       "   B 29 39 13\n",
       "\n",
       ", , replicate = 6\n",
       "\n",
       "    tension\n",
       "wool  L  M  H\n",
       "   A 52 18 43\n",
       "   B 31 28 15\n",
       "\n",
       ", , replicate = 7\n",
       "\n",
       "    tension\n",
       "wool  L  M  H\n",
       "   A 51 35 28\n",
       "   B 41 21 15\n",
       "\n",
       ", , replicate = 8\n",
       "\n",
       "    tension\n",
       "wool  L  M  H\n",
       "   A 26 30 15\n",
       "   B 20 39 16\n",
       "\n",
       ", , replicate = 9\n",
       "\n",
       "    tension\n",
       "wool  L  M  H\n",
       "   A 67 36 26\n",
       "   B 44 29 28\n"
      ]
     },
     "metadata": {},
     "output_type": "display_data"
    }
   ],
   "source": [
    "warpbreaks$replicate <- rep(1:9, len=54)\n",
    "head(warpbreaks, n= 20)\n",
    "\n",
    "summary(warpbreaks)\n",
    "xt2 = xtabs(breaks ~., data=warpbreaks)\n",
    "xt2"
   ]
  },
  {
   "cell_type": "code",
   "execution_count": 54,
   "metadata": {},
   "outputs": [
    {
     "data": {
      "text/plain": [
       "             replicate  1  2  3  4  5  6  7  8  9\n",
       "wool tension                                     \n",
       "A    L                 26 30 54 25 70 52 51 26 67\n",
       "     M                 18 21 29 17 12 18 35 30 36\n",
       "     H                 36 21 24 18 10 43 28 15 26\n",
       "B    L                 27 14 29 19 29 31 41 20 44\n",
       "     M                 42 26 19 16 39 28 21 39 29\n",
       "     H                 20 21 24 17 13 15 15 16 28"
      ]
     },
     "metadata": {},
     "output_type": "display_data"
    }
   ],
   "source": [
    "# summarize data in compated form\n",
    "ftable(xt2)"
   ]
  },
  {
   "cell_type": "code",
   "execution_count": 57,
   "metadata": {},
   "outputs": [
    {
     "name": "stdout",
     "output_type": "stream",
     "text": [
      "800040 bytes\n",
      "0.8 Mb\n"
     ]
    }
   ],
   "source": [
    "# now let's see the size of dataset\n",
    "\n",
    "fakeData = rnorm(1e5)\n",
    "print(object.size(fakeData))\n",
    "\n",
    "print(object.size(fakeData), units=\"Mb\")"
   ]
  }
 ],
 "metadata": {
  "kernelspec": {
   "display_name": "R",
   "language": "R",
   "name": "ir"
  },
  "language_info": {
   "codemirror_mode": "r",
   "file_extension": ".r",
   "mimetype": "text/x-r-source",
   "name": "R",
   "pygments_lexer": "r",
   "version": "3.4.4"
  }
 },
 "nbformat": 4,
 "nbformat_minor": 2
}
