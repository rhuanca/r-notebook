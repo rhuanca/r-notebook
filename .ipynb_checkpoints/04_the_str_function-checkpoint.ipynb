{
 "cells": [
  {
   "cell_type": "markdown",
   "metadata": {},
   "source": [
    "# The str() Function"
   ]
  },
  {
   "cell_type": "markdown",
   "metadata": {},
   "source": [
    "* str() is strucutre\n",
    "* it is similar to summary()\n",
    "* tries to give back one line of output\n",
    "* basic goal is to answer: what's in this object."
   ]
  },
  {
   "cell_type": "code",
   "execution_count": 1,
   "metadata": {},
   "outputs": [
    {
     "name": "stdout",
     "output_type": "stream",
     "text": [
      "function (object, ...)  \n"
     ]
    }
   ],
   "source": [
    "str(str)"
   ]
  },
  {
   "cell_type": "code",
   "execution_count": 2,
   "metadata": {},
   "outputs": [
    {
     "name": "stdout",
     "output_type": "stream",
     "text": [
      " num 1\n"
     ]
    }
   ],
   "source": [
    "str(1)"
   ]
  },
  {
   "cell_type": "code",
   "execution_count": 3,
   "metadata": {},
   "outputs": [
    {
     "name": "stdout",
     "output_type": "stream",
     "text": [
      " chr \"Hi\"\n"
     ]
    }
   ],
   "source": [
    "str(\"Hi\")"
   ]
  },
  {
   "cell_type": "code",
   "execution_count": 4,
   "metadata": {},
   "outputs": [
    {
     "name": "stdout",
     "output_type": "stream",
     "text": [
      "function (a, b)  \n",
      " - attr(*, \"srcref\")=Class 'srcref'  atomic [1:8] 1 7 3 1 7 1 1 3\n",
      "  .. ..- attr(*, \"srcfile\")=Classes 'srcfilecopy', 'srcfile' <environment: 0x560b2bede198> \n"
     ]
    }
   ],
   "source": [
    "f1 <- function(a,b) {\n",
    "    a + b\n",
    "}\n",
    "str(f1)"
   ]
  },
  {
   "cell_type": "code",
   "execution_count": 5,
   "metadata": {},
   "outputs": [
    {
     "name": "stdout",
     "output_type": "stream",
     "text": [
      "function (formula, data, subset, weights, na.action, method = \"qr\", model = TRUE, \n",
      "    x = FALSE, y = FALSE, qr = TRUE, singular.ok = TRUE, contrasts = NULL, \n",
      "    offset, ...)  \n"
     ]
    }
   ],
   "source": [
    "str(lm)"
   ]
  },
  {
   "cell_type": "code",
   "execution_count": 9,
   "metadata": {},
   "outputs": [
    {
     "name": "stdout",
     "output_type": "stream",
     "text": [
      "   Min. 1st Qu.  Median    Mean 3rd Qu.    Max. \n",
      "-5.9731 -0.6268  2.0591  1.9271  4.0754 12.0231 \n",
      " num [1:100] -4.225 9.906 0.663 3.968 3.365 ...\n",
      "NULL\n"
     ]
    }
   ],
   "source": [
    "x1 <- rnorm(100, 2, 4)\n",
    "print(summary(x1))\n",
    "\n",
    "# The next line prints: type-of-data number-of-elements first-five-elements\n",
    "print(str(x1))"
   ]
  },
  {
   "cell_type": "code",
   "execution_count": 17,
   "metadata": {},
   "outputs": [
    {
     "data": {
      "text/html": [
       "<ol class=list-inline>\n",
       "\t<li>1</li>\n",
       "\t<li>1</li>\n",
       "\t<li>1</li>\n",
       "\t<li>2</li>\n",
       "\t<li>2</li>\n",
       "\t<li>2</li>\n",
       "\t<li>3</li>\n",
       "\t<li>3</li>\n",
       "\t<li>3</li>\n",
       "\t<li>4</li>\n",
       "\t<li>4</li>\n",
       "\t<li>4</li>\n",
       "\t<li>5</li>\n",
       "\t<li>5</li>\n",
       "\t<li>5</li>\n",
       "\t<li>6</li>\n",
       "\t<li>6</li>\n",
       "\t<li>6</li>\n",
       "\t<li>7</li>\n",
       "\t<li>7</li>\n",
       "\t<li>7</li>\n",
       "\t<li>8</li>\n",
       "\t<li>8</li>\n",
       "\t<li>8</li>\n",
       "\t<li>9</li>\n",
       "\t<li>9</li>\n",
       "\t<li>9</li>\n",
       "\t<li>10</li>\n",
       "\t<li>10</li>\n",
       "\t<li>10</li>\n",
       "</ol>\n",
       "\n",
       "<details>\n",
       "\t<summary style=display:list-item;cursor:pointer>\n",
       "\t\t<strong>Levels</strong>:\n",
       "\t</summary>\n",
       "\t<ol class=list-inline>\n",
       "\t\t<li>'1'</li>\n",
       "\t\t<li>'2'</li>\n",
       "\t\t<li>'3'</li>\n",
       "\t\t<li>'4'</li>\n",
       "\t\t<li>'5'</li>\n",
       "\t\t<li>'6'</li>\n",
       "\t\t<li>'7'</li>\n",
       "\t\t<li>'8'</li>\n",
       "\t\t<li>'9'</li>\n",
       "\t\t<li>'10'</li>\n",
       "\t</ol>\n",
       "</details>"
      ],
      "text/latex": [
       "\\begin{enumerate*}\n",
       "\\item 1\n",
       "\\item 1\n",
       "\\item 1\n",
       "\\item 2\n",
       "\\item 2\n",
       "\\item 2\n",
       "\\item 3\n",
       "\\item 3\n",
       "\\item 3\n",
       "\\item 4\n",
       "\\item 4\n",
       "\\item 4\n",
       "\\item 5\n",
       "\\item 5\n",
       "\\item 5\n",
       "\\item 6\n",
       "\\item 6\n",
       "\\item 6\n",
       "\\item 7\n",
       "\\item 7\n",
       "\\item 7\n",
       "\\item 8\n",
       "\\item 8\n",
       "\\item 8\n",
       "\\item 9\n",
       "\\item 9\n",
       "\\item 9\n",
       "\\item 10\n",
       "\\item 10\n",
       "\\item 10\n",
       "\\end{enumerate*}\n",
       "\n",
       "\\emph{Levels}: \\begin{enumerate*}\n",
       "\\item '1'\n",
       "\\item '2'\n",
       "\\item '3'\n",
       "\\item '4'\n",
       "\\item '5'\n",
       "\\item '6'\n",
       "\\item '7'\n",
       "\\item '8'\n",
       "\\item '9'\n",
       "\\item '10'\n",
       "\\end{enumerate*}\n"
      ],
      "text/markdown": [
       "1. 1\n",
       "2. 1\n",
       "3. 1\n",
       "4. 2\n",
       "5. 2\n",
       "6. 2\n",
       "7. 3\n",
       "8. 3\n",
       "9. 3\n",
       "10. 4\n",
       "11. 4\n",
       "12. 4\n",
       "13. 5\n",
       "14. 5\n",
       "15. 5\n",
       "16. 6\n",
       "17. 6\n",
       "18. 6\n",
       "19. 7\n",
       "20. 7\n",
       "21. 7\n",
       "22. 8\n",
       "23. 8\n",
       "24. 8\n",
       "25. 9\n",
       "26. 9\n",
       "27. 9\n",
       "28. 10\n",
       "29. 10\n",
       "30. 10\n",
       "\n",
       "\n",
       "\n",
       "**Levels**: 1. '1'\n",
       "2. '2'\n",
       "3. '3'\n",
       "4. '4'\n",
       "5. '5'\n",
       "6. '6'\n",
       "7. '7'\n",
       "8. '8'\n",
       "9. '9'\n",
       "10. '10'\n",
       "\n",
       "\n"
      ],
      "text/plain": [
       " [1] 1  1  1  2  2  2  3  3  3  4  4  4  5  5  5  6  6  6  7  7  7  8  8  8  9 \n",
       "[26] 9  9  10 10 10\n",
       "Levels: 1 2 3 4 5 6 7 8 9 10"
      ]
     },
     "metadata": {},
     "output_type": "display_data"
    },
    {
     "name": "stdout",
     "output_type": "stream",
     "text": [
      " Factor w/ 10 levels \"1\",\"2\",\"3\",\"4\",..: 1 1 1 2 2 2 3 3 3 4 ...\n"
     ]
    },
    {
     "data": {
      "text/html": [
       "<dl class=dl-horizontal>\n",
       "\t<dt>1</dt>\n",
       "\t\t<dd>3</dd>\n",
       "\t<dt>2</dt>\n",
       "\t\t<dd>3</dd>\n",
       "\t<dt>3</dt>\n",
       "\t\t<dd>3</dd>\n",
       "\t<dt>4</dt>\n",
       "\t\t<dd>3</dd>\n",
       "\t<dt>5</dt>\n",
       "\t\t<dd>3</dd>\n",
       "\t<dt>6</dt>\n",
       "\t\t<dd>3</dd>\n",
       "\t<dt>7</dt>\n",
       "\t\t<dd>3</dd>\n",
       "\t<dt>8</dt>\n",
       "\t\t<dd>3</dd>\n",
       "\t<dt>9</dt>\n",
       "\t\t<dd>3</dd>\n",
       "\t<dt>10</dt>\n",
       "\t\t<dd>3</dd>\n",
       "</dl>\n"
      ],
      "text/latex": [
       "\\begin{description*}\n",
       "\\item[1] 3\n",
       "\\item[2] 3\n",
       "\\item[3] 3\n",
       "\\item[4] 3\n",
       "\\item[5] 3\n",
       "\\item[6] 3\n",
       "\\item[7] 3\n",
       "\\item[8] 3\n",
       "\\item[9] 3\n",
       "\\item[10] 3\n",
       "\\end{description*}\n"
      ],
      "text/markdown": [
       "1\n",
       ":   32\n",
       ":   33\n",
       ":   34\n",
       ":   35\n",
       ":   36\n",
       ":   37\n",
       ":   38\n",
       ":   39\n",
       ":   310\n",
       ":   3\n",
       "\n"
      ],
      "text/plain": [
       " 1  2  3  4  5  6  7  8  9 10 \n",
       " 3  3  3  3  3  3  3  3  3  3 "
      ]
     },
     "metadata": {},
     "output_type": "display_data"
    }
   ],
   "source": [
    "# gl -> generate levels\n",
    "?gl\n",
    "fa1 <- gl(10, 3)\n",
    "fa1\n",
    "str(fa1)\n",
    "summary(fa1)"
   ]
  },
  {
   "cell_type": "code",
   "execution_count": 20,
   "metadata": {},
   "outputs": [
    {
     "data": {
      "text/html": [
       "<table>\n",
       "<thead><tr><th scope=col>Ozone</th><th scope=col>Solar.R</th><th scope=col>Wind</th><th scope=col>Temp</th><th scope=col>Month</th><th scope=col>Day</th></tr></thead>\n",
       "<tbody>\n",
       "\t<tr><td>41  </td><td>190 </td><td> 7.4</td><td>67  </td><td>5   </td><td>1   </td></tr>\n",
       "\t<tr><td>36  </td><td>118 </td><td> 8.0</td><td>72  </td><td>5   </td><td>2   </td></tr>\n",
       "\t<tr><td>12  </td><td>149 </td><td>12.6</td><td>74  </td><td>5   </td><td>3   </td></tr>\n",
       "\t<tr><td>18  </td><td>313 </td><td>11.5</td><td>62  </td><td>5   </td><td>4   </td></tr>\n",
       "\t<tr><td>NA  </td><td> NA </td><td>14.3</td><td>56  </td><td>5   </td><td>5   </td></tr>\n",
       "\t<tr><td>28  </td><td> NA </td><td>14.9</td><td>66  </td><td>5   </td><td>6   </td></tr>\n",
       "</tbody>\n",
       "</table>\n"
      ],
      "text/latex": [
       "\\begin{tabular}{r|llllll}\n",
       " Ozone & Solar.R & Wind & Temp & Month & Day\\\\\n",
       "\\hline\n",
       "\t 41   & 190  &  7.4 & 67   & 5    & 1   \\\\\n",
       "\t 36   & 118  &  8.0 & 72   & 5    & 2   \\\\\n",
       "\t 12   & 149  & 12.6 & 74   & 5    & 3   \\\\\n",
       "\t 18   & 313  & 11.5 & 62   & 5    & 4   \\\\\n",
       "\t NA   &  NA  & 14.3 & 56   & 5    & 5   \\\\\n",
       "\t 28   &  NA  & 14.9 & 66   & 5    & 6   \\\\\n",
       "\\end{tabular}\n"
      ],
      "text/markdown": [
       "\n",
       "Ozone | Solar.R | Wind | Temp | Month | Day | \n",
       "|---|---|---|---|---|---|\n",
       "| 41   | 190  |  7.4 | 67   | 5    | 1    | \n",
       "| 36   | 118  |  8.0 | 72   | 5    | 2    | \n",
       "| 12   | 149  | 12.6 | 74   | 5    | 3    | \n",
       "| 18   | 313  | 11.5 | 62   | 5    | 4    | \n",
       "| NA   |  NA  | 14.3 | 56   | 5    | 5    | \n",
       "| 28   |  NA  | 14.9 | 66   | 5    | 6    | \n",
       "\n",
       "\n"
      ],
      "text/plain": [
       "  Ozone Solar.R Wind Temp Month Day\n",
       "1 41    190      7.4 67   5     1  \n",
       "2 36    118      8.0 72   5     2  \n",
       "3 12    149     12.6 74   5     3  \n",
       "4 18    313     11.5 62   5     4  \n",
       "5 NA     NA     14.3 56   5     5  \n",
       "6 28     NA     14.9 66   5     6  "
      ]
     },
     "metadata": {},
     "output_type": "display_data"
    },
    {
     "name": "stdout",
     "output_type": "stream",
     "text": [
      "'data.frame':\t153 obs. of  6 variables:\n",
      " $ Ozone  : int  41 36 12 18 NA 28 23 19 8 NA ...\n",
      " $ Solar.R: int  190 118 149 313 NA NA 299 99 19 194 ...\n",
      " $ Wind   : num  7.4 8 12.6 11.5 14.3 14.9 8.6 13.8 20.1 8.6 ...\n",
      " $ Temp   : int  67 72 74 62 56 66 65 59 61 69 ...\n",
      " $ Month  : int  5 5 5 5 5 5 5 5 5 5 ...\n",
      " $ Day    : int  1 2 3 4 5 6 7 8 9 10 ...\n"
     ]
    },
    {
     "data": {
      "text/plain": [
       "     Ozone           Solar.R           Wind             Temp      \n",
       " Min.   :  1.00   Min.   :  7.0   Min.   : 1.700   Min.   :56.00  \n",
       " 1st Qu.: 18.00   1st Qu.:115.8   1st Qu.: 7.400   1st Qu.:72.00  \n",
       " Median : 31.50   Median :205.0   Median : 9.700   Median :79.00  \n",
       " Mean   : 42.13   Mean   :185.9   Mean   : 9.958   Mean   :77.88  \n",
       " 3rd Qu.: 63.25   3rd Qu.:258.8   3rd Qu.:11.500   3rd Qu.:85.00  \n",
       " Max.   :168.00   Max.   :334.0   Max.   :20.700   Max.   :97.00  \n",
       " NA's   :37       NA's   :7                                       \n",
       "     Month            Day      \n",
       " Min.   :5.000   Min.   : 1.0  \n",
       " 1st Qu.:6.000   1st Qu.: 8.0  \n",
       " Median :7.000   Median :16.0  \n",
       " Mean   :6.993   Mean   :15.8  \n",
       " 3rd Qu.:8.000   3rd Qu.:23.0  \n",
       " Max.   :9.000   Max.   :31.0  \n",
       "                               "
      ]
     },
     "metadata": {},
     "output_type": "display_data"
    }
   ],
   "source": [
    "head(airquality)\n",
    "str(airquality)\n",
    "summary(airquality)"
   ]
  },
  {
   "cell_type": "code",
   "execution_count": 26,
   "metadata": {},
   "outputs": [
    {
     "data": {
      "text/html": [
       "<table>\n",
       "<tbody>\n",
       "\t<tr><td> 0.3224651  </td><td>-0.08761693 </td><td>-0.99520418 </td><td> 0.23452821 </td><td>-0.9460428  </td><td>-0.583196338</td><td> 0.9135911  </td><td> 0.9657726  </td><td>-1.1018537  </td><td>-0.67338083 </td></tr>\n",
       "\t<tr><td>-1.1890240  </td><td> 0.28742989 </td><td> 0.42524555 </td><td>-1.80797913 </td><td> 0.3359243  </td><td>-0.447489651</td><td> 2.5472211  </td><td>-0.5066261  </td><td> 0.1798737  </td><td>-2.09040646 </td></tr>\n",
       "\t<tr><td> 0.5624011  </td><td>-0.02908081 </td><td> 0.43003605 </td><td> 0.19514651 </td><td> 1.2551638  </td><td>-1.860491198</td><td>-0.5708585  </td><td>-0.3990046  </td><td>-1.1366324  </td><td> 0.43932996 </td></tr>\n",
       "\t<tr><td> 0.3029516  </td><td>-0.73894947 </td><td>-0.98489419 </td><td> 0.92537094 </td><td> 0.2240087  </td><td> 0.620539166</td><td> 1.1611751  </td><td>-0.5297490  </td><td> 1.0546257  </td><td>-1.60055938 </td></tr>\n",
       "\t<tr><td>-0.0826095  </td><td> 1.28299977 </td><td> 0.47954139 </td><td>-0.25140095 </td><td>-1.3835485  </td><td>-0.643160218</td><td> 1.0914366  </td><td>-1.1275186  </td><td>-1.0800564  </td><td>-1.99793868 </td></tr>\n",
       "\t<tr><td> 0.4952679  </td><td> 0.51620673 </td><td>-0.09085114 </td><td>-1.40218347 </td><td> 2.1428503  </td><td>-0.681924665</td><td> 0.3172317  </td><td> 1.2385441  </td><td>-0.7215272  </td><td> 0.60859786 </td></tr>\n",
       "\t<tr><td> 1.1443858  </td><td> 1.59405122 </td><td>-0.46852237 </td><td>-0.08768675 </td><td>-2.7586843  </td><td>-0.364194702</td><td> 0.4047352  </td><td>-0.8350672  </td><td> 1.5347316  </td><td>-0.72384715 </td></tr>\n",
       "\t<tr><td>-0.8653616  </td><td> 0.34365435 </td><td> 0.75294491 </td><td> 0.31065643 </td><td>-0.3222363  </td><td>-0.458432617</td><td>-1.1591492  </td><td>-0.5172151  </td><td> 1.0955425  </td><td>-0.77780712 </td></tr>\n",
       "\t<tr><td> 0.5950644  </td><td> 1.40658632 </td><td>-0.01643124 </td><td> 0.44869559 </td><td>-1.7402398  </td><td> 0.008885008</td><td> 0.9629353  </td><td>-0.3793199  </td><td>-0.4680006  </td><td>-0.06496121 </td></tr>\n",
       "\t<tr><td>-0.2593094  </td><td> 0.97226194 </td><td>-0.37797679 </td><td>-1.49115488 </td><td> 0.7072622  </td><td> 0.719969054</td><td> 1.2234446  </td><td>-1.1862965  </td><td>-0.3964510  </td><td>-0.17306490 </td></tr>\n",
       "</tbody>\n",
       "</table>\n"
      ],
      "text/latex": [
       "\\begin{tabular}{llllllllll}\n",
       "\t  0.3224651   & -0.08761693  & -0.99520418  &  0.23452821  & -0.9460428   & -0.583196338 &  0.9135911   &  0.9657726   & -1.1018537   & -0.67338083 \\\\\n",
       "\t -1.1890240   &  0.28742989  &  0.42524555  & -1.80797913  &  0.3359243   & -0.447489651 &  2.5472211   & -0.5066261   &  0.1798737   & -2.09040646 \\\\\n",
       "\t  0.5624011   & -0.02908081  &  0.43003605  &  0.19514651  &  1.2551638   & -1.860491198 & -0.5708585   & -0.3990046   & -1.1366324   &  0.43932996 \\\\\n",
       "\t  0.3029516   & -0.73894947  & -0.98489419  &  0.92537094  &  0.2240087   &  0.620539166 &  1.1611751   & -0.5297490   &  1.0546257   & -1.60055938 \\\\\n",
       "\t -0.0826095   &  1.28299977  &  0.47954139  & -0.25140095  & -1.3835485   & -0.643160218 &  1.0914366   & -1.1275186   & -1.0800564   & -1.99793868 \\\\\n",
       "\t  0.4952679   &  0.51620673  & -0.09085114  & -1.40218347  &  2.1428503   & -0.681924665 &  0.3172317   &  1.2385441   & -0.7215272   &  0.60859786 \\\\\n",
       "\t  1.1443858   &  1.59405122  & -0.46852237  & -0.08768675  & -2.7586843   & -0.364194702 &  0.4047352   & -0.8350672   &  1.5347316   & -0.72384715 \\\\\n",
       "\t -0.8653616   &  0.34365435  &  0.75294491  &  0.31065643  & -0.3222363   & -0.458432617 & -1.1591492   & -0.5172151   &  1.0955425   & -0.77780712 \\\\\n",
       "\t  0.5950644   &  1.40658632  & -0.01643124  &  0.44869559  & -1.7402398   &  0.008885008 &  0.9629353   & -0.3793199   & -0.4680006   & -0.06496121 \\\\\n",
       "\t -0.2593094   &  0.97226194  & -0.37797679  & -1.49115488  &  0.7072622   &  0.719969054 &  1.2234446   & -1.1862965   & -0.3964510   & -0.17306490 \\\\\n",
       "\\end{tabular}\n"
      ],
      "text/markdown": [
       "\n",
       "|  0.3224651   | -0.08761693  | -0.99520418  |  0.23452821  | -0.9460428   | -0.583196338 |  0.9135911   |  0.9657726   | -1.1018537   | -0.67338083  | \n",
       "| -1.1890240   |  0.28742989  |  0.42524555  | -1.80797913  |  0.3359243   | -0.447489651 |  2.5472211   | -0.5066261   |  0.1798737   | -2.09040646  | \n",
       "|  0.5624011   | -0.02908081  |  0.43003605  |  0.19514651  |  1.2551638   | -1.860491198 | -0.5708585   | -0.3990046   | -1.1366324   |  0.43932996  | \n",
       "|  0.3029516   | -0.73894947  | -0.98489419  |  0.92537094  |  0.2240087   |  0.620539166 |  1.1611751   | -0.5297490   |  1.0546257   | -1.60055938  | \n",
       "| -0.0826095   |  1.28299977  |  0.47954139  | -0.25140095  | -1.3835485   | -0.643160218 |  1.0914366   | -1.1275186   | -1.0800564   | -1.99793868  | \n",
       "|  0.4952679   |  0.51620673  | -0.09085114  | -1.40218347  |  2.1428503   | -0.681924665 |  0.3172317   |  1.2385441   | -0.7215272   |  0.60859786  | \n",
       "|  1.1443858   |  1.59405122  | -0.46852237  | -0.08768675  | -2.7586843   | -0.364194702 |  0.4047352   | -0.8350672   |  1.5347316   | -0.72384715  | \n",
       "| -0.8653616   |  0.34365435  |  0.75294491  |  0.31065643  | -0.3222363   | -0.458432617 | -1.1591492   | -0.5172151   |  1.0955425   | -0.77780712  | \n",
       "|  0.5950644   |  1.40658632  | -0.01643124  |  0.44869559  | -1.7402398   |  0.008885008 |  0.9629353   | -0.3793199   | -0.4680006   | -0.06496121  | \n",
       "| -0.2593094   |  0.97226194  | -0.37797679  | -1.49115488  |  0.7072622   |  0.719969054 |  1.2234446   | -1.1862965   | -0.3964510   | -0.17306490  | \n",
       "\n",
       "\n"
      ],
      "text/plain": [
       "      [,1]       [,2]        [,3]        [,4]        [,5]       [,6]        \n",
       " [1,]  0.3224651 -0.08761693 -0.99520418  0.23452821 -0.9460428 -0.583196338\n",
       " [2,] -1.1890240  0.28742989  0.42524555 -1.80797913  0.3359243 -0.447489651\n",
       " [3,]  0.5624011 -0.02908081  0.43003605  0.19514651  1.2551638 -1.860491198\n",
       " [4,]  0.3029516 -0.73894947 -0.98489419  0.92537094  0.2240087  0.620539166\n",
       " [5,] -0.0826095  1.28299977  0.47954139 -0.25140095 -1.3835485 -0.643160218\n",
       " [6,]  0.4952679  0.51620673 -0.09085114 -1.40218347  2.1428503 -0.681924665\n",
       " [7,]  1.1443858  1.59405122 -0.46852237 -0.08768675 -2.7586843 -0.364194702\n",
       " [8,] -0.8653616  0.34365435  0.75294491  0.31065643 -0.3222363 -0.458432617\n",
       " [9,]  0.5950644  1.40658632 -0.01643124  0.44869559 -1.7402398  0.008885008\n",
       "[10,] -0.2593094  0.97226194 -0.37797679 -1.49115488  0.7072622  0.719969054\n",
       "      [,7]       [,8]       [,9]       [,10]      \n",
       " [1,]  0.9135911  0.9657726 -1.1018537 -0.67338083\n",
       " [2,]  2.5472211 -0.5066261  0.1798737 -2.09040646\n",
       " [3,] -0.5708585 -0.3990046 -1.1366324  0.43932996\n",
       " [4,]  1.1611751 -0.5297490  1.0546257 -1.60055938\n",
       " [5,]  1.0914366 -1.1275186 -1.0800564 -1.99793868\n",
       " [6,]  0.3172317  1.2385441 -0.7215272  0.60859786\n",
       " [7,]  0.4047352 -0.8350672  1.5347316 -0.72384715\n",
       " [8,] -1.1591492 -0.5172151  1.0955425 -0.77780712\n",
       " [9,]  0.9629353 -0.3793199 -0.4680006 -0.06496121\n",
       "[10,]  1.2234446 -1.1862965 -0.3964510 -0.17306490"
      ]
     },
     "metadata": {},
     "output_type": "display_data"
    },
    {
     "name": "stdout",
     "output_type": "stream",
     "text": [
      " num [1:10, 1:10] 0.3225 -1.189 0.5624 0.303 -0.0826 ...\n"
     ]
    },
    {
     "data": {
      "text/plain": [
       "       V1                V2                 V3                 V4          \n",
       " Min.   :-1.1890   Min.   :-0.73895   Min.   :-0.99520   Min.   :-1.80798  \n",
       " 1st Qu.:-0.2151   1st Qu.: 0.05005   1st Qu.:-0.44589   1st Qu.:-1.11449  \n",
       " Median : 0.3127   Median : 0.42993   Median :-0.05364   Median : 0.05373  \n",
       " Mean   : 0.1026   Mean   : 0.55475   Mean   :-0.08461   Mean   :-0.29260  \n",
       " 3rd Qu.: 0.5456   3rd Qu.: 1.20532   3rd Qu.: 0.42884   3rd Qu.: 0.29162  \n",
       " Max.   : 1.1444   Max.   : 1.59405   Max.   : 0.75294   Max.   : 0.92537  \n",
       "       V5                 V6                 V7                V8         \n",
       " Min.   :-2.75868   Min.   :-1.86049   Min.   :-1.1591   Min.   :-1.1863  \n",
       " 1st Qu.:-1.27417   1st Qu.:-0.62817   1st Qu.: 0.3391   1st Qu.:-0.7587  \n",
       " Median :-0.04911   Median :-0.45296   Median : 0.9383   Median :-0.5119  \n",
       " Mean   :-0.24855   Mean   :-0.36895   Mean   : 0.6892   Mean   :-0.3276  \n",
       " 3rd Qu.: 0.61443   3rd Qu.:-0.08438   3rd Qu.: 1.1437   3rd Qu.:-0.3842  \n",
       " Max.   : 2.14285   Max.   : 0.71997   Max.   : 2.5472   Max.   : 1.2385  \n",
       "       V9               V10          \n",
       " Min.   :-1.1366   Min.   :-2.09041  \n",
       " 1st Qu.:-0.9904   1st Qu.:-1.39487  \n",
       " Median :-0.4322   Median :-0.69861  \n",
       " Mean   :-0.1040   Mean   :-0.70540  \n",
       " 3rd Qu.: 0.8359   3rd Qu.:-0.09199  \n",
       " Max.   : 1.5347   Max.   : 0.60860  "
      ]
     },
     "metadata": {},
     "output_type": "display_data"
    }
   ],
   "source": [
    "m1 <- matrix(rnorm(100), 10, 10)\n",
    "m1\n",
    "str(m1)\n",
    "summary(m1)"
   ]
  },
  {
   "cell_type": "code",
   "execution_count": null,
   "metadata": {},
   "outputs": [],
   "source": []
  }
 ],
 "metadata": {
  "kernelspec": {
   "display_name": "R",
   "language": "R",
   "name": "ir"
  },
  "language_info": {
   "codemirror_mode": "r",
   "file_extension": ".r",
   "mimetype": "text/x-r-source",
   "name": "R",
   "pygments_lexer": "r",
   "version": "3.4.4"
  }
 },
 "nbformat": 4,
 "nbformat_minor": 2
}
