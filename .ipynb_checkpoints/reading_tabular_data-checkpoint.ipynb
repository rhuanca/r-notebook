{
 "cells": [
  {
   "cell_type": "markdown",
   "metadata": {},
   "source": [
    "# Reading Tabular Data"
   ]
  },
  {
   "cell_type": "code",
   "execution_count": 16,
   "metadata": {},
   "outputs": [
    {
     "ename": "ERROR",
     "evalue": "Error in scan(file = file, what = what, sep = sep, quote = quote, dec = dec, : line 1 did not have 4 elements\n",
     "output_type": "error",
     "traceback": [
      "Error in scan(file = file, what = what, sep = sep, quote = quote, dec = dec, : line 1 did not have 4 elements\nTraceback:\n",
      "1. read.table(\"data1.csv\", header = TRUE, sep = \",\")",
      "2. scan(file = file, what = what, sep = sep, quote = quote, dec = dec, \n .     nmax = nrows, skip = 0, na.strings = na.strings, quiet = TRUE, \n .     fill = fill, strip.white = strip.white, blank.lines.skip = blank.lines.skip, \n .     multi.line = FALSE, comment.char = comment.char, allowEscapes = allowEscapes, \n .     flush = flush, encoding = encoding, skipNul = skipNul)"
     ]
    }
   ],
   "source": [
    "data1 <- read.table(\"data1.csv\",header=TRUE,sep=',',comment.char='#')\n",
    "print(data1)"
   ]
  },
  {
   "cell_type": "code",
   "execution_count": null,
   "metadata": {},
   "outputs": [],
   "source": []
  },
  {
   "cell_type": "code",
   "execution_count": null,
   "metadata": {},
   "outputs": [],
   "source": []
  },
  {
   "cell_type": "code",
   "execution_count": null,
   "metadata": {},
   "outputs": [],
   "source": []
  }
 ],
 "metadata": {
  "kernelspec": {
   "display_name": "R",
   "language": "R",
   "name": "ir"
  },
  "language_info": {
   "codemirror_mode": "r",
   "file_extension": ".r",
   "mimetype": "text/x-r-source",
   "name": "R",
   "pygments_lexer": "r",
   "version": "3.4.4"
  }
 },
 "nbformat": 4,
 "nbformat_minor": 2
}
