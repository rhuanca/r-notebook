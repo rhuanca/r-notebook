{
 "cells": [
  {
   "cell_type": "markdown",
   "metadata": {},
   "source": [
    "# Subsetting - Part 2"
   ]
  },
  {
   "cell_type": "markdown",
   "metadata": {},
   "source": [
    "## Partial Matching\n",
    "It takes advantage of the $ sign that helps find properties based on if the request name matches on of the elements names or at least starts with it."
   ]
  },
  {
   "cell_type": "code",
   "execution_count": 14,
   "metadata": {},
   "outputs": [
    {
     "name": "stdout",
     "output_type": "stream",
     "text": [
      "$counts\n",
      "[1] 1 2 3 4 5\n",
      "\n",
      "[1] 1 2 3 4 5\n"
     ]
    },
    {
     "ename": "ERROR",
     "evalue": "Error in x1[[c]]: invalid subscript type 'builtin'\n",
     "output_type": "error",
     "traceback": [
      "Error in x1[[c]]: invalid subscript type 'builtin'\nTraceback:\n",
      "1. print(x1[[c]])"
     ]
    }
   ],
   "source": [
    "x1 <- list(counts = 1:5)\n",
    "print(x1)\n",
    "print(x1$c)\n",
    "# folling line will throw an error\n",
    "print(x1[[c]])\n"
   ]
  },
  {
   "cell_type": "code",
   "execution_count": 22,
   "metadata": {},
   "outputs": [
    {
     "name": "stdout",
     "output_type": "stream",
     "text": [
      "[1] 1 2 3 4 5\n"
     ]
    }
   ],
   "source": [
    "# thins line will work\n",
    "print(x1[[\"c\", exact=FALSE]])"
   ]
  },
  {
   "cell_type": "markdown",
   "metadata": {},
   "source": [
    "## Removing NA Values\n",
    "we are going to use complete.cases to filter NA values"
   ]
  },
  {
   "cell_type": "code",
   "execution_count": 21,
   "metadata": {},
   "outputs": [
    {
     "name": "stdout",
     "output_type": "stream",
     "text": [
      "[1]  4  5 NA  7 NA  6\n",
      "[1] FALSE FALSE  TRUE FALSE  TRUE FALSE\n",
      "[1] 4 5 7 6\n"
     ]
    }
   ],
   "source": [
    "# filtering NAs\n",
    "x2 <- c(4,5,NA,7,NA,6)\n",
    "print(x2)\n",
    "bad <- is.na(x2)\n",
    "print(bad)\n",
    "print(x2[!bad])"
   ]
  },
  {
   "cell_type": "code",
   "execution_count": 39,
   "metadata": {},
   "outputs": [
    {
     "data": {
      "text/html": [
       "<ol class=list-inline>\n",
       "\t<li>4</li>\n",
       "\t<li>5</li>\n",
       "\t<li>&lt;NA&gt;</li>\n",
       "\t<li>5</li>\n",
       "\t<li>&lt;NA&gt;</li>\n",
       "\t<li>&lt;NA&gt;</li>\n",
       "\t<li>9</li>\n",
       "</ol>\n"
      ],
      "text/latex": [
       "\\begin{enumerate*}\n",
       "\\item 4\n",
       "\\item 5\n",
       "\\item <NA>\n",
       "\\item 5\n",
       "\\item <NA>\n",
       "\\item <NA>\n",
       "\\item 9\n",
       "\\end{enumerate*}\n"
      ],
      "text/markdown": [
       "1. 4\n",
       "2. 5\n",
       "3. &lt;NA&gt;\n",
       "4. 5\n",
       "5. &lt;NA&gt;\n",
       "6. &lt;NA&gt;\n",
       "7. 9\n",
       "\n",
       "\n"
      ],
      "text/plain": [
       "[1]  4  5 NA  5 NA NA  9"
      ]
     },
     "metadata": {},
     "output_type": "display_data"
    },
    {
     "data": {
      "text/html": [
       "<ol class=list-inline>\n",
       "\t<li>1</li>\n",
       "\t<li>2</li>\n",
       "\t<li>5</li>\n",
       "\t<li>6</li>\n",
       "\t<li>&lt;NA&gt;</li>\n",
       "\t<li>7</li>\n",
       "\t<li>8</li>\n",
       "</ol>\n"
      ],
      "text/latex": [
       "\\begin{enumerate*}\n",
       "\\item 1\n",
       "\\item 2\n",
       "\\item 5\n",
       "\\item 6\n",
       "\\item <NA>\n",
       "\\item 7\n",
       "\\item 8\n",
       "\\end{enumerate*}\n"
      ],
      "text/markdown": [
       "1. 1\n",
       "2. 2\n",
       "3. 5\n",
       "4. 6\n",
       "5. &lt;NA&gt;\n",
       "6. 7\n",
       "7. 8\n",
       "\n",
       "\n"
      ],
      "text/plain": [
       "[1]  1  2  5  6 NA  7  8"
      ]
     },
     "metadata": {},
     "output_type": "display_data"
    },
    {
     "data": {
      "text/html": [
       "<ol class=list-inline>\n",
       "\t<li>TRUE</li>\n",
       "\t<li>TRUE</li>\n",
       "\t<li>FALSE</li>\n",
       "\t<li>TRUE</li>\n",
       "\t<li>FALSE</li>\n",
       "\t<li>FALSE</li>\n",
       "\t<li>TRUE</li>\n",
       "</ol>\n"
      ],
      "text/latex": [
       "\\begin{enumerate*}\n",
       "\\item TRUE\n",
       "\\item TRUE\n",
       "\\item FALSE\n",
       "\\item TRUE\n",
       "\\item FALSE\n",
       "\\item FALSE\n",
       "\\item TRUE\n",
       "\\end{enumerate*}\n"
      ],
      "text/markdown": [
       "1. TRUE\n",
       "2. TRUE\n",
       "3. FALSE\n",
       "4. TRUE\n",
       "5. FALSE\n",
       "6. FALSE\n",
       "7. TRUE\n",
       "\n",
       "\n"
      ],
      "text/plain": [
       "[1]  TRUE  TRUE FALSE  TRUE FALSE FALSE  TRUE"
      ]
     },
     "metadata": {},
     "output_type": "display_data"
    },
    {
     "data": {
      "text/html": [
       "<ol class=list-inline>\n",
       "\t<li>4</li>\n",
       "\t<li>5</li>\n",
       "\t<li>5</li>\n",
       "\t<li>9</li>\n",
       "</ol>\n"
      ],
      "text/latex": [
       "\\begin{enumerate*}\n",
       "\\item 4\n",
       "\\item 5\n",
       "\\item 5\n",
       "\\item 9\n",
       "\\end{enumerate*}\n"
      ],
      "text/markdown": [
       "1. 4\n",
       "2. 5\n",
       "3. 5\n",
       "4. 9\n",
       "\n",
       "\n"
      ],
      "text/plain": [
       "[1] 4 5 5 9"
      ]
     },
     "metadata": {},
     "output_type": "display_data"
    }
   ],
   "source": [
    "# working with multiple vector.\n",
    "# we need to filter all mising values\n",
    "x3 <- c(4,5,NA,5,NA,NA,9)\n",
    "x4 <- c(1,2,5,6,NA,7,8)\n",
    "x3\n",
    "x4\n",
    "good <- complete.cases(x3, x4)\n",
    "good\n",
    "x5 <- x3[good]\n",
    "x5"
   ]
  },
  {
   "cell_type": "markdown",
   "metadata": {},
   "source": [
    "now with data frames..."
   ]
  },
  {
   "cell_type": "code",
   "execution_count": 42,
   "metadata": {},
   "outputs": [
    {
     "data": {
      "text/html": [
       "<table>\n",
       "<thead><tr><th scope=col>Source</th><th scope=col>Year</th><th scope=col>Mean</th></tr></thead>\n",
       "<tbody>\n",
       "\t<tr><td>GCAG   </td><td>2016   </td><td>0.9363 </td></tr>\n",
       "\t<tr><td>GISTEMP</td><td>2016   </td><td>0.9900 </td></tr>\n",
       "\t<tr><td>GCAG   </td><td>2015   </td><td>    NA </td></tr>\n",
       "\t<tr><td>GISTEMP</td><td>2015   </td><td>    NA </td></tr>\n",
       "\t<tr><td>GCAG   </td><td>2014   </td><td>0.7408 </td></tr>\n",
       "\t<tr><td>GISTEMP</td><td>2014   </td><td>0.7400 </td></tr>\n",
       "\t<tr><td>GCAG   </td><td>2013   </td><td>0.6679 </td></tr>\n",
       "\t<tr><td>GISTEMP</td><td>2013   </td><td>0.6500 </td></tr>\n",
       "\t<tr><td>GCAG   </td><td>2012   </td><td>0.6240 </td></tr>\n",
       "\t<tr><td>GISTEMP</td><td>2012   </td><td>0.6300 </td></tr>\n",
       "\t<tr><td>GCAG   </td><td>2011   </td><td>0.5788 </td></tr>\n",
       "\t<tr><td>GISTEMP</td><td>2011   </td><td>0.6000 </td></tr>\n",
       "\t<tr><td>GCAG   </td><td>2010   </td><td>0.7014 </td></tr>\n",
       "\t<tr><td>GISTEMP</td><td>2010   </td><td>0.7100 </td></tr>\n",
       "\t<tr><td>GCAG   </td><td>2009   </td><td>0.6367 </td></tr>\n",
       "\t<tr><td>GISTEMP</td><td>2009   </td><td>0.6400 </td></tr>\n",
       "\t<tr><td>GCAG   </td><td>2008   </td><td>0.5419 </td></tr>\n",
       "\t<tr><td>GISTEMP</td><td>2008   </td><td>0.5400 </td></tr>\n",
       "\t<tr><td>GCAG   </td><td>2007   </td><td>0.6100 </td></tr>\n",
       "\t<tr><td>GISTEMP</td><td>2007   </td><td>0.6600 </td></tr>\n",
       "\t<tr><td>GCAG   </td><td>2006   </td><td>0.6125 </td></tr>\n",
       "\t<tr><td>GISTEMP</td><td>2006   </td><td>0.6300 </td></tr>\n",
       "\t<tr><td>GCAG   </td><td>2005   </td><td>0.6585 </td></tr>\n",
       "\t<tr><td>GISTEMP</td><td>2005   </td><td>0.6900 </td></tr>\n",
       "\t<tr><td>GCAG   </td><td>2004   </td><td>0.5783 </td></tr>\n",
       "\t<tr><td>GISTEMP</td><td>2004   </td><td>0.5500 </td></tr>\n",
       "\t<tr><td>GCAG   </td><td>2003   </td><td>0.6134 </td></tr>\n",
       "\t<tr><td>GISTEMP</td><td>2003   </td><td>0.6200 </td></tr>\n",
       "</tbody>\n",
       "</table>\n"
      ],
      "text/latex": [
       "\\begin{tabular}{r|lll}\n",
       " Source & Year & Mean\\\\\n",
       "\\hline\n",
       "\t GCAG    & 2016    & 0.9363 \\\\\n",
       "\t GISTEMP & 2016    & 0.9900 \\\\\n",
       "\t GCAG    & 2015    &     NA \\\\\n",
       "\t GISTEMP & 2015    &     NA \\\\\n",
       "\t GCAG    & 2014    & 0.7408 \\\\\n",
       "\t GISTEMP & 2014    & 0.7400 \\\\\n",
       "\t GCAG    & 2013    & 0.6679 \\\\\n",
       "\t GISTEMP & 2013    & 0.6500 \\\\\n",
       "\t GCAG    & 2012    & 0.6240 \\\\\n",
       "\t GISTEMP & 2012    & 0.6300 \\\\\n",
       "\t GCAG    & 2011    & 0.5788 \\\\\n",
       "\t GISTEMP & 2011    & 0.6000 \\\\\n",
       "\t GCAG    & 2010    & 0.7014 \\\\\n",
       "\t GISTEMP & 2010    & 0.7100 \\\\\n",
       "\t GCAG    & 2009    & 0.6367 \\\\\n",
       "\t GISTEMP & 2009    & 0.6400 \\\\\n",
       "\t GCAG    & 2008    & 0.5419 \\\\\n",
       "\t GISTEMP & 2008    & 0.5400 \\\\\n",
       "\t GCAG    & 2007    & 0.6100 \\\\\n",
       "\t GISTEMP & 2007    & 0.6600 \\\\\n",
       "\t GCAG    & 2006    & 0.6125 \\\\\n",
       "\t GISTEMP & 2006    & 0.6300 \\\\\n",
       "\t GCAG    & 2005    & 0.6585 \\\\\n",
       "\t GISTEMP & 2005    & 0.6900 \\\\\n",
       "\t GCAG    & 2004    & 0.5783 \\\\\n",
       "\t GISTEMP & 2004    & 0.5500 \\\\\n",
       "\t GCAG    & 2003    & 0.6134 \\\\\n",
       "\t GISTEMP & 2003    & 0.6200 \\\\\n",
       "\\end{tabular}\n"
      ],
      "text/markdown": [
       "\n",
       "Source | Year | Mean | \n",
       "|---|---|---|---|---|---|---|---|---|---|---|---|---|---|---|---|---|---|---|---|---|---|---|---|---|---|---|---|\n",
       "| GCAG    | 2016    | 0.9363  | \n",
       "| GISTEMP | 2016    | 0.9900  | \n",
       "| GCAG    | 2015    |     NA  | \n",
       "| GISTEMP | 2015    |     NA  | \n",
       "| GCAG    | 2014    | 0.7408  | \n",
       "| GISTEMP | 2014    | 0.7400  | \n",
       "| GCAG    | 2013    | 0.6679  | \n",
       "| GISTEMP | 2013    | 0.6500  | \n",
       "| GCAG    | 2012    | 0.6240  | \n",
       "| GISTEMP | 2012    | 0.6300  | \n",
       "| GCAG    | 2011    | 0.5788  | \n",
       "| GISTEMP | 2011    | 0.6000  | \n",
       "| GCAG    | 2010    | 0.7014  | \n",
       "| GISTEMP | 2010    | 0.7100  | \n",
       "| GCAG    | 2009    | 0.6367  | \n",
       "| GISTEMP | 2009    | 0.6400  | \n",
       "| GCAG    | 2008    | 0.5419  | \n",
       "| GISTEMP | 2008    | 0.5400  | \n",
       "| GCAG    | 2007    | 0.6100  | \n",
       "| GISTEMP | 2007    | 0.6600  | \n",
       "| GCAG    | 2006    | 0.6125  | \n",
       "| GISTEMP | 2006    | 0.6300  | \n",
       "| GCAG    | 2005    | 0.6585  | \n",
       "| GISTEMP | 2005    | 0.6900  | \n",
       "| GCAG    | 2004    | 0.5783  | \n",
       "| GISTEMP | 2004    | 0.5500  | \n",
       "| GCAG    | 2003    | 0.6134  | \n",
       "| GISTEMP | 2003    | 0.6200  | \n",
       "\n",
       "\n"
      ],
      "text/plain": [
       "   Source  Year Mean  \n",
       "1  GCAG    2016 0.9363\n",
       "2  GISTEMP 2016 0.9900\n",
       "3  GCAG    2015     NA\n",
       "4  GISTEMP 2015     NA\n",
       "5  GCAG    2014 0.7408\n",
       "6  GISTEMP 2014 0.7400\n",
       "7  GCAG    2013 0.6679\n",
       "8  GISTEMP 2013 0.6500\n",
       "9  GCAG    2012 0.6240\n",
       "10 GISTEMP 2012 0.6300\n",
       "11 GCAG    2011 0.5788\n",
       "12 GISTEMP 2011 0.6000\n",
       "13 GCAG    2010 0.7014\n",
       "14 GISTEMP 2010 0.7100\n",
       "15 GCAG    2009 0.6367\n",
       "16 GISTEMP 2009 0.6400\n",
       "17 GCAG    2008 0.5419\n",
       "18 GISTEMP 2008 0.5400\n",
       "19 GCAG    2007 0.6100\n",
       "20 GISTEMP 2007 0.6600\n",
       "21 GCAG    2006 0.6125\n",
       "22 GISTEMP 2006 0.6300\n",
       "23 GCAG    2005 0.6585\n",
       "24 GISTEMP 2005 0.6900\n",
       "25 GCAG    2004 0.5783\n",
       "26 GISTEMP 2004 0.5500\n",
       "27 GCAG    2003 0.6134\n",
       "28 GISTEMP 2003 0.6200"
      ]
     },
     "metadata": {},
     "output_type": "display_data"
    },
    {
     "data": {
      "text/html": [
       "<table>\n",
       "<thead><tr><th scope=col>Source</th><th scope=col>Year</th><th scope=col>Mean</th></tr></thead>\n",
       "<tbody>\n",
       "\t<tr><td>GCAG   </td><td>2016   </td><td>0.9363 </td></tr>\n",
       "\t<tr><td>GISTEMP</td><td>2016   </td><td>0.9900 </td></tr>\n",
       "\t<tr><td>GCAG   </td><td>2015   </td><td>    NA </td></tr>\n",
       "\t<tr><td>GISTEMP</td><td>2015   </td><td>    NA </td></tr>\n",
       "\t<tr><td>GCAG   </td><td>2014   </td><td>0.7408 </td></tr>\n",
       "\t<tr><td>GISTEMP</td><td>2014   </td><td>0.7400 </td></tr>\n",
       "</tbody>\n",
       "</table>\n"
      ],
      "text/latex": [
       "\\begin{tabular}{r|lll}\n",
       " Source & Year & Mean\\\\\n",
       "\\hline\n",
       "\t GCAG    & 2016    & 0.9363 \\\\\n",
       "\t GISTEMP & 2016    & 0.9900 \\\\\n",
       "\t GCAG    & 2015    &     NA \\\\\n",
       "\t GISTEMP & 2015    &     NA \\\\\n",
       "\t GCAG    & 2014    & 0.7408 \\\\\n",
       "\t GISTEMP & 2014    & 0.7400 \\\\\n",
       "\\end{tabular}\n"
      ],
      "text/markdown": [
       "\n",
       "Source | Year | Mean | \n",
       "|---|---|---|---|---|---|\n",
       "| GCAG    | 2016    | 0.9363  | \n",
       "| GISTEMP | 2016    | 0.9900  | \n",
       "| GCAG    | 2015    |     NA  | \n",
       "| GISTEMP | 2015    |     NA  | \n",
       "| GCAG    | 2014    | 0.7408  | \n",
       "| GISTEMP | 2014    | 0.7400  | \n",
       "\n",
       "\n"
      ],
      "text/plain": [
       "  Source  Year Mean  \n",
       "1 GCAG    2016 0.9363\n",
       "2 GISTEMP 2016 0.9900\n",
       "3 GCAG    2015     NA\n",
       "4 GISTEMP 2015     NA\n",
       "5 GCAG    2014 0.7408\n",
       "6 GISTEMP 2014 0.7400"
      ]
     },
     "metadata": {},
     "output_type": "display_data"
    },
    {
     "data": {
      "text/html": [
       "<ol class=list-inline>\n",
       "\t<li>TRUE</li>\n",
       "\t<li>TRUE</li>\n",
       "\t<li>FALSE</li>\n",
       "\t<li>FALSE</li>\n",
       "\t<li>TRUE</li>\n",
       "\t<li>TRUE</li>\n",
       "</ol>\n"
      ],
      "text/latex": [
       "\\begin{enumerate*}\n",
       "\\item TRUE\n",
       "\\item TRUE\n",
       "\\item FALSE\n",
       "\\item FALSE\n",
       "\\item TRUE\n",
       "\\item TRUE\n",
       "\\end{enumerate*}\n"
      ],
      "text/markdown": [
       "1. TRUE\n",
       "2. TRUE\n",
       "3. FALSE\n",
       "4. FALSE\n",
       "5. TRUE\n",
       "6. TRUE\n",
       "\n",
       "\n"
      ],
      "text/plain": [
       "[1]  TRUE  TRUE FALSE FALSE  TRUE  TRUE"
      ]
     },
     "metadata": {},
     "output_type": "display_data"
    },
    {
     "data": {
      "text/html": [
       "<table>\n",
       "<thead><tr><th></th><th scope=col>Source</th><th scope=col>Year</th><th scope=col>Mean</th></tr></thead>\n",
       "<tbody>\n",
       "\t<tr><th scope=row>1</th><td>GCAG   </td><td>2016   </td><td>0.9363 </td></tr>\n",
       "\t<tr><th scope=row>2</th><td>GISTEMP</td><td>2016   </td><td>0.9900 </td></tr>\n",
       "\t<tr><th scope=row>5</th><td>GCAG   </td><td>2014   </td><td>0.7408 </td></tr>\n",
       "\t<tr><th scope=row>6</th><td>GISTEMP</td><td>2014   </td><td>0.7400 </td></tr>\n",
       "</tbody>\n",
       "</table>\n"
      ],
      "text/latex": [
       "\\begin{tabular}{r|lll}\n",
       "  & Source & Year & Mean\\\\\n",
       "\\hline\n",
       "\t1 & GCAG    & 2016    & 0.9363 \\\\\n",
       "\t2 & GISTEMP & 2016    & 0.9900 \\\\\n",
       "\t5 & GCAG    & 2014    & 0.7408 \\\\\n",
       "\t6 & GISTEMP & 2014    & 0.7400 \\\\\n",
       "\\end{tabular}\n"
      ],
      "text/markdown": [
       "\n",
       "| <!--/--> | Source | Year | Mean | \n",
       "|---|---|---|---|\n",
       "| 1 | GCAG    | 2016    | 0.9363  | \n",
       "| 2 | GISTEMP | 2016    | 0.9900  | \n",
       "| 5 | GCAG    | 2014    | 0.7408  | \n",
       "| 6 | GISTEMP | 2014    | 0.7400  | \n",
       "\n",
       "\n"
      ],
      "text/plain": [
       "  Source  Year Mean  \n",
       "1 GCAG    2016 0.9363\n",
       "2 GISTEMP 2016 0.9900\n",
       "5 GCAG    2014 0.7408\n",
       "6 GISTEMP 2014 0.7400"
      ]
     },
     "metadata": {},
     "output_type": "display_data"
    }
   ],
   "source": [
    "x6 <- read.table(\"global_temp.csv\",sep=\",\",header = TRUE)\n",
    "x6\n",
    "x7 <- x6[1:6,]\n",
    "x7\n",
    "good <- complete.cases(x7)\n",
    "good\n",
    "x8 <- x7[good,]\n",
    "x8"
   ]
  }
 ],
 "metadata": {
  "kernelspec": {
   "display_name": "R",
   "language": "R",
   "name": "ir"
  },
  "language_info": {
   "codemirror_mode": "r",
   "file_extension": ".r",
   "mimetype": "text/x-r-source",
   "name": "R",
   "pygments_lexer": "r",
   "version": "3.4.4"
  }
 },
 "nbformat": 4,
 "nbformat_minor": 2
}
