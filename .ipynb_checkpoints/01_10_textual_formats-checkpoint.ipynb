{
 "cells": [
  {
   "cell_type": "markdown",
   "metadata": {},
   "source": [
    "# Textual Formats"
   ]
  },
  {
   "cell_type": "markdown",
   "metadata": {},
   "source": [
    "* It also contains metadata\n",
    "* some advantages\n",
    "  - readable\n",
    "  - potentially recoverable\n",
    "* some disadvantages\n",
    "  - it may use to much space and compression may be need\n",
    "  "
   ]
  },
  {
   "cell_type": "code",
   "execution_count": 6,
   "metadata": {},
   "outputs": [
    {
     "data": {
      "text/html": [
       "<table>\n",
       "<thead><tr><th scope=col>a</th><th scope=col>b</th></tr></thead>\n",
       "<tbody>\n",
       "\t<tr><td>1</td><td>a</td></tr>\n",
       "</tbody>\n",
       "</table>\n"
      ],
      "text/latex": [
       "\\begin{tabular}{r|ll}\n",
       " a & b\\\\\n",
       "\\hline\n",
       "\t 1 & a\\\\\n",
       "\\end{tabular}\n"
      ],
      "text/markdown": [
       "\n",
       "a | b | \n",
       "|---|\n",
       "| 1 | a | \n",
       "\n",
       "\n"
      ],
      "text/plain": [
       "  a b\n",
       "1 1 a"
      ]
     },
     "metadata": {},
     "output_type": "display_data"
    },
    {
     "name": "stdout",
     "output_type": "stream",
     "text": [
      "structure(list(a = 1, b = structure(1L, .Label = \"a\", class = \"factor\")), .Names = c(\"a\", \n",
      "\"b\"), row.names = c(NA, -1L), class = \"data.frame\")\n"
     ]
    },
    {
     "data": {
      "text/html": [
       "<table>\n",
       "<thead><tr><th scope=col>a</th><th scope=col>b</th></tr></thead>\n",
       "<tbody>\n",
       "\t<tr><td>1</td><td>a</td></tr>\n",
       "</tbody>\n",
       "</table>\n"
      ],
      "text/latex": [
       "\\begin{tabular}{r|ll}\n",
       " a & b\\\\\n",
       "\\hline\n",
       "\t 1 & a\\\\\n",
       "\\end{tabular}\n"
      ],
      "text/markdown": [
       "\n",
       "a | b | \n",
       "|---|\n",
       "| 1 | a | \n",
       "\n",
       "\n"
      ],
      "text/plain": [
       "  a b\n",
       "1 1 a"
      ]
     },
     "metadata": {},
     "output_type": "display_data"
    }
   ],
   "source": [
    "x1 <- data.frame(a=1, b=\"a\")\n",
    "x1\n",
    "dput(x1)\n",
    "# the following line write the dput output to a file\n",
    "dput(x1,\"textual_formats_x1.R\")\n",
    "x2 <- dget(\"textual_formats_x1.R\")\n",
    "x2"
   ]
  },
  {
   "cell_type": "markdown",
   "metadata": {},
   "source": [
    "This is how the file looks:\n",
    "![alt text](01_10_textual_formats_1.png)"
   ]
  },
  {
   "cell_type": "code",
   "execution_count": 12,
   "metadata": {},
   "outputs": [
    {
     "data": {
      "text/html": [
       "'foo'"
      ],
      "text/latex": [
       "'foo'"
      ],
      "text/markdown": [
       "'foo'"
      ],
      "text/plain": [
       "[1] \"foo\""
      ]
     },
     "metadata": {},
     "output_type": "display_data"
    },
    {
     "data": {
      "text/html": [
       "<table>\n",
       "<thead><tr><th scope=col>c</th><th scope=col>d</th></tr></thead>\n",
       "<tbody>\n",
       "\t<tr><td>1</td><td>2</td></tr>\n",
       "</tbody>\n",
       "</table>\n"
      ],
      "text/latex": [
       "\\begin{tabular}{r|ll}\n",
       " c & d\\\\\n",
       "\\hline\n",
       "\t 1 & 2\\\\\n",
       "\\end{tabular}\n"
      ],
      "text/markdown": [
       "\n",
       "c | d | \n",
       "|---|\n",
       "| 1 | 2 | \n",
       "\n",
       "\n"
      ],
      "text/plain": [
       "  c d\n",
       "1 1 2"
      ]
     },
     "metadata": {},
     "output_type": "display_data"
    }
   ],
   "source": [
    "x3 <- \"foo\"\n",
    "x4 <- data.frame(c=1, d=\"2\")\n",
    "# storing object into a sigle file\n",
    "dump(c(\"x3\",\"x4\"), file=\"textual_formats_x1.R\")\n",
    "# deleting current object from session\n",
    "rm(x3,x4)\n",
    "source(\"textual_formats_x1.R\")\n",
    "x3\n",
    "x4"
   ]
  }
 ],
 "metadata": {
  "kernelspec": {
   "display_name": "R",
   "language": "R",
   "name": "ir"
  },
  "language_info": {
   "codemirror_mode": "r",
   "file_extension": ".r",
   "mimetype": "text/x-r-source",
   "name": "R",
   "pygments_lexer": "r",
   "version": "3.4.4"
  }
 },
 "nbformat": 4,
 "nbformat_minor": 2
}
