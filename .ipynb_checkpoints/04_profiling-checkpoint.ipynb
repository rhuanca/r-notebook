{
 "cells": [
  {
   "cell_type": "markdown",
   "metadata": {},
   "source": [
    "# Profiling"
   ]
  },
  {
   "cell_type": "markdown",
   "metadata": {},
   "source": [
    "## system.time"
   ]
  },
  {
   "cell_type": "code",
   "execution_count": 2,
   "metadata": {},
   "outputs": [
    {
     "data": {
      "text/plain": [
       "   user  system elapsed \n",
       "      0       0       0 "
      ]
     },
     "metadata": {},
     "output_type": "display_data"
    }
   ],
   "source": [
    "system.time(1 + 1)"
   ]
  },
  {
   "cell_type": "code",
   "execution_count": 6,
   "metadata": {},
   "outputs": [
    {
     "data": {
      "text/plain": [
       "   user  system elapsed \n",
       "  0.256   0.008   0.263 "
      ]
     },
     "metadata": {},
     "output_type": "display_data"
    }
   ],
   "source": [
    "system.time(for (i in 1:10000000) i + 1)"
   ]
  },
  {
   "cell_type": "code",
   "execution_count": 8,
   "metadata": {},
   "outputs": [
    {
     "data": {
      "text/plain": [
       "   user  system elapsed \n",
       "  0.036   0.000   0.036 "
      ]
     },
     "metadata": {},
     "output_type": "display_data"
    }
   ],
   "source": [
    "f1 <- function(a, b) {\n",
    "    r = 0\n",
    "    for (i in 1:b) {\n",
    "        r<- r + a\n",
    "    }\n",
    "}\n",
    "system.time(f1(3, 1000000))"
   ]
  },
  {
   "cell_type": "code",
   "execution_count": 9,
   "metadata": {},
   "outputs": [
    {
     "data": {
      "text/plain": [
       "   user  system elapsed \n",
       "  0.044   0.004   1.999 "
      ]
     },
     "metadata": {},
     "output_type": "display_data"
    }
   ],
   "source": [
    "## Elapsed time > user time\n",
    "system.time(readLines(\"http://www.wikipedia.org\"))"
   ]
  },
  {
   "cell_type": "code",
   "execution_count": 1,
   "metadata": {},
   "outputs": [
    {
     "data": {
      "text/plain": [
       "   user  system elapsed \n",
       "  2.571   0.008   2.577 "
      ]
     },
     "metadata": {},
     "output_type": "display_data"
    }
   ],
   "source": [
    "## Elapsed time < user time\n",
    "hilbert <- function(n) {\n",
    "    i <- 1:n\n",
    "    1 / outer(i-1,i,\"+\")\n",
    "}\n",
    "x1 <- hilbert(1000)\n",
    "system.time(svd(x1))"
   ]
  },
  {
   "cell_type": "markdown",
   "metadata": {},
   "source": [
    "## RProf"
   ]
  },
  {
   "cell_type": "code",
   "execution_count": 6,
   "metadata": {},
   "outputs": [
    {
     "data": {
      "text/html": [
       "<dl>\n",
       "\t<dt>$by.self</dt>\n",
       "\t\t<dd><table>\n",
       "<thead><tr><th scope=col>self.time</th><th scope=col>self.pct</th><th scope=col>total.time</th><th scope=col>total.pct</th></tr></thead>\n",
       "<tbody>\n",
       "</tbody>\n",
       "</table>\n",
       "</dd>\n",
       "\t<dt>$by.total</dt>\n",
       "\t\t<dd><table>\n",
       "<thead><tr><th scope=col>total.time</th><th scope=col>total.pct</th><th scope=col>self.time</th><th scope=col>self.pct</th></tr></thead>\n",
       "<tbody>\n",
       "</tbody>\n",
       "</table>\n",
       "</dd>\n",
       "\t<dt>$sample.interval</dt>\n",
       "\t\t<dd>0.02</dd>\n",
       "\t<dt>$sampling.time</dt>\n",
       "\t\t<dd>0</dd>\n",
       "</dl>\n"
      ],
      "text/latex": [
       "\\begin{description}\n",
       "\\item[\\$by.self] \\begin{tabular}{r|llll}\n",
       " self.time & self.pct & total.time & total.pct\\\\\n",
       "\\hline\n",
       "\\end{tabular}\n",
       "\n",
       "\\item[\\$by.total] \\begin{tabular}{r|llll}\n",
       " total.time & total.pct & self.time & self.pct\\\\\n",
       "\\hline\n",
       "\\end{tabular}\n",
       "\n",
       "\\item[\\$sample.interval] 0.02\n",
       "\\item[\\$sampling.time] 0\n",
       "\\end{description}\n"
      ],
      "text/markdown": [
       "$by.self\n",
       ":   \n",
       "self.time | self.pct | total.time | total.pct | \n",
       "||\n",
       "\n",
       "\n",
       "\n",
       "$by.total\n",
       ":   \n",
       "total.time | total.pct | self.time | self.pct | \n",
       "||\n",
       "\n",
       "\n",
       "\n",
       "$sample.interval\n",
       ":   0.02\n",
       "$sampling.time\n",
       ":   0\n",
       "\n",
       "\n"
      ],
      "text/plain": [
       "$by.self\n",
       "[1] self.time  self.pct   total.time total.pct \n",
       "<0 rows> (or 0-length row.names)\n",
       "\n",
       "$by.total\n",
       "[1] total.time total.pct  self.time  self.pct  \n",
       "<0 rows> (or 0-length row.names)\n",
       "\n",
       "$sample.interval\n",
       "[1] 0.02\n",
       "\n",
       "$sampling.time\n",
       "[1] 0\n"
      ]
     },
     "metadata": {},
     "output_type": "display_data"
    }
   ],
   "source": [
    "Rprof()\n",
    "hilbert <- function(n) {\n",
    "    i <- 1:n\n",
    "    1 / outer(i-1,i,\"+\")\n",
    "}\n",
    "x1 <- hilbert(1000)\n",
    "Rprof(NULL)\n",
    "summaryRprof()"
   ]
  },
  {
   "cell_type": "code",
   "execution_count": 4,
   "metadata": {},
   "outputs": [],
   "source": [
    "?lm"
   ]
  }
 ],
 "metadata": {
  "kernelspec": {
   "display_name": "R",
   "language": "R",
   "name": "ir"
  },
  "language_info": {
   "codemirror_mode": "r",
   "file_extension": ".r",
   "mimetype": "text/x-r-source",
   "name": "R",
   "pygments_lexer": "r",
   "version": "3.4.4"
  }
 },
 "nbformat": 4,
 "nbformat_minor": 2
}
