{
 "cells": [
  {
   "cell_type": "markdown",
   "metadata": {},
   "source": [
    "# Subsetting and Sorting"
   ]
  },
  {
   "cell_type": "code",
   "execution_count": 7,
   "metadata": {},
   "outputs": [
    {
     "name": "stdout",
     "output_type": "stream",
     "text": [
      "  var1 var2 var3\n",
      "1    2    8   15\n",
      "2    3    7   12\n",
      "3    5    6   14\n",
      "4    1   10   11\n",
      "5    4    9   13\n",
      "  var1 var2 var3\n",
      "1    2    8   15\n",
      "4    1   10   11\n",
      "2    3    7   12\n",
      "3    5    6   14\n",
      "5    4    9   13\n",
      "  var1 var2 var3\n",
      "1    2   NA   15\n",
      "4    1   10   11\n",
      "2    3   NA   12\n",
      "3    5    6   14\n",
      "5    4    9   13\n"
     ]
    }
   ],
   "source": [
    "# First let's prepare the data\n",
    "set.seed(13435)\n",
    "x1 <- data.frame(\"var1\"=sample(1:5),\"var2\"=sample(6:10),\"var3\"=sample(11:15))\n",
    "print(x1)\n",
    "x1 <- x1[sample(1:5),];\n",
    "print(x1)\n",
    "x1$var2[c(1,3)] = NA\n",
    "print(x1)"
   ]
  },
  {
   "cell_type": "code",
   "execution_count": 10,
   "metadata": {},
   "outputs": [
    {
     "name": "stdout",
     "output_type": "stream",
     "text": [
      "[1] 2 1 3 5 4\n",
      "[1] 2 1 3 5 4\n",
      "[1] NA 10\n"
     ]
    }
   ],
   "source": [
    "# now let's subset it\n",
    "\n",
    "# get first col\n",
    "print(x1[,1])\n",
    "\n",
    "# get col by name\n",
    "print(x1[,\"var1\"])\n",
    "\n",
    "# get first and second row values of col names var2\n",
    "print(x1[1:2,\"var2\"])"
   ]
  },
  {
   "cell_type": "code",
   "execution_count": 18,
   "metadata": {},
   "outputs": [
    {
     "name": "stdout",
     "output_type": "stream",
     "text": [
      "  var1 var2 var3\n",
      "1    2   NA   15\n",
      "2    3   NA   12\n",
      "  var1 var2 var3\n",
      "1    2   NA   15\n",
      "4    1   10   11\n",
      "2    3   NA   12\n",
      "3    5    6   14\n",
      "5    4    9   13\n",
      "     var1 var2 var3\n",
      "NA     NA   NA   NA\n",
      "4       1   10   11\n",
      "NA.1   NA   NA   NA\n",
      "5       4    9   13\n",
      "  var1 var2 var3\n",
      "4    1   10   11\n",
      "5    4    9   13\n"
     ]
    }
   ],
   "source": [
    "# let's apply logical operations\n",
    "\n",
    "# look for rows where \n",
    "# var1 column values are less or equal to 3\n",
    "# AND var3 column values are greater than 11\n",
    "print(x1[(x1$var1 <= 3 & x1$var3 > 11),])\n",
    "\n",
    "# look for rows where\n",
    "# var1 column values are less or equal to 3\n",
    "# OR column values are greater than 11\n",
    "print(x1[(x1$var1 <=3 | x1$var3 > 11),])\n",
    "\n",
    "# filtering missing values\n",
    "# without witch\n",
    "print(x1[x1$var2 > 8,])\n",
    "# with witch\n",
    "print(x1[which(x1$var2 > 8),])"
   ]
  },
  {
   "cell_type": "code",
   "execution_count": 25,
   "metadata": {},
   "outputs": [
    {
     "name": "stdout",
     "output_type": "stream",
     "text": [
      "[1] 1 2 3 4 5\n",
      "[1] 5 4 3 2 1\n",
      "[1]  6  9 10 NA NA\n"
     ]
    }
   ],
   "source": [
    "# now sorting\n",
    "\n",
    "# getting a sorted list of column var1\n",
    "# by default this is ascending \n",
    "print(sort(x1$var1))\n",
    "\n",
    "# getting descending sorted list of column var1\n",
    "print(sort(x1$var1, decreasing=TRUE))\n",
    "\n",
    "\n",
    "# getting a sorted list of column var2 where missing values are last\n",
    "print(sort(x1$var2, na.last=TRUE))"
   ]
  },
  {
   "cell_type": "code",
   "execution_count": 33,
   "metadata": {},
   "outputs": [
    {
     "name": "stdout",
     "output_type": "stream",
     "text": [
      "  var1 var2 var3\n",
      "4    1   10   11\n",
      "1    2   NA   15\n",
      "2    3   NA   12\n",
      "5    4    9   13\n",
      "3    5    6   14\n",
      "  var1 var2 var3\n",
      "4    1   10   11\n",
      "1    2   NA   15\n",
      "2    3   NA   12\n",
      "5    4    9   13\n",
      "3    5    6   14\n"
     ]
    }
   ],
   "source": [
    "# applying ordering\n",
    "\n",
    "# order rows based on column var1\n",
    "print(x1[order(x1$var1),])\n",
    "\n",
    "# now order rows based on columns var1 and var3\n",
    "print(x1[order(x1$var1, x1$var3),])"
   ]
  },
  {
   "cell_type": "code",
   "execution_count": 36,
   "metadata": {},
   "outputs": [],
   "source": [
    "# sorting with plry\n",
    "library(plyr)"
   ]
  },
  {
   "cell_type": "code",
   "execution_count": 37,
   "metadata": {},
   "outputs": [
    {
     "name": "stdout",
     "output_type": "stream",
     "text": [
      "  var1 var2 var3\n",
      "1    1   10   11\n",
      "2    2   NA   15\n",
      "3    3   NA   12\n",
      "4    4    9   13\n",
      "5    5    6   14\n",
      "  var1 var2 var3\n",
      "1    5    6   14\n",
      "2    4    9   13\n",
      "3    3   NA   12\n",
      "4    2   NA   15\n",
      "5    1   10   11\n"
     ]
    }
   ],
   "source": [
    "# ascending order on var1\n",
    "print(arrange(x1, var1))\n",
    "\n",
    "# descending order on var1\n",
    "print(arrange(x1,desc(var1)))"
   ]
  },
  {
   "cell_type": "code",
   "execution_count": 40,
   "metadata": {},
   "outputs": [
    {
     "name": "stdout",
     "output_type": "stream",
     "text": [
      "  var1 var2 var3       var4\n",
      "1    2   NA   15  0.5439561\n",
      "4    1   10   11  0.3304796\n",
      "2    3   NA   12 -0.9710917\n",
      "3    5    6   14 -0.9446847\n",
      "5    4    9   13 -0.2967423\n",
      "  var1 var2 var3       var4   rnorm(5)\n",
      "1    2   NA   15  0.5439561  1.1495053\n",
      "4    1   10   11  0.3304796 -0.8705105\n",
      "2    3   NA   12 -0.9710917 -0.9870139\n",
      "3    5    6   14 -0.9446847  0.3262530\n",
      "5    4    9   13 -0.2967423 -1.1025739\n"
     ]
    }
   ],
   "source": [
    "# adding rows and columns\n",
    "\n",
    "# adding a var4 column using assigment\n",
    "x1$var4 <- rnorm(5)\n",
    "print(x1)\n",
    "\n",
    "# adding\n",
    "x2 <- cbind(x1, rnorm(5))\n",
    "print(x2)"
   ]
  }
 ],
 "metadata": {
  "kernelspec": {
   "display_name": "R",
   "language": "R",
   "name": "ir"
  },
  "language_info": {
   "codemirror_mode": "r",
   "file_extension": ".r",
   "mimetype": "text/x-r-source",
   "name": "R",
   "pygments_lexer": "r",
   "version": "3.4.4"
  }
 },
 "nbformat": 4,
 "nbformat_minor": 2
}
