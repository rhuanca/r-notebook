{
 "cells": [
  {
   "cell_type": "markdown",
   "metadata": {},
   "source": [
    "# Simulation\n",
    "## Generating random numbers\n",
    "* rnorm, generate randon normal variables with a given mean and standad deviation\n",
    "* dnorm, evaluate the normal probability density (with a given mean/SD) at a point (or vector of points)\n",
    "* pnorm, evaluate the cumulative distribution function for a nombar distribution\n",
    "* rpois, generate random poisson variables with a given rate"
   ]
  },
  {
   "cell_type": "code",
   "execution_count": 47,
   "metadata": {},
   "outputs": [
    {
     "data": {
      "text/html": [
       "<ol class=list-inline>\n",
       "\t<li>-0.320453854097353</li>\n",
       "\t<li>0.168445143509278</li>\n",
       "\t<li>0.89738325273474</li>\n",
       "\t<li>-0.30426101209528</li>\n",
       "\t<li>0.0847401492979164</li>\n",
       "\t<li>-1.20075532791922</li>\n",
       "\t<li>-0.342217196070505</li>\n",
       "\t<li>-0.75139014751472</li>\n",
       "\t<li>-0.589989884264981</li>\n",
       "\t<li>-1.56126468695932</li>\n",
       "</ol>\n"
      ],
      "text/latex": [
       "\\begin{enumerate*}\n",
       "\\item -0.320453854097353\n",
       "\\item 0.168445143509278\n",
       "\\item 0.89738325273474\n",
       "\\item -0.30426101209528\n",
       "\\item 0.0847401492979164\n",
       "\\item -1.20075532791922\n",
       "\\item -0.342217196070505\n",
       "\\item -0.75139014751472\n",
       "\\item -0.589989884264981\n",
       "\\item -1.56126468695932\n",
       "\\end{enumerate*}\n"
      ],
      "text/markdown": [
       "1. -0.320453854097353\n",
       "2. 0.168445143509278\n",
       "3. 0.89738325273474\n",
       "4. -0.30426101209528\n",
       "5. 0.0847401492979164\n",
       "6. -1.20075532791922\n",
       "7. -0.342217196070505\n",
       "8. -0.75139014751472\n",
       "9. -0.589989884264981\n",
       "10. -1.56126468695932\n",
       "\n",
       "\n"
      ],
      "text/plain": [
       " [1] -0.32045385  0.16844514  0.89738325 -0.30426101  0.08474015 -1.20075533\n",
       " [7] -0.34221720 -0.75139015 -0.58998988 -1.56126469"
      ]
     },
     "metadata": {},
     "output_type": "display_data"
    }
   ],
   "source": [
    "x1 <- rnorm(10)\n",
    "x1"
   ]
  },
  {
   "cell_type": "code",
   "execution_count": 49,
   "metadata": {},
   "outputs": [
    {
     "data": {
      "text/html": [
       "<ol class=list-inline>\n",
       "\t<li>22.0494229210522</li>\n",
       "\t<li>17.0786477811305</li>\n",
       "\t<li>19.0831323047199</li>\n",
       "\t<li>19.1429357653253</li>\n",
       "\t<li>17.8807392939857</li>\n",
       "\t<li>20.4959265811884</li>\n",
       "\t<li>23.3497966009436</li>\n",
       "\t<li>16.1039100423307</li>\n",
       "\t<li>21.3106824895916</li>\n",
       "\t<li>20.5757488214313</li>\n",
       "</ol>\n"
      ],
      "text/latex": [
       "\\begin{enumerate*}\n",
       "\\item 22.0494229210522\n",
       "\\item 17.0786477811305\n",
       "\\item 19.0831323047199\n",
       "\\item 19.1429357653253\n",
       "\\item 17.8807392939857\n",
       "\\item 20.4959265811884\n",
       "\\item 23.3497966009436\n",
       "\\item 16.1039100423307\n",
       "\\item 21.3106824895916\n",
       "\\item 20.5757488214313\n",
       "\\end{enumerate*}\n"
      ],
      "text/markdown": [
       "1. 22.0494229210522\n",
       "2. 17.0786477811305\n",
       "3. 19.0831323047199\n",
       "4. 19.1429357653253\n",
       "5. 17.8807392939857\n",
       "6. 20.4959265811884\n",
       "7. 23.3497966009436\n",
       "8. 16.1039100423307\n",
       "9. 21.3106824895916\n",
       "10. 20.5757488214313\n",
       "\n",
       "\n"
      ],
      "text/plain": [
       " [1] 22.04942 17.07865 19.08313 19.14294 17.88074 20.49593 23.34980 16.10391\n",
       " [9] 21.31068 20.57575"
      ]
     },
     "metadata": {},
     "output_type": "display_data"
    },
    {
     "data": {
      "text/plain": [
       "   Min. 1st Qu.  Median    Mean 3rd Qu.    Max. \n",
       "  16.10   18.18   19.82   19.71   21.13   23.35 "
      ]
     },
     "metadata": {},
     "output_type": "display_data"
    }
   ],
   "source": [
    "x2 <- rnorm(10, 20, 2)\n",
    "x2\n",
    "summary(x2)"
   ]
  },
  {
   "cell_type": "code",
   "execution_count": 50,
   "metadata": {},
   "outputs": [
    {
     "data": {
      "text/html": [
       "<ol class=list-inline>\n",
       "\t<li>-0.626453810742332</li>\n",
       "\t<li>0.183643324222082</li>\n",
       "\t<li>-0.835628612410047</li>\n",
       "\t<li>1.59528080213779</li>\n",
       "\t<li>0.329507771815361</li>\n",
       "</ol>\n"
      ],
      "text/latex": [
       "\\begin{enumerate*}\n",
       "\\item -0.626453810742332\n",
       "\\item 0.183643324222082\n",
       "\\item -0.835628612410047\n",
       "\\item 1.59528080213779\n",
       "\\item 0.329507771815361\n",
       "\\end{enumerate*}\n"
      ],
      "text/markdown": [
       "1. -0.626453810742332\n",
       "2. 0.183643324222082\n",
       "3. -0.835628612410047\n",
       "4. 1.59528080213779\n",
       "5. 0.329507771815361\n",
       "\n",
       "\n"
      ],
      "text/plain": [
       "[1] -0.6264538  0.1836433 -0.8356286  1.5952808  0.3295078"
      ]
     },
     "metadata": {},
     "output_type": "display_data"
    },
    {
     "data": {
      "text/html": [
       "<ol class=list-inline>\n",
       "\t<li>-0.820468384118015</li>\n",
       "\t<li>0.487429052428485</li>\n",
       "\t<li>0.738324705129217</li>\n",
       "\t<li>0.575781351653492</li>\n",
       "\t<li>-0.305388387156356</li>\n",
       "</ol>\n"
      ],
      "text/latex": [
       "\\begin{enumerate*}\n",
       "\\item -0.820468384118015\n",
       "\\item 0.487429052428485\n",
       "\\item 0.738324705129217\n",
       "\\item 0.575781351653492\n",
       "\\item -0.305388387156356\n",
       "\\end{enumerate*}\n"
      ],
      "text/markdown": [
       "1. -0.820468384118015\n",
       "2. 0.487429052428485\n",
       "3. 0.738324705129217\n",
       "4. 0.575781351653492\n",
       "5. -0.305388387156356\n",
       "\n",
       "\n"
      ],
      "text/plain": [
       "[1] -0.8204684  0.4874291  0.7383247  0.5757814 -0.3053884"
      ]
     },
     "metadata": {},
     "output_type": "display_data"
    },
    {
     "data": {
      "text/html": [
       "<ol class=list-inline>\n",
       "\t<li>-0.626453810742332</li>\n",
       "\t<li>0.183643324222082</li>\n",
       "\t<li>-0.835628612410047</li>\n",
       "\t<li>1.59528080213779</li>\n",
       "\t<li>0.329507771815361</li>\n",
       "</ol>\n"
      ],
      "text/latex": [
       "\\begin{enumerate*}\n",
       "\\item -0.626453810742332\n",
       "\\item 0.183643324222082\n",
       "\\item -0.835628612410047\n",
       "\\item 1.59528080213779\n",
       "\\item 0.329507771815361\n",
       "\\end{enumerate*}\n"
      ],
      "text/markdown": [
       "1. -0.626453810742332\n",
       "2. 0.183643324222082\n",
       "3. -0.835628612410047\n",
       "4. 1.59528080213779\n",
       "5. 0.329507771815361\n",
       "\n",
       "\n"
      ],
      "text/plain": [
       "[1] -0.6264538  0.1836433 -0.8356286  1.5952808  0.3295078"
      ]
     },
     "metadata": {},
     "output_type": "display_data"
    }
   ],
   "source": [
    "set.seed(1)\n",
    "rnorm(5)\n",
    "rnorm(5)\n",
    "set.seed(1)\n",
    "rnorm(5)"
   ]
  },
  {
   "cell_type": "code",
   "execution_count": 54,
   "metadata": {},
   "outputs": [
    {
     "data": {
      "text/html": [
       "<ol class=list-inline>\n",
       "\t<li>2</li>\n",
       "\t<li>1</li>\n",
       "\t<li>2</li>\n",
       "\t<li>1</li>\n",
       "\t<li>1</li>\n",
       "\t<li>2</li>\n",
       "\t<li>0</li>\n",
       "\t<li>1</li>\n",
       "\t<li>1</li>\n",
       "\t<li>1</li>\n",
       "</ol>\n"
      ],
      "text/latex": [
       "\\begin{enumerate*}\n",
       "\\item 2\n",
       "\\item 1\n",
       "\\item 2\n",
       "\\item 1\n",
       "\\item 1\n",
       "\\item 2\n",
       "\\item 0\n",
       "\\item 1\n",
       "\\item 1\n",
       "\\item 1\n",
       "\\end{enumerate*}\n"
      ],
      "text/markdown": [
       "1. 2\n",
       "2. 1\n",
       "3. 2\n",
       "4. 1\n",
       "5. 1\n",
       "6. 2\n",
       "7. 0\n",
       "8. 1\n",
       "9. 1\n",
       "10. 1\n",
       "\n",
       "\n"
      ],
      "text/plain": [
       " [1] 2 1 2 1 1 2 0 1 1 1"
      ]
     },
     "metadata": {},
     "output_type": "display_data"
    },
    {
     "data": {
      "text/plain": [
       "   Min. 1st Qu.  Median    Mean 3rd Qu.    Max. \n",
       "   0.00    1.00    1.00    1.20    1.75    2.00 "
      ]
     },
     "metadata": {},
     "output_type": "display_data"
    }
   ],
   "source": [
    "x3 <- rpois(10, 1)\n",
    "x3\n",
    "summary(x3)"
   ]
  },
  {
   "cell_type": "code",
   "execution_count": 53,
   "metadata": {},
   "outputs": [
    {
     "data": {
      "text/html": [
       "<ol class=list-inline>\n",
       "\t<li>2</li>\n",
       "\t<li>2</li>\n",
       "\t<li>2</li>\n",
       "\t<li>1</li>\n",
       "\t<li>3</li>\n",
       "\t<li>2</li>\n",
       "\t<li>3</li>\n",
       "\t<li>0</li>\n",
       "\t<li>3</li>\n",
       "\t<li>2</li>\n",
       "</ol>\n"
      ],
      "text/latex": [
       "\\begin{enumerate*}\n",
       "\\item 2\n",
       "\\item 2\n",
       "\\item 2\n",
       "\\item 1\n",
       "\\item 3\n",
       "\\item 2\n",
       "\\item 3\n",
       "\\item 0\n",
       "\\item 3\n",
       "\\item 2\n",
       "\\end{enumerate*}\n"
      ],
      "text/markdown": [
       "1. 2\n",
       "2. 2\n",
       "3. 2\n",
       "4. 1\n",
       "5. 3\n",
       "6. 2\n",
       "7. 3\n",
       "8. 0\n",
       "9. 3\n",
       "10. 2\n",
       "\n",
       "\n"
      ],
      "text/plain": [
       " [1] 2 2 2 1 3 2 3 0 3 2"
      ]
     },
     "metadata": {},
     "output_type": "display_data"
    },
    {
     "data": {
      "text/plain": [
       "   Min. 1st Qu.  Median    Mean 3rd Qu.    Max. \n",
       "   0.00    2.00    2.00    2.00    2.75    3.00 "
      ]
     },
     "metadata": {},
     "output_type": "display_data"
    }
   ],
   "source": [
    "x4 <- rpois(10, 2)\n",
    "x4\n",
    "summary(x4)"
   ]
  },
  {
   "cell_type": "code",
   "execution_count": 57,
   "metadata": {},
   "outputs": [
    {
     "data": {
      "text/html": [
       "0.676676416183063"
      ],
      "text/latex": [
       "0.676676416183063"
      ],
      "text/markdown": [
       "0.676676416183063"
      ],
      "text/plain": [
       "[1] 0.6766764"
      ]
     },
     "metadata": {},
     "output_type": "display_data"
    }
   ],
   "source": [
    "x5 <-ppois(2, 2) ## cumulative distribution\n",
    "# Pr(x <=2)\n",
    "x5"
   ]
  },
  {
   "cell_type": "code",
   "execution_count": 58,
   "metadata": {},
   "outputs": [
    {
     "data": {
      "text/html": [
       "0.947346982656289"
      ],
      "text/latex": [
       "0.947346982656289"
      ],
      "text/markdown": [
       "0.947346982656289"
      ],
      "text/plain": [
       "[1] 0.947347"
      ]
     },
     "metadata": {},
     "output_type": "display_data"
    }
   ],
   "source": [
    "x6 <- ppois(4, 2)\n",
    "x6"
   ]
  },
  {
   "cell_type": "code",
   "execution_count": 64,
   "metadata": {},
   "outputs": [
    {
     "data": {
      "text/html": [
       "0.995466194473751"
      ],
      "text/latex": [
       "0.995466194473751"
      ],
      "text/markdown": [
       "0.995466194473751"
      ],
      "text/plain": [
       "[1] 0.9954662"
      ]
     },
     "metadata": {},
     "output_type": "display_data"
    }
   ],
   "source": [
    "x7 <- ppois(6, 2)\n",
    "x7"
   ]
  },
  {
   "cell_type": "markdown",
   "metadata": {},
   "source": [
    "## Simulating Linear Model"
   ]
  },
  {
   "cell_type": "code",
   "execution_count": 67,
   "metadata": {},
   "outputs": [
    {
     "data": {
      "text/plain": [
       "   Min. 1st Qu.  Median    Mean 3rd Qu.    Max. \n",
       "-6.4084 -1.5402  0.6789  0.6893  2.9303  6.5052 "
      ]
     },
     "metadata": {},
     "output_type": "display_data"
    },
    {
     "data": {
      "image/png": "[encoded data removed]",
      "text/plain": [
       "plot without title"
      ]
     },
     "metadata": {},
     "output_type": "display_data"
    }
   ],
   "source": [
    "set.seed(20)\n",
    "x8 <- rnorm(100)\n",
    "e8 <- rnorm(100, 0, 2)\n",
    "y8 <- 0.5 + 2 * x8 + e8\n",
    "summary(y8)\n",
    "plot(x8, y8)"
   ]
  },
  {
   "cell_type": "code",
   "execution_count": 94,
   "metadata": {},
   "outputs": [
    {
     "data": {
      "text/plain": [
       "   Min. 1st Qu.  Median    Mean 3rd Qu.    Max. \n",
       "-3.4936 -0.1409  1.5767  1.4322  2.8397  6.9410 "
      ]
     },
     "metadata": {},
     "output_type": "display_data"
    },
    {
     "data": {
      "image/png": "[encoded data removed]",
      "text/plain": [
       "plot without title"
      ]
     },
     "metadata": {},
     "output_type": "display_data"
    }
   ],
   "source": [
    "set.seed(10)\n",
    "x9 <- rbinom(100, 1, 0.5)\n",
    "e9 <- rnorm(100, 0, 2)\n",
    "y9 <- 0.5 + 2*x9 + e9\n",
    "summary(y9)\n",
    "plot(x9, y9)\n"
   ]
  },
  {
   "cell_type": "code",
   "execution_count": 95,
   "metadata": {},
   "outputs": [
    {
     "data": {
      "text/plain": [
       "   Min. 1st Qu.  Median    Mean 3rd Qu.    Max. \n",
       "   0.00    1.00    1.00    1.55    2.00    6.00 "
      ]
     },
     "metadata": {},
     "output_type": "display_data"
    },
    {
     "data": {
      "image/png": "[encoded data removed]",
      "text/plain": [
       "plot without title"
      ]
     },
     "metadata": {},
     "output_type": "display_data"
    }
   ],
   "source": [
    "set.seed(1)\n",
    "x10 <- rnorm(100)\n",
    "log.mu <- 0.5 + 0.3*x10\n",
    "y10 <- rpois(100, exp(log.mu))\n",
    "summary(y10)\n",
    "plot(x10, y10)"
   ]
  },
  {
   "cell_type": "markdown",
   "metadata": {},
   "source": [
    "## Random Sampling"
   ]
  },
  {
   "cell_type": "code",
   "execution_count": 101,
   "metadata": {},
   "outputs": [
    {
     "data": {
      "text/html": [
       "<ol class=list-inline>\n",
       "\t<li>3</li>\n",
       "\t<li>4</li>\n",
       "\t<li>5</li>\n",
       "\t<li>7</li>\n",
       "</ol>\n"
      ],
      "text/latex": [
       "\\begin{enumerate*}\n",
       "\\item 3\n",
       "\\item 4\n",
       "\\item 5\n",
       "\\item 7\n",
       "\\end{enumerate*}\n"
      ],
      "text/markdown": [
       "1. 3\n",
       "2. 4\n",
       "3. 5\n",
       "4. 7\n",
       "\n",
       "\n"
      ],
      "text/plain": [
       "[1] 3 4 5 7"
      ]
     },
     "metadata": {},
     "output_type": "display_data"
    },
    {
     "data": {
      "text/html": [
       "<ol class=list-inline>\n",
       "\t<li>3</li>\n",
       "\t<li>9</li>\n",
       "\t<li>8</li>\n",
       "\t<li>5</li>\n",
       "</ol>\n"
      ],
      "text/latex": [
       "\\begin{enumerate*}\n",
       "\\item 3\n",
       "\\item 9\n",
       "\\item 8\n",
       "\\item 5\n",
       "\\end{enumerate*}\n"
      ],
      "text/markdown": [
       "1. 3\n",
       "2. 9\n",
       "3. 8\n",
       "4. 5\n",
       "\n",
       "\n"
      ],
      "text/plain": [
       "[1] 3 9 8 5"
      ]
     },
     "metadata": {},
     "output_type": "display_data"
    },
    {
     "data": {
      "text/html": [
       "<ol class=list-inline>\n",
       "\t<li>'q'</li>\n",
       "\t<li>'b'</li>\n",
       "\t<li>'e'</li>\n",
       "\t<li>'x'</li>\n",
       "\t<li>'p'</li>\n",
       "</ol>\n"
      ],
      "text/latex": [
       "\\begin{enumerate*}\n",
       "\\item 'q'\n",
       "\\item 'b'\n",
       "\\item 'e'\n",
       "\\item 'x'\n",
       "\\item 'p'\n",
       "\\end{enumerate*}\n"
      ],
      "text/markdown": [
       "1. 'q'\n",
       "2. 'b'\n",
       "3. 'e'\n",
       "4. 'x'\n",
       "5. 'p'\n",
       "\n",
       "\n"
      ],
      "text/plain": [
       "[1] \"q\" \"b\" \"e\" \"x\" \"p\""
      ]
     },
     "metadata": {},
     "output_type": "display_data"
    },
    {
     "data": {
      "text/html": [
       "<ol class=list-inline>\n",
       "\t<li>4</li>\n",
       "\t<li>7</li>\n",
       "\t<li>10</li>\n",
       "\t<li>6</li>\n",
       "\t<li>9</li>\n",
       "\t<li>2</li>\n",
       "\t<li>8</li>\n",
       "\t<li>3</li>\n",
       "\t<li>1</li>\n",
       "\t<li>5</li>\n",
       "</ol>\n"
      ],
      "text/latex": [
       "\\begin{enumerate*}\n",
       "\\item 4\n",
       "\\item 7\n",
       "\\item 10\n",
       "\\item 6\n",
       "\\item 9\n",
       "\\item 2\n",
       "\\item 8\n",
       "\\item 3\n",
       "\\item 1\n",
       "\\item 5\n",
       "\\end{enumerate*}\n"
      ],
      "text/markdown": [
       "1. 4\n",
       "2. 7\n",
       "3. 10\n",
       "4. 6\n",
       "5. 9\n",
       "6. 2\n",
       "7. 8\n",
       "8. 3\n",
       "9. 1\n",
       "10. 5\n",
       "\n",
       "\n"
      ],
      "text/plain": [
       " [1]  4  7 10  6  9  2  8  3  1  5"
      ]
     },
     "metadata": {},
     "output_type": "display_data"
    },
    {
     "data": {
      "text/html": [
       "<ol class=list-inline>\n",
       "\t<li>2</li>\n",
       "\t<li>3</li>\n",
       "\t<li>4</li>\n",
       "\t<li>1</li>\n",
       "\t<li>9</li>\n",
       "\t<li>5</li>\n",
       "\t<li>10</li>\n",
       "\t<li>8</li>\n",
       "\t<li>6</li>\n",
       "\t<li>7</li>\n",
       "</ol>\n"
      ],
      "text/latex": [
       "\\begin{enumerate*}\n",
       "\\item 2\n",
       "\\item 3\n",
       "\\item 4\n",
       "\\item 1\n",
       "\\item 9\n",
       "\\item 5\n",
       "\\item 10\n",
       "\\item 8\n",
       "\\item 6\n",
       "\\item 7\n",
       "\\end{enumerate*}\n"
      ],
      "text/markdown": [
       "1. 2\n",
       "2. 3\n",
       "3. 4\n",
       "4. 1\n",
       "5. 9\n",
       "6. 5\n",
       "7. 10\n",
       "8. 8\n",
       "9. 6\n",
       "10. 7\n",
       "\n",
       "\n"
      ],
      "text/plain": [
       " [1]  2  3  4  1  9  5 10  8  6  7"
      ]
     },
     "metadata": {},
     "output_type": "display_data"
    },
    {
     "data": {
      "text/html": [
       "<ol class=list-inline>\n",
       "\t<li>2</li>\n",
       "\t<li>9</li>\n",
       "\t<li>7</li>\n",
       "\t<li>8</li>\n",
       "\t<li>2</li>\n",
       "\t<li>8</li>\n",
       "\t<li>5</li>\n",
       "\t<li>9</li>\n",
       "\t<li>7</li>\n",
       "\t<li>8</li>\n",
       "</ol>\n"
      ],
      "text/latex": [
       "\\begin{enumerate*}\n",
       "\\item 2\n",
       "\\item 9\n",
       "\\item 7\n",
       "\\item 8\n",
       "\\item 2\n",
       "\\item 8\n",
       "\\item 5\n",
       "\\item 9\n",
       "\\item 7\n",
       "\\item 8\n",
       "\\end{enumerate*}\n"
      ],
      "text/markdown": [
       "1. 2\n",
       "2. 9\n",
       "3. 7\n",
       "4. 8\n",
       "5. 2\n",
       "6. 8\n",
       "7. 5\n",
       "8. 9\n",
       "9. 7\n",
       "10. 8\n",
       "\n",
       "\n"
      ],
      "text/plain": [
       " [1] 2 9 7 8 2 8 5 9 7 8"
      ]
     },
     "metadata": {},
     "output_type": "display_data"
    }
   ],
   "source": [
    "set.seed(1)\n",
    "sample(1:10, 4)\n",
    "sample(1:10, 4)\n",
    "sample(letters, 5)\n",
    "sample(1:10) # permutation\n",
    "sample(1:10)\n",
    "sample(1:10, replace=TRUE) ## sample w/replacement"
   ]
  },
  {
   "cell_type": "code",
   "execution_count": null,
   "metadata": {},
   "outputs": [],
   "source": []
  },
  {
   "cell_type": "code",
   "execution_count": null,
   "metadata": {},
   "outputs": [],
   "source": []
  }
 ],
 "metadata": {
  "kernelspec": {
   "display_name": "R",
   "language": "R",
   "name": "ir"
  },
  "language_info": {
   "codemirror_mode": "r",
   "file_extension": ".r",
   "mimetype": "text/x-r-source",
   "name": "R",
   "pygments_lexer": "r",
   "version": "3.4.4"
  }
 },
 "nbformat": 4,
 "nbformat_minor": 2
}
