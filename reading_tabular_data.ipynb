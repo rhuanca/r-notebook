{
 "cells": [
  {
   "cell_type": "markdown",
   "metadata": {},
   "source": [
    "# Reading Tabular Data"
   ]
  },
  {
   "cell_type": "code",
   "execution_count": 38,
   "metadata": {},
   "outputs": [
    {
     "data": {
      "text/html": [
       "<table>\n",
       "<thead><tr><th scope=col>Product</th><th scope=col>Price</th><th scope=col>PhysicalSpecs</th></tr></thead>\n",
       "<tbody>\n",
       "\t<tr><td>PlayStation 4 Pro               </td><td>$399.99                         </td><td>8-core Jaguar AMD @ 2.1GHz      </td></tr>\n",
       "\t<tr><td>Microsoft Xbox One S            </td><td>$244.94                         </td><td>8-core Jaguar CPU @1.75GHz      </td></tr>\n",
       "\t<tr><td>PlayStation 4 Slim              </td><td>$318                            </td><td>8-core Jaguar AMD Jaguar @1.6GHz</td></tr>\n",
       "</tbody>\n",
       "</table>\n"
      ],
      "text/latex": [
       "\\begin{tabular}{r|lll}\n",
       " Product & Price & PhysicalSpecs\\\\\n",
       "\\hline\n",
       "\t PlayStation 4 Pro                & \\$399.99                        & 8-core Jaguar AMD @ 2.1GHz      \\\\\n",
       "\t Microsoft Xbox One S             & \\$244.94                        & 8-core Jaguar CPU @1.75GHz      \\\\\n",
       "\t PlayStation 4 Slim               & \\$318                           & 8-core Jaguar AMD Jaguar @1.6GHz\\\\\n",
       "\\end{tabular}\n"
      ],
      "text/markdown": [
       "\n",
       "Product | Price | PhysicalSpecs | \n",
       "|---|---|---|\n",
       "| PlayStation 4 Pro                | $399.99                          | 8-core Jaguar AMD @ 2.1GHz       | \n",
       "| Microsoft Xbox One S             | $244.94                          | 8-core Jaguar CPU @1.75GHz       | \n",
       "| PlayStation 4 Slim               | $318                             | 8-core Jaguar AMD Jaguar @1.6GHz | \n",
       "\n",
       "\n"
      ],
      "text/plain": [
       "  Product              Price   PhysicalSpecs                   \n",
       "1 PlayStation 4 Pro    $399.99 8-core Jaguar AMD @ 2.1GHz      \n",
       "2 Microsoft Xbox One S $244.94 8-core Jaguar CPU @1.75GHz      \n",
       "3 PlayStation 4 Slim   $318    8-core Jaguar AMD Jaguar @1.6GHz"
      ]
     },
     "metadata": {},
     "output_type": "display_data"
    },
    {
     "data": {
      "text/html": [
       "<dl>\n",
       "\t<dt>$names</dt>\n",
       "\t\t<dd><ol class=list-inline>\n",
       "\t<li>'Product'</li>\n",
       "\t<li>'Price'</li>\n",
       "\t<li>'PhysicalSpecs'</li>\n",
       "</ol>\n",
       "</dd>\n",
       "\t<dt>$class</dt>\n",
       "\t\t<dd>'data.frame'</dd>\n",
       "\t<dt>$row.names</dt>\n",
       "\t\t<dd><ol class=list-inline>\n",
       "\t<li>1</li>\n",
       "\t<li>2</li>\n",
       "\t<li>3</li>\n",
       "</ol>\n",
       "</dd>\n",
       "</dl>\n"
      ],
      "text/latex": [
       "\\begin{description}\n",
       "\\item[\\$names] \\begin{enumerate*}\n",
       "\\item 'Product'\n",
       "\\item 'Price'\n",
       "\\item 'PhysicalSpecs'\n",
       "\\end{enumerate*}\n",
       "\n",
       "\\item[\\$class] 'data.frame'\n",
       "\\item[\\$row.names] \\begin{enumerate*}\n",
       "\\item 1\n",
       "\\item 2\n",
       "\\item 3\n",
       "\\end{enumerate*}\n",
       "\n",
       "\\end{description}\n"
      ],
      "text/markdown": [
       "$names\n",
       ":   1. 'Product'\n",
       "2. 'Price'\n",
       "3. 'PhysicalSpecs'\n",
       "\n",
       "\n",
       "\n",
       "$class\n",
       ":   'data.frame'\n",
       "$row.names\n",
       ":   1. 1\n",
       "2. 2\n",
       "3. 3\n",
       "\n",
       "\n",
       "\n",
       "\n",
       "\n"
      ],
      "text/plain": [
       "$names\n",
       "[1] \"Product\"       \"Price\"         \"PhysicalSpecs\"\n",
       "\n",
       "$class\n",
       "[1] \"data.frame\"\n",
       "\n",
       "$row.names\n",
       "[1] 1 2 3\n"
      ]
     },
     "metadata": {},
     "output_type": "display_data"
    },
    {
     "data": {
      "text/html": [
       "<dl>\n",
       "\t<dt>$Product</dt>\n",
       "\t\t<dd>'factor'</dd>\n",
       "\t<dt>$Price</dt>\n",
       "\t\t<dd>'factor'</dd>\n",
       "\t<dt>$PhysicalSpecs</dt>\n",
       "\t\t<dd>'factor'</dd>\n",
       "</dl>\n"
      ],
      "text/latex": [
       "\\begin{description}\n",
       "\\item[\\$Product] 'factor'\n",
       "\\item[\\$Price] 'factor'\n",
       "\\item[\\$PhysicalSpecs] 'factor'\n",
       "\\end{description}\n"
      ],
      "text/markdown": [
       "$Product\n",
       ":   'factor'\n",
       "$Price\n",
       ":   'factor'\n",
       "$PhysicalSpecs\n",
       ":   'factor'\n",
       "\n",
       "\n"
      ],
      "text/plain": [
       "$Product\n",
       "[1] \"factor\"\n",
       "\n",
       "$Price\n",
       "[1] \"factor\"\n",
       "\n",
       "$PhysicalSpecs\n",
       "[1] \"factor\"\n"
      ]
     },
     "metadata": {},
     "output_type": "display_data"
    }
   ],
   "source": [
    "x1 <- read.table(\"data1.csv\",header=TRUE,sep=',',comment.char='#')\n",
    "x1\n",
    "attributes(x1)\n",
    "lapply(x1, class)\n"
   ]
  },
  {
   "cell_type": "markdown",
   "metadata": {},
   "source": [
    "To Read large data set, the read.table() function provides a lot of useful parameters that will help specifically on this task."
   ]
  },
  {
   "cell_type": "code",
   "execution_count": 25,
   "metadata": {},
   "outputs": [],
   "source": [
    "?read.table"
   ]
  },
  {
   "cell_type": "code",
   "execution_count": 48,
   "metadata": {},
   "outputs": [
    {
     "data": {
      "text/html": [
       "<table>\n",
       "<thead><tr><th scope=col>Product</th><th scope=col>Price</th><th scope=col>PhysicalSpecs</th></tr></thead>\n",
       "<tbody>\n",
       "\t<tr><td>PlayStation 4 Pro               </td><td>399.99                          </td><td>8-core Jaguar AMD @ 2.1GHz      </td></tr>\n",
       "\t<tr><td>Microsoft Xbox One S            </td><td>244.94                          </td><td>8-core Jaguar CPU @1.75GHz      </td></tr>\n",
       "\t<tr><td>PlayStation 4 Slim              </td><td>318.00                          </td><td>8-core Jaguar AMD Jaguar @1.6GHz</td></tr>\n",
       "</tbody>\n",
       "</table>\n"
      ],
      "text/latex": [
       "\\begin{tabular}{r|lll}\n",
       " Product & Price & PhysicalSpecs\\\\\n",
       "\\hline\n",
       "\t PlayStation 4 Pro                & 399.99                           & 8-core Jaguar AMD @ 2.1GHz      \\\\\n",
       "\t Microsoft Xbox One S             & 244.94                           & 8-core Jaguar CPU @1.75GHz      \\\\\n",
       "\t PlayStation 4 Slim               & 318.00                           & 8-core Jaguar AMD Jaguar @1.6GHz\\\\\n",
       "\\end{tabular}\n"
      ],
      "text/markdown": [
       "\n",
       "Product | Price | PhysicalSpecs | \n",
       "|---|---|---|\n",
       "| PlayStation 4 Pro                | 399.99                           | 8-core Jaguar AMD @ 2.1GHz       | \n",
       "| Microsoft Xbox One S             | 244.94                           | 8-core Jaguar CPU @1.75GHz       | \n",
       "| PlayStation 4 Slim               | 318.00                           | 8-core Jaguar AMD Jaguar @1.6GHz | \n",
       "\n",
       "\n"
      ],
      "text/plain": [
       "  Product              Price  PhysicalSpecs                   \n",
       "1 PlayStation 4 Pro    399.99 8-core Jaguar AMD @ 2.1GHz      \n",
       "2 Microsoft Xbox One S 244.94 8-core Jaguar CPU @1.75GHz      \n",
       "3 PlayStation 4 Slim   318.00 8-core Jaguar AMD Jaguar @1.6GHz"
      ]
     },
     "metadata": {},
     "output_type": "display_data"
    },
    {
     "data": {
      "text/html": [
       "<dl>\n",
       "\t<dt>$names</dt>\n",
       "\t\t<dd><ol class=list-inline>\n",
       "\t<li>'Product'</li>\n",
       "\t<li>'Price'</li>\n",
       "\t<li>'PhysicalSpecs'</li>\n",
       "</ol>\n",
       "</dd>\n",
       "\t<dt>$class</dt>\n",
       "\t\t<dd>'data.frame'</dd>\n",
       "\t<dt>$row.names</dt>\n",
       "\t\t<dd><ol class=list-inline>\n",
       "\t<li>1</li>\n",
       "\t<li>2</li>\n",
       "\t<li>3</li>\n",
       "</ol>\n",
       "</dd>\n",
       "</dl>\n"
      ],
      "text/latex": [
       "\\begin{description}\n",
       "\\item[\\$names] \\begin{enumerate*}\n",
       "\\item 'Product'\n",
       "\\item 'Price'\n",
       "\\item 'PhysicalSpecs'\n",
       "\\end{enumerate*}\n",
       "\n",
       "\\item[\\$class] 'data.frame'\n",
       "\\item[\\$row.names] \\begin{enumerate*}\n",
       "\\item 1\n",
       "\\item 2\n",
       "\\item 3\n",
       "\\end{enumerate*}\n",
       "\n",
       "\\end{description}\n"
      ],
      "text/markdown": [
       "$names\n",
       ":   1. 'Product'\n",
       "2. 'Price'\n",
       "3. 'PhysicalSpecs'\n",
       "\n",
       "\n",
       "\n",
       "$class\n",
       ":   'data.frame'\n",
       "$row.names\n",
       ":   1. 1\n",
       "2. 2\n",
       "3. 3\n",
       "\n",
       "\n",
       "\n",
       "\n",
       "\n"
      ],
      "text/plain": [
       "$names\n",
       "[1] \"Product\"       \"Price\"         \"PhysicalSpecs\"\n",
       "\n",
       "$class\n",
       "[1] \"data.frame\"\n",
       "\n",
       "$row.names\n",
       "[1] 1 2 3\n"
      ]
     },
     "metadata": {},
     "output_type": "display_data"
    },
    {
     "data": {
      "text/html": [
       "<dl>\n",
       "\t<dt>$Product</dt>\n",
       "\t\t<dd>'character'</dd>\n",
       "\t<dt>$Price</dt>\n",
       "\t\t<dd>'numeric'</dd>\n",
       "\t<dt>$PhysicalSpecs</dt>\n",
       "\t\t<dd>'character'</dd>\n",
       "</dl>\n"
      ],
      "text/latex": [
       "\\begin{description}\n",
       "\\item[\\$Product] 'character'\n",
       "\\item[\\$Price] 'numeric'\n",
       "\\item[\\$PhysicalSpecs] 'character'\n",
       "\\end{description}\n"
      ],
      "text/markdown": [
       "$Product\n",
       ":   'character'\n",
       "$Price\n",
       ":   'numeric'\n",
       "$PhysicalSpecs\n",
       ":   'character'\n",
       "\n",
       "\n"
      ],
      "text/plain": [
       "$Product\n",
       "[1] \"character\"\n",
       "\n",
       "$Price\n",
       "[1] \"numeric\"\n",
       "\n",
       "$PhysicalSpecs\n",
       "[1] \"character\"\n"
      ]
     },
     "metadata": {},
     "output_type": "display_data"
    }
   ],
   "source": [
    "# when you know the class in advanced you can set it up directly\n",
    "x2 <- read.table(\"data2.csv\",header=TRUE,sep=','\n",
    "                 ,comment.char='#'\n",
    "                 ,colClasses=c(\"character\",\"numeric\",\"character\") )\n",
    "x2\n",
    "attributes(x2)\n",
    "lapply(x2, class)\n"
   ]
  },
  {
   "cell_type": "code",
   "execution_count": 53,
   "metadata": {},
   "outputs": [
    {
     "data": {
      "text/html": [
       "<table>\n",
       "<thead><tr><th scope=col>Product</th><th scope=col>Price</th><th scope=col>PhysicalSpecs</th></tr></thead>\n",
       "<tbody>\n",
       "\t<tr><td>PlayStation 4 Pro         </td><td>399.99                    </td><td>8-core Jaguar AMD @ 2.1GHz</td></tr>\n",
       "</tbody>\n",
       "</table>\n"
      ],
      "text/latex": [
       "\\begin{tabular}{r|lll}\n",
       " Product & Price & PhysicalSpecs\\\\\n",
       "\\hline\n",
       "\t PlayStation 4 Pro          & 399.99                     & 8-core Jaguar AMD @ 2.1GHz\\\\\n",
       "\\end{tabular}\n"
      ],
      "text/markdown": [
       "\n",
       "Product | Price | PhysicalSpecs | \n",
       "|---|\n",
       "| PlayStation 4 Pro          | 399.99                     | 8-core Jaguar AMD @ 2.1GHz | \n",
       "\n",
       "\n"
      ],
      "text/plain": [
       "  Product           Price  PhysicalSpecs             \n",
       "1 PlayStation 4 Pro 399.99 8-core Jaguar AMD @ 2.1GHz"
      ]
     },
     "metadata": {},
     "output_type": "display_data"
    },
    {
     "data": {
      "text/html": [
       "<dl>\n",
       "\t<dt>$names</dt>\n",
       "\t\t<dd><ol class=list-inline>\n",
       "\t<li>'Product'</li>\n",
       "\t<li>'Price'</li>\n",
       "\t<li>'PhysicalSpecs'</li>\n",
       "</ol>\n",
       "</dd>\n",
       "\t<dt>$class</dt>\n",
       "\t\t<dd>'data.frame'</dd>\n",
       "\t<dt>$row.names</dt>\n",
       "\t\t<dd>1</dd>\n",
       "</dl>\n"
      ],
      "text/latex": [
       "\\begin{description}\n",
       "\\item[\\$names] \\begin{enumerate*}\n",
       "\\item 'Product'\n",
       "\\item 'Price'\n",
       "\\item 'PhysicalSpecs'\n",
       "\\end{enumerate*}\n",
       "\n",
       "\\item[\\$class] 'data.frame'\n",
       "\\item[\\$row.names] 1\n",
       "\\end{description}\n"
      ],
      "text/markdown": [
       "$names\n",
       ":   1. 'Product'\n",
       "2. 'Price'\n",
       "3. 'PhysicalSpecs'\n",
       "\n",
       "\n",
       "\n",
       "$class\n",
       ":   'data.frame'\n",
       "$row.names\n",
       ":   1\n",
       "\n",
       "\n"
      ],
      "text/plain": [
       "$names\n",
       "[1] \"Product\"       \"Price\"         \"PhysicalSpecs\"\n",
       "\n",
       "$class\n",
       "[1] \"data.frame\"\n",
       "\n",
       "$row.names\n",
       "[1] 1\n"
      ]
     },
     "metadata": {},
     "output_type": "display_data"
    },
    {
     "data": {
      "text/html": [
       "<dl>\n",
       "\t<dt>$Product</dt>\n",
       "\t\t<dd>'factor'</dd>\n",
       "\t<dt>$Price</dt>\n",
       "\t\t<dd>'numeric'</dd>\n",
       "\t<dt>$PhysicalSpecs</dt>\n",
       "\t\t<dd>'factor'</dd>\n",
       "</dl>\n"
      ],
      "text/latex": [
       "\\begin{description}\n",
       "\\item[\\$Product] 'factor'\n",
       "\\item[\\$Price] 'numeric'\n",
       "\\item[\\$PhysicalSpecs] 'factor'\n",
       "\\end{description}\n"
      ],
      "text/markdown": [
       "$Product\n",
       ":   'factor'\n",
       "$Price\n",
       ":   'numeric'\n",
       "$PhysicalSpecs\n",
       ":   'factor'\n",
       "\n",
       "\n"
      ],
      "text/plain": [
       "$Product\n",
       "[1] \"factor\"\n",
       "\n",
       "$Price\n",
       "[1] \"numeric\"\n",
       "\n",
       "$PhysicalSpecs\n",
       "[1] \"factor\"\n"
      ]
     },
     "metadata": {},
     "output_type": "display_data"
    },
    {
     "data": {
      "text/html": [
       "<table>\n",
       "<thead><tr><th scope=col>Product</th><th scope=col>Price</th><th scope=col>PhysicalSpecs</th></tr></thead>\n",
       "<tbody>\n",
       "\t<tr><td>PlayStation 4 Pro               </td><td>399.99                          </td><td>8-core Jaguar AMD @ 2.1GHz      </td></tr>\n",
       "\t<tr><td>Microsoft Xbox One S            </td><td>244.94                          </td><td>8-core Jaguar CPU @1.75GHz      </td></tr>\n",
       "\t<tr><td>PlayStation 4 Slim              </td><td>318.00                          </td><td>8-core Jaguar AMD Jaguar @1.6GHz</td></tr>\n",
       "</tbody>\n",
       "</table>\n"
      ],
      "text/latex": [
       "\\begin{tabular}{r|lll}\n",
       " Product & Price & PhysicalSpecs\\\\\n",
       "\\hline\n",
       "\t PlayStation 4 Pro                & 399.99                           & 8-core Jaguar AMD @ 2.1GHz      \\\\\n",
       "\t Microsoft Xbox One S             & 244.94                           & 8-core Jaguar CPU @1.75GHz      \\\\\n",
       "\t PlayStation 4 Slim               & 318.00                           & 8-core Jaguar AMD Jaguar @1.6GHz\\\\\n",
       "\\end{tabular}\n"
      ],
      "text/markdown": [
       "\n",
       "Product | Price | PhysicalSpecs | \n",
       "|---|---|---|\n",
       "| PlayStation 4 Pro                | 399.99                           | 8-core Jaguar AMD @ 2.1GHz       | \n",
       "| Microsoft Xbox One S             | 244.94                           | 8-core Jaguar CPU @1.75GHz       | \n",
       "| PlayStation 4 Slim               | 318.00                           | 8-core Jaguar AMD Jaguar @1.6GHz | \n",
       "\n",
       "\n"
      ],
      "text/plain": [
       "  Product              Price  PhysicalSpecs                   \n",
       "1 PlayStation 4 Pro    399.99 8-core Jaguar AMD @ 2.1GHz      \n",
       "2 Microsoft Xbox One S 244.94 8-core Jaguar CPU @1.75GHz      \n",
       "3 PlayStation 4 Slim   318.00 8-core Jaguar AMD Jaguar @1.6GHz"
      ]
     },
     "metadata": {},
     "output_type": "display_data"
    }
   ],
   "source": [
    "# when you have a large file you can scan the some of the first \n",
    "# lines and calculate the class in advance so you can read the \n",
    "# rest of the file faster\n",
    "initial_x4 <- read.table(\"data2.csv\"\n",
    "                 ,nrow=1\n",
    "                 ,header=TRUE\n",
    "                 ,sep=',' )\n",
    "initial_x4\n",
    "attributes(initial_x4)\n",
    "lapply(initial_x4, class)\n",
    "classes <- sapply(initial_x4, class)\n",
    "complete_x4 <- read.table(\"data2.csv\"\n",
    "                 ,header=TRUE\n",
    "                 ,sep=','\n",
    "                 ,colClasses=classes)\n",
    "complete_x4"
   ]
  }
 ],
 "metadata": {
  "kernelspec": {
   "display_name": "R",
   "language": "R",
   "name": "ir"
  },
  "language_info": {
   "codemirror_mode": "r",
   "file_extension": ".r",
   "mimetype": "text/x-r-source",
   "name": "R",
   "pygments_lexer": "r",
   "version": "3.4.4"
  }
 },
 "nbformat": 4,
 "nbformat_minor": 2
}
