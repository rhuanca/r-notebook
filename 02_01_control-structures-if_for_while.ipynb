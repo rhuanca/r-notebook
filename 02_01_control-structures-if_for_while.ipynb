{
 "cells": [
  {
   "cell_type": "markdown",
   "metadata": {},
   "source": [
    "# Control Structures if-else, for, while"
   ]
  },
  {
   "cell_type": "markdown",
   "metadata": {},
   "source": [
    "## If"
   ]
  },
  {
   "cell_type": "code",
   "execution_count": 1,
   "metadata": {},
   "outputs": [
    {
     "data": {
      "text/html": [
       "3"
      ],
      "text/latex": [
       "3"
      ],
      "text/markdown": [
       "3"
      ],
      "text/plain": [
       "[1] 3"
      ]
     },
     "metadata": {},
     "output_type": "display_data"
    }
   ],
   "source": [
    "# option 1\n",
    "x1 <- 4\n",
    "if(x1>6) {\n",
    "    y1 <- 10\n",
    "} else {\n",
    "    y1 <- 3\n",
    "}\n",
    "y1"
   ]
  },
  {
   "cell_type": "code",
   "execution_count": 2,
   "metadata": {},
   "outputs": [
    {
     "data": {
      "text/html": [
       "3"
      ],
      "text/latex": [
       "3"
      ],
      "text/markdown": [
       "3"
      ],
      "text/plain": [
       "[1] 3"
      ]
     },
     "metadata": {},
     "output_type": "display_data"
    }
   ],
   "source": [
    "# option 2\n",
    "x2 <- 4\n",
    "y2 <- if(x1>6) {\n",
    "    10\n",
    "} else {\n",
    "    3    \n",
    "}\n",
    "y2"
   ]
  },
  {
   "cell_type": "markdown",
   "metadata": {},
   "source": [
    "## for"
   ]
  },
  {
   "cell_type": "code",
   "execution_count": 4,
   "metadata": {},
   "outputs": [
    {
     "name": "stdout",
     "output_type": "stream",
     "text": [
      "[1] \"a\"\n",
      "[1] \"b\"\n",
      "[1] \"c\"\n",
      "[1] \"d\"\n"
     ]
    }
   ],
   "source": [
    "# option 1 - standard\n",
    "x3 <- c(\"a\",\"b\",\"c\",\"d\")\n",
    "for(i in 1:4) {\n",
    "    print(x3[i])\n",
    "}"
   ]
  },
  {
   "cell_type": "code",
   "execution_count": 14,
   "metadata": {},
   "outputs": [
    {
     "name": "stdout",
     "output_type": "stream",
     "text": [
      "[1] \"a\"\n",
      "[1] \"b\"\n",
      "[1] \"c\"\n",
      "[1] \"d\"\n",
      "[1] 1 2 3 4\n"
     ]
    },
    {
     "data": {
      "text/html": [
       "<ol class=list-inline>\n",
       "\t<li>5</li>\n",
       "\t<li>10</li>\n",
       "\t<li>15</li>\n",
       "\t<li>20</li>\n",
       "</ol>\n"
      ],
      "text/latex": [
       "\\begin{enumerate*}\n",
       "\\item 5\n",
       "\\item 10\n",
       "\\item 15\n",
       "\\item 20\n",
       "\\end{enumerate*}\n"
      ],
      "text/markdown": [
       "1. 5\n",
       "2. 10\n",
       "3. 15\n",
       "4. 20\n",
       "\n",
       "\n"
      ],
      "text/plain": [
       "[1]  5 10 15 20"
      ]
     },
     "metadata": {},
     "output_type": "display_data"
    }
   ],
   "source": [
    "# option 2 - using seq\n",
    "for(i in seq_along(x3)) {\n",
    "    print(x3[i])\n",
    "}\n",
    "print(seq_along(x3))\n",
    "# an extra example of sequence\n",
    "seq(5,20,by=5)"
   ]
  },
  {
   "cell_type": "code",
   "execution_count": 16,
   "metadata": {},
   "outputs": [
    {
     "name": "stdout",
     "output_type": "stream",
     "text": [
      "[1] \"a\"\n",
      "[1] \"b\"\n",
      "[1] \"c\"\n",
      "[1] \"d\"\n"
     ]
    }
   ],
   "source": [
    "# option 3 - iterating elements directly as indexes\n",
    "for(letter in x3) {\n",
    "    print(letter)\n",
    "}"
   ]
  },
  {
   "cell_type": "code",
   "execution_count": 15,
   "metadata": {},
   "outputs": [
    {
     "name": "stdout",
     "output_type": "stream",
     "text": [
      "[1] \"a\"\n",
      "[1] \"b\"\n",
      "[1] \"c\"\n",
      "[1] \"d\"\n"
     ]
    }
   ],
   "source": [
    "# option 4 -  inline\n",
    "for(i in 1:4) print(x3[i])"
   ]
  },
  {
   "cell_type": "code",
   "execution_count": 19,
   "metadata": {},
   "outputs": [
    {
     "name": "stdout",
     "output_type": "stream",
     "text": [
      "[1] 1\n",
      "[1] 3\n",
      "[1] 5\n",
      "[1] 2\n",
      "[1] 4\n",
      "[1] 6\n",
      "     [,1] [,2] [,3]\n",
      "[1,]    1    3    5\n",
      "[2,]    2    4    6\n"
     ]
    }
   ],
   "source": [
    "x4 <- matrix(1:6, 2,3)\n",
    "for(i in seq_len(nrow(x4))) {\n",
    "    for(j in seq_len(ncol(x4))) {\n",
    "        print(x4[i,j])\n",
    "    }\n",
    "}\n",
    "print(x4)"
   ]
  },
  {
   "cell_type": "markdown",
   "metadata": {},
   "source": [
    "## while"
   ]
  },
  {
   "cell_type": "code",
   "execution_count": 23,
   "metadata": {},
   "outputs": [
    {
     "name": "stdout",
     "output_type": "stream",
     "text": [
      "[1] 5\n",
      "[1] 4\n",
      "[1] 5\n",
      "[1] 4\n",
      "[1] 5\n",
      "[1] 4\n",
      "[1] 3\n",
      "[1] 4\n",
      "[1] 3\n",
      "[1] 4\n",
      "[1] 5\n",
      "[1] 4\n",
      "[1] 3\n"
     ]
    }
   ],
   "source": [
    "# option 1\n",
    "x5 <- 5\n",
    "while(x5 >= 3 && x5 <= 10) {\n",
    "    print(x5)\n",
    "    coin <- rbinom(1,1,0.5)\n",
    "    if(coin == 1) { ## random walk\n",
    "        x5 <- x5 + 1\n",
    "    } else {\n",
    "        x5 <- x5 - 1\n",
    "    }\n",
    "}"
   ]
  },
  {
   "cell_type": "markdown",
   "metadata": {},
   "source": [
    "## repeat, next, break"
   ]
  },
  {
   "cell_type": "markdown",
   "metadata": {},
   "source": [
    "```\n",
    "An example of repeat and break:\n",
    "\n",
    "x0 <- 1\n",
    "tol <- 1e-8\n",
    "\n",
    "repeat {\n",
    "    x1 <- computeEstimate()\n",
    "    if(abs(x1-x0) < tol) {\n",
    "        break;\n",
    "    } else {\n",
    "        x0 <- x1\n",
    "    }\n",
    "}\n",
    "```"
   ]
  },
  {
   "cell_type": "markdown",
   "metadata": {},
   "source": [
    "An example of next:\n",
    "\n",
    "```\n",
    "for(i in 1:100) {\n",
    "    if(i<=20) {\n",
    "        ## skip the first 20 iterations\n",
    "        next\n",
    "    }\n",
    "    ## Do something here\n",
    "}\n",
    "```"
   ]
  },
  {
   "cell_type": "code",
   "execution_count": null,
   "metadata": {},
   "outputs": [],
   "source": []
  },
  {
   "cell_type": "code",
   "execution_count": null,
   "metadata": {},
   "outputs": [],
   "source": []
  }
 ],
 "metadata": {
  "kernelspec": {
   "display_name": "R",
   "language": "R",
   "name": "ir"
  },
  "language_info": {
   "codemirror_mode": "r",
   "file_extension": ".r",
   "mimetype": "text/x-r-source",
   "name": "R",
   "pygments_lexer": "r",
   "version": "3.4.4"
  }
 },
 "nbformat": 4,
 "nbformat_minor": 2
}
