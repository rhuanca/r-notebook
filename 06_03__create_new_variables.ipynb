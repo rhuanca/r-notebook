{
 "cells": [
  {
   "cell_type": "markdown",
   "metadata": {},
   "source": [
    "# Creating New Variables"
   ]
  },
  {
   "cell_type": "code",
   "execution_count": 1,
   "metadata": {},
   "outputs": [],
   "source": [
    "restData <- read.csv(\"06_02__summarizing_data_Restaurants.csv\")"
   ]
  },
  {
   "cell_type": "code",
   "execution_count": 2,
   "metadata": {},
   "outputs": [
    {
     "name": "stdout",
     "output_type": "stream",
     "text": [
      "[1] 1 3 5 7 9\n",
      "[1]  1.0  5.5 10.0\n",
      "[1] 1 2 3 4 5\n"
     ]
    }
   ],
   "source": [
    "# let's create sequences\n",
    "s1 <- seq(1, 10, by=2)\n",
    "print(s1)\n",
    "\n",
    "s2 <- seq(1,10, length=3)\n",
    "print(s2)\n",
    "\n",
    "x1 <- c(1,3,8,25,100)\n",
    "s3 <- seq(along = x1)\n",
    "print(s3)"
   ]
  },
  {
   "cell_type": "code",
   "execution_count": 3,
   "metadata": {},
   "outputs": [
    {
     "data": {
      "text/html": [
       "<table>\n",
       "<thead><tr><th scope=col>name</th><th scope=col>zipCode</th><th scope=col>neighborhood</th><th scope=col>councilDistrict</th><th scope=col>policeDistrict</th><th scope=col>Location.1</th></tr></thead>\n",
       "<tbody>\n",
       "\t<tr><td>410                              </td><td>21206                            </td><td>Frankford                        </td><td> 2                               </td><td>NORTHEASTERN                     </td><td>4509 BELAIR ROAD\n",
       "Baltimore, MD  </td></tr>\n",
       "\t<tr><td>1919                             </td><td>21231                            </td><td>Fells Point                      </td><td> 1                               </td><td>SOUTHEASTERN                     </td><td>1919 FLEET ST\n",
       "Baltimore, MD     </td></tr>\n",
       "\t<tr><td>SAUTE                            </td><td>21224                            </td><td>Canton                           </td><td> 1                               </td><td>SOUTHEASTERN                     </td><td>2844 HUDSON ST\n",
       "Baltimore, MD    </td></tr>\n",
       "\t<tr><td>#1 CHINESE KITCHEN               </td><td>21211                            </td><td>Hampden                          </td><td>14                               </td><td>NORTHERN                         </td><td>3998 ROLAND AVE\n",
       "Baltimore, MD   </td></tr>\n",
       "\t<tr><td>#1 chinese restaurant            </td><td>21223                            </td><td>Millhill                         </td><td> 9                               </td><td>SOUTHWESTERN                     </td><td>2481 frederick ave\n",
       "Baltimore, MD</td></tr>\n",
       "\t<tr><td>19TH HOLE                        </td><td>21218                            </td><td>Clifton Park                     </td><td>14                               </td><td>NORTHEASTERN                     </td><td>2722 HARFORD RD\n",
       "Baltimore, MD   </td></tr>\n",
       "</tbody>\n",
       "</table>\n"
      ],
      "text/latex": [
       "\\begin{tabular}{r|llllll}\n",
       " name & zipCode & neighborhood & councilDistrict & policeDistrict & Location.1\\\\\n",
       "\\hline\n",
       "\t 410                               & 21206                             & Frankford                         &  2                                & NORTHEASTERN                      & 4509 BELAIR ROAD\n",
       "Baltimore, MD  \\\\\n",
       "\t 1919                              & 21231                             & Fells Point                       &  1                                & SOUTHEASTERN                      & 1919 FLEET ST\n",
       "Baltimore, MD     \\\\\n",
       "\t SAUTE                             & 21224                             & Canton                            &  1                                & SOUTHEASTERN                      & 2844 HUDSON ST\n",
       "Baltimore, MD    \\\\\n",
       "\t \\#1 CHINESE KITCHEN              & 21211                             & Hampden                           & 14                                & NORTHERN                          & 3998 ROLAND AVE\n",
       "Baltimore, MD   \\\\\n",
       "\t \\#1 chinese restaurant           & 21223                             & Millhill                          &  9                                & SOUTHWESTERN                      & 2481 frederick ave\n",
       "Baltimore, MD\\\\\n",
       "\t 19TH HOLE                         & 21218                             & Clifton Park                      & 14                                & NORTHEASTERN                      & 2722 HARFORD RD\n",
       "Baltimore, MD   \\\\\n",
       "\\end{tabular}\n"
      ],
      "text/markdown": [
       "\n",
       "name | zipCode | neighborhood | councilDistrict | policeDistrict | Location.1 | \n",
       "|---|---|---|---|---|---|\n",
       "| 410                               | 21206                             | Frankford                         |  2                                | NORTHEASTERN                      | 4509 BELAIR ROAD\n",
       "Baltimore, MD   | \n",
       "| 1919                              | 21231                             | Fells Point                       |  1                                | SOUTHEASTERN                      | 1919 FLEET ST\n",
       "Baltimore, MD      | \n",
       "| SAUTE                             | 21224                             | Canton                            |  1                                | SOUTHEASTERN                      | 2844 HUDSON ST\n",
       "Baltimore, MD     | \n",
       "| #1 CHINESE KITCHEN                | 21211                             | Hampden                           | 14                                | NORTHERN                          | 3998 ROLAND AVE\n",
       "Baltimore, MD    | \n",
       "| #1 chinese restaurant             | 21223                             | Millhill                          |  9                                | SOUTHWESTERN                      | 2481 frederick ave\n",
       "Baltimore, MD | \n",
       "| 19TH HOLE                         | 21218                             | Clifton Park                      | 14                                | NORTHEASTERN                      | 2722 HARFORD RD\n",
       "Baltimore, MD    | \n",
       "\n",
       "\n"
      ],
      "text/plain": [
       "  name                  zipCode neighborhood councilDistrict policeDistrict\n",
       "1 410                   21206   Frankford     2              NORTHEASTERN  \n",
       "2 1919                  21231   Fells Point   1              SOUTHEASTERN  \n",
       "3 SAUTE                 21224   Canton        1              SOUTHEASTERN  \n",
       "4 #1 CHINESE KITCHEN    21211   Hampden      14              NORTHERN      \n",
       "5 #1 chinese restaurant 21223   Millhill      9              SOUTHWESTERN  \n",
       "6 19TH HOLE             21218   Clifton Park 14              NORTHEASTERN  \n",
       "  Location.1                       \n",
       "1 4509 BELAIR ROAD\\nBaltimore, MD  \n",
       "2 1919 FLEET ST\\nBaltimore, MD     \n",
       "3 2844 HUDSON ST\\nBaltimore, MD    \n",
       "4 3998 ROLAND AVE\\nBaltimore, MD   \n",
       "5 2481 frederick ave\\nBaltimore, MD\n",
       "6 2722 HARFORD RD\\nBaltimore, MD   "
      ]
     },
     "metadata": {},
     "output_type": "display_data"
    }
   ],
   "source": [
    "head(restData)"
   ]
  },
  {
   "cell_type": "code",
   "execution_count": 4,
   "metadata": {},
   "outputs": [
    {
     "data": {
      "text/plain": [
       "\n",
       "FALSE  TRUE \n",
       " 1314    13 "
      ]
     },
     "metadata": {},
     "output_type": "display_data"
    }
   ],
   "source": [
    "\n",
    "# let's create a table with the restaurant that are near me\n",
    "restData$nearMe = restData$neighborhood %in% c(\"Roland Park\", \"Homeland\")\n",
    "table(restData$nearMe)"
   ]
  },
  {
   "cell_type": "code",
   "execution_count": 5,
   "metadata": {},
   "outputs": [
    {
     "data": {
      "text/html": [
       "<table>\n",
       "<thead><tr><th scope=col>name</th><th scope=col>zipCode</th><th scope=col>neighborhood</th><th scope=col>councilDistrict</th><th scope=col>policeDistrict</th><th scope=col>Location.1</th><th scope=col>nearMe</th><th scope=col>zipWrong</th></tr></thead>\n",
       "<tbody>\n",
       "\t<tr><td>410                              </td><td>21206                            </td><td>Frankford                        </td><td> 2                               </td><td>NORTHEASTERN                     </td><td>4509 BELAIR ROAD\n",
       "Baltimore, MD  </td><td>FALSE                            </td><td>Does have Zipcode                </td></tr>\n",
       "\t<tr><td>1919                             </td><td>21231                            </td><td>Fells Point                      </td><td> 1                               </td><td>SOUTHEASTERN                     </td><td>1919 FLEET ST\n",
       "Baltimore, MD     </td><td>FALSE                            </td><td>Does have Zipcode                </td></tr>\n",
       "\t<tr><td>SAUTE                            </td><td>21224                            </td><td>Canton                           </td><td> 1                               </td><td>SOUTHEASTERN                     </td><td>2844 HUDSON ST\n",
       "Baltimore, MD    </td><td>FALSE                            </td><td>Does have Zipcode                </td></tr>\n",
       "\t<tr><td>#1 CHINESE KITCHEN               </td><td>21211                            </td><td>Hampden                          </td><td>14                               </td><td>NORTHERN                         </td><td>3998 ROLAND AVE\n",
       "Baltimore, MD   </td><td>FALSE                            </td><td>Does have Zipcode                </td></tr>\n",
       "\t<tr><td>#1 chinese restaurant            </td><td>21223                            </td><td>Millhill                         </td><td> 9                               </td><td>SOUTHWESTERN                     </td><td>2481 frederick ave\n",
       "Baltimore, MD</td><td>FALSE                            </td><td>Does have Zipcode                </td></tr>\n",
       "\t<tr><td>19TH HOLE                        </td><td>21218                            </td><td>Clifton Park                     </td><td>14                               </td><td>NORTHEASTERN                     </td><td>2722 HARFORD RD\n",
       "Baltimore, MD   </td><td>FALSE                            </td><td>Does have Zipcode                </td></tr>\n",
       "</tbody>\n",
       "</table>\n"
      ],
      "text/latex": [
       "\\begin{tabular}{r|llllllll}\n",
       " name & zipCode & neighborhood & councilDistrict & policeDistrict & Location.1 & nearMe & zipWrong\\\\\n",
       "\\hline\n",
       "\t 410                               & 21206                             & Frankford                         &  2                                & NORTHEASTERN                      & 4509 BELAIR ROAD\n",
       "Baltimore, MD   & FALSE                             & Does have Zipcode                \\\\\n",
       "\t 1919                              & 21231                             & Fells Point                       &  1                                & SOUTHEASTERN                      & 1919 FLEET ST\n",
       "Baltimore, MD      & FALSE                             & Does have Zipcode                \\\\\n",
       "\t SAUTE                             & 21224                             & Canton                            &  1                                & SOUTHEASTERN                      & 2844 HUDSON ST\n",
       "Baltimore, MD     & FALSE                             & Does have Zipcode                \\\\\n",
       "\t \\#1 CHINESE KITCHEN              & 21211                             & Hampden                           & 14                                & NORTHERN                          & 3998 ROLAND AVE\n",
       "Baltimore, MD    & FALSE                             & Does have Zipcode                \\\\\n",
       "\t \\#1 chinese restaurant           & 21223                             & Millhill                          &  9                                & SOUTHWESTERN                      & 2481 frederick ave\n",
       "Baltimore, MD & FALSE                             & Does have Zipcode                \\\\\n",
       "\t 19TH HOLE                         & 21218                             & Clifton Park                      & 14                                & NORTHEASTERN                      & 2722 HARFORD RD\n",
       "Baltimore, MD    & FALSE                             & Does have Zipcode                \\\\\n",
       "\\end{tabular}\n"
      ],
      "text/markdown": [
       "\n",
       "name | zipCode | neighborhood | councilDistrict | policeDistrict | Location.1 | nearMe | zipWrong | \n",
       "|---|---|---|---|---|---|\n",
       "| 410                               | 21206                             | Frankford                         |  2                                | NORTHEASTERN                      | 4509 BELAIR ROAD\n",
       "Baltimore, MD   | FALSE                             | Does have Zipcode                 | \n",
       "| 1919                              | 21231                             | Fells Point                       |  1                                | SOUTHEASTERN                      | 1919 FLEET ST\n",
       "Baltimore, MD      | FALSE                             | Does have Zipcode                 | \n",
       "| SAUTE                             | 21224                             | Canton                            |  1                                | SOUTHEASTERN                      | 2844 HUDSON ST\n",
       "Baltimore, MD     | FALSE                             | Does have Zipcode                 | \n",
       "| #1 CHINESE KITCHEN                | 21211                             | Hampden                           | 14                                | NORTHERN                          | 3998 ROLAND AVE\n",
       "Baltimore, MD    | FALSE                             | Does have Zipcode                 | \n",
       "| #1 chinese restaurant             | 21223                             | Millhill                          |  9                                | SOUTHWESTERN                      | 2481 frederick ave\n",
       "Baltimore, MD | FALSE                             | Does have Zipcode                 | \n",
       "| 19TH HOLE                         | 21218                             | Clifton Park                      | 14                                | NORTHEASTERN                      | 2722 HARFORD RD\n",
       "Baltimore, MD    | FALSE                             | Does have Zipcode                 | \n",
       "\n",
       "\n"
      ],
      "text/plain": [
       "  name                  zipCode neighborhood councilDistrict policeDistrict\n",
       "1 410                   21206   Frankford     2              NORTHEASTERN  \n",
       "2 1919                  21231   Fells Point   1              SOUTHEASTERN  \n",
       "3 SAUTE                 21224   Canton        1              SOUTHEASTERN  \n",
       "4 #1 CHINESE KITCHEN    21211   Hampden      14              NORTHERN      \n",
       "5 #1 chinese restaurant 21223   Millhill      9              SOUTHWESTERN  \n",
       "6 19TH HOLE             21218   Clifton Park 14              NORTHEASTERN  \n",
       "  Location.1                        nearMe zipWrong         \n",
       "1 4509 BELAIR ROAD\\nBaltimore, MD   FALSE  Does have Zipcode\n",
       "2 1919 FLEET ST\\nBaltimore, MD      FALSE  Does have Zipcode\n",
       "3 2844 HUDSON ST\\nBaltimore, MD     FALSE  Does have Zipcode\n",
       "4 3998 ROLAND AVE\\nBaltimore, MD    FALSE  Does have Zipcode\n",
       "5 2481 frederick ave\\nBaltimore, MD FALSE  Does have Zipcode\n",
       "6 2722 HARFORD RD\\nBaltimore, MD    FALSE  Does have Zipcode"
      ]
     },
     "metadata": {},
     "output_type": "display_data"
    },
    {
     "data": {
      "text/plain": [
       "                       \n",
       "                        FALSE TRUE\n",
       "  Does have Zipcode      1326    0\n",
       "  Does not Have Zipcode     0    1"
      ]
     },
     "metadata": {},
     "output_type": "display_data"
    }
   ],
   "source": [
    "restData$zipWrong = ifelse(restData$zipCode < 0, \"Does not Have Zipcode\", \"Does have Zipcode\")\n",
    "head(restData)\n",
    "table(restData$zipWrong, restData$zipCode<0)"
   ]
  },
  {
   "cell_type": "code",
   "execution_count": 6,
   "metadata": {},
   "outputs": [
    {
     "data": {
      "text/plain": [
       "\n",
       "(-2.123e+04,2.12e+04]  (2.12e+04,2.122e+04] (2.122e+04,2.123e+04] \n",
       "                  337                   375                   282 \n",
       "(2.123e+04,2.129e+04] \n",
       "                  332 "
      ]
     },
     "metadata": {},
     "output_type": "display_data"
    }
   ],
   "source": [
    "# creating categorical variables\n",
    "restData$zipGroups = cut(restData$zipCode, breaks=quantile(restData$zipCode))\n",
    "table(restData$zipGroups)"
   ]
  },
  {
   "cell_type": "code",
   "execution_count": 7,
   "metadata": {},
   "outputs": [
    {
     "data": {
      "text/plain": [
       "                       \n",
       "                        -21226 21201 21202 21205 21206 21207 21208 21209 21210\n",
       "  (-2.123e+04,2.12e+04]      0   136   201     0     0     0     0     0     0\n",
       "  (2.12e+04,2.122e+04]       0     0     0    27    30     4     1     8    23\n",
       "  (2.122e+04,2.123e+04]      0     0     0     0     0     0     0     0     0\n",
       "  (2.123e+04,2.129e+04]      0     0     0     0     0     0     0     0     0\n",
       "                       \n",
       "                        21211 21212 21213 21214 21215 21216 21217 21218 21220\n",
       "  (-2.123e+04,2.12e+04]     0     0     0     0     0     0     0     0     0\n",
       "  (2.12e+04,2.122e+04]     41    28    31    17    54    10    32    69     0\n",
       "  (2.122e+04,2.123e+04]     0     0     0     0     0     0     0     0     1\n",
       "  (2.123e+04,2.129e+04]     0     0     0     0     0     0     0     0     0\n",
       "                       \n",
       "                        21222 21223 21224 21225 21226 21227 21229 21230 21231\n",
       "  (-2.123e+04,2.12e+04]     0     0     0     0     0     0     0     0     0\n",
       "  (2.12e+04,2.122e+04]      0     0     0     0     0     0     0     0     0\n",
       "  (2.122e+04,2.123e+04]     7    56   199    19     0     0     0     0     0\n",
       "  (2.123e+04,2.129e+04]     0     0     0     0    18     4    13   156   127\n",
       "                       \n",
       "                        21234 21237 21239 21251 21287\n",
       "  (-2.123e+04,2.12e+04]     0     0     0     0     0\n",
       "  (2.12e+04,2.122e+04]      0     0     0     0     0\n",
       "  (2.122e+04,2.123e+04]     0     0     0     0     0\n",
       "  (2.123e+04,2.129e+04]     7     1     3     2     1"
      ]
     },
     "metadata": {},
     "output_type": "display_data"
    }
   ],
   "source": [
    "table(restData$zipGroups, restData$zipCode)"
   ]
  },
  {
   "cell_type": "code",
   "execution_count": 12,
   "metadata": {},
   "outputs": [],
   "source": [
    "library(Hmisc)"
   ]
  },
  {
   "cell_type": "code",
   "execution_count": 13,
   "metadata": {},
   "outputs": [
    {
     "data": {
      "text/plain": [
       "\n",
       "[-21226,21205) [ 21205,21220) [ 21220,21227) [ 21227,21287] \n",
       "           338            375            300            314 "
      ]
     },
     "metadata": {},
     "output_type": "display_data"
    }
   ],
   "source": [
    "restData$zipGroups = cut2(restData$zipCode, g=4)\n",
    "table(restData$zipGroups)"
   ]
  },
  {
   "cell_type": "code",
   "execution_count": 16,
   "metadata": {},
   "outputs": [
    {
     "data": {
      "text/html": [
       "<ol class=list-inline>\n",
       "\t<li>21206</li>\n",
       "\t<li>21231</li>\n",
       "\t<li>21224</li>\n",
       "\t<li>21211</li>\n",
       "\t<li>21223</li>\n",
       "\t<li>21218</li>\n",
       "\t<li>21205</li>\n",
       "\t<li>21211</li>\n",
       "\t<li>21205</li>\n",
       "\t<li>21231</li>\n",
       "</ol>\n",
       "\n",
       "<details>\n",
       "\t<summary style=display:list-item;cursor:pointer>\n",
       "\t\t<strong>Levels</strong>:\n",
       "\t</summary>\n",
       "\t<ol class=list-inline>\n",
       "\t\t<li>'-21226'</li>\n",
       "\t\t<li>'21201'</li>\n",
       "\t\t<li>'21202'</li>\n",
       "\t\t<li>'21205'</li>\n",
       "\t\t<li>'21206'</li>\n",
       "\t\t<li>'21207'</li>\n",
       "\t\t<li>'21208'</li>\n",
       "\t\t<li>'21209'</li>\n",
       "\t\t<li>'21210'</li>\n",
       "\t\t<li>'21211'</li>\n",
       "\t\t<li>'21212'</li>\n",
       "\t\t<li>'21213'</li>\n",
       "\t\t<li>'21214'</li>\n",
       "\t\t<li>'21215'</li>\n",
       "\t\t<li>'21216'</li>\n",
       "\t\t<li>'21217'</li>\n",
       "\t\t<li>'21218'</li>\n",
       "\t\t<li>'21220'</li>\n",
       "\t\t<li>'21222'</li>\n",
       "\t\t<li>'21223'</li>\n",
       "\t\t<li>'21224'</li>\n",
       "\t\t<li>'21225'</li>\n",
       "\t\t<li>'21226'</li>\n",
       "\t\t<li>'21227'</li>\n",
       "\t\t<li>'21229'</li>\n",
       "\t\t<li>'21230'</li>\n",
       "\t\t<li>'21231'</li>\n",
       "\t\t<li>'21234'</li>\n",
       "\t\t<li>'21237'</li>\n",
       "\t\t<li>'21239'</li>\n",
       "\t\t<li>'21251'</li>\n",
       "\t\t<li>'21287'</li>\n",
       "\t</ol>\n",
       "</details>"
      ],
      "text/latex": [
       "\\begin{enumerate*}\n",
       "\\item 21206\n",
       "\\item 21231\n",
       "\\item 21224\n",
       "\\item 21211\n",
       "\\item 21223\n",
       "\\item 21218\n",
       "\\item 21205\n",
       "\\item 21211\n",
       "\\item 21205\n",
       "\\item 21231\n",
       "\\end{enumerate*}\n",
       "\n",
       "\\emph{Levels}: \\begin{enumerate*}\n",
       "\\item '-21226'\n",
       "\\item '21201'\n",
       "\\item '21202'\n",
       "\\item '21205'\n",
       "\\item '21206'\n",
       "\\item '21207'\n",
       "\\item '21208'\n",
       "\\item '21209'\n",
       "\\item '21210'\n",
       "\\item '21211'\n",
       "\\item '21212'\n",
       "\\item '21213'\n",
       "\\item '21214'\n",
       "\\item '21215'\n",
       "\\item '21216'\n",
       "\\item '21217'\n",
       "\\item '21218'\n",
       "\\item '21220'\n",
       "\\item '21222'\n",
       "\\item '21223'\n",
       "\\item '21224'\n",
       "\\item '21225'\n",
       "\\item '21226'\n",
       "\\item '21227'\n",
       "\\item '21229'\n",
       "\\item '21230'\n",
       "\\item '21231'\n",
       "\\item '21234'\n",
       "\\item '21237'\n",
       "\\item '21239'\n",
       "\\item '21251'\n",
       "\\item '21287'\n",
       "\\end{enumerate*}\n"
      ],
      "text/markdown": [
       "1. 21206\n",
       "2. 21231\n",
       "3. 21224\n",
       "4. 21211\n",
       "5. 21223\n",
       "6. 21218\n",
       "7. 21205\n",
       "8. 21211\n",
       "9. 21205\n",
       "10. 21231\n",
       "\n",
       "\n",
       "\n",
       "**Levels**: 1. '-21226'\n",
       "2. '21201'\n",
       "3. '21202'\n",
       "4. '21205'\n",
       "5. '21206'\n",
       "6. '21207'\n",
       "7. '21208'\n",
       "8. '21209'\n",
       "9. '21210'\n",
       "10. '21211'\n",
       "11. '21212'\n",
       "12. '21213'\n",
       "13. '21214'\n",
       "14. '21215'\n",
       "15. '21216'\n",
       "16. '21217'\n",
       "17. '21218'\n",
       "18. '21220'\n",
       "19. '21222'\n",
       "20. '21223'\n",
       "21. '21224'\n",
       "22. '21225'\n",
       "23. '21226'\n",
       "24. '21227'\n",
       "25. '21229'\n",
       "26. '21230'\n",
       "27. '21231'\n",
       "28. '21234'\n",
       "29. '21237'\n",
       "30. '21239'\n",
       "31. '21251'\n",
       "32. '21287'\n",
       "\n",
       "\n"
      ],
      "text/plain": [
       " [1] 21206 21231 21224 21211 21223 21218 21205 21211 21205 21231\n",
       "32 Levels: -21226 21201 21202 21205 21206 21207 21208 21209 21210 ... 21287"
      ]
     },
     "metadata": {},
     "output_type": "display_data"
    },
    {
     "data": {
      "text/html": [
       "<table>\n",
       "<thead><tr><th scope=col>name</th><th scope=col>zipCode</th><th scope=col>neighborhood</th><th scope=col>councilDistrict</th><th scope=col>policeDistrict</th><th scope=col>Location.1</th><th scope=col>nearMe</th><th scope=col>zipWrong</th><th scope=col>zipGroups</th><th scope=col>zcf</th></tr></thead>\n",
       "<tbody>\n",
       "\t<tr><td>410                              </td><td>21206                            </td><td>Frankford                        </td><td> 2                               </td><td>NORTHEASTERN                     </td><td>4509 BELAIR ROAD\n",
       "Baltimore, MD  </td><td>FALSE                            </td><td>Does have Zipcode                </td><td>[ 21205,21220)                   </td><td>21206                            </td></tr>\n",
       "\t<tr><td>1919                             </td><td>21231                            </td><td>Fells Point                      </td><td> 1                               </td><td>SOUTHEASTERN                     </td><td>1919 FLEET ST\n",
       "Baltimore, MD     </td><td>FALSE                            </td><td>Does have Zipcode                </td><td>[ 21227,21287]                   </td><td>21231                            </td></tr>\n",
       "\t<tr><td>SAUTE                            </td><td>21224                            </td><td>Canton                           </td><td> 1                               </td><td>SOUTHEASTERN                     </td><td>2844 HUDSON ST\n",
       "Baltimore, MD    </td><td>FALSE                            </td><td>Does have Zipcode                </td><td>[ 21220,21227)                   </td><td>21224                            </td></tr>\n",
       "\t<tr><td>#1 CHINESE KITCHEN               </td><td>21211                            </td><td>Hampden                          </td><td>14                               </td><td>NORTHERN                         </td><td>3998 ROLAND AVE\n",
       "Baltimore, MD   </td><td>FALSE                            </td><td>Does have Zipcode                </td><td>[ 21205,21220)                   </td><td>21211                            </td></tr>\n",
       "\t<tr><td>#1 chinese restaurant            </td><td>21223                            </td><td>Millhill                         </td><td> 9                               </td><td>SOUTHWESTERN                     </td><td>2481 frederick ave\n",
       "Baltimore, MD</td><td>FALSE                            </td><td>Does have Zipcode                </td><td>[ 21220,21227)                   </td><td>21223                            </td></tr>\n",
       "\t<tr><td>19TH HOLE                        </td><td>21218                            </td><td>Clifton Park                     </td><td>14                               </td><td>NORTHEASTERN                     </td><td>2722 HARFORD RD\n",
       "Baltimore, MD   </td><td>FALSE                            </td><td>Does have Zipcode                </td><td>[ 21205,21220)                   </td><td>21218                            </td></tr>\n",
       "</tbody>\n",
       "</table>\n"
      ],
      "text/latex": [
       "\\begin{tabular}{r|llllllllll}\n",
       " name & zipCode & neighborhood & councilDistrict & policeDistrict & Location.1 & nearMe & zipWrong & zipGroups & zcf\\\\\n",
       "\\hline\n",
       "\t 410                               & 21206                             & Frankford                         &  2                                & NORTHEASTERN                      & 4509 BELAIR ROAD\n",
       "Baltimore, MD   & FALSE                             & Does have Zipcode                 & {[} 21205,21220)                  & 21206                            \\\\\n",
       "\t 1919                              & 21231                             & Fells Point                       &  1                                & SOUTHEASTERN                      & 1919 FLEET ST\n",
       "Baltimore, MD      & FALSE                             & Does have Zipcode                 & {[} 21227,21287{]}                & 21231                            \\\\\n",
       "\t SAUTE                             & 21224                             & Canton                            &  1                                & SOUTHEASTERN                      & 2844 HUDSON ST\n",
       "Baltimore, MD     & FALSE                             & Does have Zipcode                 & {[} 21220,21227)                  & 21224                            \\\\\n",
       "\t \\#1 CHINESE KITCHEN              & 21211                             & Hampden                           & 14                                & NORTHERN                          & 3998 ROLAND AVE\n",
       "Baltimore, MD    & FALSE                             & Does have Zipcode                 & {[} 21205,21220)                  & 21211                            \\\\\n",
       "\t \\#1 chinese restaurant           & 21223                             & Millhill                          &  9                                & SOUTHWESTERN                      & 2481 frederick ave\n",
       "Baltimore, MD & FALSE                             & Does have Zipcode                 & {[} 21220,21227)                  & 21223                            \\\\\n",
       "\t 19TH HOLE                         & 21218                             & Clifton Park                      & 14                                & NORTHEASTERN                      & 2722 HARFORD RD\n",
       "Baltimore, MD    & FALSE                             & Does have Zipcode                 & {[} 21205,21220)                  & 21218                            \\\\\n",
       "\\end{tabular}\n"
      ],
      "text/markdown": [
       "\n",
       "name | zipCode | neighborhood | councilDistrict | policeDistrict | Location.1 | nearMe | zipWrong | zipGroups | zcf | \n",
       "|---|---|---|---|---|---|\n",
       "| 410                               | 21206                             | Frankford                         |  2                                | NORTHEASTERN                      | 4509 BELAIR ROAD\n",
       "Baltimore, MD   | FALSE                             | Does have Zipcode                 | [ 21205,21220)                    | 21206                             | \n",
       "| 1919                              | 21231                             | Fells Point                       |  1                                | SOUTHEASTERN                      | 1919 FLEET ST\n",
       "Baltimore, MD      | FALSE                             | Does have Zipcode                 | [ 21227,21287]                    | 21231                             | \n",
       "| SAUTE                             | 21224                             | Canton                            |  1                                | SOUTHEASTERN                      | 2844 HUDSON ST\n",
       "Baltimore, MD     | FALSE                             | Does have Zipcode                 | [ 21220,21227)                    | 21224                             | \n",
       "| #1 CHINESE KITCHEN                | 21211                             | Hampden                           | 14                                | NORTHERN                          | 3998 ROLAND AVE\n",
       "Baltimore, MD    | FALSE                             | Does have Zipcode                 | [ 21205,21220)                    | 21211                             | \n",
       "| #1 chinese restaurant             | 21223                             | Millhill                          |  9                                | SOUTHWESTERN                      | 2481 frederick ave\n",
       "Baltimore, MD | FALSE                             | Does have Zipcode                 | [ 21220,21227)                    | 21223                             | \n",
       "| 19TH HOLE                         | 21218                             | Clifton Park                      | 14                                | NORTHEASTERN                      | 2722 HARFORD RD\n",
       "Baltimore, MD    | FALSE                             | Does have Zipcode                 | [ 21205,21220)                    | 21218                             | \n",
       "\n",
       "\n"
      ],
      "text/plain": [
       "  name                  zipCode neighborhood councilDistrict policeDistrict\n",
       "1 410                   21206   Frankford     2              NORTHEASTERN  \n",
       "2 1919                  21231   Fells Point   1              SOUTHEASTERN  \n",
       "3 SAUTE                 21224   Canton        1              SOUTHEASTERN  \n",
       "4 #1 CHINESE KITCHEN    21211   Hampden      14              NORTHERN      \n",
       "5 #1 chinese restaurant 21223   Millhill      9              SOUTHWESTERN  \n",
       "6 19TH HOLE             21218   Clifton Park 14              NORTHEASTERN  \n",
       "  Location.1                        nearMe zipWrong          zipGroups     \n",
       "1 4509 BELAIR ROAD\\nBaltimore, MD   FALSE  Does have Zipcode [ 21205,21220)\n",
       "2 1919 FLEET ST\\nBaltimore, MD      FALSE  Does have Zipcode [ 21227,21287]\n",
       "3 2844 HUDSON ST\\nBaltimore, MD     FALSE  Does have Zipcode [ 21220,21227)\n",
       "4 3998 ROLAND AVE\\nBaltimore, MD    FALSE  Does have Zipcode [ 21205,21220)\n",
       "5 2481 frederick ave\\nBaltimore, MD FALSE  Does have Zipcode [ 21220,21227)\n",
       "6 2722 HARFORD RD\\nBaltimore, MD    FALSE  Does have Zipcode [ 21205,21220)\n",
       "  zcf  \n",
       "1 21206\n",
       "2 21231\n",
       "3 21224\n",
       "4 21211\n",
       "5 21223\n",
       "6 21218"
      ]
     },
     "metadata": {},
     "output_type": "display_data"
    }
   ],
   "source": [
    "restData$zcf <- factor(restData$zipCode)\n",
    "restData$zcf[1:10]\n",
    "head(restData)"
   ]
  },
  {
   "cell_type": "code",
   "execution_count": 24,
   "metadata": {},
   "outputs": [
    {
     "data": {
      "text/html": [
       "<ol class=list-inline>\n",
       "\t<li>'no'</li>\n",
       "\t<li>'yes'</li>\n",
       "\t<li>'no'</li>\n",
       "\t<li>'no'</li>\n",
       "\t<li>'no'</li>\n",
       "\t<li>'yes'</li>\n",
       "\t<li>'yes'</li>\n",
       "\t<li>'no'</li>\n",
       "\t<li>'yes'</li>\n",
       "\t<li>'no'</li>\n",
       "</ol>\n"
      ],
      "text/latex": [
       "\\begin{enumerate*}\n",
       "\\item 'no'\n",
       "\\item 'yes'\n",
       "\\item 'no'\n",
       "\\item 'no'\n",
       "\\item 'no'\n",
       "\\item 'yes'\n",
       "\\item 'yes'\n",
       "\\item 'no'\n",
       "\\item 'yes'\n",
       "\\item 'no'\n",
       "\\end{enumerate*}\n"
      ],
      "text/markdown": [
       "1. 'no'\n",
       "2. 'yes'\n",
       "3. 'no'\n",
       "4. 'no'\n",
       "5. 'no'\n",
       "6. 'yes'\n",
       "7. 'yes'\n",
       "8. 'no'\n",
       "9. 'yes'\n",
       "10. 'no'\n",
       "\n",
       "\n"
      ],
      "text/plain": [
       " [1] \"no\"  \"yes\" \"no\"  \"no\"  \"no\"  \"yes\" \"yes\" \"no\"  \"yes\" \"no\" "
      ]
     },
     "metadata": {},
     "output_type": "display_data"
    },
    {
     "data": {
      "text/html": [
       "<ol class=list-inline>\n",
       "\t<li>no</li>\n",
       "\t<li>yes</li>\n",
       "\t<li>no</li>\n",
       "\t<li>no</li>\n",
       "\t<li>no</li>\n",
       "\t<li>yes</li>\n",
       "\t<li>yes</li>\n",
       "\t<li>no</li>\n",
       "\t<li>yes</li>\n",
       "\t<li>no</li>\n",
       "</ol>\n",
       "\n",
       "<details>\n",
       "\t<summary style=display:list-item;cursor:pointer>\n",
       "\t\t<strong>Levels</strong>:\n",
       "\t</summary>\n",
       "\t<ol class=list-inline>\n",
       "\t\t<li>'yes'</li>\n",
       "\t\t<li>'no'</li>\n",
       "\t</ol>\n",
       "</details>"
      ],
      "text/latex": [
       "\\begin{enumerate*}\n",
       "\\item no\n",
       "\\item yes\n",
       "\\item no\n",
       "\\item no\n",
       "\\item no\n",
       "\\item yes\n",
       "\\item yes\n",
       "\\item no\n",
       "\\item yes\n",
       "\\item no\n",
       "\\end{enumerate*}\n",
       "\n",
       "\\emph{Levels}: \\begin{enumerate*}\n",
       "\\item 'yes'\n",
       "\\item 'no'\n",
       "\\end{enumerate*}\n"
      ],
      "text/markdown": [
       "1. no\n",
       "2. yes\n",
       "3. no\n",
       "4. no\n",
       "5. no\n",
       "6. yes\n",
       "7. yes\n",
       "8. no\n",
       "9. yes\n",
       "10. no\n",
       "\n",
       "\n",
       "\n",
       "**Levels**: 1. 'yes'\n",
       "2. 'no'\n",
       "\n",
       "\n"
      ],
      "text/plain": [
       " [1] no  yes no  no  no  yes yes no  yes no \n",
       "Levels: yes no"
      ]
     },
     "metadata": {},
     "output_type": "display_data"
    },
    {
     "data": {
      "text/html": [
       "<ol class=list-inline>\n",
       "\t<li>no</li>\n",
       "\t<li>yes</li>\n",
       "\t<li>no</li>\n",
       "\t<li>no</li>\n",
       "\t<li>no</li>\n",
       "\t<li>yes</li>\n",
       "\t<li>yes</li>\n",
       "\t<li>no</li>\n",
       "\t<li>yes</li>\n",
       "\t<li>no</li>\n",
       "</ol>\n",
       "\n",
       "<details>\n",
       "\t<summary style=display:list-item;cursor:pointer>\n",
       "\t\t<strong>Levels</strong>:\n",
       "\t</summary>\n",
       "\t<ol class=list-inline>\n",
       "\t\t<li>'no'</li>\n",
       "\t\t<li>'yes'</li>\n",
       "\t</ol>\n",
       "</details>"
      ],
      "text/latex": [
       "\\begin{enumerate*}\n",
       "\\item no\n",
       "\\item yes\n",
       "\\item no\n",
       "\\item no\n",
       "\\item no\n",
       "\\item yes\n",
       "\\item yes\n",
       "\\item no\n",
       "\\item yes\n",
       "\\item no\n",
       "\\end{enumerate*}\n",
       "\n",
       "\\emph{Levels}: \\begin{enumerate*}\n",
       "\\item 'no'\n",
       "\\item 'yes'\n",
       "\\end{enumerate*}\n"
      ],
      "text/markdown": [
       "1. no\n",
       "2. yes\n",
       "3. no\n",
       "4. no\n",
       "5. no\n",
       "6. yes\n",
       "7. yes\n",
       "8. no\n",
       "9. yes\n",
       "10. no\n",
       "\n",
       "\n",
       "\n",
       "**Levels**: 1. 'no'\n",
       "2. 'yes'\n",
       "\n",
       "\n"
      ],
      "text/plain": [
       " [1] no  yes no  no  no  yes yes no  yes no \n",
       "Levels: no yes"
      ]
     },
     "metadata": {},
     "output_type": "display_data"
    }
   ],
   "source": [
    "# levels of factor variables\n",
    "# in the following code we can see that we are changing the order \n",
    "# of level of the yesnofac\n",
    "yesno <- sample(c(\"yes\",\"no\"), size=10, replace=TRUE)\n",
    "yesno\n",
    "yesnofac = factor(yesno, levels=c(\"yes\",\"no\"))\n",
    "yesnofac\n",
    "relevel(yesnofac, ref=\"no\")\n"
   ]
  },
  {
   "cell_type": "code",
   "execution_count": 32,
   "metadata": {},
   "outputs": [],
   "source": [
    "library(Hmisc)\n",
    "library(plyr)"
   ]
  },
  {
   "cell_type": "code",
   "execution_count": 30,
   "metadata": {},
   "outputs": [
    {
     "data": {
      "text/plain": [
       "\n",
       "[-21226,21205) [ 21205,21220) [ 21220,21227) [ 21227,21287] \n",
       "           338            375            300            314 "
      ]
     },
     "metadata": {},
     "output_type": "display_data"
    }
   ],
   "source": [
    "restData$zipGroups = cut2(restData$zipCode, g=4)\n",
    "table(restData$zipGroups)"
   ]
  },
  {
   "cell_type": "code",
   "execution_count": 36,
   "metadata": {},
   "outputs": [
    {
     "data": {
      "text/plain": [
       "\n",
       "[-21226,21205) [ 21205,21220) [ 21220,21227) [ 21227,21287] \n",
       "           338            375            300            314 "
      ]
     },
     "metadata": {},
     "output_type": "display_data"
    }
   ],
   "source": [
    "restData2 = mutate(restData, zipGroups=cut2(zipCode, g=4))\n",
    "table(restData2$zipGroups)"
   ]
  },
  {
   "cell_type": "code",
   "execution_count": null,
   "metadata": {},
   "outputs": [],
   "source": []
  }
 ],
 "metadata": {
  "kernelspec": {
   "display_name": "R",
   "language": "R",
   "name": "ir"
  },
  "language_info": {
   "codemirror_mode": "r",
   "file_extension": ".r",
   "mimetype": "text/x-r-source",
   "name": "R",
   "pygments_lexer": "r",
   "version": "3.4.4"
  }
 },
 "nbformat": 4,
 "nbformat_minor": 2
}
