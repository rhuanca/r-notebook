{
 "cells": [
  {
   "cell_type": "markdown",
   "metadata": {},
   "source": [
    "# Loop Functions - part II"
   ]
  },
  {
   "cell_type": "markdown",
   "metadata": {},
   "source": [
    "## mapply\n",
    "* works in parallel!!! :)"
   ]
  },
  {
   "cell_type": "code",
   "execution_count": 2,
   "metadata": {},
   "outputs": [
    {
     "name": "stdout",
     "output_type": "stream",
     "text": [
      "function (FUN, ..., MoreArgs = NULL, SIMPLIFY = TRUE, USE.NAMES = TRUE)  \n"
     ]
    }
   ],
   "source": [
    "str(mapply)"
   ]
  },
  {
   "cell_type": "code",
   "execution_count": 8,
   "metadata": {},
   "outputs": [
    {
     "name": "stdout",
     "output_type": "stream",
     "text": [
      "[[1]]\n",
      "[1] 1 1 1 1\n",
      "\n",
      "[[2]]\n",
      "[1] 2 2 2\n",
      "\n",
      "[[3]]\n",
      "[1] 3 3\n",
      "\n",
      "[[4]]\n",
      "[1] 4\n",
      "\n",
      "[[1]]\n",
      "[1] 1 1 1 1\n",
      "\n",
      "[[2]]\n",
      "[1] 2 2 2\n",
      "\n",
      "[[3]]\n",
      "[1] 3 3\n",
      "\n",
      "[[4]]\n",
      "[1] 4\n",
      "\n"
     ]
    }
   ],
   "source": [
    "x1 <- list(rep(1, 4), rep(2,3), rep(3,2), rep(4,1 ))\n",
    "print(x1)\n",
    "# this is also possible with:\n",
    "print(mapply(rep, 1:4, 4:1))"
   ]
  },
  {
   "cell_type": "code",
   "execution_count": 13,
   "metadata": {},
   "outputs": [
    {
     "data": {
      "text/html": [
       "<pre class=language-r><code>function (n, mean, sd) \n",
       "{\n",
       "<span style=white-space:pre-wrap>    rnorm(n, mean, sd)</span>\n",
       "}</code></pre>"
      ],
      "text/latex": [
       "\\begin{minted}{r}\n",
       "function (n, mean, sd) \n",
       "\\{\n",
       "    rnorm(n, mean, sd)\n",
       "\\}\n",
       "\\end{minted}"
      ],
      "text/markdown": [
       "```r\n",
       "function (n, mean, sd) \n",
       "{\n",
       "    rnorm(n, mean, sd)\n",
       "}\n",
       "```"
      ],
      "text/plain": [
       "function(n, mean, sd) {\n",
       "    rnorm(n, mean, sd)\n",
       "}"
      ]
     },
     "metadata": {},
     "output_type": "display_data"
    },
    {
     "data": {
      "text/html": [
       "<ol class=list-inline>\n",
       "\t<li>0.456849222519951</li>\n",
       "\t<li>2.07441110117598</li>\n",
       "\t<li>3.10779159875951</li>\n",
       "\t<li>1.60342088227651</li>\n",
       "\t<li>-1.13351026878391</li>\n",
       "</ol>\n"
      ],
      "text/latex": [
       "\\begin{enumerate*}\n",
       "\\item 0.456849222519951\n",
       "\\item 2.07441110117598\n",
       "\\item 3.10779159875951\n",
       "\\item 1.60342088227651\n",
       "\\item -1.13351026878391\n",
       "\\end{enumerate*}\n"
      ],
      "text/markdown": [
       "1. 0.456849222519951\n",
       "2. 2.07441110117598\n",
       "3. 3.10779159875951\n",
       "4. 1.60342088227651\n",
       "5. -1.13351026878391\n",
       "\n",
       "\n"
      ],
      "text/plain": [
       "[1]  0.4568492  2.0744111  3.1077916  1.6034209 -1.1335103"
      ]
     },
     "metadata": {},
     "output_type": "display_data"
    },
    {
     "data": {
      "text/html": [
       "<ol class=list-inline>\n",
       "\t<li>0.692115992803664</li>\n",
       "\t<li>1.48752385336533</li>\n",
       "\t<li>2.15335091795026</li>\n",
       "\t<li>3.51910308576676</li>\n",
       "\t<li>8.74427283782601</li>\n",
       "</ol>\n"
      ],
      "text/latex": [
       "\\begin{enumerate*}\n",
       "\\item 0.692115992803664\n",
       "\\item 1.48752385336533\n",
       "\\item 2.15335091795026\n",
       "\\item 3.51910308576676\n",
       "\\item 8.74427283782601\n",
       "\\end{enumerate*}\n"
      ],
      "text/markdown": [
       "1. 0.692115992803664\n",
       "2. 1.48752385336533\n",
       "3. 2.15335091795026\n",
       "4. 3.51910308576676\n",
       "5. 8.74427283782601\n",
       "\n",
       "\n"
      ],
      "text/plain": [
       "[1] 0.692116 1.487524 2.153351 3.519103 8.744273"
      ]
     },
     "metadata": {},
     "output_type": "display_data"
    },
    {
     "data": {
      "text/html": [
       "<ol>\n",
       "\t<li>1.45703889296027</li>\n",
       "\t<li><ol class=list-inline>\n",
       "\t<li>3.7540564241257</li>\n",
       "\t<li>2.19696340755953</li>\n",
       "</ol>\n",
       "</li>\n",
       "\t<li><ol class=list-inline>\n",
       "\t<li>4.91120520096904</li>\n",
       "\t<li>0.0155190708693977</li>\n",
       "\t<li>4.57760052683418</li>\n",
       "</ol>\n",
       "</li>\n",
       "\t<li><ol class=list-inline>\n",
       "\t<li>5.43969081203178</li>\n",
       "\t<li>1.75195298666337</li>\n",
       "\t<li>4.93870340084484</li>\n",
       "\t<li>8.9618653402642</li>\n",
       "</ol>\n",
       "</li>\n",
       "\t<li><ol class=list-inline>\n",
       "\t<li>2.99417197946228</li>\n",
       "\t<li>4.1584518066091</li>\n",
       "\t<li>4.36792119676385</li>\n",
       "\t<li>2.17306881626328</li>\n",
       "\t<li>3.18138172207166</li>\n",
       "</ol>\n",
       "</li>\n",
       "</ol>\n"
      ],
      "text/latex": [
       "\\begin{enumerate}\n",
       "\\item 1.45703889296027\n",
       "\\item \\begin{enumerate*}\n",
       "\\item 3.7540564241257\n",
       "\\item 2.19696340755953\n",
       "\\end{enumerate*}\n",
       "\n",
       "\\item \\begin{enumerate*}\n",
       "\\item 4.91120520096904\n",
       "\\item 0.0155190708693977\n",
       "\\item 4.57760052683418\n",
       "\\end{enumerate*}\n",
       "\n",
       "\\item \\begin{enumerate*}\n",
       "\\item 5.43969081203178\n",
       "\\item 1.75195298666337\n",
       "\\item 4.93870340084484\n",
       "\\item 8.9618653402642\n",
       "\\end{enumerate*}\n",
       "\n",
       "\\item \\begin{enumerate*}\n",
       "\\item 2.99417197946228\n",
       "\\item 4.1584518066091\n",
       "\\item 4.36792119676385\n",
       "\\item 2.17306881626328\n",
       "\\item 3.18138172207166\n",
       "\\end{enumerate*}\n",
       "\n",
       "\\end{enumerate}\n"
      ],
      "text/markdown": [
       "1. 1.45703889296027\n",
       "2. 1. 3.7540564241257\n",
       "2. 2.19696340755953\n",
       "\n",
       "\n",
       "\n",
       "3. 1. 4.91120520096904\n",
       "2. 0.0155190708693977\n",
       "3. 4.57760052683418\n",
       "\n",
       "\n",
       "\n",
       "4. 1. 5.43969081203178\n",
       "2. 1.75195298666337\n",
       "3. 4.93870340084484\n",
       "4. 8.9618653402642\n",
       "\n",
       "\n",
       "\n",
       "5. 1. 2.99417197946228\n",
       "2. 4.1584518066091\n",
       "3. 4.36792119676385\n",
       "4. 2.17306881626328\n",
       "5. 3.18138172207166\n",
       "\n",
       "\n",
       "\n",
       "\n",
       "\n"
      ],
      "text/plain": [
       "[[1]]\n",
       "[1] 1.457039\n",
       "\n",
       "[[2]]\n",
       "[1] 3.754056 2.196963\n",
       "\n",
       "[[3]]\n",
       "[1] 4.91120520 0.01551907 4.57760053\n",
       "\n",
       "[[4]]\n",
       "[1] 5.439691 1.751953 4.938703 8.961865\n",
       "\n",
       "[[5]]\n",
       "[1] 2.994172 4.158452 4.367921 2.173069 3.181382\n"
      ]
     },
     "metadata": {},
     "output_type": "display_data"
    }
   ],
   "source": [
    "# an example of vectorizing functions\n",
    "f1 <- function(n, mean, sd) {\n",
    "    rnorm(n, mean, sd)\n",
    "}\n",
    "f1\n",
    "f1(5, 1, 2)\n",
    "f1(1:5, 1:5, 2)\n",
    "mapply(f1, 1:5, 1:5, 2)"
   ]
  },
  {
   "cell_type": "markdown",
   "metadata": {},
   "source": [
    "## tapply"
   ]
  },
  {
   "cell_type": "code",
   "execution_count": 14,
   "metadata": {},
   "outputs": [
    {
     "name": "stdout",
     "output_type": "stream",
     "text": [
      "function (X, INDEX, FUN = NULL, ..., default = NA, simplify = TRUE)  \n"
     ]
    }
   ],
   "source": [
    "str(tapply)"
   ]
  },
  {
   "cell_type": "code",
   "execution_count": 18,
   "metadata": {},
   "outputs": [
    {
     "data": {
      "text/html": [
       "<ol class=list-inline>\n",
       "\t<li>1.04638118730584</li>\n",
       "\t<li>1.07093372570729</li>\n",
       "\t<li>0.669558611194471</li>\n",
       "\t<li>-0.0972727988538193</li>\n",
       "\t<li>0.180468892592719</li>\n",
       "\t<li>-0.876537570430113</li>\n",
       "\t<li>1.19079472349726</li>\n",
       "\t<li>0.0953077596027076</li>\n",
       "\t<li>-0.988229883092313</li>\n",
       "\t<li>-2.26935197558079</li>\n",
       "\t<li>0.795295716496184</li>\n",
       "\t<li>0.405928052961826</li>\n",
       "\t<li>0.715976113453507</li>\n",
       "\t<li>0.926088902633637</li>\n",
       "\t<li>0.772428021300584</li>\n",
       "\t<li>0.603540677810088</li>\n",
       "\t<li>0.0930431068409234</li>\n",
       "\t<li>0.0585990978870541</li>\n",
       "\t<li>0.900709381792694</li>\n",
       "\t<li>0.356019038707018</li>\n",
       "\t<li>2.31156877838824</li>\n",
       "\t<li>1.73978727418095</li>\n",
       "\t<li>3.09374340708843</li>\n",
       "\t<li>1.02599099817167</li>\n",
       "\t<li>0.278472533624447</li>\n",
       "\t<li>2.6618821565714</li>\n",
       "\t<li>3.14218540062599</li>\n",
       "\t<li>1.44646126230397</li>\n",
       "\t<li>0.606175334278283</li>\n",
       "\t<li>2.27067723575938</li>\n",
       "</ol>\n"
      ],
      "text/latex": [
       "\\begin{enumerate*}\n",
       "\\item 1.04638118730584\n",
       "\\item 1.07093372570729\n",
       "\\item 0.669558611194471\n",
       "\\item -0.0972727988538193\n",
       "\\item 0.180468892592719\n",
       "\\item -0.876537570430113\n",
       "\\item 1.19079472349726\n",
       "\\item 0.0953077596027076\n",
       "\\item -0.988229883092313\n",
       "\\item -2.26935197558079\n",
       "\\item 0.795295716496184\n",
       "\\item 0.405928052961826\n",
       "\\item 0.715976113453507\n",
       "\\item 0.926088902633637\n",
       "\\item 0.772428021300584\n",
       "\\item 0.603540677810088\n",
       "\\item 0.0930431068409234\n",
       "\\item 0.0585990978870541\n",
       "\\item 0.900709381792694\n",
       "\\item 0.356019038707018\n",
       "\\item 2.31156877838824\n",
       "\\item 1.73978727418095\n",
       "\\item 3.09374340708843\n",
       "\\item 1.02599099817167\n",
       "\\item 0.278472533624447\n",
       "\\item 2.6618821565714\n",
       "\\item 3.14218540062599\n",
       "\\item 1.44646126230397\n",
       "\\item 0.606175334278283\n",
       "\\item 2.27067723575938\n",
       "\\end{enumerate*}\n"
      ],
      "text/markdown": [
       "1. 1.04638118730584\n",
       "2. 1.07093372570729\n",
       "3. 0.669558611194471\n",
       "4. -0.0972727988538193\n",
       "5. 0.180468892592719\n",
       "6. -0.876537570430113\n",
       "7. 1.19079472349726\n",
       "8. 0.0953077596027076\n",
       "9. -0.988229883092313\n",
       "10. -2.26935197558079\n",
       "11. 0.795295716496184\n",
       "12. 0.405928052961826\n",
       "13. 0.715976113453507\n",
       "14. 0.926088902633637\n",
       "15. 0.772428021300584\n",
       "16. 0.603540677810088\n",
       "17. 0.0930431068409234\n",
       "18. 0.0585990978870541\n",
       "19. 0.900709381792694\n",
       "20. 0.356019038707018\n",
       "21. 2.31156877838824\n",
       "22. 1.73978727418095\n",
       "23. 3.09374340708843\n",
       "24. 1.02599099817167\n",
       "25. 0.278472533624447\n",
       "26. 2.6618821565714\n",
       "27. 3.14218540062599\n",
       "28. 1.44646126230397\n",
       "29. 0.606175334278283\n",
       "30. 2.27067723575938\n",
       "\n",
       "\n"
      ],
      "text/plain": [
       " [1]  1.04638119  1.07093373  0.66955861 -0.09727280  0.18046889 -0.87653757\n",
       " [7]  1.19079472  0.09530776 -0.98822988 -2.26935198  0.79529572  0.40592805\n",
       "[13]  0.71597611  0.92608890  0.77242802  0.60354068  0.09304311  0.05859910\n",
       "[19]  0.90070938  0.35601904  2.31156878  1.73978727  3.09374341  1.02599100\n",
       "[25]  0.27847253  2.66188216  3.14218540  1.44646126  0.60617533  2.27067724"
      ]
     },
     "metadata": {},
     "output_type": "display_data"
    },
    {
     "data": {
      "text/html": [
       "<ol class=list-inline>\n",
       "\t<li>1</li>\n",
       "\t<li>1</li>\n",
       "\t<li>1</li>\n",
       "\t<li>1</li>\n",
       "\t<li>1</li>\n",
       "\t<li>1</li>\n",
       "\t<li>1</li>\n",
       "\t<li>1</li>\n",
       "\t<li>1</li>\n",
       "\t<li>1</li>\n",
       "\t<li>2</li>\n",
       "\t<li>2</li>\n",
       "\t<li>2</li>\n",
       "\t<li>2</li>\n",
       "\t<li>2</li>\n",
       "\t<li>2</li>\n",
       "\t<li>2</li>\n",
       "\t<li>2</li>\n",
       "\t<li>2</li>\n",
       "\t<li>2</li>\n",
       "\t<li>3</li>\n",
       "\t<li>3</li>\n",
       "\t<li>3</li>\n",
       "\t<li>3</li>\n",
       "\t<li>3</li>\n",
       "\t<li>3</li>\n",
       "\t<li>3</li>\n",
       "\t<li>3</li>\n",
       "\t<li>3</li>\n",
       "\t<li>3</li>\n",
       "</ol>\n",
       "\n",
       "<details>\n",
       "\t<summary style=display:list-item;cursor:pointer>\n",
       "\t\t<strong>Levels</strong>:\n",
       "\t</summary>\n",
       "\t<ol class=list-inline>\n",
       "\t\t<li>'1'</li>\n",
       "\t\t<li>'2'</li>\n",
       "\t\t<li>'3'</li>\n",
       "\t</ol>\n",
       "</details>"
      ],
      "text/latex": [
       "\\begin{enumerate*}\n",
       "\\item 1\n",
       "\\item 1\n",
       "\\item 1\n",
       "\\item 1\n",
       "\\item 1\n",
       "\\item 1\n",
       "\\item 1\n",
       "\\item 1\n",
       "\\item 1\n",
       "\\item 1\n",
       "\\item 2\n",
       "\\item 2\n",
       "\\item 2\n",
       "\\item 2\n",
       "\\item 2\n",
       "\\item 2\n",
       "\\item 2\n",
       "\\item 2\n",
       "\\item 2\n",
       "\\item 2\n",
       "\\item 3\n",
       "\\item 3\n",
       "\\item 3\n",
       "\\item 3\n",
       "\\item 3\n",
       "\\item 3\n",
       "\\item 3\n",
       "\\item 3\n",
       "\\item 3\n",
       "\\item 3\n",
       "\\end{enumerate*}\n",
       "\n",
       "\\emph{Levels}: \\begin{enumerate*}\n",
       "\\item '1'\n",
       "\\item '2'\n",
       "\\item '3'\n",
       "\\end{enumerate*}\n"
      ],
      "text/markdown": [
       "1. 1\n",
       "2. 1\n",
       "3. 1\n",
       "4. 1\n",
       "5. 1\n",
       "6. 1\n",
       "7. 1\n",
       "8. 1\n",
       "9. 1\n",
       "10. 1\n",
       "11. 2\n",
       "12. 2\n",
       "13. 2\n",
       "14. 2\n",
       "15. 2\n",
       "16. 2\n",
       "17. 2\n",
       "18. 2\n",
       "19. 2\n",
       "20. 2\n",
       "21. 3\n",
       "22. 3\n",
       "23. 3\n",
       "24. 3\n",
       "25. 3\n",
       "26. 3\n",
       "27. 3\n",
       "28. 3\n",
       "29. 3\n",
       "30. 3\n",
       "\n",
       "\n",
       "\n",
       "**Levels**: 1. '1'\n",
       "2. '2'\n",
       "3. '3'\n",
       "\n",
       "\n"
      ],
      "text/plain": [
       " [1] 1 1 1 1 1 1 1 1 1 1 2 2 2 2 2 2 2 2 2 2 3 3 3 3 3 3 3 3 3 3\n",
       "Levels: 1 2 3"
      ]
     },
     "metadata": {},
     "output_type": "display_data"
    },
    {
     "name": "stdout",
     "output_type": "stream",
     "text": [
      "          1           2           3 \n",
      "0.002205267 0.562762811 1.857694438 \n"
     ]
    }
   ],
   "source": [
    "x2 <- c(rnorm(10), runif(10), rnorm(10, 1))\n",
    "x2\n",
    "factor1 <- gl(3,10)\n",
    "factor1\n",
    "print(tapply(x2, factor1, mean))"
   ]
  },
  {
   "cell_type": "code",
   "execution_count": 22,
   "metadata": {},
   "outputs": [
    {
     "data": {
      "text/html": [
       "<ol class=list-inline>\n",
       "\t<li>1</li>\n",
       "\t<li>2</li>\n",
       "\t<li>3</li>\n",
       "\t<li>4</li>\n",
       "\t<li>5</li>\n",
       "\t<li>6</li>\n",
       "\t<li>2</li>\n",
       "\t<li>3</li>\n",
       "\t<li>4</li>\n",
       "\t<li>1</li>\n",
       "\t<li>2</li>\n",
       "\t<li>4</li>\n",
       "</ol>\n"
      ],
      "text/latex": [
       "\\begin{enumerate*}\n",
       "\\item 1\n",
       "\\item 2\n",
       "\\item 3\n",
       "\\item 4\n",
       "\\item 5\n",
       "\\item 6\n",
       "\\item 2\n",
       "\\item 3\n",
       "\\item 4\n",
       "\\item 1\n",
       "\\item 2\n",
       "\\item 4\n",
       "\\end{enumerate*}\n"
      ],
      "text/markdown": [
       "1. 1\n",
       "2. 2\n",
       "3. 3\n",
       "4. 4\n",
       "5. 5\n",
       "6. 6\n",
       "7. 2\n",
       "8. 3\n",
       "9. 4\n",
       "10. 1\n",
       "11. 2\n",
       "12. 4\n",
       "\n",
       "\n"
      ],
      "text/plain": [
       " [1] 1 2 3 4 5 6 2 3 4 1 2 4"
      ]
     },
     "metadata": {},
     "output_type": "display_data"
    },
    {
     "data": {
      "text/html": [
       "<ol class=list-inline>\n",
       "\t<li>1</li>\n",
       "\t<li>1</li>\n",
       "\t<li>1</li>\n",
       "\t<li>2</li>\n",
       "\t<li>2</li>\n",
       "\t<li>2</li>\n",
       "\t<li>3</li>\n",
       "\t<li>3</li>\n",
       "\t<li>3</li>\n",
       "\t<li>4</li>\n",
       "\t<li>4</li>\n",
       "\t<li>4</li>\n",
       "</ol>\n"
      ],
      "text/latex": [
       "\\begin{enumerate*}\n",
       "\\item 1\n",
       "\\item 1\n",
       "\\item 1\n",
       "\\item 2\n",
       "\\item 2\n",
       "\\item 2\n",
       "\\item 3\n",
       "\\item 3\n",
       "\\item 3\n",
       "\\item 4\n",
       "\\item 4\n",
       "\\item 4\n",
       "\\end{enumerate*}\n"
      ],
      "text/markdown": [
       "1. 1\n",
       "2. 1\n",
       "3. 1\n",
       "4. 2\n",
       "5. 2\n",
       "6. 2\n",
       "7. 3\n",
       "8. 3\n",
       "9. 3\n",
       "10. 4\n",
       "11. 4\n",
       "12. 4\n",
       "\n",
       "\n"
      ],
      "text/plain": [
       " [1] 1 1 1 2 2 2 3 3 3 4 4 4"
      ]
     },
     "metadata": {},
     "output_type": "display_data"
    },
    {
     "name": "stdout",
     "output_type": "stream",
     "text": [
      "       1        2        3        4 \n",
      "2.000000 5.000000 3.000000 2.333333 \n",
      "$`1`\n",
      "[1] 1 3\n",
      "\n",
      "$`2`\n",
      "[1] 4 6\n",
      "\n",
      "$`3`\n",
      "[1] 2 4\n",
      "\n",
      "$`4`\n",
      "[1] 1 4\n",
      "\n"
     ]
    }
   ],
   "source": [
    "# a simpler example of how to use tapply\n",
    "x3 <- c(1,2,3,4,5,6,2,3,4,1,2,4)\n",
    "x3\n",
    "factor2 <- c(1,1,1,2,2,2,3,3,3,4,4,4)\n",
    "factor2\n",
    "print(tapply(x3, factor2, mean))\n",
    "print(tapply(x3, factor2, range))"
   ]
  },
  {
   "cell_type": "markdown",
   "metadata": {},
   "source": [
    "## split"
   ]
  },
  {
   "cell_type": "code",
   "execution_count": 23,
   "metadata": {},
   "outputs": [
    {
     "name": "stdout",
     "output_type": "stream",
     "text": [
      "function (x, f, drop = FALSE, ...)  \n"
     ]
    }
   ],
   "source": [
    "str(split)"
   ]
  },
  {
   "cell_type": "code",
   "execution_count": 25,
   "metadata": {},
   "outputs": [
    {
     "data": {
      "text/html": [
       "<ol class=list-inline>\n",
       "\t<li>1</li>\n",
       "\t<li>2</li>\n",
       "\t<li>3</li>\n",
       "\t<li>4</li>\n",
       "\t<li>5</li>\n",
       "\t<li>6</li>\n",
       "\t<li>2</li>\n",
       "\t<li>3</li>\n",
       "\t<li>4</li>\n",
       "\t<li>1</li>\n",
       "\t<li>2</li>\n",
       "\t<li>4</li>\n",
       "</ol>\n"
      ],
      "text/latex": [
       "\\begin{enumerate*}\n",
       "\\item 1\n",
       "\\item 2\n",
       "\\item 3\n",
       "\\item 4\n",
       "\\item 5\n",
       "\\item 6\n",
       "\\item 2\n",
       "\\item 3\n",
       "\\item 4\n",
       "\\item 1\n",
       "\\item 2\n",
       "\\item 4\n",
       "\\end{enumerate*}\n"
      ],
      "text/markdown": [
       "1. 1\n",
       "2. 2\n",
       "3. 3\n",
       "4. 4\n",
       "5. 5\n",
       "6. 6\n",
       "7. 2\n",
       "8. 3\n",
       "9. 4\n",
       "10. 1\n",
       "11. 2\n",
       "12. 4\n",
       "\n",
       "\n"
      ],
      "text/plain": [
       " [1] 1 2 3 4 5 6 2 3 4 1 2 4"
      ]
     },
     "metadata": {},
     "output_type": "display_data"
    },
    {
     "data": {
      "text/html": [
       "<ol class=list-inline>\n",
       "\t<li>1</li>\n",
       "\t<li>1</li>\n",
       "\t<li>1</li>\n",
       "\t<li>1</li>\n",
       "\t<li>2</li>\n",
       "\t<li>2</li>\n",
       "\t<li>2</li>\n",
       "\t<li>2</li>\n",
       "\t<li>3</li>\n",
       "\t<li>3</li>\n",
       "\t<li>3</li>\n",
       "\t<li>3</li>\n",
       "</ol>\n"
      ],
      "text/latex": [
       "\\begin{enumerate*}\n",
       "\\item 1\n",
       "\\item 1\n",
       "\\item 1\n",
       "\\item 1\n",
       "\\item 2\n",
       "\\item 2\n",
       "\\item 2\n",
       "\\item 2\n",
       "\\item 3\n",
       "\\item 3\n",
       "\\item 3\n",
       "\\item 3\n",
       "\\end{enumerate*}\n"
      ],
      "text/markdown": [
       "1. 1\n",
       "2. 1\n",
       "3. 1\n",
       "4. 1\n",
       "5. 2\n",
       "6. 2\n",
       "7. 2\n",
       "8. 2\n",
       "9. 3\n",
       "10. 3\n",
       "11. 3\n",
       "12. 3\n",
       "\n",
       "\n"
      ],
      "text/plain": [
       " [1] 1 1 1 1 2 2 2 2 3 3 3 3"
      ]
     },
     "metadata": {},
     "output_type": "display_data"
    },
    {
     "data": {
      "text/html": [
       "<dl>\n",
       "\t<dt>$`1`</dt>\n",
       "\t\t<dd><ol class=list-inline>\n",
       "\t<li>1</li>\n",
       "\t<li>2</li>\n",
       "\t<li>3</li>\n",
       "\t<li>4</li>\n",
       "</ol>\n",
       "</dd>\n",
       "\t<dt>$`2`</dt>\n",
       "\t\t<dd><ol class=list-inline>\n",
       "\t<li>5</li>\n",
       "\t<li>6</li>\n",
       "\t<li>2</li>\n",
       "\t<li>3</li>\n",
       "</ol>\n",
       "</dd>\n",
       "\t<dt>$`3`</dt>\n",
       "\t\t<dd><ol class=list-inline>\n",
       "\t<li>4</li>\n",
       "\t<li>1</li>\n",
       "\t<li>2</li>\n",
       "\t<li>4</li>\n",
       "</ol>\n",
       "</dd>\n",
       "</dl>\n"
      ],
      "text/latex": [
       "\\begin{description}\n",
       "\\item[\\$`1`] \\begin{enumerate*}\n",
       "\\item 1\n",
       "\\item 2\n",
       "\\item 3\n",
       "\\item 4\n",
       "\\end{enumerate*}\n",
       "\n",
       "\\item[\\$`2`] \\begin{enumerate*}\n",
       "\\item 5\n",
       "\\item 6\n",
       "\\item 2\n",
       "\\item 3\n",
       "\\end{enumerate*}\n",
       "\n",
       "\\item[\\$`3`] \\begin{enumerate*}\n",
       "\\item 4\n",
       "\\item 1\n",
       "\\item 2\n",
       "\\item 4\n",
       "\\end{enumerate*}\n",
       "\n",
       "\\end{description}\n"
      ],
      "text/markdown": [
       "$`1`\n",
       ":   1. 1\n",
       "2. 2\n",
       "3. 3\n",
       "4. 4\n",
       "\n",
       "\n",
       "\n",
       "$`2`\n",
       ":   1. 5\n",
       "2. 6\n",
       "3. 2\n",
       "4. 3\n",
       "\n",
       "\n",
       "\n",
       "$`3`\n",
       ":   1. 4\n",
       "2. 1\n",
       "3. 2\n",
       "4. 4\n",
       "\n",
       "\n",
       "\n",
       "\n",
       "\n"
      ],
      "text/plain": [
       "$`1`\n",
       "[1] 1 2 3 4\n",
       "\n",
       "$`2`\n",
       "[1] 5 6 2 3\n",
       "\n",
       "$`3`\n",
       "[1] 4 1 2 4\n"
      ]
     },
     "metadata": {},
     "output_type": "display_data"
    }
   ],
   "source": [
    "x3 <- c(1,2,3,4,5,6,2,3,4,1,2,4)\n",
    "x3\n",
    "factor3 <- c(1,1,1,1,2,2,2,2,3,3,3,3)\n",
    "factor3\n",
    "split(x3, factor3)"
   ]
  },
  {
   "cell_type": "code",
   "execution_count": 35,
   "metadata": {},
   "outputs": [
    {
     "data": {
      "text/html": [
       "<dl>\n",
       "\t<dt>$`5`</dt>\n",
       "\t\t<dd><dl class=dl-horizontal>\n",
       "\t<dt>Ozone</dt>\n",
       "\t\t<dd>&lt;NA&gt;</dd>\n",
       "\t<dt>Solar.R</dt>\n",
       "\t\t<dd>&lt;NA&gt;</dd>\n",
       "\t<dt>Wind</dt>\n",
       "\t\t<dd>11.6225806451613</dd>\n",
       "</dl>\n",
       "</dd>\n",
       "\t<dt>$`6`</dt>\n",
       "\t\t<dd><dl class=dl-horizontal>\n",
       "\t<dt>Ozone</dt>\n",
       "\t\t<dd>&lt;NA&gt;</dd>\n",
       "\t<dt>Solar.R</dt>\n",
       "\t\t<dd>190.166666666667</dd>\n",
       "\t<dt>Wind</dt>\n",
       "\t\t<dd>10.2666666666667</dd>\n",
       "</dl>\n",
       "</dd>\n",
       "\t<dt>$`7`</dt>\n",
       "\t\t<dd><dl class=dl-horizontal>\n",
       "\t<dt>Ozone</dt>\n",
       "\t\t<dd>&lt;NA&gt;</dd>\n",
       "\t<dt>Solar.R</dt>\n",
       "\t\t<dd>216.483870967742</dd>\n",
       "\t<dt>Wind</dt>\n",
       "\t\t<dd>8.94193548387097</dd>\n",
       "</dl>\n",
       "</dd>\n",
       "\t<dt>$`8`</dt>\n",
       "\t\t<dd><dl class=dl-horizontal>\n",
       "\t<dt>Ozone</dt>\n",
       "\t\t<dd>&lt;NA&gt;</dd>\n",
       "\t<dt>Solar.R</dt>\n",
       "\t\t<dd>&lt;NA&gt;</dd>\n",
       "\t<dt>Wind</dt>\n",
       "\t\t<dd>8.79354838709677</dd>\n",
       "</dl>\n",
       "</dd>\n",
       "\t<dt>$`9`</dt>\n",
       "\t\t<dd><dl class=dl-horizontal>\n",
       "\t<dt>Ozone</dt>\n",
       "\t\t<dd>&lt;NA&gt;</dd>\n",
       "\t<dt>Solar.R</dt>\n",
       "\t\t<dd>167.433333333333</dd>\n",
       "\t<dt>Wind</dt>\n",
       "\t\t<dd>10.18</dd>\n",
       "</dl>\n",
       "</dd>\n",
       "</dl>\n"
      ],
      "text/latex": [
       "\\begin{description}\n",
       "\\item[\\$`5`] \\begin{description*}\n",
       "\\item[Ozone] <NA>\n",
       "\\item[Solar.R] <NA>\n",
       "\\item[Wind] 11.6225806451613\n",
       "\\end{description*}\n",
       "\n",
       "\\item[\\$`6`] \\begin{description*}\n",
       "\\item[Ozone] <NA>\n",
       "\\item[Solar.R] 190.166666666667\n",
       "\\item[Wind] 10.2666666666667\n",
       "\\end{description*}\n",
       "\n",
       "\\item[\\$`7`] \\begin{description*}\n",
       "\\item[Ozone] <NA>\n",
       "\\item[Solar.R] 216.483870967742\n",
       "\\item[Wind] 8.94193548387097\n",
       "\\end{description*}\n",
       "\n",
       "\\item[\\$`8`] \\begin{description*}\n",
       "\\item[Ozone] <NA>\n",
       "\\item[Solar.R] <NA>\n",
       "\\item[Wind] 8.79354838709677\n",
       "\\end{description*}\n",
       "\n",
       "\\item[\\$`9`] \\begin{description*}\n",
       "\\item[Ozone] <NA>\n",
       "\\item[Solar.R] 167.433333333333\n",
       "\\item[Wind] 10.18\n",
       "\\end{description*}\n",
       "\n",
       "\\end{description}\n"
      ],
      "text/markdown": [
       "$`5`\n",
       ":   Ozone\n",
       ":   &lt;NA&gt;Solar.R\n",
       ":   &lt;NA&gt;Wind\n",
       ":   11.6225806451613\n",
       "\n",
       "\n",
       "$`6`\n",
       ":   Ozone\n",
       ":   &lt;NA&gt;Solar.R\n",
       ":   190.166666666667Wind\n",
       ":   10.2666666666667\n",
       "\n",
       "\n",
       "$`7`\n",
       ":   Ozone\n",
       ":   &lt;NA&gt;Solar.R\n",
       ":   216.483870967742Wind\n",
       ":   8.94193548387097\n",
       "\n",
       "\n",
       "$`8`\n",
       ":   Ozone\n",
       ":   &lt;NA&gt;Solar.R\n",
       ":   &lt;NA&gt;Wind\n",
       ":   8.79354838709677\n",
       "\n",
       "\n",
       "$`9`\n",
       ":   Ozone\n",
       ":   &lt;NA&gt;Solar.R\n",
       ":   167.433333333333Wind\n",
       ":   10.18\n",
       "\n",
       "\n",
       "\n",
       "\n"
      ],
      "text/plain": [
       "$`5`\n",
       "   Ozone  Solar.R     Wind \n",
       "      NA       NA 11.62258 \n",
       "\n",
       "$`6`\n",
       "    Ozone   Solar.R      Wind \n",
       "       NA 190.16667  10.26667 \n",
       "\n",
       "$`7`\n",
       "     Ozone    Solar.R       Wind \n",
       "        NA 216.483871   8.941935 \n",
       "\n",
       "$`8`\n",
       "   Ozone  Solar.R     Wind \n",
       "      NA       NA 8.793548 \n",
       "\n",
       "$`9`\n",
       "   Ozone  Solar.R     Wind \n",
       "      NA 167.4333  10.1800 \n"
      ]
     },
     "metadata": {},
     "output_type": "display_data"
    }
   ],
   "source": [
    "# splitting a data frame\n",
    "x4 <- split(airquality, airquality$Month)\n",
    "lapply(x4, function(x) colMeans(x[, c(\"Ozone\",\"Solar.R\",\"Wind\")]))"
   ]
  },
  {
   "cell_type": "code",
   "execution_count": 38,
   "metadata": {},
   "outputs": [
    {
     "data": {
      "text/html": [
       "<table>\n",
       "<thead><tr><th></th><th scope=col>5</th><th scope=col>6</th><th scope=col>7</th><th scope=col>8</th><th scope=col>9</th></tr></thead>\n",
       "<tbody>\n",
       "\t<tr><th scope=row>Ozone</th><td>      NA  </td><td>       NA </td><td>        NA</td><td>      NA  </td><td>      NA  </td></tr>\n",
       "\t<tr><th scope=row>Solar.R</th><td>      NA  </td><td>190.16667 </td><td>216.483871</td><td>      NA  </td><td>167.4333  </td></tr>\n",
       "\t<tr><th scope=row>Wind</th><td>11.62258  </td><td> 10.26667 </td><td>  8.941935</td><td>8.793548  </td><td> 10.1800  </td></tr>\n",
       "</tbody>\n",
       "</table>\n"
      ],
      "text/latex": [
       "\\begin{tabular}{r|lllll}\n",
       "  & 5 & 6 & 7 & 8 & 9\\\\\n",
       "\\hline\n",
       "\tOzone &       NA   &        NA  &         NA &       NA   &       NA  \\\\\n",
       "\tSolar.R &       NA   & 190.16667  & 216.483871 &       NA   & 167.4333  \\\\\n",
       "\tWind & 11.62258   &  10.26667  &   8.941935 & 8.793548   &  10.1800  \\\\\n",
       "\\end{tabular}\n"
      ],
      "text/markdown": [
       "\n",
       "| <!--/--> | 5 | 6 | 7 | 8 | 9 | \n",
       "|---|---|---|\n",
       "| Ozone |       NA   |        NA  |         NA |       NA   |       NA   | \n",
       "| Solar.R |       NA   | 190.16667  | 216.483871 |       NA   | 167.4333   | \n",
       "| Wind | 11.62258   |  10.26667  |   8.941935 | 8.793548   |  10.1800   | \n",
       "\n",
       "\n"
      ],
      "text/plain": [
       "        5        6         7          8        9       \n",
       "Ozone         NA        NA         NA       NA       NA\n",
       "Solar.R       NA 190.16667 216.483871       NA 167.4333\n",
       "Wind    11.62258  10.26667   8.941935 8.793548  10.1800"
      ]
     },
     "metadata": {},
     "output_type": "display_data"
    },
    {
     "data": {
      "text/html": [
       "<table>\n",
       "<thead><tr><th></th><th scope=col>5</th><th scope=col>6</th><th scope=col>7</th><th scope=col>8</th><th scope=col>9</th></tr></thead>\n",
       "<tbody>\n",
       "\t<tr><th scope=row>Ozone</th><td> 23.61538 </td><td> 29.44444 </td><td> 59.115385</td><td> 59.961538</td><td> 31.44828 </td></tr>\n",
       "\t<tr><th scope=row>Solar.R</th><td>181.29630 </td><td>190.16667 </td><td>216.483871</td><td>171.857143</td><td>167.43333 </td></tr>\n",
       "\t<tr><th scope=row>Wind</th><td> 11.62258 </td><td> 10.26667 </td><td>  8.941935</td><td>  8.793548</td><td> 10.18000 </td></tr>\n",
       "</tbody>\n",
       "</table>\n"
      ],
      "text/latex": [
       "\\begin{tabular}{r|lllll}\n",
       "  & 5 & 6 & 7 & 8 & 9\\\\\n",
       "\\hline\n",
       "\tOzone &  23.61538  &  29.44444  &  59.115385 &  59.961538 &  31.44828 \\\\\n",
       "\tSolar.R & 181.29630  & 190.16667  & 216.483871 & 171.857143 & 167.43333 \\\\\n",
       "\tWind &  11.62258  &  10.26667  &   8.941935 &   8.793548 &  10.18000 \\\\\n",
       "\\end{tabular}\n"
      ],
      "text/markdown": [
       "\n",
       "| <!--/--> | 5 | 6 | 7 | 8 | 9 | \n",
       "|---|---|---|\n",
       "| Ozone |  23.61538  |  29.44444  |  59.115385 |  59.961538 |  31.44828  | \n",
       "| Solar.R | 181.29630  | 190.16667  | 216.483871 | 171.857143 | 167.43333  | \n",
       "| Wind |  11.62258  |  10.26667  |   8.941935 |   8.793548 |  10.18000  | \n",
       "\n",
       "\n"
      ],
      "text/plain": [
       "        5         6         7          8          9        \n",
       "Ozone    23.61538  29.44444  59.115385  59.961538  31.44828\n",
       "Solar.R 181.29630 190.16667 216.483871 171.857143 167.43333\n",
       "Wind     11.62258  10.26667   8.941935   8.793548  10.18000"
      ]
     },
     "metadata": {},
     "output_type": "display_data"
    }
   ],
   "source": [
    "# splitting a data frame\n",
    "x5 <- split(airquality, airquality$Month)\n",
    "sapply(x5, function(x) colMeans(x[, c(\"Ozone\",\"Solar.R\",\"Wind\")]))\n",
    "# removing missing values\n",
    "sapply(x5, function(x) colMeans(x[, c(\"Ozone\",\"Solar.R\",\"Wind\")], \n",
    "                                na.rm=TRUE))"
   ]
  },
  {
   "cell_type": "markdown",
   "metadata": {},
   "source": [
    "Splitting on more than one level"
   ]
  },
  {
   "cell_type": "code",
   "execution_count": 43,
   "metadata": {},
   "outputs": [
    {
     "name": "stdout",
     "output_type": "stream",
     "text": [
      "function (n, k, length = n * k, labels = seq_len(n), ordered = FALSE)  \n"
     ]
    },
    {
     "data": {
      "text/html": [
       "<ol class=list-inline>\n",
       "\t<li>-0.153846575309499</li>\n",
       "\t<li>1.76750177331679</li>\n",
       "\t<li>-1.19513569769129</li>\n",
       "\t<li>-1.63501436139513</li>\n",
       "\t<li>-1.45814431073986</li>\n",
       "\t<li>-0.343829471831749</li>\n",
       "\t<li>-0.932087730856355</li>\n",
       "\t<li>-1.07512758565441</li>\n",
       "\t<li>-0.237026135091687</li>\n",
       "\t<li>0.178895372506287</li>\n",
       "</ol>\n"
      ],
      "text/latex": [
       "\\begin{enumerate*}\n",
       "\\item -0.153846575309499\n",
       "\\item 1.76750177331679\n",
       "\\item -1.19513569769129\n",
       "\\item -1.63501436139513\n",
       "\\item -1.45814431073986\n",
       "\\item -0.343829471831749\n",
       "\\item -0.932087730856355\n",
       "\\item -1.07512758565441\n",
       "\\item -0.237026135091687\n",
       "\\item 0.178895372506287\n",
       "\\end{enumerate*}\n"
      ],
      "text/markdown": [
       "1. -0.153846575309499\n",
       "2. 1.76750177331679\n",
       "3. -1.19513569769129\n",
       "4. -1.63501436139513\n",
       "5. -1.45814431073986\n",
       "6. -0.343829471831749\n",
       "7. -0.932087730856355\n",
       "8. -1.07512758565441\n",
       "9. -0.237026135091687\n",
       "10. 0.178895372506287\n",
       "\n",
       "\n"
      ],
      "text/plain": [
       " [1] -0.1538466  1.7675018 -1.1951357 -1.6350144 -1.4581443 -0.3438295\n",
       " [7] -0.9320877 -1.0751276 -0.2370261  0.1788954"
      ]
     },
     "metadata": {},
     "output_type": "display_data"
    },
    {
     "data": {
      "text/html": [
       "<ol class=list-inline>\n",
       "\t<li>1</li>\n",
       "\t<li>1</li>\n",
       "\t<li>1</li>\n",
       "\t<li>1</li>\n",
       "\t<li>1</li>\n",
       "\t<li>2</li>\n",
       "\t<li>2</li>\n",
       "\t<li>2</li>\n",
       "\t<li>2</li>\n",
       "\t<li>2</li>\n",
       "</ol>\n",
       "\n",
       "<details>\n",
       "\t<summary style=display:list-item;cursor:pointer>\n",
       "\t\t<strong>Levels</strong>:\n",
       "\t</summary>\n",
       "\t<ol class=list-inline>\n",
       "\t\t<li>'1'</li>\n",
       "\t\t<li>'2'</li>\n",
       "\t</ol>\n",
       "</details>"
      ],
      "text/latex": [
       "\\begin{enumerate*}\n",
       "\\item 1\n",
       "\\item 1\n",
       "\\item 1\n",
       "\\item 1\n",
       "\\item 1\n",
       "\\item 2\n",
       "\\item 2\n",
       "\\item 2\n",
       "\\item 2\n",
       "\\item 2\n",
       "\\end{enumerate*}\n",
       "\n",
       "\\emph{Levels}: \\begin{enumerate*}\n",
       "\\item '1'\n",
       "\\item '2'\n",
       "\\end{enumerate*}\n"
      ],
      "text/markdown": [
       "1. 1\n",
       "2. 1\n",
       "3. 1\n",
       "4. 1\n",
       "5. 1\n",
       "6. 2\n",
       "7. 2\n",
       "8. 2\n",
       "9. 2\n",
       "10. 2\n",
       "\n",
       "\n",
       "\n",
       "**Levels**: 1. '1'\n",
       "2. '2'\n",
       "\n",
       "\n"
      ],
      "text/plain": [
       " [1] 1 1 1 1 1 2 2 2 2 2\n",
       "Levels: 1 2"
      ]
     },
     "metadata": {},
     "output_type": "display_data"
    },
    {
     "data": {
      "text/html": [
       "<ol class=list-inline>\n",
       "\t<li>1</li>\n",
       "\t<li>1</li>\n",
       "\t<li>2</li>\n",
       "\t<li>2</li>\n",
       "\t<li>3</li>\n",
       "\t<li>3</li>\n",
       "\t<li>4</li>\n",
       "\t<li>4</li>\n",
       "\t<li>5</li>\n",
       "\t<li>5</li>\n",
       "</ol>\n",
       "\n",
       "<details>\n",
       "\t<summary style=display:list-item;cursor:pointer>\n",
       "\t\t<strong>Levels</strong>:\n",
       "\t</summary>\n",
       "\t<ol class=list-inline>\n",
       "\t\t<li>'1'</li>\n",
       "\t\t<li>'2'</li>\n",
       "\t\t<li>'3'</li>\n",
       "\t\t<li>'4'</li>\n",
       "\t\t<li>'5'</li>\n",
       "\t</ol>\n",
       "</details>"
      ],
      "text/latex": [
       "\\begin{enumerate*}\n",
       "\\item 1\n",
       "\\item 1\n",
       "\\item 2\n",
       "\\item 2\n",
       "\\item 3\n",
       "\\item 3\n",
       "\\item 4\n",
       "\\item 4\n",
       "\\item 5\n",
       "\\item 5\n",
       "\\end{enumerate*}\n",
       "\n",
       "\\emph{Levels}: \\begin{enumerate*}\n",
       "\\item '1'\n",
       "\\item '2'\n",
       "\\item '3'\n",
       "\\item '4'\n",
       "\\item '5'\n",
       "\\end{enumerate*}\n"
      ],
      "text/markdown": [
       "1. 1\n",
       "2. 1\n",
       "3. 2\n",
       "4. 2\n",
       "5. 3\n",
       "6. 3\n",
       "7. 4\n",
       "8. 4\n",
       "9. 5\n",
       "10. 5\n",
       "\n",
       "\n",
       "\n",
       "**Levels**: 1. '1'\n",
       "2. '2'\n",
       "3. '3'\n",
       "4. '4'\n",
       "5. '5'\n",
       "\n",
       "\n"
      ],
      "text/plain": [
       " [1] 1 1 2 2 3 3 4 4 5 5\n",
       "Levels: 1 2 3 4 5"
      ]
     },
     "metadata": {},
     "output_type": "display_data"
    },
    {
     "data": {
      "text/html": [
       "<ol class=list-inline>\n",
       "\t<li>1.1</li>\n",
       "\t<li>1.1</li>\n",
       "\t<li>1.2</li>\n",
       "\t<li>1.2</li>\n",
       "\t<li>1.3</li>\n",
       "\t<li>2.3</li>\n",
       "\t<li>2.4</li>\n",
       "\t<li>2.4</li>\n",
       "\t<li>2.5</li>\n",
       "\t<li>2.5</li>\n",
       "</ol>\n",
       "\n",
       "<details>\n",
       "\t<summary style=display:list-item;cursor:pointer>\n",
       "\t\t<strong>Levels</strong>:\n",
       "\t</summary>\n",
       "\t<ol class=list-inline>\n",
       "\t\t<li>'1.1'</li>\n",
       "\t\t<li>'2.1'</li>\n",
       "\t\t<li>'1.2'</li>\n",
       "\t\t<li>'2.2'</li>\n",
       "\t\t<li>'1.3'</li>\n",
       "\t\t<li>'2.3'</li>\n",
       "\t\t<li>'1.4'</li>\n",
       "\t\t<li>'2.4'</li>\n",
       "\t\t<li>'1.5'</li>\n",
       "\t\t<li>'2.5'</li>\n",
       "\t</ol>\n",
       "</details>"
      ],
      "text/latex": [
       "\\begin{enumerate*}\n",
       "\\item 1.1\n",
       "\\item 1.1\n",
       "\\item 1.2\n",
       "\\item 1.2\n",
       "\\item 1.3\n",
       "\\item 2.3\n",
       "\\item 2.4\n",
       "\\item 2.4\n",
       "\\item 2.5\n",
       "\\item 2.5\n",
       "\\end{enumerate*}\n",
       "\n",
       "\\emph{Levels}: \\begin{enumerate*}\n",
       "\\item '1.1'\n",
       "\\item '2.1'\n",
       "\\item '1.2'\n",
       "\\item '2.2'\n",
       "\\item '1.3'\n",
       "\\item '2.3'\n",
       "\\item '1.4'\n",
       "\\item '2.4'\n",
       "\\item '1.5'\n",
       "\\item '2.5'\n",
       "\\end{enumerate*}\n"
      ],
      "text/markdown": [
       "1. 1.1\n",
       "2. 1.1\n",
       "3. 1.2\n",
       "4. 1.2\n",
       "5. 1.3\n",
       "6. 2.3\n",
       "7. 2.4\n",
       "8. 2.4\n",
       "9. 2.5\n",
       "10. 2.5\n",
       "\n",
       "\n",
       "\n",
       "**Levels**: 1. '1.1'\n",
       "2. '2.1'\n",
       "3. '1.2'\n",
       "4. '2.2'\n",
       "5. '1.3'\n",
       "6. '2.3'\n",
       "7. '1.4'\n",
       "8. '2.4'\n",
       "9. '1.5'\n",
       "10. '2.5'\n",
       "\n",
       "\n"
      ],
      "text/plain": [
       " [1] 1.1 1.1 1.2 1.2 1.3 2.3 2.4 2.4 2.5 2.5\n",
       "Levels: 1.1 2.1 1.2 2.2 1.3 2.3 1.4 2.4 1.5 2.5"
      ]
     },
     "metadata": {},
     "output_type": "display_data"
    }
   ],
   "source": [
    "str(gl)\n",
    "x6 <- rnorm(10)\n",
    "x6\n",
    "f1 <- gl(2,5)\n",
    "f1\n",
    "f2 <- gl(5,2)\n",
    "f2\n",
    "interaction(f1, f2)"
   ]
  },
  {
   "cell_type": "code",
   "execution_count": 64,
   "metadata": {},
   "outputs": [
    {
     "name": "stdout",
     "output_type": "stream",
     "text": [
      "function (x, f, drop = FALSE, ...)  \n"
     ]
    },
    {
     "data": {
      "text/html": [
       "<ol class=list-inline>\n",
       "\t<li>1</li>\n",
       "\t<li>1</li>\n",
       "\t<li>1</li>\n",
       "\t<li>1</li>\n",
       "\t<li>2</li>\n",
       "\t<li>2</li>\n",
       "\t<li>2</li>\n",
       "\t<li>2</li>\n",
       "\t<li>1</li>\n",
       "\t<li>1</li>\n",
       "\t<li>1</li>\n",
       "\t<li>1</li>\n",
       "\t<li>1</li>\n",
       "\t<li>2</li>\n",
       "\t<li>2</li>\n",
       "\t<li>2</li>\n",
       "\t<li>1</li>\n",
       "\t<li>1</li>\n",
       "\t<li>2</li>\n",
       "\t<li>2</li>\n",
       "</ol>\n"
      ],
      "text/latex": [
       "\\begin{enumerate*}\n",
       "\\item 1\n",
       "\\item 1\n",
       "\\item 1\n",
       "\\item 1\n",
       "\\item 2\n",
       "\\item 2\n",
       "\\item 2\n",
       "\\item 2\n",
       "\\item 1\n",
       "\\item 1\n",
       "\\item 1\n",
       "\\item 1\n",
       "\\item 1\n",
       "\\item 2\n",
       "\\item 2\n",
       "\\item 2\n",
       "\\item 1\n",
       "\\item 1\n",
       "\\item 2\n",
       "\\item 2\n",
       "\\end{enumerate*}\n"
      ],
      "text/markdown": [
       "1. 1\n",
       "2. 1\n",
       "3. 1\n",
       "4. 1\n",
       "5. 2\n",
       "6. 2\n",
       "7. 2\n",
       "8. 2\n",
       "9. 1\n",
       "10. 1\n",
       "11. 1\n",
       "12. 1\n",
       "13. 1\n",
       "14. 2\n",
       "15. 2\n",
       "16. 2\n",
       "17. 1\n",
       "18. 1\n",
       "19. 2\n",
       "20. 2\n",
       "\n",
       "\n"
      ],
      "text/plain": [
       " [1] 1 1 1 1 2 2 2 2 1 1 1 1 1 2 2 2 1 1 2 2"
      ]
     },
     "metadata": {},
     "output_type": "display_data"
    },
    {
     "data": {
      "text/html": [
       "<ol class=list-inline>\n",
       "\t<li>1</li>\n",
       "\t<li>1</li>\n",
       "</ol>\n",
       "\n",
       "<details>\n",
       "\t<summary style=display:list-item;cursor:pointer>\n",
       "\t\t<strong>Levels</strong>:\n",
       "\t</summary>\n",
       "\t'1'\n",
       "</details>"
      ],
      "text/latex": [
       "\\begin{enumerate*}\n",
       "\\item 1\n",
       "\\item 1\n",
       "\\end{enumerate*}\n",
       "\n",
       "\\emph{Levels}: '1'"
      ],
      "text/markdown": [
       "1. 1\n",
       "2. 1\n",
       "\n",
       "\n",
       "\n",
       "**Levels**: '1'"
      ],
      "text/plain": [
       "[1] 1 1\n",
       "Levels: 1"
      ]
     },
     "metadata": {},
     "output_type": "display_data"
    },
    {
     "data": {
      "text/html": [
       "<ol class=list-inline>\n",
       "\t<li>1</li>\n",
       "\t<li>2</li>\n",
       "</ol>\n",
       "\n",
       "<details>\n",
       "\t<summary style=display:list-item;cursor:pointer>\n",
       "\t\t<strong>Levels</strong>:\n",
       "\t</summary>\n",
       "\t<ol class=list-inline>\n",
       "\t\t<li>'1'</li>\n",
       "\t\t<li>'2'</li>\n",
       "\t</ol>\n",
       "</details>"
      ],
      "text/latex": [
       "\\begin{enumerate*}\n",
       "\\item 1\n",
       "\\item 2\n",
       "\\end{enumerate*}\n",
       "\n",
       "\\emph{Levels}: \\begin{enumerate*}\n",
       "\\item '1'\n",
       "\\item '2'\n",
       "\\end{enumerate*}\n"
      ],
      "text/markdown": [
       "1. 1\n",
       "2. 2\n",
       "\n",
       "\n",
       "\n",
       "**Levels**: 1. '1'\n",
       "2. '2'\n",
       "\n",
       "\n"
      ],
      "text/plain": [
       "[1] 1 2\n",
       "Levels: 1 2"
      ]
     },
     "metadata": {},
     "output_type": "display_data"
    },
    {
     "data": {
      "text/html": [
       "<ol class=list-inline>\n",
       "\t<li>1.1</li>\n",
       "\t<li>1.2</li>\n",
       "</ol>\n",
       "\n",
       "<details>\n",
       "\t<summary style=display:list-item;cursor:pointer>\n",
       "\t\t<strong>Levels</strong>:\n",
       "\t</summary>\n",
       "\t<ol class=list-inline>\n",
       "\t\t<li>'1.1'</li>\n",
       "\t\t<li>'1.2'</li>\n",
       "\t</ol>\n",
       "</details>"
      ],
      "text/latex": [
       "\\begin{enumerate*}\n",
       "\\item 1.1\n",
       "\\item 1.2\n",
       "\\end{enumerate*}\n",
       "\n",
       "\\emph{Levels}: \\begin{enumerate*}\n",
       "\\item '1.1'\n",
       "\\item '1.2'\n",
       "\\end{enumerate*}\n"
      ],
      "text/markdown": [
       "1. 1.1\n",
       "2. 1.2\n",
       "\n",
       "\n",
       "\n",
       "**Levels**: 1. '1.1'\n",
       "2. '1.2'\n",
       "\n",
       "\n"
      ],
      "text/plain": [
       "[1] 1.1 1.2\n",
       "Levels: 1.1 1.2"
      ]
     },
     "metadata": {},
     "output_type": "display_data"
    },
    {
     "data": {
      "text/html": [
       "<dl>\n",
       "\t<dt>$`1.1`</dt>\n",
       "\t\t<dd><ol class=list-inline>\n",
       "\t<li>1</li>\n",
       "\t<li>1</li>\n",
       "\t<li>2</li>\n",
       "\t<li>2</li>\n",
       "\t<li>1</li>\n",
       "\t<li>1</li>\n",
       "\t<li>1</li>\n",
       "\t<li>2</li>\n",
       "\t<li>1</li>\n",
       "\t<li>2</li>\n",
       "</ol>\n",
       "</dd>\n",
       "\t<dt>$`1.2`</dt>\n",
       "\t\t<dd><ol class=list-inline>\n",
       "\t<li>1</li>\n",
       "\t<li>1</li>\n",
       "\t<li>2</li>\n",
       "\t<li>2</li>\n",
       "\t<li>1</li>\n",
       "\t<li>1</li>\n",
       "\t<li>2</li>\n",
       "\t<li>2</li>\n",
       "\t<li>1</li>\n",
       "\t<li>2</li>\n",
       "</ol>\n",
       "</dd>\n",
       "</dl>\n"
      ],
      "text/latex": [
       "\\begin{description}\n",
       "\\item[\\$`1.1`] \\begin{enumerate*}\n",
       "\\item 1\n",
       "\\item 1\n",
       "\\item 2\n",
       "\\item 2\n",
       "\\item 1\n",
       "\\item 1\n",
       "\\item 1\n",
       "\\item 2\n",
       "\\item 1\n",
       "\\item 2\n",
       "\\end{enumerate*}\n",
       "\n",
       "\\item[\\$`1.2`] \\begin{enumerate*}\n",
       "\\item 1\n",
       "\\item 1\n",
       "\\item 2\n",
       "\\item 2\n",
       "\\item 1\n",
       "\\item 1\n",
       "\\item 2\n",
       "\\item 2\n",
       "\\item 1\n",
       "\\item 2\n",
       "\\end{enumerate*}\n",
       "\n",
       "\\end{description}\n"
      ],
      "text/markdown": [
       "$`1.1`\n",
       ":   1. 1\n",
       "2. 1\n",
       "3. 2\n",
       "4. 2\n",
       "5. 1\n",
       "6. 1\n",
       "7. 1\n",
       "8. 2\n",
       "9. 1\n",
       "10. 2\n",
       "\n",
       "\n",
       "\n",
       "$`1.2`\n",
       ":   1. 1\n",
       "2. 1\n",
       "3. 2\n",
       "4. 2\n",
       "5. 1\n",
       "6. 1\n",
       "7. 2\n",
       "8. 2\n",
       "9. 1\n",
       "10. 2\n",
       "\n",
       "\n",
       "\n",
       "\n",
       "\n"
      ],
      "text/plain": [
       "$`1.1`\n",
       " [1] 1 1 2 2 1 1 1 2 1 2\n",
       "\n",
       "$`1.2`\n",
       " [1] 1 1 2 2 1 1 2 2 1 2\n"
      ]
     },
     "metadata": {},
     "output_type": "display_data"
    }
   ],
   "source": [
    "str(split)\n",
    "?gl\n",
    "x7 <- c(1,1,1,1,2,2,2,2,1,1,1,1,1,2,2,2,1,1,2,2)\n",
    "x7\n",
    "f3 <- gl(1,2)\n",
    "f3\n",
    "f4 <- gl(2,1)\n",
    "f4\n",
    "interaction(f3, f4)\n",
    "split(x7, list(f3, f4))"
   ]
  },
  {
   "cell_type": "code",
   "execution_count": null,
   "metadata": {},
   "outputs": [],
   "source": []
  },
  {
   "cell_type": "code",
   "execution_count": null,
   "metadata": {},
   "outputs": [],
   "source": []
  }
 ],
 "metadata": {
  "kernelspec": {
   "display_name": "R",
   "language": "R",
   "name": "ir"
  },
  "language_info": {
   "codemirror_mode": "r",
   "file_extension": ".r",
   "mimetype": "text/x-r-source",
   "name": "R",
   "pygments_lexer": "r",
   "version": "3.4.4"
  }
 },
 "nbformat": 4,
 "nbformat_minor": 2
}
