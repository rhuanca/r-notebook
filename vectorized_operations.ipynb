{
 "cells": [
  {
   "cell_type": "markdown",
   "metadata": {},
   "source": [
    "# Vectorized Operations"
   ]
  },
  {
   "cell_type": "code",
   "execution_count": 10,
   "metadata": {},
   "outputs": [
    {
     "name": "stdout",
     "output_type": "stream",
     "text": [
      "[1] 5 6 7 8 9\n",
      "[1] 2 3 4 5 6\n",
      "[1]  7  9 11 13 15\n",
      "[1] FALSE FALSE FALSE  TRUE  TRUE\n",
      "[1] FALSE FALSE  TRUE  TRUE  TRUE\n",
      "[1] FALSE FALSE  TRUE FALSE FALSE\n",
      "[1] 10 18 28 40 54\n",
      "[1] 2.50 2.00 1.75 1.60 1.50\n"
     ]
    }
   ],
   "source": [
    "# vector operations\n",
    "x1 <- 5:9; x2 <- 2:6\n",
    "print(x1)\n",
    "print(x2)\n",
    "\n",
    "print(x1 + x2)\n",
    "\n",
    "print(x1 > 7)\n",
    "print(x1 >= 7)\n",
    "print(x1 == 7)\n",
    "print(x1 * x2)\n",
    "print(x1 / x2)"
   ]
  },
  {
   "cell_type": "code",
   "execution_count": 18,
   "metadata": {},
   "outputs": [
    {
     "name": "stdout",
     "output_type": "stream",
     "text": [
      "     [,1] [,2]\n",
      "[1,]    2    4\n",
      "[2,]    3    5\n",
      "     [,1] [,2]\n",
      "[1,]    6    8\n",
      "[2,]    7    9\n",
      "     [,1] [,2]\n",
      "[1,]   12   32\n",
      "[2,]   21   45\n",
      "     [,1] [,2]\n",
      "[1,]   40   52\n",
      "[2,]   53   69\n"
     ]
    }
   ],
   "source": [
    "# matrix operations\n",
    "x3 <- matrix(2:5, 2, 2)\n",
    "x4 <- matrix(6:9, 2, 2)\n",
    "print(x3)\n",
    "print(x4)\n",
    "print(x3 * x4) # element wise multiplication\n",
    "print(x3 %*% x4) # true matrix multiplication"
   ]
  },
  {
   "cell_type": "code",
   "execution_count": null,
   "metadata": {},
   "outputs": [],
   "source": []
  },
  {
   "cell_type": "code",
   "execution_count": null,
   "metadata": {},
   "outputs": [],
   "source": []
  }
 ],
 "metadata": {
  "kernelspec": {
   "display_name": "R",
   "language": "R",
   "name": "ir"
  },
  "language_info": {
   "codemirror_mode": "r",
   "file_extension": ".r",
   "mimetype": "text/x-r-source",
   "name": "R",
   "pygments_lexer": "r",
   "version": "3.4.4"
  }
 },
 "nbformat": 4,
 "nbformat_minor": 2
}
