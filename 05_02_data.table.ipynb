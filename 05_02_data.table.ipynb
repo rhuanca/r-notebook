{
 "cells": [
  {
   "cell_type": "markdown",
   "metadata": {},
   "source": [
    "# data.table"
   ]
  },
  {
   "cell_type": "code",
   "execution_count": 6,
   "metadata": {},
   "outputs": [],
   "source": [
    "library(data.table)"
   ]
  },
  {
   "cell_type": "code",
   "execution_count": 7,
   "metadata": {},
   "outputs": [
    {
     "data": {
      "text/html": [
       "<table>\n",
       "<thead><tr><th scope=col>x</th><th scope=col>y</th><th scope=col>z</th></tr></thead>\n",
       "<tbody>\n",
       "\t<tr><td>-0.6264538</td><td>a         </td><td>-0.3053884</td></tr>\n",
       "\t<tr><td> 0.1836433</td><td>a         </td><td> 1.5117812</td></tr>\n",
       "\t<tr><td>-0.8356286</td><td>a         </td><td> 0.3898432</td></tr>\n",
       "\t<tr><td> 1.5952808</td><td>b         </td><td>-0.6212406</td></tr>\n",
       "\t<tr><td> 0.3295078</td><td>b         </td><td>-2.2146999</td></tr>\n",
       "\t<tr><td>-0.8204684</td><td>b         </td><td> 1.1249309</td></tr>\n",
       "</tbody>\n",
       "</table>\n"
      ],
      "text/latex": [
       "\\begin{tabular}{r|lll}\n",
       " x & y & z\\\\\n",
       "\\hline\n",
       "\t -0.6264538 & a          & -0.3053884\\\\\n",
       "\t  0.1836433 & a          &  1.5117812\\\\\n",
       "\t -0.8356286 & a          &  0.3898432\\\\\n",
       "\t  1.5952808 & b          & -0.6212406\\\\\n",
       "\t  0.3295078 & b          & -2.2146999\\\\\n",
       "\t -0.8204684 & b          &  1.1249309\\\\\n",
       "\\end{tabular}\n"
      ],
      "text/markdown": [
       "\n",
       "x | y | z | \n",
       "|---|---|---|---|---|---|\n",
       "| -0.6264538 | a          | -0.3053884 | \n",
       "|  0.1836433 | a          |  1.5117812 | \n",
       "| -0.8356286 | a          |  0.3898432 | \n",
       "|  1.5952808 | b          | -0.6212406 | \n",
       "|  0.3295078 | b          | -2.2146999 | \n",
       "| -0.8204684 | b          |  1.1249309 | \n",
       "\n",
       "\n"
      ],
      "text/plain": [
       "  x          y z         \n",
       "1 -0.6264538 a -0.3053884\n",
       "2  0.1836433 a  1.5117812\n",
       "3 -0.8356286 a  0.3898432\n",
       "4  1.5952808 b -0.6212406\n",
       "5  0.3295078 b -2.2146999\n",
       "6 -0.8204684 b  1.1249309"
      ]
     },
     "metadata": {},
     "output_type": "display_data"
    }
   ],
   "source": [
    "set.seed(1)\n",
    "df1 = data.frame(x=rnorm(9), y=rep(c(\"a\",\"b\",\"c\"), each=3),z=rnorm(9))\n",
    "head(df1)"
   ]
  },
  {
   "cell_type": "code",
   "execution_count": 8,
   "metadata": {},
   "outputs": [
    {
     "data": {
      "text/html": [
       "<table>\n",
       "<thead><tr><th scope=col>x</th><th scope=col>y</th><th scope=col>z</th></tr></thead>\n",
       "<tbody>\n",
       "\t<tr><td>-0.6264538</td><td>a         </td><td>-0.3053884</td></tr>\n",
       "\t<tr><td> 0.1836433</td><td>a         </td><td> 1.5117812</td></tr>\n",
       "\t<tr><td>-0.8356286</td><td>a         </td><td> 0.3898432</td></tr>\n",
       "\t<tr><td> 1.5952808</td><td>b         </td><td>-0.6212406</td></tr>\n",
       "\t<tr><td> 0.3295078</td><td>b         </td><td>-2.2146999</td></tr>\n",
       "\t<tr><td>-0.8204684</td><td>b         </td><td> 1.1249309</td></tr>\n",
       "</tbody>\n",
       "</table>\n"
      ],
      "text/latex": [
       "\\begin{tabular}{r|lll}\n",
       " x & y & z\\\\\n",
       "\\hline\n",
       "\t -0.6264538 & a          & -0.3053884\\\\\n",
       "\t  0.1836433 & a          &  1.5117812\\\\\n",
       "\t -0.8356286 & a          &  0.3898432\\\\\n",
       "\t  1.5952808 & b          & -0.6212406\\\\\n",
       "\t  0.3295078 & b          & -2.2146999\\\\\n",
       "\t -0.8204684 & b          &  1.1249309\\\\\n",
       "\\end{tabular}\n"
      ],
      "text/markdown": [
       "\n",
       "x | y | z | \n",
       "|---|---|---|---|---|---|\n",
       "| -0.6264538 | a          | -0.3053884 | \n",
       "|  0.1836433 | a          |  1.5117812 | \n",
       "| -0.8356286 | a          |  0.3898432 | \n",
       "|  1.5952808 | b          | -0.6212406 | \n",
       "|  0.3295078 | b          | -2.2146999 | \n",
       "| -0.8204684 | b          |  1.1249309 | \n",
       "\n",
       "\n"
      ],
      "text/plain": [
       "  x          y z         \n",
       "1 -0.6264538 a -0.3053884\n",
       "2  0.1836433 a  1.5117812\n",
       "3 -0.8356286 a  0.3898432\n",
       "4  1.5952808 b -0.6212406\n",
       "5  0.3295078 b -2.2146999\n",
       "6 -0.8204684 b  1.1249309"
      ]
     },
     "metadata": {},
     "output_type": "display_data"
    }
   ],
   "source": [
    "set.seed(1)\n",
    "df2 = data.table(x=rnorm(9), y=rep(c(\"a\",\"b\",\"c\"), each=3),z=rnorm(9))\n",
    "head(df2)"
   ]
  },
  {
   "cell_type": "code",
   "execution_count": 9,
   "metadata": {},
   "outputs": [
    {
     "name": "stdout",
     "output_type": "stream",
     "text": [
      "   NAME NROW NCOL MB  COLS KEY\n",
      "1:  df2    9    3  0 x,y,z    \n",
      "Total: 0MB\n"
     ]
    }
   ],
   "source": [
    "# list tables in memory\n",
    "tables()"
   ]
  },
  {
   "cell_type": "code",
   "execution_count": 10,
   "metadata": {},
   "outputs": [
    {
     "data": {
      "text/html": [
       "<table>\n",
       "<thead><tr><th scope=col>x</th><th scope=col>y</th><th scope=col>z</th></tr></thead>\n",
       "<tbody>\n",
       "\t<tr><td>0.1836433</td><td>a        </td><td>1.511781 </td></tr>\n",
       "</tbody>\n",
       "</table>\n"
      ],
      "text/latex": [
       "\\begin{tabular}{r|lll}\n",
       " x & y & z\\\\\n",
       "\\hline\n",
       "\t 0.1836433 & a         & 1.511781 \\\\\n",
       "\\end{tabular}\n"
      ],
      "text/markdown": [
       "\n",
       "x | y | z | \n",
       "|---|\n",
       "| 0.1836433 | a         | 1.511781  | \n",
       "\n",
       "\n"
      ],
      "text/plain": [
       "  x         y z       \n",
       "1 0.1836433 a 1.511781"
      ]
     },
     "metadata": {},
     "output_type": "display_data"
    }
   ],
   "source": [
    "# subsetting\n",
    "df2[2,]"
   ]
  },
  {
   "cell_type": "code",
   "execution_count": 11,
   "metadata": {},
   "outputs": [
    {
     "data": {
      "text/html": [
       "<table>\n",
       "<thead><tr><th scope=col>x</th><th scope=col>y</th><th scope=col>z</th></tr></thead>\n",
       "<tbody>\n",
       "\t<tr><td>-0.6264538</td><td>a         </td><td>-0.3053884</td></tr>\n",
       "\t<tr><td> 0.1836433</td><td>a         </td><td> 1.5117812</td></tr>\n",
       "\t<tr><td>-0.8356286</td><td>a         </td><td> 0.3898432</td></tr>\n",
       "</tbody>\n",
       "</table>\n"
      ],
      "text/latex": [
       "\\begin{tabular}{r|lll}\n",
       " x & y & z\\\\\n",
       "\\hline\n",
       "\t -0.6264538 & a          & -0.3053884\\\\\n",
       "\t  0.1836433 & a          &  1.5117812\\\\\n",
       "\t -0.8356286 & a          &  0.3898432\\\\\n",
       "\\end{tabular}\n"
      ],
      "text/markdown": [
       "\n",
       "x | y | z | \n",
       "|---|---|---|\n",
       "| -0.6264538 | a          | -0.3053884 | \n",
       "|  0.1836433 | a          |  1.5117812 | \n",
       "| -0.8356286 | a          |  0.3898432 | \n",
       "\n",
       "\n"
      ],
      "text/plain": [
       "  x          y z         \n",
       "1 -0.6264538 a -0.3053884\n",
       "2  0.1836433 a  1.5117812\n",
       "3 -0.8356286 a  0.3898432"
      ]
     },
     "metadata": {},
     "output_type": "display_data"
    }
   ],
   "source": [
    "# subsetting\n",
    "df2[df2$y==\"a\"]"
   ]
  },
  {
   "cell_type": "code",
   "execution_count": 12,
   "metadata": {},
   "outputs": [
    {
     "data": {
      "text/html": [
       "<table>\n",
       "<thead><tr><th scope=col>x</th><th scope=col>y</th><th scope=col>z</th></tr></thead>\n",
       "<tbody>\n",
       "\t<tr><td> 0.1836433</td><td>a         </td><td>1.5117812 </td></tr>\n",
       "\t<tr><td>-0.8356286</td><td>a         </td><td>0.3898432 </td></tr>\n",
       "</tbody>\n",
       "</table>\n"
      ],
      "text/latex": [
       "\\begin{tabular}{r|lll}\n",
       " x & y & z\\\\\n",
       "\\hline\n",
       "\t  0.1836433 & a          & 1.5117812 \\\\\n",
       "\t -0.8356286 & a          & 0.3898432 \\\\\n",
       "\\end{tabular}\n"
      ],
      "text/markdown": [
       "\n",
       "x | y | z | \n",
       "|---|---|\n",
       "|  0.1836433 | a          | 1.5117812  | \n",
       "| -0.8356286 | a          | 0.3898432  | \n",
       "\n",
       "\n"
      ],
      "text/plain": [
       "  x          y z        \n",
       "1  0.1836433 a 1.5117812\n",
       "2 -0.8356286 a 0.3898432"
      ]
     },
     "metadata": {},
     "output_type": "display_data"
    }
   ],
   "source": [
    "# subsetting by number of rows\n",
    "df2[c(2,3)]"
   ]
  },
  {
   "cell_type": "code",
   "execution_count": 13,
   "metadata": {},
   "outputs": [
    {
     "data": {
      "text/html": [
       "<table>\n",
       "<thead><tr><th scope=col>y</th><th scope=col>z</th></tr></thead>\n",
       "<tbody>\n",
       "\t<tr><td>a          </td><td>-0.30538839</td></tr>\n",
       "\t<tr><td>a          </td><td> 1.51178117</td></tr>\n",
       "\t<tr><td>a          </td><td> 0.38984324</td></tr>\n",
       "\t<tr><td>b          </td><td>-0.62124058</td></tr>\n",
       "\t<tr><td>b          </td><td>-2.21469989</td></tr>\n",
       "\t<tr><td>b          </td><td> 1.12493092</td></tr>\n",
       "\t<tr><td>c          </td><td>-0.04493361</td></tr>\n",
       "\t<tr><td>c          </td><td>-0.01619026</td></tr>\n",
       "\t<tr><td>c          </td><td> 0.94383621</td></tr>\n",
       "</tbody>\n",
       "</table>\n"
      ],
      "text/latex": [
       "\\begin{tabular}{r|ll}\n",
       " y & z\\\\\n",
       "\\hline\n",
       "\t a           & -0.30538839\\\\\n",
       "\t a           &  1.51178117\\\\\n",
       "\t a           &  0.38984324\\\\\n",
       "\t b           & -0.62124058\\\\\n",
       "\t b           & -2.21469989\\\\\n",
       "\t b           &  1.12493092\\\\\n",
       "\t c           & -0.04493361\\\\\n",
       "\t c           & -0.01619026\\\\\n",
       "\t c           &  0.94383621\\\\\n",
       "\\end{tabular}\n"
      ],
      "text/markdown": [
       "\n",
       "y | z | \n",
       "|---|---|---|---|---|---|---|---|---|\n",
       "| a           | -0.30538839 | \n",
       "| a           |  1.51178117 | \n",
       "| a           |  0.38984324 | \n",
       "| b           | -0.62124058 | \n",
       "| b           | -2.21469989 | \n",
       "| b           |  1.12493092 | \n",
       "| c           | -0.04493361 | \n",
       "| c           | -0.01619026 | \n",
       "| c           |  0.94383621 | \n",
       "\n",
       "\n"
      ],
      "text/plain": [
       "  y z          \n",
       "1 a -0.30538839\n",
       "2 a  1.51178117\n",
       "3 a  0.38984324\n",
       "4 b -0.62124058\n",
       "5 b -2.21469989\n",
       "6 b  1.12493092\n",
       "7 c -0.04493361\n",
       "8 c -0.01619026\n",
       "9 c  0.94383621"
      ]
     },
     "metadata": {},
     "output_type": "display_data"
    }
   ],
   "source": [
    "# subsetting by number of columns\n",
    "df2[,c(2,3)]"
   ]
  },
  {
   "cell_type": "code",
   "execution_count": 14,
   "metadata": {},
   "outputs": [
    {
     "data": {
      "text/html": [
       "<table>\n",
       "<thead><tr><th scope=col>V1</th><th scope=col>V2</th></tr></thead>\n",
       "<tbody>\n",
       "\t<tr><td>0.180824  </td><td>0.08532653</td></tr>\n",
       "</tbody>\n",
       "</table>\n"
      ],
      "text/latex": [
       "\\begin{tabular}{r|ll}\n",
       " V1 & V2\\\\\n",
       "\\hline\n",
       "\t 0.180824   & 0.08532653\\\\\n",
       "\\end{tabular}\n"
      ],
      "text/markdown": [
       "\n",
       "V1 | V2 | \n",
       "|---|\n",
       "| 0.180824   | 0.08532653 | \n",
       "\n",
       "\n"
      ],
      "text/plain": [
       "  V1       V2        \n",
       "1 0.180824 0.08532653"
      ]
     },
     "metadata": {},
     "output_type": "display_data"
    }
   ],
   "source": [
    "# calculating values for variables with expression\n",
    "df2[,list(mean(x),mean(z))]"
   ]
  },
  {
   "cell_type": "code",
   "execution_count": 17,
   "metadata": {},
   "outputs": [
    {
     "data": {
      "text/html": [
       "<table>\n",
       "<thead><tr><th scope=col>x</th><th scope=col>y</th><th scope=col>z</th></tr></thead>\n",
       "<tbody>\n",
       "\t<tr><td>-0.6264538 </td><td>a          </td><td>-0.30538839</td></tr>\n",
       "\t<tr><td> 0.1836433 </td><td>a          </td><td> 1.51178117</td></tr>\n",
       "\t<tr><td>-0.8356286 </td><td>a          </td><td> 0.38984324</td></tr>\n",
       "\t<tr><td> 1.5952808 </td><td>b          </td><td>-0.62124058</td></tr>\n",
       "\t<tr><td> 0.3295078 </td><td>b          </td><td>-2.21469989</td></tr>\n",
       "\t<tr><td>-0.8204684 </td><td>b          </td><td> 1.12493092</td></tr>\n",
       "\t<tr><td> 0.4874291 </td><td>c          </td><td>-0.04493361</td></tr>\n",
       "\t<tr><td> 0.7383247 </td><td>c          </td><td>-0.01619026</td></tr>\n",
       "\t<tr><td> 0.5757814 </td><td>c          </td><td> 0.94383621</td></tr>\n",
       "</tbody>\n",
       "</table>\n"
      ],
      "text/latex": [
       "\\begin{tabular}{r|lll}\n",
       " x & y & z\\\\\n",
       "\\hline\n",
       "\t -0.6264538  & a           & -0.30538839\\\\\n",
       "\t  0.1836433  & a           &  1.51178117\\\\\n",
       "\t -0.8356286  & a           &  0.38984324\\\\\n",
       "\t  1.5952808  & b           & -0.62124058\\\\\n",
       "\t  0.3295078  & b           & -2.21469989\\\\\n",
       "\t -0.8204684  & b           &  1.12493092\\\\\n",
       "\t  0.4874291  & c           & -0.04493361\\\\\n",
       "\t  0.7383247  & c           & -0.01619026\\\\\n",
       "\t  0.5757814  & c           &  0.94383621\\\\\n",
       "\\end{tabular}\n"
      ],
      "text/markdown": [
       "\n",
       "x | y | z | \n",
       "|---|---|---|---|---|---|---|---|---|\n",
       "| -0.6264538  | a           | -0.30538839 | \n",
       "|  0.1836433  | a           |  1.51178117 | \n",
       "| -0.8356286  | a           |  0.38984324 | \n",
       "|  1.5952808  | b           | -0.62124058 | \n",
       "|  0.3295078  | b           | -2.21469989 | \n",
       "| -0.8204684  | b           |  1.12493092 | \n",
       "|  0.4874291  | c           | -0.04493361 | \n",
       "|  0.7383247  | c           | -0.01619026 | \n",
       "|  0.5757814  | c           |  0.94383621 | \n",
       "\n",
       "\n"
      ],
      "text/plain": [
       "  x          y z          \n",
       "1 -0.6264538 a -0.30538839\n",
       "2  0.1836433 a  1.51178117\n",
       "3 -0.8356286 a  0.38984324\n",
       "4  1.5952808 b -0.62124058\n",
       "5  0.3295078 b -2.21469989\n",
       "6 -0.8204684 b  1.12493092\n",
       "7  0.4874291 c -0.04493361\n",
       "8  0.7383247 c -0.01619026\n",
       "9  0.5757814 c  0.94383621"
      ]
     },
     "metadata": {},
     "output_type": "display_data"
    },
    {
     "data": {
      "text/plain": [
       "y\n",
       "a b c \n",
       "3 3 3 "
      ]
     },
     "metadata": {},
     "output_type": "display_data"
    }
   ],
   "source": [
    "# creating a table\n",
    "# in this case we are creating a table of count of values of \n",
    "# y column\n",
    "df2\n",
    "df2[,table(y)]"
   ]
  },
  {
   "cell_type": "code",
   "execution_count": 21,
   "metadata": {},
   "outputs": [
    {
     "data": {},
     "metadata": {},
     "output_type": "display_data"
    },
    {
     "data": {
      "text/html": [
       "<table>\n",
       "<thead><tr><th scope=col>x</th><th scope=col>y</th><th scope=col>z</th><th scope=col>w</th></tr></thead>\n",
       "<tbody>\n",
       "\t<tr><td>-0.6264538  </td><td>a           </td><td>-0.30538839 </td><td>0.0932620670</td></tr>\n",
       "\t<tr><td> 0.1836433  </td><td>a           </td><td> 1.51178117 </td><td>2.2854823013</td></tr>\n",
       "\t<tr><td>-0.8356286  </td><td>a           </td><td> 0.38984324 </td><td>0.1519777490</td></tr>\n",
       "\t<tr><td> 1.5952808  </td><td>b           </td><td>-0.62124058 </td><td>0.3859398589</td></tr>\n",
       "\t<tr><td> 0.3295078  </td><td>b           </td><td>-2.21469989 </td><td>4.9048955903</td></tr>\n",
       "\t<tr><td>-0.8204684  </td><td>b           </td><td> 1.12493092 </td><td>1.2654695706</td></tr>\n",
       "\t<tr><td> 0.4874291  </td><td>c           </td><td>-0.04493361 </td><td>0.0020190292</td></tr>\n",
       "\t<tr><td> 0.7383247  </td><td>c           </td><td>-0.01619026 </td><td>0.0002621246</td></tr>\n",
       "\t<tr><td> 0.5757814  </td><td>c           </td><td> 0.94383621 </td><td>0.8908267926</td></tr>\n",
       "</tbody>\n",
       "</table>\n"
      ],
      "text/latex": [
       "\\begin{tabular}{r|llll}\n",
       " x & y & z & w\\\\\n",
       "\\hline\n",
       "\t -0.6264538   & a            & -0.30538839  & 0.0932620670\\\\\n",
       "\t  0.1836433   & a            &  1.51178117  & 2.2854823013\\\\\n",
       "\t -0.8356286   & a            &  0.38984324  & 0.1519777490\\\\\n",
       "\t  1.5952808   & b            & -0.62124058  & 0.3859398589\\\\\n",
       "\t  0.3295078   & b            & -2.21469989  & 4.9048955903\\\\\n",
       "\t -0.8204684   & b            &  1.12493092  & 1.2654695706\\\\\n",
       "\t  0.4874291   & c            & -0.04493361  & 0.0020190292\\\\\n",
       "\t  0.7383247   & c            & -0.01619026  & 0.0002621246\\\\\n",
       "\t  0.5757814   & c            &  0.94383621  & 0.8908267926\\\\\n",
       "\\end{tabular}\n"
      ],
      "text/markdown": [
       "\n",
       "x | y | z | w | \n",
       "|---|---|---|---|---|---|---|---|---|\n",
       "| -0.6264538   | a            | -0.30538839  | 0.0932620670 | \n",
       "|  0.1836433   | a            |  1.51178117  | 2.2854823013 | \n",
       "| -0.8356286   | a            |  0.38984324  | 0.1519777490 | \n",
       "|  1.5952808   | b            | -0.62124058  | 0.3859398589 | \n",
       "|  0.3295078   | b            | -2.21469989  | 4.9048955903 | \n",
       "| -0.8204684   | b            |  1.12493092  | 1.2654695706 | \n",
       "|  0.4874291   | c            | -0.04493361  | 0.0020190292 | \n",
       "|  0.7383247   | c            | -0.01619026  | 0.0002621246 | \n",
       "|  0.5757814   | c            |  0.94383621  | 0.8908267926 | \n",
       "\n",
       "\n"
      ],
      "text/plain": [
       "  x          y z           w           \n",
       "1 -0.6264538 a -0.30538839 0.0932620670\n",
       "2  0.1836433 a  1.51178117 2.2854823013\n",
       "3 -0.8356286 a  0.38984324 0.1519777490\n",
       "4  1.5952808 b -0.62124058 0.3859398589\n",
       "5  0.3295078 b -2.21469989 4.9048955903\n",
       "6 -0.8204684 b  1.12493092 1.2654695706\n",
       "7  0.4874291 c -0.04493361 0.0020190292\n",
       "8  0.7383247 c -0.01619026 0.0002621246\n",
       "9  0.5757814 c  0.94383621 0.8908267926"
      ]
     },
     "metadata": {},
     "output_type": "display_data"
    }
   ],
   "source": [
    "# adding a column\n",
    "df2[,w:=z^2]\n",
    "df2"
   ]
  },
  {
   "cell_type": "code",
   "execution_count": 23,
   "metadata": {},
   "outputs": [
    {
     "data": {},
     "metadata": {},
     "output_type": "display_data"
    },
    {
     "data": {
      "text/html": [
       "<table>\n",
       "<thead><tr><th scope=col>x</th><th scope=col>y</th><th scope=col>z</th><th scope=col>w</th><th scope=col>m</th></tr></thead>\n",
       "<tbody>\n",
       "\t<tr><td>-0.6264538  </td><td>a           </td><td>-0.30538839 </td><td>0.0932620670</td><td>2.024376    </td></tr>\n",
       "\t<tr><td> 0.1836433  </td><td>a           </td><td> 1.51178117 </td><td>2.2854823013</td><td>2.743176    </td></tr>\n",
       "\t<tr><td>-0.8356286  </td><td>a           </td><td> 0.38984324 </td><td>0.1519777490</td><td>2.187202    </td></tr>\n",
       "\t<tr><td> 1.5952808  </td><td>b           </td><td>-0.62124058 </td><td>0.3859398589</td><td>2.578707    </td></tr>\n",
       "\t<tr><td> 0.3295078  </td><td>b           </td><td>-2.21469989 </td><td>4.9048955903</td><td>1.639143    </td></tr>\n",
       "\t<tr><td>-0.8204684  </td><td>b           </td><td> 1.12493092 </td><td>1.2654695706</td><td>2.407207    </td></tr>\n",
       "\t<tr><td> 0.4874291  </td><td>c           </td><td>-0.04493361 </td><td>0.0020190292</td><td>2.444268    </td></tr>\n",
       "\t<tr><td> 0.7383247  </td><td>c           </td><td>-0.01619026 </td><td>0.0002621246</td><td>2.516553    </td></tr>\n",
       "\t<tr><td> 0.5757814  </td><td>c           </td><td> 0.94383621 </td><td>0.8908267926</td><td>2.704787    </td></tr>\n",
       "</tbody>\n",
       "</table>\n"
      ],
      "text/latex": [
       "\\begin{tabular}{r|lllll}\n",
       " x & y & z & w & m\\\\\n",
       "\\hline\n",
       "\t -0.6264538   & a            & -0.30538839  & 0.0932620670 & 2.024376    \\\\\n",
       "\t  0.1836433   & a            &  1.51178117  & 2.2854823013 & 2.743176    \\\\\n",
       "\t -0.8356286   & a            &  0.38984324  & 0.1519777490 & 2.187202    \\\\\n",
       "\t  1.5952808   & b            & -0.62124058  & 0.3859398589 & 2.578707    \\\\\n",
       "\t  0.3295078   & b            & -2.21469989  & 4.9048955903 & 1.639143    \\\\\n",
       "\t -0.8204684   & b            &  1.12493092  & 1.2654695706 & 2.407207    \\\\\n",
       "\t  0.4874291   & c            & -0.04493361  & 0.0020190292 & 2.444268    \\\\\n",
       "\t  0.7383247   & c            & -0.01619026  & 0.0002621246 & 2.516553    \\\\\n",
       "\t  0.5757814   & c            &  0.94383621  & 0.8908267926 & 2.704787    \\\\\n",
       "\\end{tabular}\n"
      ],
      "text/markdown": [
       "\n",
       "x | y | z | w | m | \n",
       "|---|---|---|---|---|---|---|---|---|\n",
       "| -0.6264538   | a            | -0.30538839  | 0.0932620670 | 2.024376     | \n",
       "|  0.1836433   | a            |  1.51178117  | 2.2854823013 | 2.743176     | \n",
       "| -0.8356286   | a            |  0.38984324  | 0.1519777490 | 2.187202     | \n",
       "|  1.5952808   | b            | -0.62124058  | 0.3859398589 | 2.578707     | \n",
       "|  0.3295078   | b            | -2.21469989  | 4.9048955903 | 1.639143     | \n",
       "| -0.8204684   | b            |  1.12493092  | 1.2654695706 | 2.407207     | \n",
       "|  0.4874291   | c            | -0.04493361  | 0.0020190292 | 2.444268     | \n",
       "|  0.7383247   | c            | -0.01619026  | 0.0002621246 | 2.516553     | \n",
       "|  0.5757814   | c            |  0.94383621  | 0.8908267926 | 2.704787     | \n",
       "\n",
       "\n"
      ],
      "text/plain": [
       "  x          y z           w            m       \n",
       "1 -0.6264538 a -0.30538839 0.0932620670 2.024376\n",
       "2  0.1836433 a  1.51178117 2.2854823013 2.743176\n",
       "3 -0.8356286 a  0.38984324 0.1519777490 2.187202\n",
       "4  1.5952808 b -0.62124058 0.3859398589 2.578707\n",
       "5  0.3295078 b -2.21469989 4.9048955903 1.639143\n",
       "6 -0.8204684 b  1.12493092 1.2654695706 2.407207\n",
       "7  0.4874291 c -0.04493361 0.0020190292 2.444268\n",
       "8  0.7383247 c -0.01619026 0.0002621246 2.516553\n",
       "9  0.5757814 c  0.94383621 0.8908267926 2.704787"
      ]
     },
     "metadata": {},
     "output_type": "display_data"
    }
   ],
   "source": [
    "# multiple operations\n",
    "df2[, m:={tmp<-(x+z);log2(tmp+5)}]\n",
    "df2"
   ]
  },
  {
   "cell_type": "code",
   "execution_count": 24,
   "metadata": {},
   "outputs": [
    {
     "data": {},
     "metadata": {},
     "output_type": "display_data"
    },
    {
     "data": {
      "text/html": [
       "<table>\n",
       "<thead><tr><th scope=col>x</th><th scope=col>y</th><th scope=col>z</th><th scope=col>w</th><th scope=col>m</th><th scope=col>a</th></tr></thead>\n",
       "<tbody>\n",
       "\t<tr><td>-0.6264538  </td><td>a           </td><td>-0.30538839 </td><td>0.0932620670</td><td>2.024376    </td><td>FALSE       </td></tr>\n",
       "\t<tr><td> 0.1836433  </td><td>a           </td><td> 1.51178117 </td><td>2.2854823013</td><td>2.743176    </td><td> TRUE       </td></tr>\n",
       "\t<tr><td>-0.8356286  </td><td>a           </td><td> 0.38984324 </td><td>0.1519777490</td><td>2.187202    </td><td>FALSE       </td></tr>\n",
       "\t<tr><td> 1.5952808  </td><td>b           </td><td>-0.62124058 </td><td>0.3859398589</td><td>2.578707    </td><td> TRUE       </td></tr>\n",
       "\t<tr><td> 0.3295078  </td><td>b           </td><td>-2.21469989 </td><td>4.9048955903</td><td>1.639143    </td><td> TRUE       </td></tr>\n",
       "\t<tr><td>-0.8204684  </td><td>b           </td><td> 1.12493092 </td><td>1.2654695706</td><td>2.407207    </td><td>FALSE       </td></tr>\n",
       "\t<tr><td> 0.4874291  </td><td>c           </td><td>-0.04493361 </td><td>0.0020190292</td><td>2.444268    </td><td> TRUE       </td></tr>\n",
       "\t<tr><td> 0.7383247  </td><td>c           </td><td>-0.01619026 </td><td>0.0002621246</td><td>2.516553    </td><td> TRUE       </td></tr>\n",
       "\t<tr><td> 0.5757814  </td><td>c           </td><td> 0.94383621 </td><td>0.8908267926</td><td>2.704787    </td><td> TRUE       </td></tr>\n",
       "</tbody>\n",
       "</table>\n"
      ],
      "text/latex": [
       "\\begin{tabular}{r|llllll}\n",
       " x & y & z & w & m & a\\\\\n",
       "\\hline\n",
       "\t -0.6264538   & a            & -0.30538839  & 0.0932620670 & 2.024376     & FALSE       \\\\\n",
       "\t  0.1836433   & a            &  1.51178117  & 2.2854823013 & 2.743176     &  TRUE       \\\\\n",
       "\t -0.8356286   & a            &  0.38984324  & 0.1519777490 & 2.187202     & FALSE       \\\\\n",
       "\t  1.5952808   & b            & -0.62124058  & 0.3859398589 & 2.578707     &  TRUE       \\\\\n",
       "\t  0.3295078   & b            & -2.21469989  & 4.9048955903 & 1.639143     &  TRUE       \\\\\n",
       "\t -0.8204684   & b            &  1.12493092  & 1.2654695706 & 2.407207     & FALSE       \\\\\n",
       "\t  0.4874291   & c            & -0.04493361  & 0.0020190292 & 2.444268     &  TRUE       \\\\\n",
       "\t  0.7383247   & c            & -0.01619026  & 0.0002621246 & 2.516553     &  TRUE       \\\\\n",
       "\t  0.5757814   & c            &  0.94383621  & 0.8908267926 & 2.704787     &  TRUE       \\\\\n",
       "\\end{tabular}\n"
      ],
      "text/markdown": [
       "\n",
       "x | y | z | w | m | a | \n",
       "|---|---|---|---|---|---|---|---|---|\n",
       "| -0.6264538   | a            | -0.30538839  | 0.0932620670 | 2.024376     | FALSE        | \n",
       "|  0.1836433   | a            |  1.51178117  | 2.2854823013 | 2.743176     |  TRUE        | \n",
       "| -0.8356286   | a            |  0.38984324  | 0.1519777490 | 2.187202     | FALSE        | \n",
       "|  1.5952808   | b            | -0.62124058  | 0.3859398589 | 2.578707     |  TRUE        | \n",
       "|  0.3295078   | b            | -2.21469989  | 4.9048955903 | 1.639143     |  TRUE        | \n",
       "| -0.8204684   | b            |  1.12493092  | 1.2654695706 | 2.407207     | FALSE        | \n",
       "|  0.4874291   | c            | -0.04493361  | 0.0020190292 | 2.444268     |  TRUE        | \n",
       "|  0.7383247   | c            | -0.01619026  | 0.0002621246 | 2.516553     |  TRUE        | \n",
       "|  0.5757814   | c            |  0.94383621  | 0.8908267926 | 2.704787     |  TRUE        | \n",
       "\n",
       "\n"
      ],
      "text/plain": [
       "  x          y z           w            m        a    \n",
       "1 -0.6264538 a -0.30538839 0.0932620670 2.024376 FALSE\n",
       "2  0.1836433 a  1.51178117 2.2854823013 2.743176  TRUE\n",
       "3 -0.8356286 a  0.38984324 0.1519777490 2.187202 FALSE\n",
       "4  1.5952808 b -0.62124058 0.3859398589 2.578707  TRUE\n",
       "5  0.3295078 b -2.21469989 4.9048955903 1.639143  TRUE\n",
       "6 -0.8204684 b  1.12493092 1.2654695706 2.407207 FALSE\n",
       "7  0.4874291 c -0.04493361 0.0020190292 2.444268  TRUE\n",
       "8  0.7383247 c -0.01619026 0.0002621246 2.516553  TRUE\n",
       "9  0.5757814 c  0.94383621 0.8908267926 2.704787  TRUE"
      ]
     },
     "metadata": {},
     "output_type": "display_data"
    }
   ],
   "source": [
    "# plyr like operations\n",
    "df2[,a:=x>0]\n",
    "df2"
   ]
  },
  {
   "cell_type": "code",
   "execution_count": 25,
   "metadata": {},
   "outputs": [
    {
     "data": {},
     "metadata": {},
     "output_type": "display_data"
    },
    {
     "data": {
      "text/html": [
       "<table>\n",
       "<thead><tr><th scope=col>x</th><th scope=col>y</th><th scope=col>z</th><th scope=col>w</th><th scope=col>m</th><th scope=col>a</th><th scope=col>b</th></tr></thead>\n",
       "<tbody>\n",
       "\t<tr><td>-0.6264538  </td><td>a           </td><td>-0.30538839 </td><td>0.0932620670</td><td>2.024376    </td><td>FALSE       </td><td>-0.2572805  </td></tr>\n",
       "\t<tr><td> 0.1836433  </td><td>a           </td><td> 1.51178117 </td><td>2.2854823013</td><td>2.743176    </td><td> TRUE       </td><td> 2.0632321  </td></tr>\n",
       "\t<tr><td>-0.8356286  </td><td>a           </td><td> 0.38984324 </td><td>0.1519777490</td><td>2.187202    </td><td>FALSE       </td><td>-0.2572805  </td></tr>\n",
       "\t<tr><td> 1.5952808  </td><td>b           </td><td>-0.62124058 </td><td>0.3859398589</td><td>2.578707    </td><td> TRUE       </td><td> 2.0632321  </td></tr>\n",
       "\t<tr><td> 0.3295078  </td><td>b           </td><td>-2.21469989 </td><td>4.9048955903</td><td>1.639143    </td><td> TRUE       </td><td> 2.0632321  </td></tr>\n",
       "\t<tr><td>-0.8204684  </td><td>b           </td><td> 1.12493092 </td><td>1.2654695706</td><td>2.407207    </td><td>FALSE       </td><td>-0.2572805  </td></tr>\n",
       "\t<tr><td> 0.4874291  </td><td>c           </td><td>-0.04493361 </td><td>0.0020190292</td><td>2.444268    </td><td> TRUE       </td><td> 2.0632321  </td></tr>\n",
       "\t<tr><td> 0.7383247  </td><td>c           </td><td>-0.01619026 </td><td>0.0002621246</td><td>2.516553    </td><td> TRUE       </td><td> 2.0632321  </td></tr>\n",
       "\t<tr><td> 0.5757814  </td><td>c           </td><td> 0.94383621 </td><td>0.8908267926</td><td>2.704787    </td><td> TRUE       </td><td> 2.0632321  </td></tr>\n",
       "</tbody>\n",
       "</table>\n"
      ],
      "text/latex": [
       "\\begin{tabular}{r|lllllll}\n",
       " x & y & z & w & m & a & b\\\\\n",
       "\\hline\n",
       "\t -0.6264538   & a            & -0.30538839  & 0.0932620670 & 2.024376     & FALSE        & -0.2572805  \\\\\n",
       "\t  0.1836433   & a            &  1.51178117  & 2.2854823013 & 2.743176     &  TRUE        &  2.0632321  \\\\\n",
       "\t -0.8356286   & a            &  0.38984324  & 0.1519777490 & 2.187202     & FALSE        & -0.2572805  \\\\\n",
       "\t  1.5952808   & b            & -0.62124058  & 0.3859398589 & 2.578707     &  TRUE        &  2.0632321  \\\\\n",
       "\t  0.3295078   & b            & -2.21469989  & 4.9048955903 & 1.639143     &  TRUE        &  2.0632321  \\\\\n",
       "\t -0.8204684   & b            &  1.12493092  & 1.2654695706 & 2.407207     & FALSE        & -0.2572805  \\\\\n",
       "\t  0.4874291   & c            & -0.04493361  & 0.0020190292 & 2.444268     &  TRUE        &  2.0632321  \\\\\n",
       "\t  0.7383247   & c            & -0.01619026  & 0.0002621246 & 2.516553     &  TRUE        &  2.0632321  \\\\\n",
       "\t  0.5757814   & c            &  0.94383621  & 0.8908267926 & 2.704787     &  TRUE        &  2.0632321  \\\\\n",
       "\\end{tabular}\n"
      ],
      "text/markdown": [
       "\n",
       "x | y | z | w | m | a | b | \n",
       "|---|---|---|---|---|---|---|---|---|\n",
       "| -0.6264538   | a            | -0.30538839  | 0.0932620670 | 2.024376     | FALSE        | -0.2572805   | \n",
       "|  0.1836433   | a            |  1.51178117  | 2.2854823013 | 2.743176     |  TRUE        |  2.0632321   | \n",
       "| -0.8356286   | a            |  0.38984324  | 0.1519777490 | 2.187202     | FALSE        | -0.2572805   | \n",
       "|  1.5952808   | b            | -0.62124058  | 0.3859398589 | 2.578707     |  TRUE        |  2.0632321   | \n",
       "|  0.3295078   | b            | -2.21469989  | 4.9048955903 | 1.639143     |  TRUE        |  2.0632321   | \n",
       "| -0.8204684   | b            |  1.12493092  | 1.2654695706 | 2.407207     | FALSE        | -0.2572805   | \n",
       "|  0.4874291   | c            | -0.04493361  | 0.0020190292 | 2.444268     |  TRUE        |  2.0632321   | \n",
       "|  0.7383247   | c            | -0.01619026  | 0.0002621246 | 2.516553     |  TRUE        |  2.0632321   | \n",
       "|  0.5757814   | c            |  0.94383621  | 0.8908267926 | 2.704787     |  TRUE        |  2.0632321   | \n",
       "\n",
       "\n"
      ],
      "text/plain": [
       "  x          y z           w            m        a     b         \n",
       "1 -0.6264538 a -0.30538839 0.0932620670 2.024376 FALSE -0.2572805\n",
       "2  0.1836433 a  1.51178117 2.2854823013 2.743176  TRUE  2.0632321\n",
       "3 -0.8356286 a  0.38984324 0.1519777490 2.187202 FALSE -0.2572805\n",
       "4  1.5952808 b -0.62124058 0.3859398589 2.578707  TRUE  2.0632321\n",
       "5  0.3295078 b -2.21469989 4.9048955903 1.639143  TRUE  2.0632321\n",
       "6 -0.8204684 b  1.12493092 1.2654695706 2.407207 FALSE -0.2572805\n",
       "7  0.4874291 c -0.04493361 0.0020190292 2.444268  TRUE  2.0632321\n",
       "8  0.7383247 c -0.01619026 0.0002621246 2.516553  TRUE  2.0632321\n",
       "9  0.5757814 c  0.94383621 0.8908267926 2.704787  TRUE  2.0632321"
      ]
     },
     "metadata": {},
     "output_type": "display_data"
    }
   ],
   "source": [
    "# aggreated mean\n",
    "df2[,b:=mean(x+w),by=a]\n",
    "df2"
   ]
  },
  {
   "cell_type": "code",
   "execution_count": 36,
   "metadata": {},
   "outputs": [
    {
     "data": {
      "text/html": [
       "<table>\n",
       "<thead><tr><th scope=col>x</th></tr></thead>\n",
       "<tbody>\n",
       "\t<tr><td>a</td></tr>\n",
       "\t<tr><td>c</td></tr>\n",
       "\t<tr><td>b</td></tr>\n",
       "\t<tr><td>c</td></tr>\n",
       "\t<tr><td>c</td></tr>\n",
       "\t<tr><td>a</td></tr>\n",
       "\t<tr><td>b</td></tr>\n",
       "\t<tr><td>c</td></tr>\n",
       "\t<tr><td>b</td></tr>\n",
       "\t<tr><td>b</td></tr>\n",
       "</tbody>\n",
       "</table>\n"
      ],
      "text/latex": [
       "\\begin{tabular}{r|l}\n",
       " x\\\\\n",
       "\\hline\n",
       "\t a\\\\\n",
       "\t c\\\\\n",
       "\t b\\\\\n",
       "\t c\\\\\n",
       "\t c\\\\\n",
       "\t a\\\\\n",
       "\t b\\\\\n",
       "\t c\\\\\n",
       "\t b\\\\\n",
       "\t b\\\\\n",
       "\\end{tabular}\n"
      ],
      "text/markdown": [
       "\n",
       "x | \n",
       "|---|---|---|---|---|---|---|---|---|---|\n",
       "| a | \n",
       "| c | \n",
       "| b | \n",
       "| c | \n",
       "| c | \n",
       "| a | \n",
       "| b | \n",
       "| c | \n",
       "| b | \n",
       "| b | \n",
       "\n",
       "\n"
      ],
      "text/plain": [
       "   x\n",
       "1  a\n",
       "2  c\n",
       "3  b\n",
       "4  c\n",
       "5  c\n",
       "6  a\n",
       "7  b\n",
       "8  c\n",
       "9  b\n",
       "10 b"
      ]
     },
     "metadata": {},
     "output_type": "display_data"
    },
    {
     "data": {
      "text/html": [
       "100000"
      ],
      "text/latex": [
       "100000"
      ],
      "text/markdown": [
       "100000"
      ],
      "text/plain": [
       "[1] 100000"
      ]
     },
     "metadata": {},
     "output_type": "display_data"
    },
    {
     "data": {
      "text/html": [
       "<table>\n",
       "<thead><tr><th scope=col>x</th><th scope=col>N</th></tr></thead>\n",
       "<tbody>\n",
       "\t<tr><td>a    </td><td>33387</td></tr>\n",
       "\t<tr><td>c    </td><td>33201</td></tr>\n",
       "\t<tr><td>b    </td><td>33412</td></tr>\n",
       "</tbody>\n",
       "</table>\n"
      ],
      "text/latex": [
       "\\begin{tabular}{r|ll}\n",
       " x & N\\\\\n",
       "\\hline\n",
       "\t a     & 33387\\\\\n",
       "\t c     & 33201\\\\\n",
       "\t b     & 33412\\\\\n",
       "\\end{tabular}\n"
      ],
      "text/markdown": [
       "\n",
       "x | N | \n",
       "|---|---|---|\n",
       "| a     | 33387 | \n",
       "| c     | 33201 | \n",
       "| b     | 33412 | \n",
       "\n",
       "\n"
      ],
      "text/plain": [
       "  x N    \n",
       "1 a 33387\n",
       "2 c 33201\n",
       "3 b 33412"
      ]
     },
     "metadata": {},
     "output_type": "display_data"
    }
   ],
   "source": [
    "set.seed(123)\n",
    "df3 <- data.table(x=sample(letters[1:3], 1E5, TRUE))\n",
    "head(df3, 10)\n",
    "nrow(df3)\n",
    "df3[, .N, by=x]\n"
   ]
  },
  {
   "cell_type": "code",
   "execution_count": 50,
   "metadata": {},
   "outputs": [
    {
     "data": {
      "text/html": [
       "<table>\n",
       "<thead><tr><th scope=col>x</th><th scope=col>y</th></tr></thead>\n",
       "<tbody>\n",
       "\t<tr><td>a          </td><td>-1.99113711</td></tr>\n",
       "\t<tr><td>a          </td><td>-0.59133013</td></tr>\n",
       "\t<tr><td>a          </td><td>-0.02583003</td></tr>\n",
       "\t<tr><td>a          </td><td> 0.81035314</td></tr>\n",
       "\t<tr><td>a          </td><td> 1.43955187</td></tr>\n",
       "\t<tr><td>a          </td><td> 2.12155354</td></tr>\n",
       "\t<tr><td>a          </td><td>-0.02893029</td></tr>\n",
       "\t<tr><td>a          </td><td> 0.85823146</td></tr>\n",
       "\t<tr><td>a          </td><td> 0.67072935</td></tr>\n",
       "\t<tr><td>a          </td><td> 1.55095318</td></tr>\n",
       "</tbody>\n",
       "</table>\n"
      ],
      "text/latex": [
       "\\begin{tabular}{r|ll}\n",
       " x & y\\\\\n",
       "\\hline\n",
       "\t a           & -1.99113711\\\\\n",
       "\t a           & -0.59133013\\\\\n",
       "\t a           & -0.02583003\\\\\n",
       "\t a           &  0.81035314\\\\\n",
       "\t a           &  1.43955187\\\\\n",
       "\t a           &  2.12155354\\\\\n",
       "\t a           & -0.02893029\\\\\n",
       "\t a           &  0.85823146\\\\\n",
       "\t a           &  0.67072935\\\\\n",
       "\t a           &  1.55095318\\\\\n",
       "\\end{tabular}\n"
      ],
      "text/markdown": [
       "\n",
       "x | y | \n",
       "|---|---|---|---|---|---|---|---|---|---|\n",
       "| a           | -1.99113711 | \n",
       "| a           | -0.59133013 | \n",
       "| a           | -0.02583003 | \n",
       "| a           |  0.81035314 | \n",
       "| a           |  1.43955187 | \n",
       "| a           |  2.12155354 | \n",
       "| a           | -0.02893029 | \n",
       "| a           |  0.85823146 | \n",
       "| a           |  0.67072935 | \n",
       "| a           |  1.55095318 | \n",
       "\n",
       "\n"
      ],
      "text/plain": [
       "   x y          \n",
       "1  a -1.99113711\n",
       "2  a -0.59133013\n",
       "3  a -0.02583003\n",
       "4  a  0.81035314\n",
       "5  a  1.43955187\n",
       "6  a  2.12155354\n",
       "7  a -0.02893029\n",
       "8  a  0.85823146\n",
       "9  a  0.67072935\n",
       "10 a  1.55095318"
      ]
     },
     "metadata": {},
     "output_type": "display_data"
    }
   ],
   "source": [
    "df4 <- data.table(x=rep(c(\"a\",\"b\",\"c\"), each=100),y=rnorm(300))\n",
    "setkey(df4, x)\n",
    "head(df4['a'],10)"
   ]
  },
  {
   "cell_type": "code",
   "execution_count": 53,
   "metadata": {},
   "outputs": [
    {
     "data": {
      "text/html": [
       "<table>\n",
       "<thead><tr><th scope=col>x</th><th scope=col>y</th></tr></thead>\n",
       "<tbody>\n",
       "\t<tr><td>a  </td><td>1  </td></tr>\n",
       "\t<tr><td>a  </td><td>2  </td></tr>\n",
       "\t<tr><td>b  </td><td>3  </td></tr>\n",
       "\t<tr><td>dt1</td><td>4  </td></tr>\n",
       "</tbody>\n",
       "</table>\n"
      ],
      "text/latex": [
       "\\begin{tabular}{r|ll}\n",
       " x & y\\\\\n",
       "\\hline\n",
       "\t a   & 1  \\\\\n",
       "\t a   & 2  \\\\\n",
       "\t b   & 3  \\\\\n",
       "\t dt1 & 4  \\\\\n",
       "\\end{tabular}\n"
      ],
      "text/markdown": [
       "\n",
       "x | y | \n",
       "|---|---|---|---|\n",
       "| a   | 1   | \n",
       "| a   | 2   | \n",
       "| b   | 3   | \n",
       "| dt1 | 4   | \n",
       "\n",
       "\n"
      ],
      "text/plain": [
       "  x   y\n",
       "1 a   1\n",
       "2 a   2\n",
       "3 b   3\n",
       "4 dt1 4"
      ]
     },
     "metadata": {},
     "output_type": "display_data"
    },
    {
     "data": {
      "text/html": [
       "<table>\n",
       "<thead><tr><th scope=col>x</th><th scope=col>z</th></tr></thead>\n",
       "<tbody>\n",
       "\t<tr><td>a  </td><td>5  </td></tr>\n",
       "\t<tr><td>b  </td><td>6  </td></tr>\n",
       "\t<tr><td>dt2</td><td>7  </td></tr>\n",
       "</tbody>\n",
       "</table>\n"
      ],
      "text/latex": [
       "\\begin{tabular}{r|ll}\n",
       " x & z\\\\\n",
       "\\hline\n",
       "\t a   & 5  \\\\\n",
       "\t b   & 6  \\\\\n",
       "\t dt2 & 7  \\\\\n",
       "\\end{tabular}\n"
      ],
      "text/markdown": [
       "\n",
       "x | z | \n",
       "|---|---|---|\n",
       "| a   | 5   | \n",
       "| b   | 6   | \n",
       "| dt2 | 7   | \n",
       "\n",
       "\n"
      ],
      "text/plain": [
       "  x   z\n",
       "1 a   5\n",
       "2 b   6\n",
       "3 dt2 7"
      ]
     },
     "metadata": {},
     "output_type": "display_data"
    },
    {
     "data": {
      "text/html": [
       "<table>\n",
       "<thead><tr><th scope=col>x</th><th scope=col>y</th><th scope=col>z</th></tr></thead>\n",
       "<tbody>\n",
       "\t<tr><td>a</td><td>1</td><td>5</td></tr>\n",
       "\t<tr><td>a</td><td>2</td><td>5</td></tr>\n",
       "\t<tr><td>b</td><td>3</td><td>6</td></tr>\n",
       "</tbody>\n",
       "</table>\n"
      ],
      "text/latex": [
       "\\begin{tabular}{r|lll}\n",
       " x & y & z\\\\\n",
       "\\hline\n",
       "\t a & 1 & 5\\\\\n",
       "\t a & 2 & 5\\\\\n",
       "\t b & 3 & 6\\\\\n",
       "\\end{tabular}\n"
      ],
      "text/markdown": [
       "\n",
       "x | y | z | \n",
       "|---|---|---|\n",
       "| a | 1 | 5 | \n",
       "| a | 2 | 5 | \n",
       "| b | 3 | 6 | \n",
       "\n",
       "\n"
      ],
      "text/plain": [
       "  x y z\n",
       "1 a 1 5\n",
       "2 a 2 5\n",
       "3 b 3 6"
      ]
     },
     "metadata": {},
     "output_type": "display_data"
    }
   ],
   "source": [
    "# joins\n",
    "df5 <- data.table(x=c('a','a','b','dt1'), y=1:4)\n",
    "df6 <- data.table(x=c('a','b','dt2'), z=5:7)\n",
    "setkey(df5, x); setkey(df6, x)\n",
    "df5\n",
    "df6\n",
    "merge(df5, df6)"
   ]
  },
  {
   "cell_type": "code",
   "execution_count": null,
   "metadata": {},
   "outputs": [],
   "source": []
  },
  {
   "cell_type": "code",
   "execution_count": null,
   "metadata": {},
   "outputs": [],
   "source": []
  }
 ],
 "metadata": {
  "kernelspec": {
   "display_name": "R",
   "language": "R",
   "name": "ir"
  },
  "language_info": {
   "codemirror_mode": "r",
   "file_extension": ".r",
   "mimetype": "text/x-r-source",
   "name": "R",
   "pygments_lexer": "r",
   "version": "3.4.4"
  }
 },
 "nbformat": 4,
 "nbformat_minor": 2
}
