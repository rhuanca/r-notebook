{
 "cells": [
  {
   "cell_type": "markdown",
   "metadata": {},
   "source": [
    "# Subsetting R Objects: Basics"
   ]
  },
  {
   "cell_type": "markdown",
   "metadata": {},
   "source": [
    "## Basics"
   ]
  },
  {
   "cell_type": "markdown",
   "metadata": {},
   "source": [
    "- [ returns an element of the same type as the source, meaning that it returns and array if the source was and array or a matrix if the source was a matrix\n",
    "- [[ returns a single element\n",
    "- $ extracts a element of a list by name "
   ]
  },
  {
   "cell_type": "code",
   "execution_count": 18,
   "metadata": {},
   "outputs": [
    {
     "name": "stdout",
     "output_type": "stream",
     "text": [
      "[1] \"a\"\n",
      "[1] \"a\"\n",
      "[1] \"b\" \"c\" \"d\"\n",
      "[1] \"d\"\n"
     ]
    },
    {
     "ename": "ERROR",
     "evalue": "Error in x1[[3:4]]: attempt to select more than one element in vectorIndex\n",
     "output_type": "error",
     "traceback": [
      "Error in x1[[3:4]]: attempt to select more than one element in vectorIndex\nTraceback:\n",
      "1. print(x1[[3:4]])"
     ]
    }
   ],
   "source": [
    "x1 <- c(\"a\",\"b\",\"c\",\"d\",\"e\",\"f\",\"z\",\"b\",\"c\")\n",
    "print(x1[1])\n",
    "print(x1[[1]])\n",
    "print(x1[2:4])\n",
    "print(x1[[4]])\n",
    "# next will trow an error, \n",
    "# because [[ is only used to extract a single element\n",
    "print(x1[[3:4]])"
   ]
  },
  {
   "cell_type": "code",
   "execution_count": 19,
   "metadata": {},
   "outputs": [
    {
     "name": "stdout",
     "output_type": "stream",
     "text": [
      "[1] \"d\" \"e\" \"f\" \"z\"\n"
     ]
    }
   ],
   "source": [
    "# logical index\n",
    "x2 <- c(\"a\",\"b\",\"c\",\"d\",\"e\",\"f\",\"z\",\"b\",\"c\")\n",
    "print(x2[x2 > \"c\"])"
   ]
  },
  {
   "cell_type": "markdown",
   "metadata": {},
   "source": [
    "## Lists"
   ]
  },
  {
   "cell_type": "code",
   "execution_count": 28,
   "metadata": {},
   "outputs": [
    {
     "name": "stdout",
     "output_type": "stream",
     "text": [
      "$foo\n",
      "[1] 5 6 7 8 9\n",
      "\n",
      "$bar\n",
      "[1] 0.2\n",
      "\n"
     ]
    },
    {
     "data": {
      "text/html": [
       "<ol class=list-inline>\n",
       "\t<li>5</li>\n",
       "\t<li>6</li>\n",
       "\t<li>7</li>\n",
       "\t<li>8</li>\n",
       "\t<li>9</li>\n",
       "</ol>\n"
      ],
      "text/latex": [
       "\\begin{enumerate*}\n",
       "\\item 5\n",
       "\\item 6\n",
       "\\item 7\n",
       "\\item 8\n",
       "\\item 9\n",
       "\\end{enumerate*}\n"
      ],
      "text/markdown": [
       "1. 5\n",
       "2. 6\n",
       "3. 7\n",
       "4. 8\n",
       "5. 9\n",
       "\n",
       "\n"
      ],
      "text/plain": [
       "[1] 5 6 7 8 9"
      ]
     },
     "metadata": {},
     "output_type": "display_data"
    },
    {
     "data": {
      "text/html": [
       "0.2"
      ],
      "text/latex": [
       "0.2"
      ],
      "text/markdown": [
       "0.2"
      ],
      "text/plain": [
       "[1] 0.2"
      ]
     },
     "metadata": {},
     "output_type": "display_data"
    },
    {
     "data": {
      "text/html": [
       "<strong>$bar</strong> = 0.2"
      ],
      "text/latex": [
       "\\textbf{\\$bar} = 0.2"
      ],
      "text/markdown": [
       "**$bar** = 0.2"
      ],
      "text/plain": [
       "$bar\n",
       "[1] 0.2\n"
      ]
     },
     "metadata": {},
     "output_type": "display_data"
    },
    {
     "data": {
      "text/html": [
       "0.2"
      ],
      "text/latex": [
       "0.2"
      ],
      "text/markdown": [
       "0.2"
      ],
      "text/plain": [
       "[1] 0.2"
      ]
     },
     "metadata": {},
     "output_type": "display_data"
    }
   ],
   "source": [
    "x3 <- list(foo = 5:9, bar=0.2)\n",
    "print(x3)\n",
    "x3$foo\n",
    "x3$bar\n",
    "x3[\"bar\"]\n",
    "x3[[\"bar\"]]"
   ]
  },
  {
   "cell_type": "code",
   "execution_count": 33,
   "metadata": {},
   "outputs": [
    {
     "data": {
      "text/html": [
       "<dl>\n",
       "\t<dt>$foo</dt>\n",
       "\t\t<dd><ol class=list-inline>\n",
       "\t<li>5</li>\n",
       "\t<li>6</li>\n",
       "\t<li>7</li>\n",
       "\t<li>8</li>\n",
       "\t<li>9</li>\n",
       "</ol>\n",
       "</dd>\n",
       "\t<dt>$bar</dt>\n",
       "\t\t<dd>0.2</dd>\n",
       "\t<dt>$baz</dt>\n",
       "\t\t<dd>'hi'</dd>\n",
       "</dl>\n"
      ],
      "text/latex": [
       "\\begin{description}\n",
       "\\item[\\$foo] \\begin{enumerate*}\n",
       "\\item 5\n",
       "\\item 6\n",
       "\\item 7\n",
       "\\item 8\n",
       "\\item 9\n",
       "\\end{enumerate*}\n",
       "\n",
       "\\item[\\$bar] 0.2\n",
       "\\item[\\$baz] 'hi'\n",
       "\\end{description}\n"
      ],
      "text/markdown": [
       "$foo\n",
       ":   1. 5\n",
       "2. 6\n",
       "3. 7\n",
       "4. 8\n",
       "5. 9\n",
       "\n",
       "\n",
       "\n",
       "$bar\n",
       ":   0.2\n",
       "$baz\n",
       ":   'hi'\n",
       "\n",
       "\n"
      ],
      "text/plain": [
       "$foo\n",
       "[1] 5 6 7 8 9\n",
       "\n",
       "$bar\n",
       "[1] 0.2\n",
       "\n",
       "$baz\n",
       "[1] \"hi\"\n"
      ]
     },
     "metadata": {},
     "output_type": "display_data"
    },
    {
     "data": {
      "text/html": [
       "<dl>\n",
       "\t<dt>$foo</dt>\n",
       "\t\t<dd><ol class=list-inline>\n",
       "\t<li>5</li>\n",
       "\t<li>6</li>\n",
       "\t<li>7</li>\n",
       "\t<li>8</li>\n",
       "\t<li>9</li>\n",
       "</ol>\n",
       "</dd>\n",
       "\t<dt>$baz</dt>\n",
       "\t\t<dd>'hi'</dd>\n",
       "</dl>\n"
      ],
      "text/latex": [
       "\\begin{description}\n",
       "\\item[\\$foo] \\begin{enumerate*}\n",
       "\\item 5\n",
       "\\item 6\n",
       "\\item 7\n",
       "\\item 8\n",
       "\\item 9\n",
       "\\end{enumerate*}\n",
       "\n",
       "\\item[\\$baz] 'hi'\n",
       "\\end{description}\n"
      ],
      "text/markdown": [
       "$foo\n",
       ":   1. 5\n",
       "2. 6\n",
       "3. 7\n",
       "4. 8\n",
       "5. 9\n",
       "\n",
       "\n",
       "\n",
       "$baz\n",
       ":   'hi'\n",
       "\n",
       "\n"
      ],
      "text/plain": [
       "$foo\n",
       "[1] 5 6 7 8 9\n",
       "\n",
       "$baz\n",
       "[1] \"hi\"\n"
      ]
     },
     "metadata": {},
     "output_type": "display_data"
    }
   ],
   "source": [
    "# this is how to extract multiple elements of a list\n",
    "x4 <- list(foo = 5:9, bar=0.2, baz=\"hi\")\n",
    "x4\n",
    "x4[c(1,3)]\n"
   ]
  },
  {
   "cell_type": "code",
   "execution_count": 39,
   "metadata": {},
   "outputs": [
    {
     "data": {
      "text/html": [
       "<dl>\n",
       "\t<dt>$foo</dt>\n",
       "\t\t<dd><ol class=list-inline>\n",
       "\t<li>5</li>\n",
       "\t<li>6</li>\n",
       "\t<li>7</li>\n",
       "\t<li>8</li>\n",
       "\t<li>9</li>\n",
       "</ol>\n",
       "</dd>\n",
       "\t<dt>$bar</dt>\n",
       "\t\t<dd>0.2</dd>\n",
       "\t<dt>$baz</dt>\n",
       "\t\t<dd><ol class=list-inline>\n",
       "\t<li>'hi'</li>\n",
       "\t<li>'bye'</li>\n",
       "</ol>\n",
       "</dd>\n",
       "</dl>\n"
      ],
      "text/latex": [
       "\\begin{description}\n",
       "\\item[\\$foo] \\begin{enumerate*}\n",
       "\\item 5\n",
       "\\item 6\n",
       "\\item 7\n",
       "\\item 8\n",
       "\\item 9\n",
       "\\end{enumerate*}\n",
       "\n",
       "\\item[\\$bar] 0.2\n",
       "\\item[\\$baz] \\begin{enumerate*}\n",
       "\\item 'hi'\n",
       "\\item 'bye'\n",
       "\\end{enumerate*}\n",
       "\n",
       "\\end{description}\n"
      ],
      "text/markdown": [
       "$foo\n",
       ":   1. 5\n",
       "2. 6\n",
       "3. 7\n",
       "4. 8\n",
       "5. 9\n",
       "\n",
       "\n",
       "\n",
       "$bar\n",
       ":   0.2\n",
       "$baz\n",
       ":   1. 'hi'\n",
       "2. 'bye'\n",
       "\n",
       "\n",
       "\n",
       "\n",
       "\n"
      ],
      "text/plain": [
       "$foo\n",
       "[1] 5 6 7 8 9\n",
       "\n",
       "$bar\n",
       "[1] 0.2\n",
       "\n",
       "$baz\n",
       "[1] \"hi\"  \"bye\"\n"
      ]
     },
     "metadata": {},
     "output_type": "display_data"
    },
    {
     "data": {
      "text/html": [
       "<ol class=list-inline>\n",
       "\t<li>'hi'</li>\n",
       "\t<li>'bye'</li>\n",
       "</ol>\n"
      ],
      "text/latex": [
       "\\begin{enumerate*}\n",
       "\\item 'hi'\n",
       "\\item 'bye'\n",
       "\\end{enumerate*}\n"
      ],
      "text/markdown": [
       "1. 'hi'\n",
       "2. 'bye'\n",
       "\n",
       "\n"
      ],
      "text/plain": [
       "[1] \"hi\"  \"bye\""
      ]
     },
     "metadata": {},
     "output_type": "display_data"
    },
    {
     "data": {
      "text/plain": [
       "NULL"
      ]
     },
     "metadata": {},
     "output_type": "display_data"
    },
    {
     "data": {
      "text/html": [
       "<ol class=list-inline>\n",
       "\t<li>'hi'</li>\n",
       "\t<li>'bye'</li>\n",
       "</ol>\n"
      ],
      "text/latex": [
       "\\begin{enumerate*}\n",
       "\\item 'hi'\n",
       "\\item 'bye'\n",
       "\\end{enumerate*}\n"
      ],
      "text/markdown": [
       "1. 'hi'\n",
       "2. 'bye'\n",
       "\n",
       "\n"
      ],
      "text/plain": [
       "[1] \"hi\"  \"bye\""
      ]
     },
     "metadata": {},
     "output_type": "display_data"
    }
   ],
   "source": [
    "# this is how we can access to an element of a list\n",
    "# using a variable with computed index\n",
    "x5 <- list(foo = 5:9, bar=0.2, baz=c(\"hi\",\"bye\"))\n",
    "x5\n",
    "name <- \"baz\"\n",
    "# this will return a valid value\n",
    "x5[[name]]\n",
    "# this will return NULL because there is no index named \"name\"\n",
    "x5$name\n",
    "# this will return a valid calue\n",
    "x5$baz"
   ]
  },
  {
   "cell_type": "code",
   "execution_count": 47,
   "metadata": {},
   "outputs": [
    {
     "name": "stdout",
     "output_type": "stream",
     "text": [
      "$a\n",
      "$a[[1]]\n",
      "[1] 15\n",
      "\n",
      "$a[[2]]\n",
      "[1] 16\n",
      "\n",
      "$a[[3]]\n",
      "[1] 17\n",
      "\n",
      "\n",
      "$b\n",
      "[1] 3.14 2.81\n",
      "\n",
      "[1] 16\n",
      "[1] 16\n",
      "[1] 2.81\n"
     ]
    }
   ],
   "source": [
    "x6 <- list(a=list(15,16,17),b=c(3.14, 2.81))\n",
    "print(x6)\n",
    "# extracting 16\n",
    "print(x6[[c(1,2)]])\n",
    "print(x6[[1]][[2]])\n",
    "# extracting 2.81\n",
    "print(x6[[c(2,2)]])"
   ]
  },
  {
   "cell_type": "markdown",
   "metadata": {},
   "source": [
    "## Matrices"
   ]
  },
  {
   "cell_type": "code",
   "execution_count": 48,
   "metadata": {},
   "outputs": [
    {
     "data": {
      "text/html": [
       "<table>\n",
       "<tbody>\n",
       "\t<tr><td>7 </td><td> 9</td><td>11</td></tr>\n",
       "\t<tr><td>8 </td><td>10</td><td>12</td></tr>\n",
       "</tbody>\n",
       "</table>\n"
      ],
      "text/latex": [
       "\\begin{tabular}{lll}\n",
       "\t 7  &  9 & 11\\\\\n",
       "\t 8  & 10 & 12\\\\\n",
       "\\end{tabular}\n"
      ],
      "text/markdown": [
       "\n",
       "| 7  |  9 | 11 | \n",
       "| 8  | 10 | 12 | \n",
       "\n",
       "\n"
      ],
      "text/plain": [
       "     [,1] [,2] [,3]\n",
       "[1,] 7     9   11  \n",
       "[2,] 8    10   12  "
      ]
     },
     "metadata": {},
     "output_type": "display_data"
    },
    {
     "data": {
      "text/html": [
       "9"
      ],
      "text/latex": [
       "9"
      ],
      "text/markdown": [
       "9"
      ],
      "text/plain": [
       "[1] 9"
      ]
     },
     "metadata": {},
     "output_type": "display_data"
    }
   ],
   "source": [
    "x7 <-matrix(7:12,2,3)\n",
    "x7\n",
    "x7[1,2]"
   ]
  },
  {
   "cell_type": "code",
   "execution_count": 49,
   "metadata": {},
   "outputs": [
    {
     "data": {
      "text/html": [
       "<ol class=list-inline>\n",
       "\t<li>7</li>\n",
       "\t<li>9</li>\n",
       "\t<li>11</li>\n",
       "</ol>\n"
      ],
      "text/latex": [
       "\\begin{enumerate*}\n",
       "\\item 7\n",
       "\\item 9\n",
       "\\item 11\n",
       "\\end{enumerate*}\n"
      ],
      "text/markdown": [
       "1. 7\n",
       "2. 9\n",
       "3. 11\n",
       "\n",
       "\n"
      ],
      "text/plain": [
       "[1]  7  9 11"
      ]
     },
     "metadata": {},
     "output_type": "display_data"
    },
    {
     "data": {
      "text/html": [
       "<ol class=list-inline>\n",
       "\t<li>7</li>\n",
       "\t<li>8</li>\n",
       "</ol>\n"
      ],
      "text/latex": [
       "\\begin{enumerate*}\n",
       "\\item 7\n",
       "\\item 8\n",
       "\\end{enumerate*}\n"
      ],
      "text/markdown": [
       "1. 7\n",
       "2. 8\n",
       "\n",
       "\n"
      ],
      "text/plain": [
       "[1] 7 8"
      ]
     },
     "metadata": {},
     "output_type": "display_data"
    }
   ],
   "source": [
    "x8 <-matrix(7:12,2,3)\n",
    "x8[1,]\n",
    "x8[,1]"
   ]
  },
  {
   "cell_type": "code",
   "execution_count": 54,
   "metadata": {},
   "outputs": [
    {
     "name": "stdout",
     "output_type": "stream",
     "text": [
      "     [,1] [,2] [,3] [,4] [,5] [,6]\n",
      "[1,]    1    5    1    5    1    5\n",
      "[2,]    2    6    2    6    2    6\n",
      "[3,]    3    7    3    7    3    7\n",
      "[4,]    4    8    4    8    4    8\n",
      "[1] 7\n",
      "     [,1]\n",
      "[1,]    7\n"
     ]
    }
   ],
   "source": [
    "# in this case the [ is dropping a dimension\n",
    "# and we need it as a matrix\n",
    "x9 <- matrix(1:8,4,6)\n",
    "print(x9)\n",
    "print(x9[3,4])\n",
    "print(x9[3,4, drop=FALSE])"
   ]
  },
  {
   "cell_type": "code",
   "execution_count": 59,
   "metadata": {},
   "outputs": [
    {
     "name": "stdout",
     "output_type": "stream",
     "text": [
      "     [,1] [,2] [,3]\n",
      "[1,]   11   13   15\n",
      "[2,]   12   14   16\n",
      "[1] 11 13 15\n",
      "     [,1] [,2] [,3]\n",
      "[1,]   11   13   15\n"
     ]
    }
   ],
   "source": [
    "# here we are subsetting a matrix to get a matrix\n",
    "x10 <- matrix(11:16,2,3)\n",
    "print(x10)\n",
    "print(x10[1,])\n",
    "print(x10[1,,drop=FALSE])"
   ]
  }
 ],
 "metadata": {
  "kernelspec": {
   "display_name": "R",
   "language": "R",
   "name": "ir"
  },
  "language_info": {
   "codemirror_mode": "r",
   "file_extension": ".r",
   "mimetype": "text/x-r-source",
   "name": "R",
   "pygments_lexer": "r",
   "version": "3.4.4"
  }
 },
 "nbformat": 4,
 "nbformat_minor": 2
}
