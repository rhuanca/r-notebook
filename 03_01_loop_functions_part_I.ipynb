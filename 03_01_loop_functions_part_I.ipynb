{
 "cells": [
  {
   "cell_type": "markdown",
   "metadata": {},
   "source": [
    "# Loop Functions - Part I"
   ]
  },
  {
   "cell_type": "markdown",
   "metadata": {},
   "source": [
    "## lapply"
   ]
  },
  {
   "cell_type": "code",
   "execution_count": 41,
   "metadata": {},
   "outputs": [
    {
     "name": "stdout",
     "output_type": "stream",
     "text": [
      "function (X, FUN, ...)  \n"
     ]
    }
   ],
   "source": [
    "str(lapply)"
   ]
  },
  {
   "cell_type": "code",
   "execution_count": 2,
   "metadata": {},
   "outputs": [
    {
     "data": {
      "text/html": [
       "<dl>\n",
       "\t<dt>$a</dt>\n",
       "\t\t<dd><ol class=list-inline>\n",
       "\t<li>1</li>\n",
       "\t<li>2</li>\n",
       "\t<li>3</li>\n",
       "\t<li>4</li>\n",
       "\t<li>5</li>\n",
       "</ol>\n",
       "</dd>\n",
       "\t<dt>$b</dt>\n",
       "\t\t<dd><ol class=list-inline>\n",
       "\t<li>0.0553991767980959</li>\n",
       "\t<li>-0.662268103367415</li>\n",
       "\t<li>0.299125398306961</li>\n",
       "\t<li>0.950170989587606</li>\n",
       "\t<li>1.45284206610692</li>\n",
       "\t<li>-0.650614332719738</li>\n",
       "\t<li>0.889758138350537</li>\n",
       "\t<li>-1.85906335045407</li>\n",
       "\t<li>0.0940744796474501</li>\n",
       "\t<li>0.660954982957175</li>\n",
       "</ol>\n",
       "</dd>\n",
       "</dl>\n"
      ],
      "text/latex": [
       "\\begin{description}\n",
       "\\item[\\$a] \\begin{enumerate*}\n",
       "\\item 1\n",
       "\\item 2\n",
       "\\item 3\n",
       "\\item 4\n",
       "\\item 5\n",
       "\\end{enumerate*}\n",
       "\n",
       "\\item[\\$b] \\begin{enumerate*}\n",
       "\\item 0.0553991767980959\n",
       "\\item -0.662268103367415\n",
       "\\item 0.299125398306961\n",
       "\\item 0.950170989587606\n",
       "\\item 1.45284206610692\n",
       "\\item -0.650614332719738\n",
       "\\item 0.889758138350537\n",
       "\\item -1.85906335045407\n",
       "\\item 0.0940744796474501\n",
       "\\item 0.660954982957175\n",
       "\\end{enumerate*}\n",
       "\n",
       "\\end{description}\n"
      ],
      "text/markdown": [
       "$a\n",
       ":   1. 1\n",
       "2. 2\n",
       "3. 3\n",
       "4. 4\n",
       "5. 5\n",
       "\n",
       "\n",
       "\n",
       "$b\n",
       ":   1. 0.0553991767980959\n",
       "2. -0.662268103367415\n",
       "3. 0.299125398306961\n",
       "4. 0.950170989587606\n",
       "5. 1.45284206610692\n",
       "6. -0.650614332719738\n",
       "7. 0.889758138350537\n",
       "8. -1.85906335045407\n",
       "9. 0.0940744796474501\n",
       "10. 0.660954982957175\n",
       "\n",
       "\n",
       "\n",
       "\n",
       "\n"
      ],
      "text/plain": [
       "$a\n",
       "[1] 1 2 3 4 5\n",
       "\n",
       "$b\n",
       " [1]  0.05539918 -0.66226810  0.29912540  0.95017099  1.45284207 -0.65061433\n",
       " [7]  0.88975814 -1.85906335  0.09407448  0.66095498\n"
      ]
     },
     "metadata": {},
     "output_type": "display_data"
    }
   ],
   "source": [
    "x1 <- list(a=1:5, b=rnorm(10))\n",
    "x1"
   ]
  },
  {
   "cell_type": "code",
   "execution_count": 4,
   "metadata": {},
   "outputs": [
    {
     "data": {
      "text/html": [
       "<dl>\n",
       "\t<dt>$a</dt>\n",
       "\t\t<dd>3</dd>\n",
       "\t<dt>$b</dt>\n",
       "\t\t<dd>0.123037944521352</dd>\n",
       "</dl>\n"
      ],
      "text/latex": [
       "\\begin{description}\n",
       "\\item[\\$a] 3\n",
       "\\item[\\$b] 0.123037944521352\n",
       "\\end{description}\n"
      ],
      "text/markdown": [
       "$a\n",
       ":   3\n",
       "$b\n",
       ":   0.123037944521352\n",
       "\n",
       "\n"
      ],
      "text/plain": [
       "$a\n",
       "[1] 3\n",
       "\n",
       "$b\n",
       "[1] 0.1230379\n"
      ]
     },
     "metadata": {},
     "output_type": "display_data"
    }
   ],
   "source": [
    "lapply(x1, mean)"
   ]
  },
  {
   "cell_type": "code",
   "execution_count": 10,
   "metadata": {},
   "outputs": [
    {
     "data": {
      "text/html": [
       "<ol class=list-inline>\n",
       "\t<li>1</li>\n",
       "\t<li>2</li>\n",
       "\t<li>3</li>\n",
       "\t<li>4</li>\n",
       "\t<li>5</li>\n",
       "\t<li>6</li>\n",
       "\t<li>7</li>\n",
       "\t<li>8</li>\n",
       "\t<li>9</li>\n",
       "\t<li>10</li>\n",
       "</ol>\n"
      ],
      "text/latex": [
       "\\begin{enumerate*}\n",
       "\\item 1\n",
       "\\item 2\n",
       "\\item 3\n",
       "\\item 4\n",
       "\\item 5\n",
       "\\item 6\n",
       "\\item 7\n",
       "\\item 8\n",
       "\\item 9\n",
       "\\item 10\n",
       "\\end{enumerate*}\n"
      ],
      "text/markdown": [
       "1. 1\n",
       "2. 2\n",
       "3. 3\n",
       "4. 4\n",
       "5. 5\n",
       "6. 6\n",
       "7. 7\n",
       "8. 8\n",
       "9. 9\n",
       "10. 10\n",
       "\n",
       "\n"
      ],
      "text/plain": [
       " [1]  1  2  3  4  5  6  7  8  9 10"
      ]
     },
     "metadata": {},
     "output_type": "display_data"
    },
    {
     "data": {
      "text/html": [
       "<ol>\n",
       "\t<li>2</li>\n",
       "\t<li>4</li>\n",
       "\t<li>6</li>\n",
       "\t<li>8</li>\n",
       "\t<li>10</li>\n",
       "\t<li>12</li>\n",
       "\t<li>14</li>\n",
       "\t<li>16</li>\n",
       "\t<li>18</li>\n",
       "\t<li>20</li>\n",
       "</ol>\n"
      ],
      "text/latex": [
       "\\begin{enumerate}\n",
       "\\item 2\n",
       "\\item 4\n",
       "\\item 6\n",
       "\\item 8\n",
       "\\item 10\n",
       "\\item 12\n",
       "\\item 14\n",
       "\\item 16\n",
       "\\item 18\n",
       "\\item 20\n",
       "\\end{enumerate}\n"
      ],
      "text/markdown": [
       "1. 2\n",
       "2. 4\n",
       "3. 6\n",
       "4. 8\n",
       "5. 10\n",
       "6. 12\n",
       "7. 14\n",
       "8. 16\n",
       "9. 18\n",
       "10. 20\n",
       "\n",
       "\n"
      ],
      "text/plain": [
       "[[1]]\n",
       "[1] 2\n",
       "\n",
       "[[2]]\n",
       "[1] 4\n",
       "\n",
       "[[3]]\n",
       "[1] 6\n",
       "\n",
       "[[4]]\n",
       "[1] 8\n",
       "\n",
       "[[5]]\n",
       "[1] 10\n",
       "\n",
       "[[6]]\n",
       "[1] 12\n",
       "\n",
       "[[7]]\n",
       "[1] 14\n",
       "\n",
       "[[8]]\n",
       "[1] 16\n",
       "\n",
       "[[9]]\n",
       "[1] 18\n",
       "\n",
       "[[10]]\n",
       "[1] 20\n"
      ]
     },
     "metadata": {},
     "output_type": "display_data"
    }
   ],
   "source": [
    "x2 <- 1:10\n",
    "x2\n",
    "lapply(x2, function(x) {x*2})"
   ]
  },
  {
   "cell_type": "code",
   "execution_count": 16,
   "metadata": {},
   "outputs": [
    {
     "data": {
      "text/html": [
       "<table>\n",
       "<tbody>\n",
       "\t<tr><td>1</td><td>4</td><td>7</td></tr>\n",
       "\t<tr><td>2</td><td>5</td><td>8</td></tr>\n",
       "\t<tr><td>3</td><td>6</td><td>9</td></tr>\n",
       "</tbody>\n",
       "</table>\n"
      ],
      "text/latex": [
       "\\begin{tabular}{lll}\n",
       "\t 1 & 4 & 7\\\\\n",
       "\t 2 & 5 & 8\\\\\n",
       "\t 3 & 6 & 9\\\\\n",
       "\\end{tabular}\n"
      ],
      "text/markdown": [
       "\n",
       "| 1 | 4 | 7 | \n",
       "| 2 | 5 | 8 | \n",
       "| 3 | 6 | 9 | \n",
       "\n",
       "\n"
      ],
      "text/plain": [
       "     [,1] [,2] [,3]\n",
       "[1,] 1    4    7   \n",
       "[2,] 2    5    8   \n",
       "[3,] 3    6    9   "
      ]
     },
     "metadata": {},
     "output_type": "display_data"
    },
    {
     "data": {
      "text/html": [
       "<ol>\n",
       "\t<li>1</li>\n",
       "\t<li>2</li>\n",
       "\t<li>3</li>\n",
       "\t<li>4</li>\n",
       "\t<li>5</li>\n",
       "\t<li>6</li>\n",
       "\t<li>7</li>\n",
       "\t<li>8</li>\n",
       "\t<li>9</li>\n",
       "</ol>\n"
      ],
      "text/latex": [
       "\\begin{enumerate}\n",
       "\\item 1\n",
       "\\item 2\n",
       "\\item 3\n",
       "\\item 4\n",
       "\\item 5\n",
       "\\item 6\n",
       "\\item 7\n",
       "\\item 8\n",
       "\\item 9\n",
       "\\end{enumerate}\n"
      ],
      "text/markdown": [
       "1. 1\n",
       "2. 2\n",
       "3. 3\n",
       "4. 4\n",
       "5. 5\n",
       "6. 6\n",
       "7. 7\n",
       "8. 8\n",
       "9. 9\n",
       "\n",
       "\n"
      ],
      "text/plain": [
       "[[1]]\n",
       "[1] 1\n",
       "\n",
       "[[2]]\n",
       "[1] 2\n",
       "\n",
       "[[3]]\n",
       "[1] 3\n",
       "\n",
       "[[4]]\n",
       "[1] 4\n",
       "\n",
       "[[5]]\n",
       "[1] 5\n",
       "\n",
       "[[6]]\n",
       "[1] 6\n",
       "\n",
       "[[7]]\n",
       "[1] 7\n",
       "\n",
       "[[8]]\n",
       "[1] 8\n",
       "\n",
       "[[9]]\n",
       "[1] 9\n"
      ]
     },
     "metadata": {},
     "output_type": "display_data"
    }
   ],
   "source": [
    "# in a matrix still funcion is apply element by element\n",
    "# not by row or column\n",
    "x3 <- matrix(1:9,nrow=3,ncol=3)\n",
    "x3\n",
    "lapply(x3, mean)"
   ]
  },
  {
   "cell_type": "code",
   "execution_count": 20,
   "metadata": {},
   "outputs": [
    {
     "data": {
      "text/html": [
       "<ol>\n",
       "\t<li>0.489776449976489</li>\n",
       "\t<li><ol class=list-inline>\n",
       "\t<li>0.258458513300866</li>\n",
       "\t<li>0.601006291108206</li>\n",
       "</ol>\n",
       "</li>\n",
       "\t<li><ol class=list-inline>\n",
       "\t<li>0.713937846012414</li>\n",
       "\t<li>0.872785844840109</li>\n",
       "\t<li>0.2769860108383</li>\n",
       "</ol>\n",
       "</li>\n",
       "\t<li><ol class=list-inline>\n",
       "\t<li>0.317576289176941</li>\n",
       "\t<li>0.163197587011382</li>\n",
       "\t<li>0.862680886406451</li>\n",
       "\t<li>0.750164926517755</li>\n",
       "</ol>\n",
       "</li>\n",
       "\t<li><ol class=list-inline>\n",
       "\t<li>0.712341357488185</li>\n",
       "\t<li>0.0112272137776017</li>\n",
       "\t<li>0.988901481032372</li>\n",
       "\t<li>0.0913475407287478</li>\n",
       "\t<li>0.69391477922909</li>\n",
       "</ol>\n",
       "</li>\n",
       "</ol>\n"
      ],
      "text/latex": [
       "\\begin{enumerate}\n",
       "\\item 0.489776449976489\n",
       "\\item \\begin{enumerate*}\n",
       "\\item 0.258458513300866\n",
       "\\item 0.601006291108206\n",
       "\\end{enumerate*}\n",
       "\n",
       "\\item \\begin{enumerate*}\n",
       "\\item 0.713937846012414\n",
       "\\item 0.872785844840109\n",
       "\\item 0.2769860108383\n",
       "\\end{enumerate*}\n",
       "\n",
       "\\item \\begin{enumerate*}\n",
       "\\item 0.317576289176941\n",
       "\\item 0.163197587011382\n",
       "\\item 0.862680886406451\n",
       "\\item 0.750164926517755\n",
       "\\end{enumerate*}\n",
       "\n",
       "\\item \\begin{enumerate*}\n",
       "\\item 0.712341357488185\n",
       "\\item 0.0112272137776017\n",
       "\\item 0.988901481032372\n",
       "\\item 0.0913475407287478\n",
       "\\item 0.69391477922909\n",
       "\\end{enumerate*}\n",
       "\n",
       "\\end{enumerate}\n"
      ],
      "text/markdown": [
       "1. 0.489776449976489\n",
       "2. 1. 0.258458513300866\n",
       "2. 0.601006291108206\n",
       "\n",
       "\n",
       "\n",
       "3. 1. 0.713937846012414\n",
       "2. 0.872785844840109\n",
       "3. 0.2769860108383\n",
       "\n",
       "\n",
       "\n",
       "4. 1. 0.317576289176941\n",
       "2. 0.163197587011382\n",
       "3. 0.862680886406451\n",
       "4. 0.750164926517755\n",
       "\n",
       "\n",
       "\n",
       "5. 1. 0.712341357488185\n",
       "2. 0.0112272137776017\n",
       "3. 0.988901481032372\n",
       "4. 0.0913475407287478\n",
       "5. 0.69391477922909\n",
       "\n",
       "\n",
       "\n",
       "\n",
       "\n"
      ],
      "text/plain": [
       "[[1]]\n",
       "[1] 0.4897764\n",
       "\n",
       "[[2]]\n",
       "[1] 0.2584585 0.6010063\n",
       "\n",
       "[[3]]\n",
       "[1] 0.7139378 0.8727858 0.2769860\n",
       "\n",
       "[[4]]\n",
       "[1] 0.3175763 0.1631976 0.8626809 0.7501649\n",
       "\n",
       "[[5]]\n",
       "[1] 0.71234136 0.01122721 0.98890148 0.09134754 0.69391478\n"
      ]
     },
     "metadata": {},
     "output_type": "display_data"
    }
   ],
   "source": [
    "x4 <- 1:5\n",
    "lapply(x4, runif)"
   ]
  },
  {
   "cell_type": "code",
   "execution_count": 21,
   "metadata": {},
   "outputs": [
    {
     "data": {
      "text/html": [
       "<ol>\n",
       "\t<li>9.94300371268764</li>\n",
       "\t<li><ol class=list-inline>\n",
       "\t<li>8.80187184317037</li>\n",
       "\t<li>7.76500553591177</li>\n",
       "</ol>\n",
       "</li>\n",
       "\t<li><ol class=list-inline>\n",
       "\t<li>6.67393414536491</li>\n",
       "\t<li>4.52906412770972</li>\n",
       "\t<li>2.78720252448693</li>\n",
       "</ol>\n",
       "</li>\n",
       "\t<li><ol class=list-inline>\n",
       "\t<li>0.226978561840951</li>\n",
       "\t<li>7.95360295567662</li>\n",
       "\t<li>3.86396218789741</li>\n",
       "\t<li>6.97248690994456</li>\n",
       "</ol>\n",
       "</li>\n",
       "\t<li><ol class=list-inline>\n",
       "\t<li>3.47944051260129</li>\n",
       "\t<li>6.87177972868085</li>\n",
       "\t<li>7.90535598760471</li>\n",
       "\t<li>6.08622949104756</li>\n",
       "\t<li>5.98961953306571</li>\n",
       "</ol>\n",
       "</li>\n",
       "</ol>\n"
      ],
      "text/latex": [
       "\\begin{enumerate}\n",
       "\\item 9.94300371268764\n",
       "\\item \\begin{enumerate*}\n",
       "\\item 8.80187184317037\n",
       "\\item 7.76500553591177\n",
       "\\end{enumerate*}\n",
       "\n",
       "\\item \\begin{enumerate*}\n",
       "\\item 6.67393414536491\n",
       "\\item 4.52906412770972\n",
       "\\item 2.78720252448693\n",
       "\\end{enumerate*}\n",
       "\n",
       "\\item \\begin{enumerate*}\n",
       "\\item 0.226978561840951\n",
       "\\item 7.95360295567662\n",
       "\\item 3.86396218789741\n",
       "\\item 6.97248690994456\n",
       "\\end{enumerate*}\n",
       "\n",
       "\\item \\begin{enumerate*}\n",
       "\\item 3.47944051260129\n",
       "\\item 6.87177972868085\n",
       "\\item 7.90535598760471\n",
       "\\item 6.08622949104756\n",
       "\\item 5.98961953306571\n",
       "\\end{enumerate*}\n",
       "\n",
       "\\end{enumerate}\n"
      ],
      "text/markdown": [
       "1. 9.94300371268764\n",
       "2. 1. 8.80187184317037\n",
       "2. 7.76500553591177\n",
       "\n",
       "\n",
       "\n",
       "3. 1. 6.67393414536491\n",
       "2. 4.52906412770972\n",
       "3. 2.78720252448693\n",
       "\n",
       "\n",
       "\n",
       "4. 1. 0.226978561840951\n",
       "2. 7.95360295567662\n",
       "3. 3.86396218789741\n",
       "4. 6.97248690994456\n",
       "\n",
       "\n",
       "\n",
       "5. 1. 3.47944051260129\n",
       "2. 6.87177972868085\n",
       "3. 7.90535598760471\n",
       "4. 6.08622949104756\n",
       "5. 5.98961953306571\n",
       "\n",
       "\n",
       "\n",
       "\n",
       "\n"
      ],
      "text/plain": [
       "[[1]]\n",
       "[1] 9.943004\n",
       "\n",
       "[[2]]\n",
       "[1] 8.801872 7.765006\n",
       "\n",
       "[[3]]\n",
       "[1] 6.673934 4.529064 2.787203\n",
       "\n",
       "[[4]]\n",
       "[1] 0.2269786 7.9536030 3.8639622 6.9724869\n",
       "\n",
       "[[5]]\n",
       "[1] 3.479441 6.871780 7.905356 6.086229 5.989620\n"
      ]
     },
     "metadata": {},
     "output_type": "display_data"
    }
   ],
   "source": [
    "x5 <- 1:5\n",
    "lapply(x5, runif, min=0, max=10)"
   ]
  },
  {
   "cell_type": "code",
   "execution_count": 28,
   "metadata": {},
   "outputs": [
    {
     "data": {
      "text/html": [
       "<dl>\n",
       "\t<dt>$a</dt>\n",
       "\t\t<dd><table>\n",
       "<tbody>\n",
       "\t<tr><td>1</td><td>3</td></tr>\n",
       "\t<tr><td>2</td><td>4</td></tr>\n",
       "</tbody>\n",
       "</table>\n",
       "</dd>\n",
       "\t<dt>$b</dt>\n",
       "\t\t<dd><table>\n",
       "<tbody>\n",
       "\t<tr><td>1</td><td>4</td></tr>\n",
       "\t<tr><td>2</td><td>5</td></tr>\n",
       "\t<tr><td>3</td><td>6</td></tr>\n",
       "</tbody>\n",
       "</table>\n",
       "</dd>\n",
       "</dl>\n"
      ],
      "text/latex": [
       "\\begin{description}\n",
       "\\item[\\$a] \\begin{tabular}{ll}\n",
       "\t 1 & 3\\\\\n",
       "\t 2 & 4\\\\\n",
       "\\end{tabular}\n",
       "\n",
       "\\item[\\$b] \\begin{tabular}{ll}\n",
       "\t 1 & 4\\\\\n",
       "\t 2 & 5\\\\\n",
       "\t 3 & 6\\\\\n",
       "\\end{tabular}\n",
       "\n",
       "\\end{description}\n"
      ],
      "text/markdown": [
       "$a\n",
       ":   \n",
       "| 1 | 3 | \n",
       "| 2 | 4 | \n",
       "\n",
       "\n",
       "\n",
       "$b\n",
       ":   \n",
       "| 1 | 4 | \n",
       "| 2 | 5 | \n",
       "| 3 | 6 | \n",
       "\n",
       "\n",
       "\n",
       "\n",
       "\n"
      ],
      "text/plain": [
       "$a\n",
       "     [,1] [,2]\n",
       "[1,]    1    3\n",
       "[2,]    2    4\n",
       "\n",
       "$b\n",
       "     [,1] [,2]\n",
       "[1,]    1    4\n",
       "[2,]    2    5\n",
       "[3,]    3    6\n"
      ]
     },
     "metadata": {},
     "output_type": "display_data"
    },
    {
     "data": {
      "text/html": [
       "<dl>\n",
       "\t<dt>$a</dt>\n",
       "\t\t<dd><ol class=list-inline>\n",
       "\t<li>1</li>\n",
       "\t<li>2</li>\n",
       "</ol>\n",
       "</dd>\n",
       "\t<dt>$b</dt>\n",
       "\t\t<dd><ol class=list-inline>\n",
       "\t<li>1</li>\n",
       "\t<li>2</li>\n",
       "\t<li>3</li>\n",
       "</ol>\n",
       "</dd>\n",
       "</dl>\n"
      ],
      "text/latex": [
       "\\begin{description}\n",
       "\\item[\\$a] \\begin{enumerate*}\n",
       "\\item 1\n",
       "\\item 2\n",
       "\\end{enumerate*}\n",
       "\n",
       "\\item[\\$b] \\begin{enumerate*}\n",
       "\\item 1\n",
       "\\item 2\n",
       "\\item 3\n",
       "\\end{enumerate*}\n",
       "\n",
       "\\end{description}\n"
      ],
      "text/markdown": [
       "$a\n",
       ":   1. 1\n",
       "2. 2\n",
       "\n",
       "\n",
       "\n",
       "$b\n",
       ":   1. 1\n",
       "2. 2\n",
       "3. 3\n",
       "\n",
       "\n",
       "\n",
       "\n",
       "\n"
      ],
      "text/plain": [
       "$a\n",
       "[1] 1 2\n",
       "\n",
       "$b\n",
       "[1] 1 2 3\n"
      ]
     },
     "metadata": {},
     "output_type": "display_data"
    }
   ],
   "source": [
    "x6 <- list(a=matrix(1:4,2,2),b=matrix(1:6,3,2))\n",
    "x6\n",
    "lapply(x6, function(elt) elt[,1])"
   ]
  },
  {
   "cell_type": "markdown",
   "metadata": {},
   "source": [
    "## sapply"
   ]
  },
  {
   "cell_type": "code",
   "execution_count": 42,
   "metadata": {},
   "outputs": [
    {
     "name": "stdout",
     "output_type": "stream",
     "text": [
      "function (X, FUN, ..., simplify = TRUE, USE.NAMES = TRUE)  \n"
     ]
    }
   ],
   "source": [
    "str(sapply)"
   ]
  },
  {
   "cell_type": "code",
   "execution_count": 38,
   "metadata": {},
   "outputs": [
    {
     "data": {
      "text/html": [
       "'list'"
      ],
      "text/latex": [
       "'list'"
      ],
      "text/markdown": [
       "'list'"
      ],
      "text/plain": [
       "[1] \"list\""
      ]
     },
     "metadata": {},
     "output_type": "display_data"
    },
    {
     "name": "stdout",
     "output_type": "stream",
     "text": [
      "$a\n",
      "[1] 2.5\n",
      "\n",
      "$b\n",
      "[1] -0.2098414\n",
      "\n",
      "$c\n",
      "[1] 1.0499\n",
      "\n",
      "$d\n",
      "[1] 4.968357\n",
      "\n"
     ]
    },
    {
     "data": {
      "text/html": [
       "'numeric'"
      ],
      "text/latex": [
       "'numeric'"
      ],
      "text/markdown": [
       "'numeric'"
      ],
      "text/plain": [
       "[1] \"numeric\""
      ]
     },
     "metadata": {},
     "output_type": "display_data"
    },
    {
     "name": "stdout",
     "output_type": "stream",
     "text": [
      "         a          b          c          d \n",
      " 2.5000000 -0.2098414  1.0499001  4.9683567 \n"
     ]
    }
   ],
   "source": [
    "x7 <- list(a=1:4, b=rnorm(10), c=rnorm(20,1), d=rnorm(100,5))\n",
    "x7_1 <- lapply(x7, mean) # this returns a list\n",
    "x7_2 <- sapply(x7, mean) # this returns a vector\n",
    "class(x7_1)\n",
    "print(x7_1)\n",
    "class(x7_2)\n",
    "print(x7_2)"
   ]
  },
  {
   "cell_type": "markdown",
   "metadata": {},
   "source": [
    "## apply"
   ]
  },
  {
   "cell_type": "code",
   "execution_count": 46,
   "metadata": {},
   "outputs": [
    {
     "name": "stdout",
     "output_type": "stream",
     "text": [
      "function (X, MARGIN, FUN, ...)  \n"
     ]
    }
   ],
   "source": [
    "str(apply)\n",
    "?apply"
   ]
  },
  {
   "cell_type": "code",
   "execution_count": 48,
   "metadata": {},
   "outputs": [
    {
     "data": {
      "text/html": [
       "<ol class=list-inline>\n",
       "\t<li>-0.0535041749129932</li>\n",
       "\t<li>-0.303882444635761</li>\n",
       "\t<li>-0.0961069174058028</li>\n",
       "\t<li>0.434012778446684</li>\n",
       "\t<li>-0.102507190782389</li>\n",
       "\t<li>-0.225516500874117</li>\n",
       "\t<li>-0.180658670461546</li>\n",
       "\t<li>0.0705876332401006</li>\n",
       "\t<li>-0.109535172312833</li>\n",
       "\t<li>-0.154772935637462</li>\n",
       "</ol>\n"
      ],
      "text/latex": [
       "\\begin{enumerate*}\n",
       "\\item -0.0535041749129932\n",
       "\\item -0.303882444635761\n",
       "\\item -0.0961069174058028\n",
       "\\item 0.434012778446684\n",
       "\\item -0.102507190782389\n",
       "\\item -0.225516500874117\n",
       "\\item -0.180658670461546\n",
       "\\item 0.0705876332401006\n",
       "\\item -0.109535172312833\n",
       "\\item -0.154772935637462\n",
       "\\end{enumerate*}\n"
      ],
      "text/markdown": [
       "1. -0.0535041749129932\n",
       "2. -0.303882444635761\n",
       "3. -0.0961069174058028\n",
       "4. 0.434012778446684\n",
       "5. -0.102507190782389\n",
       "6. -0.225516500874117\n",
       "7. -0.180658670461546\n",
       "8. 0.0705876332401006\n",
       "9. -0.109535172312833\n",
       "10. -0.154772935637462\n",
       "\n",
       "\n"
      ],
      "text/plain": [
       " [1] -0.05350417 -0.30388244 -0.09610692  0.43401278 -0.10250719 -0.22551650\n",
       " [7] -0.18065867  0.07058763 -0.10953517 -0.15477294"
      ]
     },
     "metadata": {},
     "output_type": "display_data"
    },
    {
     "data": {
      "text/html": [
       "<ol class=list-inline>\n",
       "\t<li>-3.24824383038244</li>\n",
       "\t<li>0.827331521173028</li>\n",
       "\t<li>-0.140713770836771</li>\n",
       "\t<li>2.26719372766891</li>\n",
       "\t<li>8.28450796928347</li>\n",
       "\t<li>-0.447436094176311</li>\n",
       "\t<li>-4.1519491976773</li>\n",
       "\t<li>4.72563786029679</li>\n",
       "\t<li>0.0961833892423451</li>\n",
       "\t<li>1.0936478603544</li>\n",
       "\t<li>-5.54220257904147</li>\n",
       "\t<li>1.94474038220303</li>\n",
       "\t<li>1.48594550684209</li>\n",
       "\t<li>-6.67600088816216</li>\n",
       "\t<li>-2.79773831799415</li>\n",
       "\t<li>-7.81619820409773</li>\n",
       "\t<li>-5.35483846873058</li>\n",
       "\t<li>-3.94393615675725</li>\n",
       "\t<li>3.78891273173259</li>\n",
       "\t<li>1.16748465233714</li>\n",
       "</ol>\n"
      ],
      "text/latex": [
       "\\begin{enumerate*}\n",
       "\\item -3.24824383038244\n",
       "\\item 0.827331521173028\n",
       "\\item -0.140713770836771\n",
       "\\item 2.26719372766891\n",
       "\\item 8.28450796928347\n",
       "\\item -0.447436094176311\n",
       "\\item -4.1519491976773\n",
       "\\item 4.72563786029679\n",
       "\\item 0.0961833892423451\n",
       "\\item 1.0936478603544\n",
       "\\item -5.54220257904147\n",
       "\\item 1.94474038220303\n",
       "\\item 1.48594550684209\n",
       "\\item -6.67600088816216\n",
       "\\item -2.79773831799415\n",
       "\\item -7.81619820409773\n",
       "\\item -5.35483846873058\n",
       "\\item -3.94393615675725\n",
       "\\item 3.78891273173259\n",
       "\\item 1.16748465233714\n",
       "\\end{enumerate*}\n"
      ],
      "text/markdown": [
       "1. -3.24824383038244\n",
       "2. 0.827331521173028\n",
       "3. -0.140713770836771\n",
       "4. 2.26719372766891\n",
       "5. 8.28450796928347\n",
       "6. -0.447436094176311\n",
       "7. -4.1519491976773\n",
       "8. 4.72563786029679\n",
       "9. 0.0961833892423451\n",
       "10. 1.0936478603544\n",
       "11. -5.54220257904147\n",
       "12. 1.94474038220303\n",
       "13. 1.48594550684209\n",
       "14. -6.67600088816216\n",
       "15. -2.79773831799415\n",
       "16. -7.81619820409773\n",
       "17. -5.35483846873058\n",
       "18. -3.94393615675725\n",
       "19. 3.78891273173259\n",
       "20. 1.16748465233714\n",
       "\n",
       "\n"
      ],
      "text/plain": [
       " [1] -3.24824383  0.82733152 -0.14071377  2.26719373  8.28450797 -0.44743609\n",
       " [7] -4.15194920  4.72563786  0.09618339  1.09364786 -5.54220258  1.94474038\n",
       "[13]  1.48594551 -6.67600089 -2.79773832 -7.81619820 -5.35483847 -3.94393616\n",
       "[19]  3.78891273  1.16748465"
      ]
     },
     "metadata": {},
     "output_type": "display_data"
    }
   ],
   "source": [
    "x8 <- matrix(rnorm(200),20,10)\n",
    "apply(x8, 2, mean)\n",
    "apply(x8, 1, sum)"
   ]
  },
  {
   "cell_type": "code",
   "execution_count": 51,
   "metadata": {},
   "outputs": [
    {
     "data": {
      "text/html": [
       "<table>\n",
       "<tbody>\n",
       "\t<tr><td>1 </td><td> 6</td><td>11</td><td>16</td><td>21</td><td>26</td><td>31</td><td>36</td><td>41</td><td>46</td></tr>\n",
       "\t<tr><td>2 </td><td> 7</td><td>12</td><td>17</td><td>22</td><td>27</td><td>32</td><td>37</td><td>42</td><td>47</td></tr>\n",
       "\t<tr><td>3 </td><td> 8</td><td>13</td><td>18</td><td>23</td><td>28</td><td>33</td><td>38</td><td>43</td><td>48</td></tr>\n",
       "\t<tr><td>4 </td><td> 9</td><td>14</td><td>19</td><td>24</td><td>29</td><td>34</td><td>39</td><td>44</td><td>49</td></tr>\n",
       "\t<tr><td>5 </td><td>10</td><td>15</td><td>20</td><td>25</td><td>30</td><td>35</td><td>40</td><td>45</td><td>50</td></tr>\n",
       "</tbody>\n",
       "</table>\n"
      ],
      "text/latex": [
       "\\begin{tabular}{llllllllll}\n",
       "\t 1  &  6 & 11 & 16 & 21 & 26 & 31 & 36 & 41 & 46\\\\\n",
       "\t 2  &  7 & 12 & 17 & 22 & 27 & 32 & 37 & 42 & 47\\\\\n",
       "\t 3  &  8 & 13 & 18 & 23 & 28 & 33 & 38 & 43 & 48\\\\\n",
       "\t 4  &  9 & 14 & 19 & 24 & 29 & 34 & 39 & 44 & 49\\\\\n",
       "\t 5  & 10 & 15 & 20 & 25 & 30 & 35 & 40 & 45 & 50\\\\\n",
       "\\end{tabular}\n"
      ],
      "text/markdown": [
       "\n",
       "| 1  |  6 | 11 | 16 | 21 | 26 | 31 | 36 | 41 | 46 | \n",
       "| 2  |  7 | 12 | 17 | 22 | 27 | 32 | 37 | 42 | 47 | \n",
       "| 3  |  8 | 13 | 18 | 23 | 28 | 33 | 38 | 43 | 48 | \n",
       "| 4  |  9 | 14 | 19 | 24 | 29 | 34 | 39 | 44 | 49 | \n",
       "| 5  | 10 | 15 | 20 | 25 | 30 | 35 | 40 | 45 | 50 | \n",
       "\n",
       "\n"
      ],
      "text/plain": [
       "     [,1] [,2] [,3] [,4] [,5] [,6] [,7] [,8] [,9] [,10]\n",
       "[1,] 1     6   11   16   21   26   31   36   41   46   \n",
       "[2,] 2     7   12   17   22   27   32   37   42   47   \n",
       "[3,] 3     8   13   18   23   28   33   38   43   48   \n",
       "[4,] 4     9   14   19   24   29   34   39   44   49   \n",
       "[5,] 5    10   15   20   25   30   35   40   45   50   "
      ]
     },
     "metadata": {},
     "output_type": "display_data"
    },
    {
     "data": {
      "text/html": [
       "<ol class=list-inline>\n",
       "\t<li>3</li>\n",
       "\t<li>8</li>\n",
       "\t<li>13</li>\n",
       "\t<li>18</li>\n",
       "\t<li>23</li>\n",
       "\t<li>28</li>\n",
       "\t<li>33</li>\n",
       "\t<li>38</li>\n",
       "\t<li>43</li>\n",
       "\t<li>48</li>\n",
       "</ol>\n"
      ],
      "text/latex": [
       "\\begin{enumerate*}\n",
       "\\item 3\n",
       "\\item 8\n",
       "\\item 13\n",
       "\\item 18\n",
       "\\item 23\n",
       "\\item 28\n",
       "\\item 33\n",
       "\\item 38\n",
       "\\item 43\n",
       "\\item 48\n",
       "\\end{enumerate*}\n"
      ],
      "text/markdown": [
       "1. 3\n",
       "2. 8\n",
       "3. 13\n",
       "4. 18\n",
       "5. 23\n",
       "6. 28\n",
       "7. 33\n",
       "8. 38\n",
       "9. 43\n",
       "10. 48\n",
       "\n",
       "\n"
      ],
      "text/plain": [
       " [1]  3  8 13 18 23 28 33 38 43 48"
      ]
     },
     "metadata": {},
     "output_type": "display_data"
    },
    {
     "data": {
      "text/html": [
       "<ol class=list-inline>\n",
       "\t<li>235</li>\n",
       "\t<li>245</li>\n",
       "\t<li>255</li>\n",
       "\t<li>265</li>\n",
       "\t<li>275</li>\n",
       "</ol>\n"
      ],
      "text/latex": [
       "\\begin{enumerate*}\n",
       "\\item 235\n",
       "\\item 245\n",
       "\\item 255\n",
       "\\item 265\n",
       "\\item 275\n",
       "\\end{enumerate*}\n"
      ],
      "text/markdown": [
       "1. 235\n",
       "2. 245\n",
       "3. 255\n",
       "4. 265\n",
       "5. 275\n",
       "\n",
       "\n"
      ],
      "text/plain": [
       "[1] 235 245 255 265 275"
      ]
     },
     "metadata": {},
     "output_type": "display_data"
    }
   ],
   "source": [
    "x9 <- matrix(1:50, 5, 10)\n",
    "x9\n",
    "apply(x9, 2, mean) # mean by column\n",
    "apply(x9, 1, sum) # sum by row"
   ]
  },
  {
   "cell_type": "code",
   "execution_count": 56,
   "metadata": {},
   "outputs": [
    {
     "data": {
      "text/html": [
       "<ol class=list-inline>\n",
       "\t<li>235</li>\n",
       "\t<li>245</li>\n",
       "\t<li>255</li>\n",
       "\t<li>265</li>\n",
       "\t<li>275</li>\n",
       "</ol>\n"
      ],
      "text/latex": [
       "\\begin{enumerate*}\n",
       "\\item 235\n",
       "\\item 245\n",
       "\\item 255\n",
       "\\item 265\n",
       "\\item 275\n",
       "\\end{enumerate*}\n"
      ],
      "text/markdown": [
       "1. 235\n",
       "2. 245\n",
       "3. 255\n",
       "4. 265\n",
       "5. 275\n",
       "\n",
       "\n"
      ],
      "text/plain": [
       "[1] 235 245 255 265 275"
      ]
     },
     "metadata": {},
     "output_type": "display_data"
    },
    {
     "data": {
      "text/html": [
       "<ol class=list-inline>\n",
       "\t<li>23.5</li>\n",
       "\t<li>24.5</li>\n",
       "\t<li>25.5</li>\n",
       "\t<li>26.5</li>\n",
       "\t<li>27.5</li>\n",
       "</ol>\n"
      ],
      "text/latex": [
       "\\begin{enumerate*}\n",
       "\\item 23.5\n",
       "\\item 24.5\n",
       "\\item 25.5\n",
       "\\item 26.5\n",
       "\\item 27.5\n",
       "\\end{enumerate*}\n"
      ],
      "text/markdown": [
       "1. 23.5\n",
       "2. 24.5\n",
       "3. 25.5\n",
       "4. 26.5\n",
       "5. 27.5\n",
       "\n",
       "\n"
      ],
      "text/plain": [
       "[1] 23.5 24.5 25.5 26.5 27.5"
      ]
     },
     "metadata": {},
     "output_type": "display_data"
    },
    {
     "data": {
      "text/html": [
       "<ol class=list-inline>\n",
       "\t<li>15</li>\n",
       "\t<li>40</li>\n",
       "\t<li>65</li>\n",
       "\t<li>90</li>\n",
       "\t<li>115</li>\n",
       "\t<li>140</li>\n",
       "\t<li>165</li>\n",
       "\t<li>190</li>\n",
       "\t<li>215</li>\n",
       "\t<li>240</li>\n",
       "</ol>\n"
      ],
      "text/latex": [
       "\\begin{enumerate*}\n",
       "\\item 15\n",
       "\\item 40\n",
       "\\item 65\n",
       "\\item 90\n",
       "\\item 115\n",
       "\\item 140\n",
       "\\item 165\n",
       "\\item 190\n",
       "\\item 215\n",
       "\\item 240\n",
       "\\end{enumerate*}\n"
      ],
      "text/markdown": [
       "1. 15\n",
       "2. 40\n",
       "3. 65\n",
       "4. 90\n",
       "5. 115\n",
       "6. 140\n",
       "7. 165\n",
       "8. 190\n",
       "9. 215\n",
       "10. 240\n",
       "\n",
       "\n"
      ],
      "text/plain": [
       " [1]  15  40  65  90 115 140 165 190 215 240"
      ]
     },
     "metadata": {},
     "output_type": "display_data"
    },
    {
     "data": {
      "text/html": [
       "<ol class=list-inline>\n",
       "\t<li>3</li>\n",
       "\t<li>8</li>\n",
       "\t<li>13</li>\n",
       "\t<li>18</li>\n",
       "\t<li>23</li>\n",
       "\t<li>28</li>\n",
       "\t<li>33</li>\n",
       "\t<li>38</li>\n",
       "\t<li>43</li>\n",
       "\t<li>48</li>\n",
       "</ol>\n"
      ],
      "text/latex": [
       "\\begin{enumerate*}\n",
       "\\item 3\n",
       "\\item 8\n",
       "\\item 13\n",
       "\\item 18\n",
       "\\item 23\n",
       "\\item 28\n",
       "\\item 33\n",
       "\\item 38\n",
       "\\item 43\n",
       "\\item 48\n",
       "\\end{enumerate*}\n"
      ],
      "text/markdown": [
       "1. 3\n",
       "2. 8\n",
       "3. 13\n",
       "4. 18\n",
       "5. 23\n",
       "6. 28\n",
       "7. 33\n",
       "8. 38\n",
       "9. 43\n",
       "10. 48\n",
       "\n",
       "\n"
      ],
      "text/plain": [
       " [1]  3  8 13 18 23 28 33 38 43 48"
      ]
     },
     "metadata": {},
     "output_type": "display_data"
    }
   ],
   "source": [
    "# optimized functions to sums and means by cols or rows\n",
    "x10 <- matrix(1:50, 5, 10)\n",
    "rowSums(x10)\n",
    "rowMeans(x10)\n",
    "colSums(x10)\n",
    "colMeans(x10)"
   ]
  },
  {
   "cell_type": "code",
   "execution_count": 57,
   "metadata": {},
   "outputs": [
    {
     "data": {
      "text/html": [
       "<table>\n",
       "<tbody>\n",
       "\t<tr><th scope=row>25%</th><td>-0.6952584 </td><td>0.1248712  </td><td>0.01802172 </td><td>-0.4592940 </td><td>-1.3578267 </td><td>-0.8440236 </td><td>-0.5672652 </td><td>-0.1047369 </td><td>-0.5846089 </td><td>-1.2352011 </td><td>-0.5342183 </td><td>-0.3476227 </td><td>-0.4618376 </td><td>-0.2634646 </td><td>-0.08807319</td><td>0.1323911  </td><td>-1.3271432 </td><td>-0.5988209 </td><td>-0.63278635</td><td>-0.9289163 </td></tr>\n",
       "\t<tr><th scope=row>75%</th><td> 1.1036759 </td><td>0.8684813  </td><td>1.09530355 </td><td> 0.2941866 </td><td> 0.6108347 </td><td> 0.1168320 </td><td> 0.4701288 </td><td> 0.7860125 </td><td> 0.6475137 </td><td> 0.6529744 </td><td> 0.7388011 </td><td> 0.8180397 </td><td> 0.2444147 </td><td> 0.9254039 </td><td> 0.54886999</td><td>0.8936973  </td><td> 0.2481777 </td><td> 0.7185843 </td><td> 0.02130018</td><td> 0.6177024 </td></tr>\n",
       "</tbody>\n",
       "</table>\n"
      ],
      "text/latex": [
       "\\begin{tabular}{r|llllllllllllllllllll}\n",
       "\t25\\% & -0.6952584  & 0.1248712   & 0.01802172  & -0.4592940  & -1.3578267  & -0.8440236  & -0.5672652  & -0.1047369  & -0.5846089  & -1.2352011  & -0.5342183  & -0.3476227  & -0.4618376  & -0.2634646  & -0.08807319 & 0.1323911   & -1.3271432  & -0.5988209  & -0.63278635 & -0.9289163 \\\\\n",
       "\t75\\% &  1.1036759  & 0.8684813   & 1.09530355  &  0.2941866  &  0.6108347  &  0.1168320  &  0.4701288  &  0.7860125  &  0.6475137  &  0.6529744  &  0.7388011  &  0.8180397  &  0.2444147  &  0.9254039  &  0.54886999 & 0.8936973   &  0.2481777  &  0.7185843  &  0.02130018 &  0.6177024 \\\\\n",
       "\\end{tabular}\n"
      ],
      "text/markdown": [
       "\n",
       "| 25% | -0.6952584  | 0.1248712   | 0.01802172  | -0.4592940  | -1.3578267  | -0.8440236  | -0.5672652  | -0.1047369  | -0.5846089  | -1.2352011  | -0.5342183  | -0.3476227  | -0.4618376  | -0.2634646  | -0.08807319 | 0.1323911   | -1.3271432  | -0.5988209  | -0.63278635 | -0.9289163  | \n",
       "| 75% |  1.1036759  | 0.8684813   | 1.09530355  |  0.2941866  |  0.6108347  |  0.1168320  |  0.4701288  |  0.7860125  |  0.6475137  |  0.6529744  |  0.7388011  |  0.8180397  |  0.2444147  |  0.9254039  |  0.54886999 | 0.8936973   |  0.2481777  |  0.7185843  |  0.02130018 |  0.6177024  | \n",
       "\n",
       "\n"
      ],
      "text/plain": [
       "    [,1]       [,2]      [,3]       [,4]       [,5]       [,6]       [,7]      \n",
       "25% -0.6952584 0.1248712 0.01802172 -0.4592940 -1.3578267 -0.8440236 -0.5672652\n",
       "75%  1.1036759 0.8684813 1.09530355  0.2941866  0.6108347  0.1168320  0.4701288\n",
       "    [,8]       [,9]       [,10]      [,11]      [,12]      [,13]     \n",
       "25% -0.1047369 -0.5846089 -1.2352011 -0.5342183 -0.3476227 -0.4618376\n",
       "75%  0.7860125  0.6475137  0.6529744  0.7388011  0.8180397  0.2444147\n",
       "    [,14]      [,15]       [,16]     [,17]      [,18]      [,19]      \n",
       "25% -0.2634646 -0.08807319 0.1323911 -1.3271432 -0.5988209 -0.63278635\n",
       "75%  0.9254039  0.54886999 0.8936973  0.2481777  0.7185843  0.02130018\n",
       "    [,20]     \n",
       "25% -0.9289163\n",
       "75%  0.6177024"
      ]
     },
     "metadata": {},
     "output_type": "display_data"
    }
   ],
   "source": [
    "# here another way to use apply with quantile function\n",
    "x11 <- matrix(rnorm(200),20,10)\n",
    "apply(x11, 1, quantile, probs=c(0.25, 0.75))"
   ]
  },
  {
   "cell_type": "code",
   "execution_count": 63,
   "metadata": {},
   "outputs": [
    {
     "name": "stdout",
     "output_type": "stream",
     "text": [
      ", , 1\n",
      "\n",
      "           [,1]       [,2]\n",
      "[1,] -0.8477644  0.7830200\n",
      "[2,]  1.4364662 -0.5053485\n",
      "\n",
      ", , 2\n",
      "\n",
      "          [,1]       [,2]\n",
      "[1,] -1.065603  3.0226777\n",
      "[2,] -1.060815 -0.7844098\n",
      "\n",
      ", , 3\n",
      "\n",
      "         [,1]       [,2]\n",
      "[1,] 1.363663 -0.9511467\n",
      "[2,] 1.124063 -0.1448004\n",
      "\n",
      ", , 4\n",
      "\n",
      "           [,1]       [,2]\n",
      "[1,] 0.83318865 -0.4769876\n",
      "[2,] 0.05925516 -0.1700926\n",
      "\n",
      ", , 5\n",
      "\n",
      "         [,1]       [,2]\n",
      "[1,] 1.063944 -0.7926387\n",
      "[2,] 1.563722  0.1785478\n",
      "\n",
      ", , 6\n",
      "\n",
      "          [,1]       [,2]\n",
      "[1,] -1.417778 -0.0139881\n",
      "[2,]  1.380291  1.3082452\n",
      "\n",
      ", , 7\n",
      "\n",
      "          [,1]      [,2]\n",
      "[1,] 0.1908854 1.0304811\n",
      "[2,] 1.6572910 0.3145319\n",
      "\n",
      ", , 8\n",
      "\n",
      "           [,1]        [,2]\n",
      "[1,]  0.3365371 -0.08594746\n",
      "[2,] -0.2282467  0.24616234\n",
      "\n",
      ", , 9\n",
      "\n",
      "           [,1]       [,2]\n",
      "[1,] -0.6947372  0.4561168\n",
      "[2,]  1.6241710 -0.9019014\n",
      "\n",
      ", , 10\n",
      "\n",
      "            [,1]       [,2]\n",
      "[1,]  0.25554678 -0.2775102\n",
      "[2,] -0.09161582  1.3812292\n",
      "\n",
      "[1] \"-------------------------------------------------------\"\n",
      "            [,1]       [,2]\n",
      "[1,] 0.001788187 0.26940768\n",
      "[2,] 0.746458214 0.09221637\n",
      "            [,1]       [,2]\n",
      "[1,] 0.001788187 0.26940768\n",
      "[2,] 0.746458214 0.09221637\n"
     ]
    }
   ],
   "source": [
    "x12 <- array(rnorm(2*2*10),c(2,2,10))\n",
    "print(x12)\n",
    "print(\"-------------------------------------------------------\")\n",
    "# one way\n",
    "x12_r1 <- apply(x12, c(1,2), mean)\n",
    "print(x12_r1)\n",
    "# another way\n",
    "x12_r2 <- rowMeans(x12, dims=2)\n",
    "print(x12_r2)\n",
    "# x12_r1 and x12_r2 are exactly the same"
   ]
  },
  {
   "cell_type": "code",
   "execution_count": null,
   "metadata": {},
   "outputs": [],
   "source": []
  }
 ],
 "metadata": {
  "kernelspec": {
   "display_name": "R",
   "language": "R",
   "name": "ir"
  },
  "language_info": {
   "codemirror_mode": "r",
   "file_extension": ".r",
   "mimetype": "text/x-r-source",
   "name": "R",
   "pygments_lexer": "r",
   "version": "3.4.4"
  }
 },
 "nbformat": 4,
 "nbformat_minor": 2
}
