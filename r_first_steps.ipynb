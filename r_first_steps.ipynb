{
 "cells": [
  {
   "cell_type": "markdown",
   "metadata": {},
   "source": [
    "# List Available Packages"
   ]
  },
  {
   "cell_type": "code",
   "execution_count": 2,
   "metadata": {},
   "outputs": [],
   "source": [
    "a <- available.packages()"
   ]
  },
  {
   "cell_type": "code",
   "execution_count": 3,
   "metadata": {},
   "outputs": [
    {
     "data": {
      "text/html": [
       "<ol class=list-inline>\n",
       "\t<li>'A3'</li>\n",
       "\t<li>'abbyyR'</li>\n",
       "\t<li>'abc'</li>\n",
       "</ol>\n"
      ],
      "text/latex": [
       "\\begin{enumerate*}\n",
       "\\item 'A3'\n",
       "\\item 'abbyyR'\n",
       "\\item 'abc'\n",
       "\\end{enumerate*}\n"
      ],
      "text/markdown": [
       "1. 'A3'\n",
       "2. 'abbyyR'\n",
       "3. 'abc'\n",
       "\n",
       "\n"
      ],
      "text/plain": [
       "[1] \"A3\"     \"abbyyR\" \"abc\"   "
      ]
     },
     "metadata": {},
     "output_type": "display_data"
    }
   ],
   "source": [
    "head(rownames(a), 3)"
   ]
  },
  {
   "cell_type": "code",
   "execution_count": 4,
   "metadata": {},
   "outputs": [
    {
     "data": {
      "text/html": [
       "<table>\n",
       "<thead><tr><th></th><th scope=col>Package</th><th scope=col>Version</th><th scope=col>Priority</th><th scope=col>Depends</th><th scope=col>Imports</th><th scope=col>LinkingTo</th><th scope=col>Suggests</th><th scope=col>Enhances</th><th scope=col>License</th><th scope=col>License_is_FOSS</th><th scope=col>License_restricts_use</th><th scope=col>OS_type</th><th scope=col>Archs</th><th scope=col>MD5sum</th><th scope=col>NeedsCompilation</th><th scope=col>File</th><th scope=col>Repository</th></tr></thead>\n",
       "<tbody>\n",
       "\t<tr><th scope=row>A3</th><td><span style=white-space:pre-wrap>A3         </span>                                           </td><td>1.0.0                                                                                         </td><td>NA                                                                                            </td><td><span style=white-space:pre-wrap>R (&gt;= 2.15.0), xtable, pbapply                     </span></td><td><span style=white-space:pre-wrap>NA                                    </span>                </td><td>NA                                                                                            </td><td><span style=white-space:pre-wrap>randomForest, e1071                        </span>           </td><td>NA                                                                                            </td><td><span style=white-space:pre-wrap>GPL (&gt;= 2)        </span>                                 </td><td>NA                                                                                            </td><td>NA                                                                                            </td><td>NA                                                                                            </td><td>NA                                                                                            </td><td>NA                                                                                            </td><td>no                                                                                            </td><td>NA                                                                                            </td><td>https://cloud.r-project.org/src/contrib                                                       </td></tr>\n",
       "\t<tr><th scope=row>abbyyR</th><td><span style=white-space:pre-wrap>abbyyR     </span>                                           </td><td>0.5.4                                                                                         </td><td>NA                                                                                            </td><td><span style=white-space:pre-wrap>R (&gt;= 3.2.0)                                       </span></td><td>httr, XML, curl, readr, plyr, progress                                                        </td><td>NA                                                                                            </td><td>testthat, rmarkdown, knitr (&gt;= 1.11), lintr                                                </td><td>NA                                                                                            </td><td>MIT + file LICENSE                                                                            </td><td>NA                                                                                            </td><td>NA                                                                                            </td><td>NA                                                                                            </td><td>NA                                                                                            </td><td>NA                                                                                            </td><td>no                                                                                            </td><td>NA                                                                                            </td><td>https://cloud.r-project.org/src/contrib                                                       </td></tr>\n",
       "\t<tr><th scope=row>abc</th><td><span style=white-space:pre-wrap>abc        </span>                                </td><td><span style=white-space:pre-wrap>2.1  </span>                                      </td><td>NA                                                                                 </td><td>R (&gt;= 2.10), abc.data, nnet, quantreg, MASS, locfit                             </td><td><span style=white-space:pre-wrap>NA                                    </span>     </td><td>NA                                                                                 </td><td><span style=white-space:pre-wrap>NA                                         </span></td><td>NA                                                                                 </td><td><span style=white-space:pre-wrap>GPL (&gt;= 3)        </span>                      </td><td>NA                                                                                 </td><td>NA                                                                                 </td><td>NA                                                                                 </td><td>NA                                                                                 </td><td>NA                                                                                 </td><td>no                                                                                 </td><td>NA                                                                                 </td><td>https://cloud.r-project.org/src/contrib                                            </td></tr>\n",
       "\t<tr><th scope=row>abc.data</th><td><span style=white-space:pre-wrap>abc.data   </span>                                           </td><td><span style=white-space:pre-wrap>1.0  </span>                                                 </td><td>NA                                                                                            </td><td><span style=white-space:pre-wrap>R (&gt;= 2.10)                                        </span></td><td><span style=white-space:pre-wrap>NA                                    </span>                </td><td>NA                                                                                            </td><td><span style=white-space:pre-wrap>NA                                         </span>           </td><td>NA                                                                                            </td><td><span style=white-space:pre-wrap>GPL (&gt;= 3)        </span>                                 </td><td>NA                                                                                            </td><td>NA                                                                                            </td><td>NA                                                                                            </td><td>NA                                                                                            </td><td>NA                                                                                            </td><td>no                                                                                            </td><td>NA                                                                                            </td><td>https://cloud.r-project.org/src/contrib                                                       </td></tr>\n",
       "\t<tr><th scope=row>ABC.RAP</th><td><span style=white-space:pre-wrap>ABC.RAP    </span>                                           </td><td>0.9.0                                                                                         </td><td>NA                                                                                            </td><td><span style=white-space:pre-wrap>R (&gt;= 3.1.0)                                       </span></td><td><span style=white-space:pre-wrap>graphics, stats, utils                </span>                </td><td>NA                                                                                            </td><td><span style=white-space:pre-wrap>knitr, rmarkdown                           </span>           </td><td>NA                                                                                            </td><td><span style=white-space:pre-wrap>GPL-3             </span>                                    </td><td>NA                                                                                            </td><td>NA                                                                                            </td><td>NA                                                                                            </td><td>NA                                                                                            </td><td>NA                                                                                            </td><td>no                                                                                            </td><td>NA                                                                                            </td><td>https://cloud.r-project.org/src/contrib                                                       </td></tr>\n",
       "\t<tr><th scope=row>ABCanalysis</th><td>ABCanalysis                                                                                   </td><td>1.2.1                                                                                         </td><td>NA                                                                                            </td><td><span style=white-space:pre-wrap>R (&gt;= 2.10)                                        </span></td><td><span style=white-space:pre-wrap>plotrix                               </span>                </td><td>NA                                                                                            </td><td><span style=white-space:pre-wrap>NA                                         </span>           </td><td>NA                                                                                            </td><td><span style=white-space:pre-wrap>GPL-3             </span>                                    </td><td>NA                                                                                            </td><td>NA                                                                                            </td><td>NA                                                                                            </td><td>NA                                                                                            </td><td>NA                                                                                            </td><td>no                                                                                            </td><td>NA                                                                                            </td><td>https://cloud.r-project.org/src/contrib                                                       </td></tr>\n",
       "</tbody>\n",
       "</table>\n"
      ],
      "text/latex": [
       "\\begin{tabular}{r|lllllllllllllllll}\n",
       "  & Package & Version & Priority & Depends & Imports & LinkingTo & Suggests & Enhances & License & License\\_is\\_FOSS & License\\_restricts\\_use & OS\\_type & Archs & MD5sum & NeedsCompilation & File & Repository\\\\\n",
       "\\hline\n",
       "\tA3 & A3                                                  & 1.0.0                                               & NA                                                  & R (>= 2.15.0), xtable, pbapply                      & NA                                                  & NA                                                  & randomForest, e1071                                 & NA                                                  & GPL (>= 2)                                          & NA                                                  & NA                                                  & NA                                                  & NA                                                  & NA                                                  & no                                                  & NA                                                  & https://cloud.r-project.org/src/contrib            \\\\\n",
       "\tabbyyR & abbyyR                                              & 0.5.4                                               & NA                                                  & R (>= 3.2.0)                                        & httr, XML, curl, readr, plyr, progress              & NA                                                  & testthat, rmarkdown, knitr (>= 1.11), lintr         & NA                                                  & MIT + file LICENSE                                  & NA                                                  & NA                                                  & NA                                                  & NA                                                  & NA                                                  & no                                                  & NA                                                  & https://cloud.r-project.org/src/contrib            \\\\\n",
       "\tabc & abc                                                 & 2.1                                                 & NA                                                  & R (>= 2.10), abc.data, nnet, quantreg, MASS, locfit & NA                                                  & NA                                                  & NA                                                  & NA                                                  & GPL (>= 3)                                          & NA                                                  & NA                                                  & NA                                                  & NA                                                  & NA                                                  & no                                                  & NA                                                  & https://cloud.r-project.org/src/contrib            \\\\\n",
       "\tabc.data & abc.data                                            & 1.0                                                 & NA                                                  & R (>= 2.10)                                         & NA                                                  & NA                                                  & NA                                                  & NA                                                  & GPL (>= 3)                                          & NA                                                  & NA                                                  & NA                                                  & NA                                                  & NA                                                  & no                                                  & NA                                                  & https://cloud.r-project.org/src/contrib            \\\\\n",
       "\tABC.RAP & ABC.RAP                                             & 0.9.0                                               & NA                                                  & R (>= 3.1.0)                                        & graphics, stats, utils                              & NA                                                  & knitr, rmarkdown                                    & NA                                                  & GPL-3                                               & NA                                                  & NA                                                  & NA                                                  & NA                                                  & NA                                                  & no                                                  & NA                                                  & https://cloud.r-project.org/src/contrib            \\\\\n",
       "\tABCanalysis & ABCanalysis                                         & 1.2.1                                               & NA                                                  & R (>= 2.10)                                         & plotrix                                             & NA                                                  & NA                                                  & NA                                                  & GPL-3                                               & NA                                                  & NA                                                  & NA                                                  & NA                                                  & NA                                                  & no                                                  & NA                                                  & https://cloud.r-project.org/src/contrib            \\\\\n",
       "\\end{tabular}\n"
      ],
      "text/markdown": [
       "\n",
       "| <!--/--> | Package | Version | Priority | Depends | Imports | LinkingTo | Suggests | Enhances | License | License_is_FOSS | License_restricts_use | OS_type | Archs | MD5sum | NeedsCompilation | File | Repository | \n",
       "|---|---|---|---|---|---|\n",
       "| A3 | A3                                                  | 1.0.0                                               | NA                                                  | R (>= 2.15.0), xtable, pbapply                      | NA                                                  | NA                                                  | randomForest, e1071                                 | NA                                                  | GPL (>= 2)                                          | NA                                                  | NA                                                  | NA                                                  | NA                                                  | NA                                                  | no                                                  | NA                                                  | https://cloud.r-project.org/src/contrib             | \n",
       "| abbyyR | abbyyR                                              | 0.5.4                                               | NA                                                  | R (>= 3.2.0)                                        | httr, XML, curl, readr, plyr, progress              | NA                                                  | testthat, rmarkdown, knitr (>= 1.11), lintr         | NA                                                  | MIT + file LICENSE                                  | NA                                                  | NA                                                  | NA                                                  | NA                                                  | NA                                                  | no                                                  | NA                                                  | https://cloud.r-project.org/src/contrib             | \n",
       "| abc | abc                                                 | 2.1                                                 | NA                                                  | R (>= 2.10), abc.data, nnet, quantreg, MASS, locfit | NA                                                  | NA                                                  | NA                                                  | NA                                                  | GPL (>= 3)                                          | NA                                                  | NA                                                  | NA                                                  | NA                                                  | NA                                                  | no                                                  | NA                                                  | https://cloud.r-project.org/src/contrib             | \n",
       "| abc.data | abc.data                                            | 1.0                                                 | NA                                                  | R (>= 2.10)                                         | NA                                                  | NA                                                  | NA                                                  | NA                                                  | GPL (>= 3)                                          | NA                                                  | NA                                                  | NA                                                  | NA                                                  | NA                                                  | no                                                  | NA                                                  | https://cloud.r-project.org/src/contrib             | \n",
       "| ABC.RAP | ABC.RAP                                             | 0.9.0                                               | NA                                                  | R (>= 3.1.0)                                        | graphics, stats, utils                              | NA                                                  | knitr, rmarkdown                                    | NA                                                  | GPL-3                                               | NA                                                  | NA                                                  | NA                                                  | NA                                                  | NA                                                  | no                                                  | NA                                                  | https://cloud.r-project.org/src/contrib             | \n",
       "| ABCanalysis | ABCanalysis                                         | 1.2.1                                               | NA                                                  | R (>= 2.10)                                         | plotrix                                             | NA                                                  | NA                                                  | NA                                                  | GPL-3                                               | NA                                                  | NA                                                  | NA                                                  | NA                                                  | NA                                                  | no                                                  | NA                                                  | https://cloud.r-project.org/src/contrib             | \n",
       "\n",
       "\n"
      ],
      "text/plain": [
       "            Package     Version Priority\n",
       "A3          A3          1.0.0   NA      \n",
       "abbyyR      abbyyR      0.5.4   NA      \n",
       "abc         abc         2.1     NA      \n",
       "abc.data    abc.data    1.0     NA      \n",
       "ABC.RAP     ABC.RAP     0.9.0   NA      \n",
       "ABCanalysis ABCanalysis 1.2.1   NA      \n",
       "            Depends                                            \n",
       "A3          R (>= 2.15.0), xtable, pbapply                     \n",
       "abbyyR      R (>= 3.2.0)                                       \n",
       "abc         R (>= 2.10), abc.data, nnet, quantreg, MASS, locfit\n",
       "abc.data    R (>= 2.10)                                        \n",
       "ABC.RAP     R (>= 3.1.0)                                       \n",
       "ABCanalysis R (>= 2.10)                                        \n",
       "            Imports                                LinkingTo\n",
       "A3          NA                                     NA       \n",
       "abbyyR      httr, XML, curl, readr, plyr, progress NA       \n",
       "abc         NA                                     NA       \n",
       "abc.data    NA                                     NA       \n",
       "ABC.RAP     graphics, stats, utils                 NA       \n",
       "ABCanalysis plotrix                                NA       \n",
       "            Suggests                                    Enhances\n",
       "A3          randomForest, e1071                         NA      \n",
       "abbyyR      testthat, rmarkdown, knitr (>= 1.11), lintr NA      \n",
       "abc         NA                                          NA      \n",
       "abc.data    NA                                          NA      \n",
       "ABC.RAP     knitr, rmarkdown                            NA      \n",
       "ABCanalysis NA                                          NA      \n",
       "            License            License_is_FOSS License_restricts_use OS_type\n",
       "A3          GPL (>= 2)         NA              NA                    NA     \n",
       "abbyyR      MIT + file LICENSE NA              NA                    NA     \n",
       "abc         GPL (>= 3)         NA              NA                    NA     \n",
       "abc.data    GPL (>= 3)         NA              NA                    NA     \n",
       "ABC.RAP     GPL-3              NA              NA                    NA     \n",
       "ABCanalysis GPL-3              NA              NA                    NA     \n",
       "            Archs MD5sum NeedsCompilation File\n",
       "A3          NA    NA     no               NA  \n",
       "abbyyR      NA    NA     no               NA  \n",
       "abc         NA    NA     no               NA  \n",
       "abc.data    NA    NA     no               NA  \n",
       "ABC.RAP     NA    NA     no               NA  \n",
       "ABCanalysis NA    NA     no               NA  \n",
       "            Repository                             \n",
       "A3          https://cloud.r-project.org/src/contrib\n",
       "abbyyR      https://cloud.r-project.org/src/contrib\n",
       "abc         https://cloud.r-project.org/src/contrib\n",
       "abc.data    https://cloud.r-project.org/src/contrib\n",
       "ABC.RAP     https://cloud.r-project.org/src/contrib\n",
       "ABCanalysis https://cloud.r-project.org/src/contrib"
      ]
     },
     "metadata": {},
     "output_type": "display_data"
    }
   ],
   "source": [
    "head(a)"
   ]
  },
  {
   "cell_type": "markdown",
   "metadata": {},
   "source": [
    "# How to install a package\n",
    "![alt text](install_a_package.png)\n",
    " "
   ]
  },
  {
   "cell_type": "code",
   "execution_count": 6,
   "metadata": {},
   "outputs": [],
   "source": [
    "# install multiple packages\n",
    "# install.packages(c(\"slidify\",\"ggplot2\",\"devtools\"))"
   ]
  },
  {
   "cell_type": "markdown",
   "metadata": {},
   "source": [
    "# Load a Libray"
   ]
  },
  {
   "cell_type": "code",
   "execution_count": 7,
   "metadata": {},
   "outputs": [],
   "source": [
    "# libray (ggplot2)"
   ]
  },
  {
   "cell_type": "code",
   "execution_count": 10,
   "metadata": {},
   "outputs": [
    {
     "data": {
      "text/html": [
       "<ol class=list-inline>\n",
       "\t<li>'.GlobalEnv'</li>\n",
       "\t<li>'package:ggplot2'</li>\n",
       "\t<li>'jupyter:irkernel'</li>\n",
       "\t<li>'package:stats'</li>\n",
       "\t<li>'package:graphics'</li>\n",
       "\t<li>'package:grDevices'</li>\n",
       "\t<li>'package:utils'</li>\n",
       "\t<li>'package:datasets'</li>\n",
       "\t<li>'package:methods'</li>\n",
       "\t<li>'Autoloads'</li>\n",
       "\t<li>'package:base'</li>\n",
       "</ol>\n"
      ],
      "text/latex": [
       "\\begin{enumerate*}\n",
       "\\item '.GlobalEnv'\n",
       "\\item 'package:ggplot2'\n",
       "\\item 'jupyter:irkernel'\n",
       "\\item 'package:stats'\n",
       "\\item 'package:graphics'\n",
       "\\item 'package:grDevices'\n",
       "\\item 'package:utils'\n",
       "\\item 'package:datasets'\n",
       "\\item 'package:methods'\n",
       "\\item 'Autoloads'\n",
       "\\item 'package:base'\n",
       "\\end{enumerate*}\n"
      ],
      "text/markdown": [
       "1. '.GlobalEnv'\n",
       "2. 'package:ggplot2'\n",
       "3. 'jupyter:irkernel'\n",
       "4. 'package:stats'\n",
       "5. 'package:graphics'\n",
       "6. 'package:grDevices'\n",
       "7. 'package:utils'\n",
       "8. 'package:datasets'\n",
       "9. 'package:methods'\n",
       "10. 'Autoloads'\n",
       "11. 'package:base'\n",
       "\n",
       "\n"
      ],
      "text/plain": [
       " [1] \".GlobalEnv\"        \"package:ggplot2\"   \"jupyter:irkernel\" \n",
       " [4] \"package:stats\"     \"package:graphics\"  \"package:grDevices\"\n",
       " [7] \"package:utils\"     \"package:datasets\"  \"package:methods\"  \n",
       "[10] \"Autoloads\"         \"package:base\"     "
      ]
     },
     "metadata": {},
     "output_type": "display_data"
    }
   ],
   "source": [
    "library(ggplot2)\n",
    "search()"
   ]
  },
  {
   "cell_type": "code",
   "execution_count": null,
   "metadata": {},
   "outputs": [],
   "source": []
  }
 ],
 "metadata": {
  "kernelspec": {
   "display_name": "R",
   "language": "R",
   "name": "ir"
  },
  "language_info": {
   "codemirror_mode": "r",
   "file_extension": ".r",
   "mimetype": "text/x-r-source",
   "name": "R",
   "pygments_lexer": "r",
   "version": "3.4.4"
  }
 },
 "nbformat": 4,
 "nbformat_minor": 2
}
