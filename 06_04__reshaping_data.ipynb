{
 "cells": [
  {
   "cell_type": "markdown",
   "metadata": {},
   "source": [
    "# Reshaping Data"
   ]
  },
  {
   "cell_type": "code",
   "execution_count": 1,
   "metadata": {},
   "outputs": [],
   "source": [
    "library(reshape2)"
   ]
  },
  {
   "cell_type": "code",
   "execution_count": 2,
   "metadata": {},
   "outputs": [
    {
     "data": {
      "text/html": [
       "<table>\n",
       "<thead><tr><th></th><th scope=col>mpg</th><th scope=col>cyl</th><th scope=col>disp</th><th scope=col>hp</th><th scope=col>drat</th><th scope=col>wt</th><th scope=col>qsec</th><th scope=col>vs</th><th scope=col>am</th><th scope=col>gear</th><th scope=col>carb</th></tr></thead>\n",
       "<tbody>\n",
       "\t<tr><th scope=row>Mazda RX4</th><td>21.0 </td><td>6    </td><td>160  </td><td>110  </td><td>3.90 </td><td>2.620</td><td>16.46</td><td>0    </td><td>1    </td><td>4    </td><td>4    </td></tr>\n",
       "\t<tr><th scope=row>Mazda RX4 Wag</th><td>21.0 </td><td>6    </td><td>160  </td><td>110  </td><td>3.90 </td><td>2.875</td><td>17.02</td><td>0    </td><td>1    </td><td>4    </td><td>4    </td></tr>\n",
       "\t<tr><th scope=row>Datsun 710</th><td>22.8 </td><td>4    </td><td>108  </td><td> 93  </td><td>3.85 </td><td>2.320</td><td>18.61</td><td>1    </td><td>1    </td><td>4    </td><td>1    </td></tr>\n",
       "\t<tr><th scope=row>Hornet 4 Drive</th><td>21.4 </td><td>6    </td><td>258  </td><td>110  </td><td>3.08 </td><td>3.215</td><td>19.44</td><td>1    </td><td>0    </td><td>3    </td><td>1    </td></tr>\n",
       "\t<tr><th scope=row>Hornet Sportabout</th><td>18.7 </td><td>8    </td><td>360  </td><td>175  </td><td>3.15 </td><td>3.440</td><td>17.02</td><td>0    </td><td>0    </td><td>3    </td><td>2    </td></tr>\n",
       "\t<tr><th scope=row>Valiant</th><td>18.1 </td><td>6    </td><td>225  </td><td>105  </td><td>2.76 </td><td>3.460</td><td>20.22</td><td>1    </td><td>0    </td><td>3    </td><td>1    </td></tr>\n",
       "</tbody>\n",
       "</table>\n"
      ],
      "text/latex": [
       "\\begin{tabular}{r|lllllllllll}\n",
       "  & mpg & cyl & disp & hp & drat & wt & qsec & vs & am & gear & carb\\\\\n",
       "\\hline\n",
       "\tMazda RX4 & 21.0  & 6     & 160   & 110   & 3.90  & 2.620 & 16.46 & 0     & 1     & 4     & 4    \\\\\n",
       "\tMazda RX4 Wag & 21.0  & 6     & 160   & 110   & 3.90  & 2.875 & 17.02 & 0     & 1     & 4     & 4    \\\\\n",
       "\tDatsun 710 & 22.8  & 4     & 108   &  93   & 3.85  & 2.320 & 18.61 & 1     & 1     & 4     & 1    \\\\\n",
       "\tHornet 4 Drive & 21.4  & 6     & 258   & 110   & 3.08  & 3.215 & 19.44 & 1     & 0     & 3     & 1    \\\\\n",
       "\tHornet Sportabout & 18.7  & 8     & 360   & 175   & 3.15  & 3.440 & 17.02 & 0     & 0     & 3     & 2    \\\\\n",
       "\tValiant & 18.1  & 6     & 225   & 105   & 2.76  & 3.460 & 20.22 & 1     & 0     & 3     & 1    \\\\\n",
       "\\end{tabular}\n"
      ],
      "text/markdown": [
       "\n",
       "| <!--/--> | mpg | cyl | disp | hp | drat | wt | qsec | vs | am | gear | carb | \n",
       "|---|---|---|---|---|---|\n",
       "| Mazda RX4 | 21.0  | 6     | 160   | 110   | 3.90  | 2.620 | 16.46 | 0     | 1     | 4     | 4     | \n",
       "| Mazda RX4 Wag | 21.0  | 6     | 160   | 110   | 3.90  | 2.875 | 17.02 | 0     | 1     | 4     | 4     | \n",
       "| Datsun 710 | 22.8  | 4     | 108   |  93   | 3.85  | 2.320 | 18.61 | 1     | 1     | 4     | 1     | \n",
       "| Hornet 4 Drive | 21.4  | 6     | 258   | 110   | 3.08  | 3.215 | 19.44 | 1     | 0     | 3     | 1     | \n",
       "| Hornet Sportabout | 18.7  | 8     | 360   | 175   | 3.15  | 3.440 | 17.02 | 0     | 0     | 3     | 2     | \n",
       "| Valiant | 18.1  | 6     | 225   | 105   | 2.76  | 3.460 | 20.22 | 1     | 0     | 3     | 1     | \n",
       "\n",
       "\n"
      ],
      "text/plain": [
       "                  mpg  cyl disp hp  drat wt    qsec  vs am gear carb\n",
       "Mazda RX4         21.0 6   160  110 3.90 2.620 16.46 0  1  4    4   \n",
       "Mazda RX4 Wag     21.0 6   160  110 3.90 2.875 17.02 0  1  4    4   \n",
       "Datsun 710        22.8 4   108   93 3.85 2.320 18.61 1  1  4    1   \n",
       "Hornet 4 Drive    21.4 6   258  110 3.08 3.215 19.44 1  0  3    1   \n",
       "Hornet Sportabout 18.7 8   360  175 3.15 3.440 17.02 0  0  3    2   \n",
       "Valiant           18.1 6   225  105 2.76 3.460 20.22 1  0  3    1   "
      ]
     },
     "metadata": {},
     "output_type": "display_data"
    }
   ],
   "source": [
    "head(mtcars)"
   ]
  },
  {
   "cell_type": "code",
   "execution_count": 9,
   "metadata": {},
   "outputs": [
    {
     "data": {
      "text/html": [
       "<table>\n",
       "<thead><tr><th></th><th scope=col>mpg</th><th scope=col>cyl</th><th scope=col>disp</th><th scope=col>hp</th><th scope=col>drat</th><th scope=col>wt</th><th scope=col>qsec</th><th scope=col>vs</th><th scope=col>am</th><th scope=col>gear</th><th scope=col>carb</th><th scope=col>carname</th></tr></thead>\n",
       "<tbody>\n",
       "\t<tr><th scope=row>Mazda RX4</th><td>21.0         </td><td>6            </td><td>160          </td><td>110          </td><td>3.90         </td><td>2.620        </td><td>16.46        </td><td>0            </td><td>1            </td><td>4            </td><td>4            </td><td>Mazda RX4    </td></tr>\n",
       "\t<tr><th scope=row>Mazda RX4 Wag</th><td>21.0         </td><td>6            </td><td>160          </td><td>110          </td><td>3.90         </td><td>2.875        </td><td>17.02        </td><td>0            </td><td>1            </td><td>4            </td><td>4            </td><td>Mazda RX4 Wag</td></tr>\n",
       "\t<tr><th scope=row>Datsun 710</th><td>22.8         </td><td>4            </td><td>108          </td><td> 93          </td><td>3.85         </td><td>2.320        </td><td>18.61        </td><td>1            </td><td>1            </td><td>4            </td><td>1            </td><td>Datsun 710   </td></tr>\n",
       "</tbody>\n",
       "</table>\n"
      ],
      "text/latex": [
       "\\begin{tabular}{r|llllllllllll}\n",
       "  & mpg & cyl & disp & hp & drat & wt & qsec & vs & am & gear & carb & carname\\\\\n",
       "\\hline\n",
       "\tMazda RX4 & 21.0          & 6             & 160           & 110           & 3.90          & 2.620         & 16.46         & 0             & 1             & 4             & 4             & Mazda RX4    \\\\\n",
       "\tMazda RX4 Wag & 21.0          & 6             & 160           & 110           & 3.90          & 2.875         & 17.02         & 0             & 1             & 4             & 4             & Mazda RX4 Wag\\\\\n",
       "\tDatsun 710 & 22.8          & 4             & 108           &  93           & 3.85          & 2.320         & 18.61         & 1             & 1             & 4             & 1             & Datsun 710   \\\\\n",
       "\\end{tabular}\n"
      ],
      "text/markdown": [
       "\n",
       "| <!--/--> | mpg | cyl | disp | hp | drat | wt | qsec | vs | am | gear | carb | carname | \n",
       "|---|---|---|\n",
       "| Mazda RX4 | 21.0          | 6             | 160           | 110           | 3.90          | 2.620         | 16.46         | 0             | 1             | 4             | 4             | Mazda RX4     | \n",
       "| Mazda RX4 Wag | 21.0          | 6             | 160           | 110           | 3.90          | 2.875         | 17.02         | 0             | 1             | 4             | 4             | Mazda RX4 Wag | \n",
       "| Datsun 710 | 22.8          | 4             | 108           |  93           | 3.85          | 2.320         | 18.61         | 1             | 1             | 4             | 1             | Datsun 710    | \n",
       "\n",
       "\n"
      ],
      "text/plain": [
       "              mpg  cyl disp hp  drat wt    qsec  vs am gear carb carname      \n",
       "Mazda RX4     21.0 6   160  110 3.90 2.620 16.46 0  1  4    4    Mazda RX4    \n",
       "Mazda RX4 Wag 21.0 6   160  110 3.90 2.875 17.02 0  1  4    4    Mazda RX4 Wag\n",
       "Datsun 710    22.8 4   108   93 3.85 2.320 18.61 1  1  4    1    Datsun 710   "
      ]
     },
     "metadata": {},
     "output_type": "display_data"
    },
    {
     "data": {
      "text/html": [
       "32"
      ],
      "text/latex": [
       "32"
      ],
      "text/markdown": [
       "32"
      ],
      "text/plain": [
       "[1] 32"
      ]
     },
     "metadata": {},
     "output_type": "display_data"
    },
    {
     "data": {
      "text/html": [
       "<table>\n",
       "<thead><tr><th scope=col>carname</th><th scope=col>gear</th><th scope=col>cyl</th><th scope=col>variable</th><th scope=col>value</th></tr></thead>\n",
       "<tbody>\n",
       "\t<tr><td>Mazda RX4    </td><td>4            </td><td>6            </td><td>mpg          </td><td>21.0         </td></tr>\n",
       "\t<tr><td>Mazda RX4 Wag</td><td>4            </td><td>6            </td><td>mpg          </td><td>21.0         </td></tr>\n",
       "\t<tr><td>Datsun 710   </td><td>4            </td><td>4            </td><td>mpg          </td><td>22.8         </td></tr>\n",
       "</tbody>\n",
       "</table>\n"
      ],
      "text/latex": [
       "\\begin{tabular}{r|lllll}\n",
       " carname & gear & cyl & variable & value\\\\\n",
       "\\hline\n",
       "\t Mazda RX4     & 4             & 6             & mpg           & 21.0         \\\\\n",
       "\t Mazda RX4 Wag & 4             & 6             & mpg           & 21.0         \\\\\n",
       "\t Datsun 710    & 4             & 4             & mpg           & 22.8         \\\\\n",
       "\\end{tabular}\n"
      ],
      "text/markdown": [
       "\n",
       "carname | gear | cyl | variable | value | \n",
       "|---|---|---|\n",
       "| Mazda RX4     | 4             | 6             | mpg           | 21.0          | \n",
       "| Mazda RX4 Wag | 4             | 6             | mpg           | 21.0          | \n",
       "| Datsun 710    | 4             | 4             | mpg           | 22.8          | \n",
       "\n",
       "\n"
      ],
      "text/plain": [
       "  carname       gear cyl variable value\n",
       "1 Mazda RX4     4    6   mpg      21.0 \n",
       "2 Mazda RX4 Wag 4    6   mpg      21.0 \n",
       "3 Datsun 710    4    4   mpg      22.8 "
      ]
     },
     "metadata": {},
     "output_type": "display_data"
    },
    {
     "data": {
      "text/html": [
       "<table>\n",
       "<thead><tr><th></th><th scope=col>carname</th><th scope=col>gear</th><th scope=col>cyl</th><th scope=col>variable</th><th scope=col>value</th></tr></thead>\n",
       "<tbody>\n",
       "\t<tr><th scope=row>62</th><td>Ferrari Dino </td><td>5            </td><td>6            </td><td>hp           </td><td>175          </td></tr>\n",
       "\t<tr><th scope=row>63</th><td>Maserati Bora</td><td>5            </td><td>8            </td><td>hp           </td><td>335          </td></tr>\n",
       "\t<tr><th scope=row>64</th><td>Volvo 142E   </td><td>4            </td><td>4            </td><td>hp           </td><td>109          </td></tr>\n",
       "</tbody>\n",
       "</table>\n"
      ],
      "text/latex": [
       "\\begin{tabular}{r|lllll}\n",
       "  & carname & gear & cyl & variable & value\\\\\n",
       "\\hline\n",
       "\t62 & Ferrari Dino  & 5             & 6             & hp            & 175          \\\\\n",
       "\t63 & Maserati Bora & 5             & 8             & hp            & 335          \\\\\n",
       "\t64 & Volvo 142E    & 4             & 4             & hp            & 109          \\\\\n",
       "\\end{tabular}\n"
      ],
      "text/markdown": [
       "\n",
       "| <!--/--> | carname | gear | cyl | variable | value | \n",
       "|---|---|---|\n",
       "| 62 | Ferrari Dino  | 5             | 6             | hp            | 175           | \n",
       "| 63 | Maserati Bora | 5             | 8             | hp            | 335           | \n",
       "| 64 | Volvo 142E    | 4             | 4             | hp            | 109           | \n",
       "\n",
       "\n"
      ],
      "text/plain": [
       "   carname       gear cyl variable value\n",
       "62 Ferrari Dino  5    6   hp       175  \n",
       "63 Maserati Bora 5    8   hp       335  \n",
       "64 Volvo 142E    4    4   hp       109  "
      ]
     },
     "metadata": {},
     "output_type": "display_data"
    },
    {
     "data": {
      "text/html": [
       "64"
      ],
      "text/latex": [
       "64"
      ],
      "text/markdown": [
       "64"
      ],
      "text/plain": [
       "[1] 64"
      ]
     },
     "metadata": {},
     "output_type": "display_data"
    }
   ],
   "source": [
    "# melting dataset\n",
    "\n",
    "# in the following example we are creating a new data set\n",
    "# with carname, gear and cyl, variable and value columns\n",
    "# in this case the variable column will contain the mpg or hp values\n",
    "# and value will have the values of the mpg and hp original columns\n",
    "# that is why the number of rows of the dataset doubled in size.\n",
    "mtcars$carname <- rownames(mtcars)\n",
    "head(mtcars, n=3)\n",
    "nrow(mtcars)\n",
    "\n",
    "carMelt <- melt(mtcars, id=c(\"carname\",\"gear\",\"cyl\"), measure.vars=c(\"mpg\",\"hp\"))\n",
    "head(carMelt, n=3)\n",
    "tail(carMelt, n=3)\n",
    "nrow(carMelt)\n"
   ]
  },
  {
   "cell_type": "code",
   "execution_count": 14,
   "metadata": {},
   "outputs": [
    {
     "name": "stderr",
     "output_type": "stream",
     "text": [
      "Aggregation function missing: defaulting to length\n"
     ]
    },
    {
     "data": {
      "text/html": [
       "<table>\n",
       "<thead><tr><th scope=col>cyl</th><th scope=col>mpg</th><th scope=col>hp</th></tr></thead>\n",
       "<tbody>\n",
       "\t<tr><td>4 </td><td>11</td><td>11</td></tr>\n",
       "\t<tr><td>6 </td><td> 7</td><td> 7</td></tr>\n",
       "\t<tr><td>8 </td><td>14</td><td>14</td></tr>\n",
       "</tbody>\n",
       "</table>\n"
      ],
      "text/latex": [
       "\\begin{tabular}{r|lll}\n",
       " cyl & mpg & hp\\\\\n",
       "\\hline\n",
       "\t 4  & 11 & 11\\\\\n",
       "\t 6  &  7 &  7\\\\\n",
       "\t 8  & 14 & 14\\\\\n",
       "\\end{tabular}\n"
      ],
      "text/markdown": [
       "\n",
       "cyl | mpg | hp | \n",
       "|---|---|---|\n",
       "| 4  | 11 | 11 | \n",
       "| 6  |  7 |  7 | \n",
       "| 8  | 14 | 14 | \n",
       "\n",
       "\n"
      ],
      "text/plain": [
       "  cyl mpg hp\n",
       "1 4   11  11\n",
       "2 6    7   7\n",
       "3 8   14  14"
      ]
     },
     "metadata": {},
     "output_type": "display_data"
    },
    {
     "data": {
      "text/html": [
       "<table>\n",
       "<thead><tr><th scope=col>cyl</th><th scope=col>mpg</th><th scope=col>hp</th></tr></thead>\n",
       "<tbody>\n",
       "\t<tr><td>4        </td><td>26.66364 </td><td> 82.63636</td></tr>\n",
       "\t<tr><td>6        </td><td>19.74286 </td><td>122.28571</td></tr>\n",
       "\t<tr><td>8        </td><td>15.10000 </td><td>209.21429</td></tr>\n",
       "</tbody>\n",
       "</table>\n"
      ],
      "text/latex": [
       "\\begin{tabular}{r|lll}\n",
       " cyl & mpg & hp\\\\\n",
       "\\hline\n",
       "\t 4         & 26.66364  &  82.63636\\\\\n",
       "\t 6         & 19.74286  & 122.28571\\\\\n",
       "\t 8         & 15.10000  & 209.21429\\\\\n",
       "\\end{tabular}\n"
      ],
      "text/markdown": [
       "\n",
       "cyl | mpg | hp | \n",
       "|---|---|---|\n",
       "| 4         | 26.66364  |  82.63636 | \n",
       "| 6         | 19.74286  | 122.28571 | \n",
       "| 8         | 15.10000  | 209.21429 | \n",
       "\n",
       "\n"
      ],
      "text/plain": [
       "  cyl mpg      hp       \n",
       "1 4   26.66364  82.63636\n",
       "2 6   19.74286 122.28571\n",
       "3 8   15.10000 209.21429"
      ]
     },
     "metadata": {},
     "output_type": "display_data"
    }
   ],
   "source": [
    "# Casting data frames\n",
    "\n",
    "# with the following we are counting the number of measures\n",
    "# of mpg and hp by cyl value\n",
    "cylData <- dcast(carMelt, cyl ~ variable)\n",
    "cylData\n",
    "\n",
    "# and with this one we are calculating the mean of column varaible\n",
    "# grouped by cyl.\n",
    "cylData <- dcast(carMelt, cyl ~ variable, mean)\n",
    "cylData"
   ]
  },
  {
   "cell_type": "code",
   "execution_count": 16,
   "metadata": {},
   "outputs": [
    {
     "data": {
      "text/html": [
       "<table>\n",
       "<thead><tr><th scope=col>count</th><th scope=col>spray</th></tr></thead>\n",
       "<tbody>\n",
       "\t<tr><td>10</td><td>A </td></tr>\n",
       "\t<tr><td> 7</td><td>A </td></tr>\n",
       "\t<tr><td>20</td><td>A </td></tr>\n",
       "\t<tr><td>14</td><td>A </td></tr>\n",
       "\t<tr><td>14</td><td>A </td></tr>\n",
       "\t<tr><td>12</td><td>A </td></tr>\n",
       "</tbody>\n",
       "</table>\n"
      ],
      "text/latex": [
       "\\begin{tabular}{r|ll}\n",
       " count & spray\\\\\n",
       "\\hline\n",
       "\t 10 & A \\\\\n",
       "\t  7 & A \\\\\n",
       "\t 20 & A \\\\\n",
       "\t 14 & A \\\\\n",
       "\t 14 & A \\\\\n",
       "\t 12 & A \\\\\n",
       "\\end{tabular}\n"
      ],
      "text/markdown": [
       "\n",
       "count | spray | \n",
       "|---|---|---|---|---|---|\n",
       "| 10 | A  | \n",
       "|  7 | A  | \n",
       "| 20 | A  | \n",
       "| 14 | A  | \n",
       "| 14 | A  | \n",
       "| 12 | A  | \n",
       "\n",
       "\n"
      ],
      "text/plain": [
       "  count spray\n",
       "1 10    A    \n",
       "2  7    A    \n",
       "3 20    A    \n",
       "4 14    A    \n",
       "5 14    A    \n",
       "6 12    A    "
      ]
     },
     "metadata": {},
     "output_type": "display_data"
    }
   ],
   "source": [
    "# in this dataset spray column can be A, B, C, D, E or F\n",
    "head(InsectSprays)"
   ]
  },
  {
   "cell_type": "code",
   "execution_count": 21,
   "metadata": {},
   "outputs": [
    {
     "name": "stdout",
     "output_type": "stream",
     "text": [
      "  A   B   C   D   E   F \n",
      "174 184  25  59  42 200 \n"
     ]
    }
   ],
   "source": [
    "# in this case we are calculating the sum of count by each type of spray\n",
    "print(tapply(InsectSprays$count, InsectSprays$spray, sum))"
   ]
  },
  {
   "cell_type": "code",
   "execution_count": 25,
   "metadata": {
    "scrolled": true
   },
   "outputs": [
    {
     "data": {
      "text/html": [
       "<dl>\n",
       "\t<dt>$A</dt>\n",
       "\t\t<dd><ol class=list-inline>\n",
       "\t<li>10</li>\n",
       "\t<li>7</li>\n",
       "\t<li>20</li>\n",
       "\t<li>14</li>\n",
       "\t<li>14</li>\n",
       "\t<li>12</li>\n",
       "\t<li>10</li>\n",
       "\t<li>23</li>\n",
       "\t<li>17</li>\n",
       "\t<li>20</li>\n",
       "\t<li>14</li>\n",
       "\t<li>13</li>\n",
       "</ol>\n",
       "</dd>\n",
       "\t<dt>$B</dt>\n",
       "\t\t<dd><ol class=list-inline>\n",
       "\t<li>11</li>\n",
       "\t<li>17</li>\n",
       "\t<li>21</li>\n",
       "\t<li>11</li>\n",
       "\t<li>16</li>\n",
       "\t<li>14</li>\n",
       "\t<li>17</li>\n",
       "\t<li>17</li>\n",
       "\t<li>19</li>\n",
       "\t<li>21</li>\n",
       "\t<li>7</li>\n",
       "\t<li>13</li>\n",
       "</ol>\n",
       "</dd>\n",
       "\t<dt>$C</dt>\n",
       "\t\t<dd><ol class=list-inline>\n",
       "\t<li>0</li>\n",
       "\t<li>1</li>\n",
       "\t<li>7</li>\n",
       "\t<li>2</li>\n",
       "\t<li>3</li>\n",
       "\t<li>1</li>\n",
       "\t<li>2</li>\n",
       "\t<li>1</li>\n",
       "\t<li>3</li>\n",
       "\t<li>0</li>\n",
       "\t<li>1</li>\n",
       "\t<li>4</li>\n",
       "</ol>\n",
       "</dd>\n",
       "\t<dt>$D</dt>\n",
       "\t\t<dd><ol class=list-inline>\n",
       "\t<li>3</li>\n",
       "\t<li>5</li>\n",
       "\t<li>12</li>\n",
       "\t<li>6</li>\n",
       "\t<li>4</li>\n",
       "\t<li>3</li>\n",
       "\t<li>5</li>\n",
       "\t<li>5</li>\n",
       "\t<li>5</li>\n",
       "\t<li>5</li>\n",
       "\t<li>2</li>\n",
       "\t<li>4</li>\n",
       "</ol>\n",
       "</dd>\n",
       "\t<dt>$E</dt>\n",
       "\t\t<dd><ol class=list-inline>\n",
       "\t<li>3</li>\n",
       "\t<li>5</li>\n",
       "\t<li>3</li>\n",
       "\t<li>5</li>\n",
       "\t<li>3</li>\n",
       "\t<li>6</li>\n",
       "\t<li>1</li>\n",
       "\t<li>1</li>\n",
       "\t<li>3</li>\n",
       "\t<li>2</li>\n",
       "\t<li>6</li>\n",
       "\t<li>4</li>\n",
       "</ol>\n",
       "</dd>\n",
       "\t<dt>$F</dt>\n",
       "\t\t<dd><ol class=list-inline>\n",
       "\t<li>11</li>\n",
       "\t<li>9</li>\n",
       "\t<li>15</li>\n",
       "\t<li>22</li>\n",
       "\t<li>15</li>\n",
       "\t<li>16</li>\n",
       "\t<li>13</li>\n",
       "\t<li>10</li>\n",
       "\t<li>26</li>\n",
       "\t<li>26</li>\n",
       "\t<li>24</li>\n",
       "\t<li>13</li>\n",
       "</ol>\n",
       "</dd>\n",
       "</dl>\n"
      ],
      "text/latex": [
       "\\begin{description}\n",
       "\\item[\\$A] \\begin{enumerate*}\n",
       "\\item 10\n",
       "\\item 7\n",
       "\\item 20\n",
       "\\item 14\n",
       "\\item 14\n",
       "\\item 12\n",
       "\\item 10\n",
       "\\item 23\n",
       "\\item 17\n",
       "\\item 20\n",
       "\\item 14\n",
       "\\item 13\n",
       "\\end{enumerate*}\n",
       "\n",
       "\\item[\\$B] \\begin{enumerate*}\n",
       "\\item 11\n",
       "\\item 17\n",
       "\\item 21\n",
       "\\item 11\n",
       "\\item 16\n",
       "\\item 14\n",
       "\\item 17\n",
       "\\item 17\n",
       "\\item 19\n",
       "\\item 21\n",
       "\\item 7\n",
       "\\item 13\n",
       "\\end{enumerate*}\n",
       "\n",
       "\\item[\\$C] \\begin{enumerate*}\n",
       "\\item 0\n",
       "\\item 1\n",
       "\\item 7\n",
       "\\item 2\n",
       "\\item 3\n",
       "\\item 1\n",
       "\\item 2\n",
       "\\item 1\n",
       "\\item 3\n",
       "\\item 0\n",
       "\\item 1\n",
       "\\item 4\n",
       "\\end{enumerate*}\n",
       "\n",
       "\\item[\\$D] \\begin{enumerate*}\n",
       "\\item 3\n",
       "\\item 5\n",
       "\\item 12\n",
       "\\item 6\n",
       "\\item 4\n",
       "\\item 3\n",
       "\\item 5\n",
       "\\item 5\n",
       "\\item 5\n",
       "\\item 5\n",
       "\\item 2\n",
       "\\item 4\n",
       "\\end{enumerate*}\n",
       "\n",
       "\\item[\\$E] \\begin{enumerate*}\n",
       "\\item 3\n",
       "\\item 5\n",
       "\\item 3\n",
       "\\item 5\n",
       "\\item 3\n",
       "\\item 6\n",
       "\\item 1\n",
       "\\item 1\n",
       "\\item 3\n",
       "\\item 2\n",
       "\\item 6\n",
       "\\item 4\n",
       "\\end{enumerate*}\n",
       "\n",
       "\\item[\\$F] \\begin{enumerate*}\n",
       "\\item 11\n",
       "\\item 9\n",
       "\\item 15\n",
       "\\item 22\n",
       "\\item 15\n",
       "\\item 16\n",
       "\\item 13\n",
       "\\item 10\n",
       "\\item 26\n",
       "\\item 26\n",
       "\\item 24\n",
       "\\item 13\n",
       "\\end{enumerate*}\n",
       "\n",
       "\\end{description}\n"
      ],
      "text/markdown": [
       "$A\n",
       ":   1. 10\n",
       "2. 7\n",
       "3. 20\n",
       "4. 14\n",
       "5. 14\n",
       "6. 12\n",
       "7. 10\n",
       "8. 23\n",
       "9. 17\n",
       "10. 20\n",
       "11. 14\n",
       "12. 13\n",
       "\n",
       "\n",
       "\n",
       "$B\n",
       ":   1. 11\n",
       "2. 17\n",
       "3. 21\n",
       "4. 11\n",
       "5. 16\n",
       "6. 14\n",
       "7. 17\n",
       "8. 17\n",
       "9. 19\n",
       "10. 21\n",
       "11. 7\n",
       "12. 13\n",
       "\n",
       "\n",
       "\n",
       "$C\n",
       ":   1. 0\n",
       "2. 1\n",
       "3. 7\n",
       "4. 2\n",
       "5. 3\n",
       "6. 1\n",
       "7. 2\n",
       "8. 1\n",
       "9. 3\n",
       "10. 0\n",
       "11. 1\n",
       "12. 4\n",
       "\n",
       "\n",
       "\n",
       "$D\n",
       ":   1. 3\n",
       "2. 5\n",
       "3. 12\n",
       "4. 6\n",
       "5. 4\n",
       "6. 3\n",
       "7. 5\n",
       "8. 5\n",
       "9. 5\n",
       "10. 5\n",
       "11. 2\n",
       "12. 4\n",
       "\n",
       "\n",
       "\n",
       "$E\n",
       ":   1. 3\n",
       "2. 5\n",
       "3. 3\n",
       "4. 5\n",
       "5. 3\n",
       "6. 6\n",
       "7. 1\n",
       "8. 1\n",
       "9. 3\n",
       "10. 2\n",
       "11. 6\n",
       "12. 4\n",
       "\n",
       "\n",
       "\n",
       "$F\n",
       ":   1. 11\n",
       "2. 9\n",
       "3. 15\n",
       "4. 22\n",
       "5. 15\n",
       "6. 16\n",
       "7. 13\n",
       "8. 10\n",
       "9. 26\n",
       "10. 26\n",
       "11. 24\n",
       "12. 13\n",
       "\n",
       "\n",
       "\n",
       "\n",
       "\n"
      ],
      "text/plain": [
       "$A\n",
       " [1] 10  7 20 14 14 12 10 23 17 20 14 13\n",
       "\n",
       "$B\n",
       " [1] 11 17 21 11 16 14 17 17 19 21  7 13\n",
       "\n",
       "$C\n",
       " [1] 0 1 7 2 3 1 2 1 3 0 1 4\n",
       "\n",
       "$D\n",
       " [1]  3  5 12  6  4  3  5  5  5  5  2  4\n",
       "\n",
       "$E\n",
       " [1] 3 5 3 5 3 6 1 1 3 2 6 4\n",
       "\n",
       "$F\n",
       " [1] 11  9 15 22 15 16 13 10 26 26 24 13\n"
      ]
     },
     "metadata": {},
     "output_type": "display_data"
    },
    {
     "data": {
      "text/html": [
       "<dl>\n",
       "\t<dt>$A</dt>\n",
       "\t\t<dd>174</dd>\n",
       "\t<dt>$B</dt>\n",
       "\t\t<dd>184</dd>\n",
       "\t<dt>$C</dt>\n",
       "\t\t<dd>25</dd>\n",
       "\t<dt>$D</dt>\n",
       "\t\t<dd>59</dd>\n",
       "\t<dt>$E</dt>\n",
       "\t\t<dd>42</dd>\n",
       "\t<dt>$F</dt>\n",
       "\t\t<dd>200</dd>\n",
       "</dl>\n"
      ],
      "text/latex": [
       "\\begin{description}\n",
       "\\item[\\$A] 174\n",
       "\\item[\\$B] 184\n",
       "\\item[\\$C] 25\n",
       "\\item[\\$D] 59\n",
       "\\item[\\$E] 42\n",
       "\\item[\\$F] 200\n",
       "\\end{description}\n"
      ],
      "text/markdown": [
       "$A\n",
       ":   174\n",
       "$B\n",
       ":   184\n",
       "$C\n",
       ":   25\n",
       "$D\n",
       ":   59\n",
       "$E\n",
       ":   42\n",
       "$F\n",
       ":   200\n",
       "\n",
       "\n"
      ],
      "text/plain": [
       "$A\n",
       "[1] 174\n",
       "\n",
       "$B\n",
       "[1] 184\n",
       "\n",
       "$C\n",
       "[1] 25\n",
       "\n",
       "$D\n",
       "[1] 59\n",
       "\n",
       "$E\n",
       "[1] 42\n",
       "\n",
       "$F\n",
       "[1] 200\n"
      ]
     },
     "metadata": {},
     "output_type": "display_data"
    },
    {
     "data": {
      "text/html": [
       "<dl class=dl-horizontal>\n",
       "\t<dt>A</dt>\n",
       "\t\t<dd>174</dd>\n",
       "\t<dt>B</dt>\n",
       "\t\t<dd>184</dd>\n",
       "\t<dt>C</dt>\n",
       "\t\t<dd>25</dd>\n",
       "\t<dt>D</dt>\n",
       "\t\t<dd>59</dd>\n",
       "\t<dt>E</dt>\n",
       "\t\t<dd>42</dd>\n",
       "\t<dt>F</dt>\n",
       "\t\t<dd>200</dd>\n",
       "</dl>\n"
      ],
      "text/latex": [
       "\\begin{description*}\n",
       "\\item[A] 174\n",
       "\\item[B] 184\n",
       "\\item[C] 25\n",
       "\\item[D] 59\n",
       "\\item[E] 42\n",
       "\\item[F] 200\n",
       "\\end{description*}\n"
      ],
      "text/markdown": [
       "A\n",
       ":   174B\n",
       ":   184C\n",
       ":   25D\n",
       ":   59E\n",
       ":   42F\n",
       ":   200\n",
       "\n"
      ],
      "text/plain": [
       "  A   B   C   D   E   F \n",
       "174 184  25  59  42 200 "
      ]
     },
     "metadata": {},
     "output_type": "display_data"
    }
   ],
   "source": [
    "# this is another way to do the same as above but by using\n",
    "# split and lapply\n",
    "spIns = split(InsectSprays$count, InsectSprays$spray)\n",
    "spIns\n",
    "sprCount = lapply(spIns, sum)\n",
    "sprCount\n",
    "sprCount = sapply(spIns, sum)\n",
    "sprCount\n"
   ]
  },
  {
   "cell_type": "code",
   "execution_count": 31,
   "metadata": {},
   "outputs": [],
   "source": [
    "library(plyr)"
   ]
  },
  {
   "cell_type": "code",
   "execution_count": 32,
   "metadata": {},
   "outputs": [
    {
     "data": {
      "text/html": [
       "<table>\n",
       "<thead><tr><th scope=col>spray</th><th scope=col>sum</th></tr></thead>\n",
       "<tbody>\n",
       "\t<tr><td>A  </td><td>174</td></tr>\n",
       "\t<tr><td>B  </td><td>184</td></tr>\n",
       "\t<tr><td>C  </td><td> 25</td></tr>\n",
       "\t<tr><td>D  </td><td> 59</td></tr>\n",
       "\t<tr><td>E  </td><td> 42</td></tr>\n",
       "\t<tr><td>F  </td><td>200</td></tr>\n",
       "</tbody>\n",
       "</table>\n"
      ],
      "text/latex": [
       "\\begin{tabular}{r|ll}\n",
       " spray & sum\\\\\n",
       "\\hline\n",
       "\t A   & 174\\\\\n",
       "\t B   & 184\\\\\n",
       "\t C   &  25\\\\\n",
       "\t D   &  59\\\\\n",
       "\t E   &  42\\\\\n",
       "\t F   & 200\\\\\n",
       "\\end{tabular}\n"
      ],
      "text/markdown": [
       "\n",
       "spray | sum | \n",
       "|---|---|---|---|---|---|\n",
       "| A   | 174 | \n",
       "| B   | 184 | \n",
       "| C   |  25 | \n",
       "| D   |  59 | \n",
       "| E   |  42 | \n",
       "| F   | 200 | \n",
       "\n",
       "\n"
      ],
      "text/plain": [
       "  spray sum\n",
       "1 A     174\n",
       "2 B     184\n",
       "3 C      25\n",
       "4 D      59\n",
       "5 E      42\n",
       "6 F     200"
      ]
     },
     "metadata": {},
     "output_type": "display_data"
    }
   ],
   "source": [
    "ddply(InsectSprays,.(spray), summarize, sum=sum(count))"
   ]
  },
  {
   "cell_type": "code",
   "execution_count": 36,
   "metadata": {},
   "outputs": [
    {
     "data": {
      "text/html": [
       "<ol class=list-inline>\n",
       "\t<li>72</li>\n",
       "\t<li>2</li>\n",
       "</ol>\n"
      ],
      "text/latex": [
       "\\begin{enumerate*}\n",
       "\\item 72\n",
       "\\item 2\n",
       "\\end{enumerate*}\n"
      ],
      "text/markdown": [
       "1. 72\n",
       "2. 2\n",
       "\n",
       "\n"
      ],
      "text/plain": [
       "[1] 72  2"
      ]
     },
     "metadata": {},
     "output_type": "display_data"
    },
    {
     "data": {
      "text/html": [
       "<ol class=list-inline>\n",
       "\t<li>72</li>\n",
       "\t<li>2</li>\n",
       "</ol>\n"
      ],
      "text/latex": [
       "\\begin{enumerate*}\n",
       "\\item 72\n",
       "\\item 2\n",
       "\\end{enumerate*}\n"
      ],
      "text/markdown": [
       "1. 72\n",
       "2. 2\n",
       "\n",
       "\n"
      ],
      "text/plain": [
       "[1] 72  2"
      ]
     },
     "metadata": {},
     "output_type": "display_data"
    },
    {
     "data": {
      "text/html": [
       "<table>\n",
       "<thead><tr><th scope=col>spray</th><th scope=col>sum</th></tr></thead>\n",
       "<tbody>\n",
       "\t<tr><td>A  </td><td>174</td></tr>\n",
       "\t<tr><td>A  </td><td>174</td></tr>\n",
       "\t<tr><td>A  </td><td>174</td></tr>\n",
       "\t<tr><td>A  </td><td>174</td></tr>\n",
       "\t<tr><td>A  </td><td>174</td></tr>\n",
       "\t<tr><td>A  </td><td>174</td></tr>\n",
       "</tbody>\n",
       "</table>\n"
      ],
      "text/latex": [
       "\\begin{tabular}{r|ll}\n",
       " spray & sum\\\\\n",
       "\\hline\n",
       "\t A   & 174\\\\\n",
       "\t A   & 174\\\\\n",
       "\t A   & 174\\\\\n",
       "\t A   & 174\\\\\n",
       "\t A   & 174\\\\\n",
       "\t A   & 174\\\\\n",
       "\\end{tabular}\n"
      ],
      "text/markdown": [
       "\n",
       "spray | sum | \n",
       "|---|---|---|---|---|---|\n",
       "| A   | 174 | \n",
       "| A   | 174 | \n",
       "| A   | 174 | \n",
       "| A   | 174 | \n",
       "| A   | 174 | \n",
       "| A   | 174 | \n",
       "\n",
       "\n"
      ],
      "text/plain": [
       "  spray sum\n",
       "1 A     174\n",
       "2 A     174\n",
       "3 A     174\n",
       "4 A     174\n",
       "5 A     174\n",
       "6 A     174"
      ]
     },
     "metadata": {},
     "output_type": "display_data"
    }
   ],
   "source": [
    "# creating a new variable\n",
    "dim(InsectSprays)\n",
    "spraySums <- ddply(InsectSprays, .(spray), summarize, sum=ave(count, FUN=sum))\n",
    "dim(spraySums)\n",
    "head(spraySums)"
   ]
  }
 ],
 "metadata": {
  "kernelspec": {
   "display_name": "R",
   "language": "R",
   "name": "ir"
  },
  "language_info": {
   "codemirror_mode": "r",
   "file_extension": ".r",
   "mimetype": "text/x-r-source",
   "name": "R",
   "pygments_lexer": "r",
   "version": "3.4.4"
  }
 },
 "nbformat": 4,
 "nbformat_minor": 2
}
