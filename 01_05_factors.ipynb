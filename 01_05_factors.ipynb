{
 "cells": [
  {
   "cell_type": "markdown",
   "metadata": {},
   "source": [
    "# Factors\n",
    "Are used to represent categorical data. These can me ordered or un-ordered.\n",
    "A factor can be think of integer vector where each integer has a label.\n",
    "Notice that level is defined initially by alphabetical order."
   ]
  },
  {
   "cell_type": "code",
   "execution_count": 11,
   "metadata": {},
   "outputs": [
    {
     "name": "stdout",
     "output_type": "stream",
     "text": [
      "[1] \"=== value:\"\n",
      "[1] yes yes no  yes no \n",
      "Levels: no yes\n"
     ]
    },
    {
     "data": {
      "text/html": [
       "'factor'"
      ],
      "text/latex": [
       "'factor'"
      ],
      "text/markdown": [
       "'factor'"
      ],
      "text/plain": [
       "[1] \"factor\""
      ]
     },
     "metadata": {},
     "output_type": "display_data"
    },
    {
     "name": "stdout",
     "output_type": "stream",
     "text": [
      "[1] \"=== class:\"\n"
     ]
    },
    {
     "data": {
      "text/plain": [
       "x1\n",
       " no yes \n",
       "  2   3 "
      ]
     },
     "metadata": {},
     "output_type": "display_data"
    },
    {
     "name": "stdout",
     "output_type": "stream",
     "text": [
      "[1] \"=== unclassing:\"\n",
      "[1] 2 2 1 2 1\n",
      "attr(,\"levels\")\n",
      "[1] \"no\"  \"yes\"\n"
     ]
    },
    {
     "data": {
      "text/html": [
       "<strong>$levels</strong> = <ol class=list-inline>\n",
       "\t<li>'no'</li>\n",
       "\t<li>'yes'</li>\n",
       "</ol>\n"
      ],
      "text/latex": [
       "\\textbf{\\$levels} = \\begin{enumerate*}\n",
       "\\item 'no'\n",
       "\\item 'yes'\n",
       "\\end{enumerate*}\n"
      ],
      "text/markdown": [
       "**$levels** = 1. 'no'\n",
       "2. 'yes'\n",
       "\n",
       "\n"
      ],
      "text/plain": [
       "$levels\n",
       "[1] \"no\"  \"yes\"\n"
      ]
     },
     "metadata": {},
     "output_type": "display_data"
    }
   ],
   "source": [
    "x1 <- factor(c(\"yes\",\"yes\",\"no\",\"yes\",\"no\"))\n",
    "print(\"=== value:\")\n",
    "print(x1)\n",
    "class(x1)\n",
    "print(\"=== class:\")\n",
    "table(x1)\n",
    "print(\"=== unclassing:\")\n",
    "x2 <- unclass(x1)\n",
    "print(x2)\n",
    "attributes(x2)"
   ]
  },
  {
   "cell_type": "code",
   "execution_count": 13,
   "metadata": {},
   "outputs": [
    {
     "name": "stdout",
     "output_type": "stream",
     "text": [
      "[1] yes yes no  yes no \n",
      "Levels: yes no\n"
     ]
    },
    {
     "data": {
      "text/plain": [
       "x3\n",
       "yes  no \n",
       "  3   2 "
      ]
     },
     "metadata": {},
     "output_type": "display_data"
    }
   ],
   "source": [
    "# this is how we can model the ordering of a factor\n",
    "x3 = factor(c(\"yes\",\"yes\",\"no\",\"yes\",\"no\"), levels = c(\"yes\",\"no\"))\n",
    "print(x3)\n",
    "table(x3)"
   ]
  }
 ],
 "metadata": {
  "kernelspec": {
   "display_name": "R",
   "language": "R",
   "name": "ir"
  },
  "language_info": {
   "codemirror_mode": "r",
   "file_extension": ".r",
   "mimetype": "text/x-r-source",
   "name": "R",
   "pygments_lexer": "r",
   "version": "3.4.4"
  }
 },
 "nbformat": 4,
 "nbformat_minor": 2
}
